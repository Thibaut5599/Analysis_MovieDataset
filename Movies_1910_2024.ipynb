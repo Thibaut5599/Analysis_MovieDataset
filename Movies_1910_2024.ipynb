{
 "cells": [
  {
   "cell_type": "markdown",
   "metadata": {},
   "source": [
    "# Dataset Description\n",
    "\n",
    "- **Source :** [Kaggle](https://www.kaggle.com/datasets/kashifsahil/16000-movies-1910-2024-metacritic/data)\n",
    "\n",
    "\n",
    "This dataset contains detailed information on over 16,000 movies released between 1970 and 2024, along with their corresponding Metacritic ratings. The dataset is an extensive collection for film enthusiasts, researchers, and data scientists interested in exploring trends in cinema over more than a century.\n",
    "\n",
    "<b> Key Features :</b>\n",
    "<ul>\n",
    "    <li><b>Title :</b> The name of the movie.</li>\n",
    "    <li><b>Release date :</b> The official release date of the movie.</li>\n",
    "    <li><b>Description :</b> A brief synopsis or critical overview of the film.</li>\n",
    "    <li><b>Rating :</b> The average Metacritic score, providing an indication of the movie's critical reception.</li>\n",
    "    <li><b>Number of Persons Voted :</b> The number of individuals who rated the movie on Metacritic.</li>\n",
    "    <li><b>Directed by :</b> The director(s) of the movie.</li>\n",
    "    <li><b>Written by :</b> The screenwriter(s) responsible for the movie's script.</li>\n",
    "    <li><b>Duration :</b> The runtime of the movie.</li>\n",
    "    <li><b>Genres :</b> The genre(s) the movie falls under, such as a Drama, Comedy, or Action.</li>\n",
    "</ul>\n"
   ]
  },
  {
   "cell_type": "markdown",
   "metadata": {},
   "source": [
    "# Objectives\n",
    "<ul>\n",
    "    <li><b>Trends in movie ratings</b> over time.</li>\n",
    "    <li><b>Genre popularity</b> and evolution across decades</li>\n",
    "    <li><b>Global cinema trends</b> with diverse genres and filmmakers.</li>\n",
    "</ul>"
   ]
  },
  {
   "cell_type": "markdown",
   "metadata": {},
   "source": [
    "# Table of Contents \n",
    "\n",
    "- [1 - Import libraries](#1---import-libraries)\n",
    "\n",
    "- [2 - Download the dataset](#2---download-the-dataset)\n",
    "\n",
    "- [3 - Data Cleaning](#3---data-cleaning)\n",
    "\n",
    "    - [3.1 - Missing Values](Movies_1910_2024.ipynb#31--missing-values)\n",
    "        - [3.1.1 - Missing values for \"Rating\" and \"Nb_Votes\"](#311---missing-values-for-rating-and-nb_votes)\n",
    "        - [3.1.2 - Missing values for \"Written by\"](#312---missing-values-for-written-by)\n",
    "        - [3.1.3 - Missing values for \"Directed by\"](#313---missing-values-for-directed-by)\n",
    "        - [3.1.4 - Missing values for \"Genres\"](#314---missing-values-for-genres)\n",
    "        - [3.1.5 - Missing values for \"Duration\"](#315---missing-values-for-duration)\n",
    "    - [3.2 - Remove Duplicates](#32---remove-duplicates)\n",
    "- [4 - Data Wrangling](#4---data-wrangling)\n",
    "    - [4.1 - Data Types](#41---data-types)\n",
    "    - [4.2 - Outliers](#42---outliers)\n",
    "    - [4.3 - Simplification of the dataset](#43---simplification-of-the-dataset)\n",
    "        - [4.3.1 - \"Genres\" column](#431---genres-column)\n",
    "        - [4.3.2 - \"Directed by\" & \"Written by\" columns](#432---directed-by--written-by-columns)\n",
    "    - [4.4 - Rating weighting](#44---rating-weighting)\n",
    "- [5 - Exploratory Data Analysis](#5---exploratory-data-analysis)\n",
    "    - [5.1 - Data distribution](#51---data-distribution)\n",
    "        - [5.1.1 - Distribution of Rating](#511---distribution-of-rating)\n",
    "        - [5.1.2 - Distribution of Duration](#512---distribution-of-duration)\n",
    "    - [5.2 - Evolution of the number of votes](#52---evolution-of-the-number-of-votes)\n",
    "    - [5.3 - Trends in movie ratings over time](#53---trends-in-movie-ratings-over-time)\n",
    "    - [5.4 - Genre popularity and evolution across decades](#54---genre-popularity-and-evolution-across-decades)\n",
    "        - [5.4.1 - Genre popularity across decades](#541-genre-popularity-across-decades)\n",
    "        - [5.4.2 - Genre evolution across decades](#542-genre-evolution-across-decades)\n",
    "    - [5.5 - Analysis by directors/writers](#55---analysis-by-directorswriters)\n",
    "        - [5.5.1 - Calculate the average rating by director and writer as well as the number of films](#551---calculate-the-average-rating-by-director-and-writer-as-well-as-the-number-of-films)\n",
    "        - [5.5.2 - Analysis of rating distribution](#552---analysis-of-rating-distribution)\n",
    "        - [5.5.3 - Analysis of duration distribution](#553---analysis-of-duration-distribution)\n",
    "- [6 - Correlation Analysis](#6---correlation-analysis)\n",
    "    - [6.1 - Correlation Matrix](#61---correlation-matrix)\n",
    "- [7 - Download the cleaned dataframe](#7---download-the-cleaned-dataframe)\n",
    "- [8 - Dashboard with Tableau](#8---dashboard-with-tableau)\n",
    "- [9 - Conclusion](#9---conclusion)      \n",
    "        \n",
    "    \n",
    "        \n",
    "    \n",
    "    \n",
    "    \n",
    "        \n",
    "    \n",
    "\n",
    "    \n",
    "        \n",
    "        \n",
    "    \n",
    "    \n",
    "    \n",
    "        \n",
    "        \n",
    "        "
   ]
  },
  {
   "cell_type": "markdown",
   "metadata": {},
   "source": [
    "# 1 - Import libraries"
   ]
  },
  {
   "cell_type": "code",
   "execution_count": null,
   "metadata": {
    "trusted": true
   },
   "outputs": [],
   "source": [
    "# Uncomment and run the following two lines only if you are using JupyterLab. Otherwise run the following command in your terminal : pip install nbformat plotly\n",
    "\n",
    "#import piplite\n",
    "#await piplite.install(['nbformat', 'plotly'])"
   ]
  },
  {
   "cell_type": "code",
   "execution_count": 1,
   "metadata": {
    "trusted": true
   },
   "outputs": [
    {
     "name": "stdout",
     "output_type": "stream",
     "text": [
      "Requirement already satisfied: seaborn in c:\\users\\thiba\\appdata\\local\\programs\\python\\python312\\lib\\site-packages (0.13.2)\n",
      "Requirement already satisfied: numpy!=1.24.0,>=1.20 in c:\\users\\thiba\\appdata\\local\\programs\\python\\python312\\lib\\site-packages (from seaborn) (2.1.1)\n",
      "Requirement already satisfied: pandas>=1.2 in c:\\users\\thiba\\appdata\\local\\programs\\python\\python312\\lib\\site-packages (from seaborn) (2.2.3)\n",
      "Requirement already satisfied: matplotlib!=3.6.1,>=3.4 in c:\\users\\thiba\\appdata\\local\\programs\\python\\python312\\lib\\site-packages (from seaborn) (3.9.2)\n",
      "Requirement already satisfied: contourpy>=1.0.1 in c:\\users\\thiba\\appdata\\local\\programs\\python\\python312\\lib\\site-packages (from matplotlib!=3.6.1,>=3.4->seaborn) (1.3.0)\n",
      "Requirement already satisfied: cycler>=0.10 in c:\\users\\thiba\\appdata\\local\\programs\\python\\python312\\lib\\site-packages (from matplotlib!=3.6.1,>=3.4->seaborn) (0.12.1)\n",
      "Requirement already satisfied: fonttools>=4.22.0 in c:\\users\\thiba\\appdata\\local\\programs\\python\\python312\\lib\\site-packages (from matplotlib!=3.6.1,>=3.4->seaborn) (4.54.1)\n",
      "Requirement already satisfied: kiwisolver>=1.3.1 in c:\\users\\thiba\\appdata\\local\\programs\\python\\python312\\lib\\site-packages (from matplotlib!=3.6.1,>=3.4->seaborn) (1.4.7)\n",
      "Requirement already satisfied: packaging>=20.0 in c:\\users\\thiba\\appdata\\local\\programs\\python\\python312\\lib\\site-packages (from matplotlib!=3.6.1,>=3.4->seaborn) (24.1)\n",
      "Requirement already satisfied: pillow>=8 in c:\\users\\thiba\\appdata\\local\\programs\\python\\python312\\lib\\site-packages (from matplotlib!=3.6.1,>=3.4->seaborn) (10.4.0)\n",
      "Requirement already satisfied: pyparsing>=2.3.1 in c:\\users\\thiba\\appdata\\local\\programs\\python\\python312\\lib\\site-packages (from matplotlib!=3.6.1,>=3.4->seaborn) (3.1.4)\n",
      "Requirement already satisfied: python-dateutil>=2.7 in c:\\users\\thiba\\appdata\\local\\programs\\python\\python312\\lib\\site-packages (from matplotlib!=3.6.1,>=3.4->seaborn) (2.9.0.post0)\n",
      "Requirement already satisfied: pytz>=2020.1 in c:\\users\\thiba\\appdata\\local\\programs\\python\\python312\\lib\\site-packages (from pandas>=1.2->seaborn) (2024.2)\n",
      "Requirement already satisfied: tzdata>=2022.7 in c:\\users\\thiba\\appdata\\local\\programs\\python\\python312\\lib\\site-packages (from pandas>=1.2->seaborn) (2024.2)\n",
      "Requirement already satisfied: six>=1.5 in c:\\users\\thiba\\appdata\\local\\programs\\python\\python312\\lib\\site-packages (from python-dateutil>=2.7->matplotlib!=3.6.1,>=3.4->seaborn) (1.16.0)\n",
      "Note: you may need to restart the kernel to use updated packages.\n"
     ]
    }
   ],
   "source": [
    "%pip install seaborn"
   ]
  },
  {
   "cell_type": "code",
   "execution_count": 2,
   "metadata": {
    "trusted": true
   },
   "outputs": [],
   "source": [
    "import numpy as np \n",
    "import pandas as pd\n",
    "import seaborn as sns\n",
    "import matplotlib.pyplot as plt\n",
    "import plotly.express as px\n",
    "import plotly.graph_objects as go\n",
    "from scipy import stats\n",
    "from bs4 import BeautifulSoup\n",
    "import time\n",
    "import requests\n",
    "import re"
   ]
  },
  {
   "cell_type": "markdown",
   "metadata": {},
   "source": [
    "# 2 - Download the dataset "
   ]
  },
  {
   "cell_type": "code",
   "execution_count": 3,
   "metadata": {
    "trusted": true
   },
   "outputs": [
    {
     "data": {
      "text/html": [
       "<div>\n",
       "<style scoped>\n",
       "    .dataframe tbody tr th:only-of-type {\n",
       "        vertical-align: middle;\n",
       "    }\n",
       "\n",
       "    .dataframe tbody tr th {\n",
       "        vertical-align: top;\n",
       "    }\n",
       "\n",
       "    .dataframe thead th {\n",
       "        text-align: right;\n",
       "    }\n",
       "</style>\n",
       "<table border=\"1\" class=\"dataframe\">\n",
       "  <thead>\n",
       "    <tr style=\"text-align: right;\">\n",
       "      <th></th>\n",
       "      <th>Unnamed: 0</th>\n",
       "      <th>Title</th>\n",
       "      <th>Release Date</th>\n",
       "      <th>Description</th>\n",
       "      <th>Rating</th>\n",
       "      <th>No of Persons Voted</th>\n",
       "      <th>Directed by</th>\n",
       "      <th>Written by</th>\n",
       "      <th>Duration</th>\n",
       "      <th>Genres</th>\n",
       "    </tr>\n",
       "  </thead>\n",
       "  <tbody>\n",
       "    <tr>\n",
       "      <th>0</th>\n",
       "      <td>0</td>\n",
       "      <td>Dekalog (1988)</td>\n",
       "      <td>Mar 22, 1996</td>\n",
       "      <td>This masterwork by Krzysztof Kieślowski is one...</td>\n",
       "      <td>7.4</td>\n",
       "      <td>118</td>\n",
       "      <td>Krzysztof Kieslowski</td>\n",
       "      <td>Krzysztof Kieslowski, Krzysztof Piesiewicz</td>\n",
       "      <td>9 h 32 m</td>\n",
       "      <td>Drama</td>\n",
       "    </tr>\n",
       "    <tr>\n",
       "      <th>1</th>\n",
       "      <td>1</td>\n",
       "      <td>Three Colors: Red</td>\n",
       "      <td>Nov 23, 1994</td>\n",
       "      <td>Krzysztof Kieslowski closes his Three Colors t...</td>\n",
       "      <td>8.3</td>\n",
       "      <td>241</td>\n",
       "      <td>Krzysztof Kieslowski</td>\n",
       "      <td>Krzysztof Kieslowski, Krzysztof Piesiewicz, Ag...</td>\n",
       "      <td>1 h 39 m</td>\n",
       "      <td>Drama,Mystery,Romance</td>\n",
       "    </tr>\n",
       "    <tr>\n",
       "      <th>2</th>\n",
       "      <td>2</td>\n",
       "      <td>The Conformist</td>\n",
       "      <td>Oct 22, 1970</td>\n",
       "      <td>Set in Rome in the 1930s, this re-release of B...</td>\n",
       "      <td>7.3</td>\n",
       "      <td>106</td>\n",
       "      <td>Bernardo Bertolucci</td>\n",
       "      <td>Alberto Moravia, Bernardo Bertolucci</td>\n",
       "      <td>1 h 47 m</td>\n",
       "      <td>Drama</td>\n",
       "    </tr>\n",
       "    <tr>\n",
       "      <th>3</th>\n",
       "      <td>3</td>\n",
       "      <td>Tokyo Story</td>\n",
       "      <td>Mar 13, 1972</td>\n",
       "      <td>Yasujiro Ozu’s Tokyo Story follows an aging co...</td>\n",
       "      <td>8.1</td>\n",
       "      <td>147</td>\n",
       "      <td>Yasujirô Ozu</td>\n",
       "      <td>Kôgo Noda, Yasujirô Ozu</td>\n",
       "      <td>2 h 16 m</td>\n",
       "      <td>Drama</td>\n",
       "    </tr>\n",
       "    <tr>\n",
       "      <th>4</th>\n",
       "      <td>4</td>\n",
       "      <td>The Leopard (re-release)</td>\n",
       "      <td>Aug 13, 2004</td>\n",
       "      <td>Set in Sicily in 1860, Luchino Visconti's spec...</td>\n",
       "      <td>7.8</td>\n",
       "      <td>85</td>\n",
       "      <td>Luchino Visconti</td>\n",
       "      <td>Giuseppe Tomasi di Lampedusa, Suso Cecchi D'Am...</td>\n",
       "      <td>3 h 7 m</td>\n",
       "      <td>Drama,History</td>\n",
       "    </tr>\n",
       "  </tbody>\n",
       "</table>\n",
       "</div>"
      ],
      "text/plain": [
       "   Unnamed: 0                     Title  Release Date  \\\n",
       "0           0            Dekalog (1988)  Mar 22, 1996   \n",
       "1           1         Three Colors: Red  Nov 23, 1994   \n",
       "2           2            The Conformist  Oct 22, 1970   \n",
       "3           3               Tokyo Story  Mar 13, 1972   \n",
       "4           4  The Leopard (re-release)  Aug 13, 2004   \n",
       "\n",
       "                                         Description  Rating  \\\n",
       "0  This masterwork by Krzysztof Kieślowski is one...     7.4   \n",
       "1  Krzysztof Kieslowski closes his Three Colors t...     8.3   \n",
       "2  Set in Rome in the 1930s, this re-release of B...     7.3   \n",
       "3  Yasujiro Ozu’s Tokyo Story follows an aging co...     8.1   \n",
       "4  Set in Sicily in 1860, Luchino Visconti's spec...     7.8   \n",
       "\n",
       "  No of Persons Voted           Directed by  \\\n",
       "0                 118  Krzysztof Kieslowski   \n",
       "1                 241  Krzysztof Kieslowski   \n",
       "2                 106   Bernardo Bertolucci   \n",
       "3                 147          Yasujirô Ozu   \n",
       "4                  85      Luchino Visconti   \n",
       "\n",
       "                                          Written by  Duration  \\\n",
       "0         Krzysztof Kieslowski, Krzysztof Piesiewicz  9 h 32 m   \n",
       "1  Krzysztof Kieslowski, Krzysztof Piesiewicz, Ag...  1 h 39 m   \n",
       "2               Alberto Moravia, Bernardo Bertolucci  1 h 47 m   \n",
       "3                            Kôgo Noda, Yasujirô Ozu  2 h 16 m   \n",
       "4  Giuseppe Tomasi di Lampedusa, Suso Cecchi D'Am...   3 h 7 m   \n",
       "\n",
       "                  Genres  \n",
       "0                  Drama  \n",
       "1  Drama,Mystery,Romance  \n",
       "2                  Drama  \n",
       "3                  Drama  \n",
       "4          Drama,History  "
      ]
     },
     "execution_count": 3,
     "metadata": {},
     "output_type": "execute_result"
    }
   ],
   "source": [
    "df = pd.read_csv(\"16k_Movies.csv\")\n",
    "df.head()"
   ]
  },
  {
   "cell_type": "code",
   "execution_count": 4,
   "metadata": {
    "trusted": true
   },
   "outputs": [
    {
     "data": {
      "text/plain": [
       "(16290, 10)"
      ]
     },
     "execution_count": 4,
     "metadata": {},
     "output_type": "execute_result"
    }
   ],
   "source": [
    "df.shape"
   ]
  },
  {
   "cell_type": "markdown",
   "metadata": {},
   "source": [
    "# 3 - Data Cleaning\n"
   ]
  },
  {
   "cell_type": "code",
   "execution_count": 5,
   "metadata": {
    "trusted": true
   },
   "outputs": [
    {
     "data": {
      "text/html": [
       "<div>\n",
       "<style scoped>\n",
       "    .dataframe tbody tr th:only-of-type {\n",
       "        vertical-align: middle;\n",
       "    }\n",
       "\n",
       "    .dataframe tbody tr th {\n",
       "        vertical-align: top;\n",
       "    }\n",
       "\n",
       "    .dataframe thead th {\n",
       "        text-align: right;\n",
       "    }\n",
       "</style>\n",
       "<table border=\"1\" class=\"dataframe\">\n",
       "  <thead>\n",
       "    <tr style=\"text-align: right;\">\n",
       "      <th></th>\n",
       "      <th>Title</th>\n",
       "      <th>Release Date</th>\n",
       "      <th>Description</th>\n",
       "      <th>Rating</th>\n",
       "      <th>No of Persons Voted</th>\n",
       "      <th>Directed by</th>\n",
       "      <th>Written by</th>\n",
       "      <th>Duration</th>\n",
       "      <th>Genres</th>\n",
       "    </tr>\n",
       "  </thead>\n",
       "  <tbody>\n",
       "    <tr>\n",
       "      <th>0</th>\n",
       "      <td>Dekalog (1988)</td>\n",
       "      <td>Mar 22, 1996</td>\n",
       "      <td>This masterwork by Krzysztof Kieślowski is one...</td>\n",
       "      <td>7.4</td>\n",
       "      <td>118</td>\n",
       "      <td>Krzysztof Kieslowski</td>\n",
       "      <td>Krzysztof Kieslowski, Krzysztof Piesiewicz</td>\n",
       "      <td>9 h 32 m</td>\n",
       "      <td>Drama</td>\n",
       "    </tr>\n",
       "    <tr>\n",
       "      <th>1</th>\n",
       "      <td>Three Colors: Red</td>\n",
       "      <td>Nov 23, 1994</td>\n",
       "      <td>Krzysztof Kieslowski closes his Three Colors t...</td>\n",
       "      <td>8.3</td>\n",
       "      <td>241</td>\n",
       "      <td>Krzysztof Kieslowski</td>\n",
       "      <td>Krzysztof Kieslowski, Krzysztof Piesiewicz, Ag...</td>\n",
       "      <td>1 h 39 m</td>\n",
       "      <td>Drama,Mystery,Romance</td>\n",
       "    </tr>\n",
       "    <tr>\n",
       "      <th>2</th>\n",
       "      <td>The Conformist</td>\n",
       "      <td>Oct 22, 1970</td>\n",
       "      <td>Set in Rome in the 1930s, this re-release of B...</td>\n",
       "      <td>7.3</td>\n",
       "      <td>106</td>\n",
       "      <td>Bernardo Bertolucci</td>\n",
       "      <td>Alberto Moravia, Bernardo Bertolucci</td>\n",
       "      <td>1 h 47 m</td>\n",
       "      <td>Drama</td>\n",
       "    </tr>\n",
       "    <tr>\n",
       "      <th>3</th>\n",
       "      <td>Tokyo Story</td>\n",
       "      <td>Mar 13, 1972</td>\n",
       "      <td>Yasujiro Ozu’s Tokyo Story follows an aging co...</td>\n",
       "      <td>8.1</td>\n",
       "      <td>147</td>\n",
       "      <td>Yasujirô Ozu</td>\n",
       "      <td>Kôgo Noda, Yasujirô Ozu</td>\n",
       "      <td>2 h 16 m</td>\n",
       "      <td>Drama</td>\n",
       "    </tr>\n",
       "    <tr>\n",
       "      <th>4</th>\n",
       "      <td>The Leopard (re-release)</td>\n",
       "      <td>Aug 13, 2004</td>\n",
       "      <td>Set in Sicily in 1860, Luchino Visconti's spec...</td>\n",
       "      <td>7.8</td>\n",
       "      <td>85</td>\n",
       "      <td>Luchino Visconti</td>\n",
       "      <td>Giuseppe Tomasi di Lampedusa, Suso Cecchi D'Am...</td>\n",
       "      <td>3 h 7 m</td>\n",
       "      <td>Drama,History</td>\n",
       "    </tr>\n",
       "  </tbody>\n",
       "</table>\n",
       "</div>"
      ],
      "text/plain": [
       "                      Title  Release Date  \\\n",
       "0            Dekalog (1988)  Mar 22, 1996   \n",
       "1         Three Colors: Red  Nov 23, 1994   \n",
       "2            The Conformist  Oct 22, 1970   \n",
       "3               Tokyo Story  Mar 13, 1972   \n",
       "4  The Leopard (re-release)  Aug 13, 2004   \n",
       "\n",
       "                                         Description  Rating  \\\n",
       "0  This masterwork by Krzysztof Kieślowski is one...     7.4   \n",
       "1  Krzysztof Kieslowski closes his Three Colors t...     8.3   \n",
       "2  Set in Rome in the 1930s, this re-release of B...     7.3   \n",
       "3  Yasujiro Ozu’s Tokyo Story follows an aging co...     8.1   \n",
       "4  Set in Sicily in 1860, Luchino Visconti's spec...     7.8   \n",
       "\n",
       "  No of Persons Voted           Directed by  \\\n",
       "0                 118  Krzysztof Kieslowski   \n",
       "1                 241  Krzysztof Kieslowski   \n",
       "2                 106   Bernardo Bertolucci   \n",
       "3                 147          Yasujirô Ozu   \n",
       "4                  85      Luchino Visconti   \n",
       "\n",
       "                                          Written by  Duration  \\\n",
       "0         Krzysztof Kieslowski, Krzysztof Piesiewicz  9 h 32 m   \n",
       "1  Krzysztof Kieslowski, Krzysztof Piesiewicz, Ag...  1 h 39 m   \n",
       "2               Alberto Moravia, Bernardo Bertolucci  1 h 47 m   \n",
       "3                            Kôgo Noda, Yasujirô Ozu  2 h 16 m   \n",
       "4  Giuseppe Tomasi di Lampedusa, Suso Cecchi D'Am...   3 h 7 m   \n",
       "\n",
       "                  Genres  \n",
       "0                  Drama  \n",
       "1  Drama,Mystery,Romance  \n",
       "2                  Drama  \n",
       "3                  Drama  \n",
       "4          Drama,History  "
      ]
     },
     "execution_count": 5,
     "metadata": {},
     "output_type": "execute_result"
    }
   ],
   "source": [
    "# Dropping the first column (this is the index column)\n",
    "df.drop(\"Unnamed: 0\", axis=1, inplace = True)\n",
    "df.head()"
   ]
  },
  {
   "cell_type": "code",
   "execution_count": 6,
   "metadata": {},
   "outputs": [],
   "source": [
    "# Rename \"No of Persons Voted\" column by \"Nb_Votes\"\n",
    "df = df.rename(columns={\"No of Persons Voted\": \"Nb_Votes\"})"
   ]
  },
  {
   "cell_type": "markdown",
   "metadata": {},
   "source": [
    "## 3.1 -Missing Values"
   ]
  },
  {
   "cell_type": "code",
   "execution_count": 7,
   "metadata": {
    "trusted": true
   },
   "outputs": [
    {
     "name": "stdout",
     "output_type": "stream",
     "text": [
      "Title\n",
      "Non-missing values : 16290\n",
      "Missing values : 0\n",
      "Proportion of missing values = 0.0 %\n",
      "\n",
      "Release Date\n",
      "Non-missing values : 16290\n",
      "Missing values : 0\n",
      "Proportion of missing values = 0.0 %\n",
      "\n",
      "Description\n",
      "Non-missing values : 16290\n",
      "Missing values : 0\n",
      "Proportion of missing values = 0.0 %\n",
      "\n",
      "Rating\n",
      "Non-missing values : 12846\n",
      "Missing values : 3444\n",
      "Proportion of missing values = 21.14 %\n",
      "\n",
      "Nb_Votes\n",
      "Non-missing values : 12829\n",
      "Missing values : 3461\n",
      "Proportion of missing values = 21.25 %\n",
      "\n",
      "Directed by\n",
      "Non-missing values : 16283\n",
      "Missing values : 7\n",
      "Proportion of missing values = 0.04 %\n",
      "\n",
      "Written by\n",
      "Non-missing values : 15327\n",
      "Missing values : 963\n",
      "Proportion of missing values = 5.91 %\n",
      "\n",
      "Duration\n",
      "Non-missing values : 16277\n",
      "Missing values : 13\n",
      "Proportion of missing values = 0.08 %\n",
      "\n",
      "Genres\n",
      "Non-missing values : 16285\n",
      "Missing values : 5\n",
      "Proportion of missing values = 0.03 %\n",
      "\n"
     ]
    }
   ],
   "source": [
    "missing_data = df.isnull()\n",
    "\n",
    "# Count missing values in each column\n",
    "for column in missing_data.columns:\n",
    "    non_missing_count = missing_data[column].value_counts().get(False,0)\n",
    "    missing_count = missing_data[column].value_counts().get(True, 0)\n",
    "\n",
    "    print(f\"{column}\")\n",
    "    print(f\"Non-missing values : {non_missing_count}\")\n",
    "    print(f\"Missing values : {missing_count}\")\n",
    "    print(\"Proportion of missing values =\", round(missing_data[column].mean()*100,2), \"%\")\n",
    "    \n",
    "    print(\"\")    "
   ]
  },
  {
   "cell_type": "markdown",
   "metadata": {},
   "source": [
    "Based on the summary above, each column has 16 290 rows of data and six of the columns containing missing data:\n",
    "<ol>\n",
    "    <li>\"Rating\" : 3 444 missing data</li>\n",
    "    <li>\"Nb_Votes\" : 3 461 missing data</li>\n",
    "    <li>\"Directed by\" : 7 missing data</li>\n",
    "    <li>\"Written by\" : 963 missing data</li>\n",
    "    <li>\"Duration\" : 13 missing data</li>\n",
    "    <li>\"Genres\" : 5 missing data</li>\n",
    "</ol>\n",
    "\n",
    "The \"Nb_Votes\" and \"Rating\" columns contain approximately 21 % missing values, which is significant. Removing all missing rows could therefore significantly reduce the sample size and, potentially, introduce bias into the analyses."
   ]
  },
  {
   "cell_type": "markdown",
   "metadata": {},
   "source": [
    "### 3.1.1 - Missing values for \"Rating\" and \"Nb_Votes\""
   ]
  },
  {
   "cell_type": "markdown",
   "metadata": {},
   "source": [
    "Let's try imputation of missing values ​​for the \"Rating\" and \"Nb_Votes\" columns. \n",
    "\n",
    "First, let's look at the type of this data."
   ]
  },
  {
   "cell_type": "code",
   "execution_count": 8,
   "metadata": {},
   "outputs": [
    {
     "data": {
      "text/plain": [
       "Title            object\n",
       "Release Date     object\n",
       "Description      object\n",
       "Rating          float64\n",
       "Nb_Votes         object\n",
       "Directed by      object\n",
       "Written by       object\n",
       "Duration         object\n",
       "Genres           object\n",
       "dtype: object"
      ]
     },
     "execution_count": 8,
     "metadata": {},
     "output_type": "execute_result"
    }
   ],
   "source": [
    "df.dtypes"
   ]
  },
  {
   "cell_type": "markdown",
   "metadata": {},
   "source": [
    "Note that the “Nb_Votes” column is not in numerical format. Let's convert the values ​​of this column to floats."
   ]
  },
  {
   "cell_type": "code",
   "execution_count": 9,
   "metadata": {},
   "outputs": [
    {
     "data": {
      "text/plain": [
       "Title            object\n",
       "Release Date     object\n",
       "Description      object\n",
       "Rating          float64\n",
       "Nb_Votes        float64\n",
       "Directed by      object\n",
       "Written by       object\n",
       "Duration         object\n",
       "Genres           object\n",
       "dtype: object"
      ]
     },
     "execution_count": 9,
     "metadata": {},
     "output_type": "execute_result"
    }
   ],
   "source": [
    "# Convert \"Nb_Votes\" in integer\n",
    "df['Nb_Votes'] = df['Nb_Votes'].replace({',': ''}, regex=True).astype(float)\n",
    "\n",
    "df.dtypes"
   ]
  },
  {
   "cell_type": "markdown",
   "metadata": {},
   "source": [
    "Now, let's look at the distribution of this data to see whether it is better to impute using the mean or the median.\n"
   ]
  },
  {
   "cell_type": "code",
   "execution_count": 10,
   "metadata": {},
   "outputs": [
    {
     "data": {
      "image/png": "[encoded data removed]",
      "text/plain": [
       "<Figure size 1200x600 with 2 Axes>"
      ]
     },
     "metadata": {},
     "output_type": "display_data"
    }
   ],
   "source": [
    "# Create 2 boxplots to visualize the distribution of \"Rating\" and \"Nb_Votes\".\n",
    "\n",
    "fig, axes = plt.subplots(1, 2, figsize=(12, 6))\n",
    "\n",
    "# Boxplot of ratings\n",
    "sns.boxplot(data=df[\"Rating\"], ax=axes[0])\n",
    "axes[0].set_title(\"Distribution of ratings\")\n",
    "\n",
    "# Boxplot of No of Persons Voted\n",
    "sns.boxplot(data=df[\"Nb_Votes\"], ax=axes[1])\n",
    "axes[1].set_title(\"Distribution of Number of votes\")\n",
    "\n",
    "plt.tight_layout()\n",
    "plt.subplots_adjust(wspace=0.4)\n",
    "plt.show()"
   ]
  },
  {
   "cell_type": "markdown",
   "metadata": {},
   "source": [
    "The distribution of ratings seems rather symmetrical, unlike the distribution of the Number of Votes. To impute missing values ​​from the “Nb_Votes” column, we will therefore use the median. Concerning the imputation of missing values ​​from the \"Rating\" column, the choice of the mean or the median is almost equivalent as shown in the following result.\n"
   ]
  },
  {
   "cell_type": "code",
   "execution_count": 11,
   "metadata": {},
   "outputs": [
    {
     "name": "stdout",
     "output_type": "stream",
     "text": [
      "Median of 'Rating' column = 6.8\n",
      "Mean of 'Rating' column = 6.617631947687997\n"
     ]
    }
   ],
   "source": [
    "# Median of \"Rating\" column \n",
    "print(\"Median of 'Rating' column =\", df[\"Rating\"].median())\n",
    "\n",
    "# Mean of \"Rating\" column\n",
    "print(\"Mean of 'Rating' column =\", df[\"Rating\"].mean())\n"
   ]
  },
  {
   "cell_type": "code",
   "execution_count": 12,
   "metadata": {},
   "outputs": [],
   "source": [
    "# Imputation with median\n",
    "df.fillna({\"Rating\": df[\"Rating\"].median()}, inplace=True)\n",
    "df.fillna({\"Nb_Votes\":df[\"Nb_Votes\"].median()}, inplace=True)"
   ]
  },
  {
   "cell_type": "code",
   "execution_count": 13,
   "metadata": {},
   "outputs": [
    {
     "name": "stdout",
     "output_type": "stream",
     "text": [
      "Title\n",
      "Non-missing values : 16290\n",
      "Missing values : 0\n",
      "Proportion of missing values = 0.0 %\n",
      "\n",
      "Release Date\n",
      "Non-missing values : 16290\n",
      "Missing values : 0\n",
      "Proportion of missing values = 0.0 %\n",
      "\n",
      "Description\n",
      "Non-missing values : 16290\n",
      "Missing values : 0\n",
      "Proportion of missing values = 0.0 %\n",
      "\n",
      "Rating\n",
      "Non-missing values : 16290\n",
      "Missing values : 0\n",
      "Proportion of missing values = 0.0 %\n",
      "\n",
      "Nb_Votes\n",
      "Non-missing values : 16290\n",
      "Missing values : 0\n",
      "Proportion of missing values = 0.0 %\n",
      "\n",
      "Directed by\n",
      "Non-missing values : 16283\n",
      "Missing values : 7\n",
      "Proportion of missing values = 0.04 %\n",
      "\n",
      "Written by\n",
      "Non-missing values : 15327\n",
      "Missing values : 963\n",
      "Proportion of missing values = 5.91 %\n",
      "\n",
      "Duration\n",
      "Non-missing values : 16277\n",
      "Missing values : 13\n",
      "Proportion of missing values = 0.08 %\n",
      "\n",
      "Genres\n",
      "Non-missing values : 16285\n",
      "Missing values : 5\n",
      "Proportion of missing values = 0.03 %\n",
      "\n"
     ]
    }
   ],
   "source": [
    "missing_data = df.isnull()\n",
    "\n",
    "# Count missing values in each column\n",
    "for column in missing_data.columns:\n",
    "    non_missing_count = missing_data[column].value_counts().get(False,0)\n",
    "    missing_count = missing_data[column].value_counts().get(True, 0)\n",
    "\n",
    "    print(f\"{column}\")\n",
    "    print(f\"Non-missing values : {non_missing_count}\")\n",
    "    print(f\"Missing values : {missing_count}\")\n",
    "    print(\"Proportion of missing values =\", round(missing_data[column].mean()*100,2), \"%\")\n",
    "    \n",
    "    print(\"\")  "
   ]
  },
  {
   "cell_type": "markdown",
   "metadata": {},
   "source": [
    "After imputation, missing values ​​in \"Rating\" and \"Nb_Votes\" were removed. There are still missing values ​​in the following columns :\n",
    "<ul>\n",
    "    <li>Written by : 5.91 %</li>\n",
    "    <li>Duration : 0.08 %</li>\n",
    "    <li>Directed by : 0.04 %</li>\n",
    "    <li>Genres : 0.03 %</li>\n",
    "</ul>\n",
    "\n",
    "\n"
   ]
  },
  {
   "cell_type": "markdown",
   "metadata": {},
   "source": [
    "### 3.1.2 - Missing values for \"Written by\""
   ]
  },
  {
   "cell_type": "markdown",
   "metadata": {},
   "source": [
    "For the \"Written by\" column, replace the missing values ​​with \"Unknown\".\n"
   ]
  },
  {
   "cell_type": "code",
   "execution_count": 14,
   "metadata": {},
   "outputs": [],
   "source": [
    "df.fillna({\"Written by\": \"Unknown\"}, inplace=True)"
   ]
  },
  {
   "cell_type": "markdown",
   "metadata": {},
   "source": [
    "Since there are very few films with missing values ​​for the three columns \"Duration\", \"Directed by\" and \"Genres\", we will perform an internet search for each of these films to replace these missing values."
   ]
  },
  {
   "cell_type": "markdown",
   "metadata": {},
   "source": [
    "### 3.1.3 - Missing values for \"Directed by\""
   ]
  },
  {
   "cell_type": "code",
   "execution_count": 15,
   "metadata": {},
   "outputs": [
    {
     "data": {
      "text/html": [
       "<div>\n",
       "<style scoped>\n",
       "    .dataframe tbody tr th:only-of-type {\n",
       "        vertical-align: middle;\n",
       "    }\n",
       "\n",
       "    .dataframe tbody tr th {\n",
       "        vertical-align: top;\n",
       "    }\n",
       "\n",
       "    .dataframe thead th {\n",
       "        text-align: right;\n",
       "    }\n",
       "</style>\n",
       "<table border=\"1\" class=\"dataframe\">\n",
       "  <thead>\n",
       "    <tr style=\"text-align: right;\">\n",
       "      <th></th>\n",
       "      <th>Title</th>\n",
       "      <th>Release Date</th>\n",
       "      <th>Description</th>\n",
       "      <th>Rating</th>\n",
       "      <th>Nb_Votes</th>\n",
       "      <th>Directed by</th>\n",
       "      <th>Written by</th>\n",
       "      <th>Duration</th>\n",
       "      <th>Genres</th>\n",
       "    </tr>\n",
       "  </thead>\n",
       "  <tbody>\n",
       "    <tr>\n",
       "      <th>155</th>\n",
       "      <td>Apocalypse Now Redux</td>\n",
       "      <td>Aug 3, 2001</td>\n",
       "      <td>During the Vietnam War, Captain Willard is sen...</td>\n",
       "      <td>8.2</td>\n",
       "      <td>89.0</td>\n",
       "      <td>NaN</td>\n",
       "      <td>Unknown</td>\n",
       "      <td>NaN</td>\n",
       "      <td>NaN</td>\n",
       "    </tr>\n",
       "    <tr>\n",
       "      <th>2623</th>\n",
       "      <td>The Harder They Come</td>\n",
       "      <td>Feb 8, 1973</td>\n",
       "      <td>Reggae superstar Jimmy Cliff is Ivan, a rural ...</td>\n",
       "      <td>6.8</td>\n",
       "      <td>31.0</td>\n",
       "      <td>NaN</td>\n",
       "      <td>Chris Salewicz</td>\n",
       "      <td>1 h 45 m</td>\n",
       "      <td>Crime,Drama,Music</td>\n",
       "    </tr>\n",
       "    <tr>\n",
       "      <th>2999</th>\n",
       "      <td>The Animation Show 2005</td>\n",
       "      <td>Feb 18, 2005</td>\n",
       "      <td>A collection of the world's best animated shor...</td>\n",
       "      <td>6.8</td>\n",
       "      <td>31.0</td>\n",
       "      <td>NaN</td>\n",
       "      <td>Unknown</td>\n",
       "      <td>1 h 25 m</td>\n",
       "      <td>Animation</td>\n",
       "    </tr>\n",
       "    <tr>\n",
       "      <th>3004</th>\n",
       "      <td>The Godfather Coda: The Death of Michael Corleone</td>\n",
       "      <td>Dec 4, 2020</td>\n",
       "      <td>Celebrating the 30th Anniversary of The Godfat...</td>\n",
       "      <td>7.9</td>\n",
       "      <td>47.0</td>\n",
       "      <td>NaN</td>\n",
       "      <td>Unknown</td>\n",
       "      <td>\\n        http://www.thegodfather.com/\\n</td>\n",
       "      <td>NaN</td>\n",
       "    </tr>\n",
       "    <tr>\n",
       "      <th>7417</th>\n",
       "      <td>The Cotton Club Encore</td>\n",
       "      <td>Oct 11, 2019</td>\n",
       "      <td>In this lavish, 1930s-era drama, Harlem's lege...</td>\n",
       "      <td>6.8</td>\n",
       "      <td>31.0</td>\n",
       "      <td>NaN</td>\n",
       "      <td>Unknown</td>\n",
       "      <td>\\n        https://www.lionsgate.com/movies/the...</td>\n",
       "      <td>NaN</td>\n",
       "    </tr>\n",
       "    <tr>\n",
       "      <th>10965</th>\n",
       "      <td>Once Upon a Deadpool</td>\n",
       "      <td>Dec 12, 2018</td>\n",
       "      <td>A Deadpool fairy tale that gives zero F’s.</td>\n",
       "      <td>4.8</td>\n",
       "      <td>36.0</td>\n",
       "      <td>NaN</td>\n",
       "      <td>Unknown</td>\n",
       "      <td>\\n        https://www.foxmovies.com/movies/onc...</td>\n",
       "      <td>NaN</td>\n",
       "    </tr>\n",
       "    <tr>\n",
       "      <th>16285</th>\n",
       "      <td>Boys to Men</td>\n",
       "      <td>Apr 27, 2001</td>\n",
       "      <td>Compilation of 4 short films from different di...</td>\n",
       "      <td>6.8</td>\n",
       "      <td>31.0</td>\n",
       "      <td>NaN</td>\n",
       "      <td>Unknown</td>\n",
       "      <td>\\n        https://www.amazon.com/Boys-Men-Phil...</td>\n",
       "      <td>Drama</td>\n",
       "    </tr>\n",
       "  </tbody>\n",
       "</table>\n",
       "</div>"
      ],
      "text/plain": [
       "                                                   Title  Release Date  \\\n",
       "155                                 Apocalypse Now Redux   Aug 3, 2001   \n",
       "2623                                The Harder They Come   Feb 8, 1973   \n",
       "2999                             The Animation Show 2005  Feb 18, 2005   \n",
       "3004   The Godfather Coda: The Death of Michael Corleone   Dec 4, 2020   \n",
       "7417                              The Cotton Club Encore  Oct 11, 2019   \n",
       "10965                               Once Upon a Deadpool  Dec 12, 2018   \n",
       "16285                                        Boys to Men  Apr 27, 2001   \n",
       "\n",
       "                                             Description  Rating  Nb_Votes  \\\n",
       "155    During the Vietnam War, Captain Willard is sen...     8.2      89.0   \n",
       "2623   Reggae superstar Jimmy Cliff is Ivan, a rural ...     6.8      31.0   \n",
       "2999   A collection of the world's best animated shor...     6.8      31.0   \n",
       "3004   Celebrating the 30th Anniversary of The Godfat...     7.9      47.0   \n",
       "7417   In this lavish, 1930s-era drama, Harlem's lege...     6.8      31.0   \n",
       "10965         A Deadpool fairy tale that gives zero F’s.     4.8      36.0   \n",
       "16285  Compilation of 4 short films from different di...     6.8      31.0   \n",
       "\n",
       "      Directed by      Written by  \\\n",
       "155           NaN         Unknown   \n",
       "2623          NaN  Chris Salewicz   \n",
       "2999          NaN         Unknown   \n",
       "3004          NaN         Unknown   \n",
       "7417          NaN         Unknown   \n",
       "10965         NaN         Unknown   \n",
       "16285         NaN         Unknown   \n",
       "\n",
       "                                                Duration             Genres  \n",
       "155                                                  NaN                NaN  \n",
       "2623                                            1 h 45 m  Crime,Drama,Music  \n",
       "2999                                            1 h 25 m          Animation  \n",
       "3004    \\n        http://www.thegodfather.com/\\n                        NaN  \n",
       "7417   \\n        https://www.lionsgate.com/movies/the...                NaN  \n",
       "10965  \\n        https://www.foxmovies.com/movies/onc...                NaN  \n",
       "16285  \\n        https://www.amazon.com/Boys-Men-Phil...              Drama  "
      ]
     },
     "execution_count": 15,
     "metadata": {},
     "output_type": "execute_result"
    }
   ],
   "source": [
    "# Print movies with missing values in \"Directed by\" column\n",
    "df[df[\"Directed by\"].isnull()]"
   ]
  },
  {
   "cell_type": "markdown",
   "metadata": {},
   "source": [
    "Let's do an internet search for each of the films above to find the director of the movies and manually replace it in the \"Directed by\" column : \n",
    "<ol>\n",
    "    <li>\"Apocalypse Now Redux\" : Francis Ford Coppola </li>\n",
    "    <li>\"The Harder They Come\" : Perry Henzell</li>\n",
    "    <li>\"The Animation Show 2005\" : Mike Judge</li>\n",
    "    <li>\"The Godfather Coda: The Death of Michael Corleone\" : Francis Ford Coppola</li>\n",
    "    <li>\"The Cotton Club Encore\" : Francis Ford Coppola</li>\n",
    "    <li>\"Once Upon a Deadpool\" : David Leitch</li>\n",
    "    <li>\"Boys to Men\" : Duncan Tucker</li>   \n",
    "</ol>"
   ]
  },
  {
   "cell_type": "code",
   "execution_count": 16,
   "metadata": {},
   "outputs": [],
   "source": [
    "# We add the director of the 7 movies above\n",
    "\n",
    "# List of indexes to modify\n",
    "index_list = [155, 2623, 2999, 3004, 7417, 10965, 16285]\n",
    "\n",
    "# New directors to assign\n",
    "directors = [\"Francis Ford Coppola\", \"Perry Henzell\", \"Mike Judge\", \"Francis Ford Coppola\", \"Francis Ford Coppola\", \"David Leitch\", \"Duncan Tucker\"]\n",
    "\n",
    "# Replace the values of the 'Directed by' column\n",
    "df.loc[index_list, \"Directed by\"] = directors"
   ]
  },
  {
   "cell_type": "markdown",
   "metadata": {},
   "source": [
    "### 3.1.4 - Missing values for \"Genres\""
   ]
  },
  {
   "cell_type": "code",
   "execution_count": 17,
   "metadata": {},
   "outputs": [
    {
     "data": {
      "text/html": [
       "<div>\n",
       "<style scoped>\n",
       "    .dataframe tbody tr th:only-of-type {\n",
       "        vertical-align: middle;\n",
       "    }\n",
       "\n",
       "    .dataframe tbody tr th {\n",
       "        vertical-align: top;\n",
       "    }\n",
       "\n",
       "    .dataframe thead th {\n",
       "        text-align: right;\n",
       "    }\n",
       "</style>\n",
       "<table border=\"1\" class=\"dataframe\">\n",
       "  <thead>\n",
       "    <tr style=\"text-align: right;\">\n",
       "      <th></th>\n",
       "      <th>Title</th>\n",
       "      <th>Release Date</th>\n",
       "      <th>Description</th>\n",
       "      <th>Rating</th>\n",
       "      <th>Nb_Votes</th>\n",
       "      <th>Directed by</th>\n",
       "      <th>Written by</th>\n",
       "      <th>Duration</th>\n",
       "      <th>Genres</th>\n",
       "    </tr>\n",
       "  </thead>\n",
       "  <tbody>\n",
       "    <tr>\n",
       "      <th>155</th>\n",
       "      <td>Apocalypse Now Redux</td>\n",
       "      <td>Aug 3, 2001</td>\n",
       "      <td>During the Vietnam War, Captain Willard is sen...</td>\n",
       "      <td>8.2</td>\n",
       "      <td>89.0</td>\n",
       "      <td>Francis Ford Coppola</td>\n",
       "      <td>Unknown</td>\n",
       "      <td>NaN</td>\n",
       "      <td>NaN</td>\n",
       "    </tr>\n",
       "    <tr>\n",
       "      <th>3004</th>\n",
       "      <td>The Godfather Coda: The Death of Michael Corleone</td>\n",
       "      <td>Dec 4, 2020</td>\n",
       "      <td>Celebrating the 30th Anniversary of The Godfat...</td>\n",
       "      <td>7.9</td>\n",
       "      <td>47.0</td>\n",
       "      <td>Francis Ford Coppola</td>\n",
       "      <td>Unknown</td>\n",
       "      <td>\\n        http://www.thegodfather.com/\\n</td>\n",
       "      <td>NaN</td>\n",
       "    </tr>\n",
       "    <tr>\n",
       "      <th>7417</th>\n",
       "      <td>The Cotton Club Encore</td>\n",
       "      <td>Oct 11, 2019</td>\n",
       "      <td>In this lavish, 1930s-era drama, Harlem's lege...</td>\n",
       "      <td>6.8</td>\n",
       "      <td>31.0</td>\n",
       "      <td>Francis Ford Coppola</td>\n",
       "      <td>Unknown</td>\n",
       "      <td>\\n        https://www.lionsgate.com/movies/the...</td>\n",
       "      <td>NaN</td>\n",
       "    </tr>\n",
       "    <tr>\n",
       "      <th>10965</th>\n",
       "      <td>Once Upon a Deadpool</td>\n",
       "      <td>Dec 12, 2018</td>\n",
       "      <td>A Deadpool fairy tale that gives zero F’s.</td>\n",
       "      <td>4.8</td>\n",
       "      <td>36.0</td>\n",
       "      <td>David Leitch</td>\n",
       "      <td>Unknown</td>\n",
       "      <td>\\n        https://www.foxmovies.com/movies/onc...</td>\n",
       "      <td>NaN</td>\n",
       "    </tr>\n",
       "    <tr>\n",
       "      <th>11475</th>\n",
       "      <td>À cause d'un garçon</td>\n",
       "      <td>Jun 18, 2004</td>\n",
       "      <td>A direct and compassionate look at a teenager'...</td>\n",
       "      <td>5.4</td>\n",
       "      <td>5.0</td>\n",
       "      <td>Fabrice Cazeneuve</td>\n",
       "      <td>Vincent Molina</td>\n",
       "      <td>1 h 26 m</td>\n",
       "      <td>NaN</td>\n",
       "    </tr>\n",
       "  </tbody>\n",
       "</table>\n",
       "</div>"
      ],
      "text/plain": [
       "                                                   Title  Release Date  \\\n",
       "155                                 Apocalypse Now Redux   Aug 3, 2001   \n",
       "3004   The Godfather Coda: The Death of Michael Corleone   Dec 4, 2020   \n",
       "7417                              The Cotton Club Encore  Oct 11, 2019   \n",
       "10965                               Once Upon a Deadpool  Dec 12, 2018   \n",
       "11475                                À cause d'un garçon  Jun 18, 2004   \n",
       "\n",
       "                                             Description  Rating  Nb_Votes  \\\n",
       "155    During the Vietnam War, Captain Willard is sen...     8.2      89.0   \n",
       "3004   Celebrating the 30th Anniversary of The Godfat...     7.9      47.0   \n",
       "7417   In this lavish, 1930s-era drama, Harlem's lege...     6.8      31.0   \n",
       "10965         A Deadpool fairy tale that gives zero F’s.     4.8      36.0   \n",
       "11475  A direct and compassionate look at a teenager'...     5.4       5.0   \n",
       "\n",
       "                Directed by      Written by  \\\n",
       "155    Francis Ford Coppola         Unknown   \n",
       "3004   Francis Ford Coppola         Unknown   \n",
       "7417   Francis Ford Coppola         Unknown   \n",
       "10965          David Leitch         Unknown   \n",
       "11475     Fabrice Cazeneuve  Vincent Molina   \n",
       "\n",
       "                                                Duration Genres  \n",
       "155                                                  NaN    NaN  \n",
       "3004    \\n        http://www.thegodfather.com/\\n            NaN  \n",
       "7417   \\n        https://www.lionsgate.com/movies/the...    NaN  \n",
       "10965  \\n        https://www.foxmovies.com/movies/onc...    NaN  \n",
       "11475                                           1 h 26 m    NaN  "
      ]
     },
     "execution_count": 17,
     "metadata": {},
     "output_type": "execute_result"
    }
   ],
   "source": [
    "# Print movies with missing values in \"Genres\" column\n",
    "df[df[\"Genres\"].isnull()]"
   ]
  },
  {
   "cell_type": "markdown",
   "metadata": {},
   "source": [
    "Let's do an internet search for each of the films above to find the genre of the movies and manually replace it in the \"Genres\" column : \n",
    "<ol>\n",
    "    <li>\"Apocalypse Now Redux\" : War </li>\n",
    "    <li>\"The Godfather Coda: The Death of Michael Corleone\" : Crime</li>\n",
    "    <li>\"The Cotton Club Encore\" : Musical</li>\n",
    "    <li>\"Once Upon a Deadpool\" : Action</li>\n",
    "    <li>\"A cause d'un garçon\" : Drama</li>   \n",
    "</ol>"
   ]
  },
  {
   "cell_type": "code",
   "execution_count": 18,
   "metadata": {},
   "outputs": [],
   "source": [
    "# We add the genre of the 5 movies above\n",
    "\n",
    "# List of indexes to modify\n",
    "index_list = [155, 3004, 7417, 10965, 11475]\n",
    "\n",
    "# New genres to assign\n",
    "genres = [\"War\", \"Crime\", \"Musical\", \"Action\", \"Drama\"]\n",
    "\n",
    "# Replace the values of the 'Duration in Minutes' column\n",
    "df.loc[index_list, \"Genres\"] = genres"
   ]
  },
  {
   "cell_type": "markdown",
   "metadata": {},
   "source": [
    "### 3.1.5 - Missing values for \"Duration\""
   ]
  },
  {
   "cell_type": "code",
   "execution_count": 19,
   "metadata": {},
   "outputs": [
    {
     "data": {
      "text/html": [
       "<div>\n",
       "<style scoped>\n",
       "    .dataframe tbody tr th:only-of-type {\n",
       "        vertical-align: middle;\n",
       "    }\n",
       "\n",
       "    .dataframe tbody tr th {\n",
       "        vertical-align: top;\n",
       "    }\n",
       "\n",
       "    .dataframe thead th {\n",
       "        text-align: right;\n",
       "    }\n",
       "</style>\n",
       "<table border=\"1\" class=\"dataframe\">\n",
       "  <thead>\n",
       "    <tr style=\"text-align: right;\">\n",
       "      <th></th>\n",
       "      <th>Title</th>\n",
       "      <th>Release Date</th>\n",
       "      <th>Description</th>\n",
       "      <th>Rating</th>\n",
       "      <th>Nb_Votes</th>\n",
       "      <th>Directed by</th>\n",
       "      <th>Written by</th>\n",
       "      <th>Duration</th>\n",
       "      <th>Genres</th>\n",
       "    </tr>\n",
       "  </thead>\n",
       "  <tbody>\n",
       "    <tr>\n",
       "      <th>155</th>\n",
       "      <td>Apocalypse Now Redux</td>\n",
       "      <td>Aug 3, 2001</td>\n",
       "      <td>During the Vietnam War, Captain Willard is sen...</td>\n",
       "      <td>8.2</td>\n",
       "      <td>89.0</td>\n",
       "      <td>Francis Ford Coppola</td>\n",
       "      <td>Unknown</td>\n",
       "      <td>NaN</td>\n",
       "      <td>War</td>\n",
       "    </tr>\n",
       "    <tr>\n",
       "      <th>3560</th>\n",
       "      <td>Scottsboro: An American Tragedy</td>\n",
       "      <td>Jan 19, 2001</td>\n",
       "      <td>Covering several decades, this documentary exa...</td>\n",
       "      <td>6.8</td>\n",
       "      <td>31.0</td>\n",
       "      <td>Barak Goodman, \\n    \\n      Daniel Anker</td>\n",
       "      <td>Barak Goodman, Kay Boyle</td>\n",
       "      <td>NaN</td>\n",
       "      <td>Documentary,History</td>\n",
       "    </tr>\n",
       "    <tr>\n",
       "      <th>3891</th>\n",
       "      <td>Strange Fruit</td>\n",
       "      <td>Nov 6, 2002</td>\n",
       "      <td>The first documentary exploring the history an...</td>\n",
       "      <td>6.8</td>\n",
       "      <td>31.0</td>\n",
       "      <td>Joel Katz</td>\n",
       "      <td>Joel Katz</td>\n",
       "      <td>NaN</td>\n",
       "      <td>Documentary</td>\n",
       "    </tr>\n",
       "    <tr>\n",
       "      <th>4432</th>\n",
       "      <td>Ghost Town</td>\n",
       "      <td>Sep 19, 2008</td>\n",
       "      <td>Bertram Pincus is a man whose skills leave muc...</td>\n",
       "      <td>6.8</td>\n",
       "      <td>31.0</td>\n",
       "      <td>Dayong Zhao</td>\n",
       "      <td>Unknown</td>\n",
       "      <td>NaN</td>\n",
       "      <td>Documentary</td>\n",
       "    </tr>\n",
       "    <tr>\n",
       "      <th>4729</th>\n",
       "      <td>The Great Dance: A Hunter's Story</td>\n",
       "      <td>Sep 29, 2000</td>\n",
       "      <td>This documentary by Craig and Damon Foster foc...</td>\n",
       "      <td>6.8</td>\n",
       "      <td>31.0</td>\n",
       "      <td>Craig Foster, \\n    \\n      Damon Foster</td>\n",
       "      <td>Jeremy Evans</td>\n",
       "      <td>NaN</td>\n",
       "      <td>Documentary</td>\n",
       "    </tr>\n",
       "    <tr>\n",
       "      <th>7472</th>\n",
       "      <td>Hey, Boo: Harper Lee and 'To Kill a Mockingbird'</td>\n",
       "      <td>May 13, 2011</td>\n",
       "      <td>Fifty years after winning the Pulitzer Prize, ...</td>\n",
       "      <td>7.2</td>\n",
       "      <td>9.0</td>\n",
       "      <td>Mary McDonagh Murphy</td>\n",
       "      <td>Mary McDonagh Murphy</td>\n",
       "      <td>NaN</td>\n",
       "      <td>Documentary,Biography,History,News</td>\n",
       "    </tr>\n",
       "    <tr>\n",
       "      <th>8691</th>\n",
       "      <td>Asphalt Zahov</td>\n",
       "      <td>Mar 13, 2002</td>\n",
       "      <td>Three dramatic encounters between modern-day I...</td>\n",
       "      <td>6.8</td>\n",
       "      <td>31.0</td>\n",
       "      <td>Dan Verete</td>\n",
       "      <td>Dan Verete</td>\n",
       "      <td>NaN</td>\n",
       "      <td>Drama,Romance</td>\n",
       "    </tr>\n",
       "    <tr>\n",
       "      <th>10353</th>\n",
       "      <td>It's About You</td>\n",
       "      <td>Jan 4, 2012</td>\n",
       "      <td>The documentary follows John Mellencamp as he ...</td>\n",
       "      <td>6.8</td>\n",
       "      <td>31.0</td>\n",
       "      <td>Ian Markus, \\n    \\n      Kurt Markus</td>\n",
       "      <td>Unknown</td>\n",
       "      <td>NaN</td>\n",
       "      <td>Documentary,Biography,Music</td>\n",
       "    </tr>\n",
       "    <tr>\n",
       "      <th>10621</th>\n",
       "      <td>Cuba: Island of Music</td>\n",
       "      <td>Jan 16, 2004</td>\n",
       "      <td>This documentary examines contemporary Cuban m...</td>\n",
       "      <td>6.8</td>\n",
       "      <td>31.0</td>\n",
       "      <td>Gary Keys</td>\n",
       "      <td>Unknown</td>\n",
       "      <td>NaN</td>\n",
       "      <td>Documentary</td>\n",
       "    </tr>\n",
       "    <tr>\n",
       "      <th>11072</th>\n",
       "      <td>Daydream Believer</td>\n",
       "      <td>Sep 25, 2002</td>\n",
       "      <td>An edgy, contemporary take on an age-old story...</td>\n",
       "      <td>6.8</td>\n",
       "      <td>31.0</td>\n",
       "      <td>Debra Eisenstadt</td>\n",
       "      <td>Debra Eisenstadt</td>\n",
       "      <td>NaN</td>\n",
       "      <td>Drama</td>\n",
       "    </tr>\n",
       "    <tr>\n",
       "      <th>11489</th>\n",
       "      <td>Labor Day</td>\n",
       "      <td>Dec 27, 2013</td>\n",
       "      <td>Labor Day centers on 13-year-old Henry Wheeler...</td>\n",
       "      <td>6.8</td>\n",
       "      <td>31.0</td>\n",
       "      <td>Glenn Silber</td>\n",
       "      <td>Unknown</td>\n",
       "      <td>NaN</td>\n",
       "      <td>Documentary,News</td>\n",
       "    </tr>\n",
       "    <tr>\n",
       "      <th>12636</th>\n",
       "      <td>The Hidden Wars of Desert Storm</td>\n",
       "      <td>Apr 20, 2001</td>\n",
       "      <td>This video documentary examines various aspect...</td>\n",
       "      <td>6.8</td>\n",
       "      <td>31.0</td>\n",
       "      <td>Audrey Brohy, \\n    \\n      Gerard Ungerman</td>\n",
       "      <td>Audrey Brohy, Gerard Ungerman</td>\n",
       "      <td>NaN</td>\n",
       "      <td>Documentary</td>\n",
       "    </tr>\n",
       "    <tr>\n",
       "      <th>12875</th>\n",
       "      <td>IF</td>\n",
       "      <td>May 17, 2024</td>\n",
       "      <td>IF is about a girl who discovers that she can ...</td>\n",
       "      <td>6.8</td>\n",
       "      <td>31.0</td>\n",
       "      <td>John Krasinski</td>\n",
       "      <td>John Krasinski</td>\n",
       "      <td>NaN</td>\n",
       "      <td>Comedy,Family,Fantasy</td>\n",
       "    </tr>\n",
       "  </tbody>\n",
       "</table>\n",
       "</div>"
      ],
      "text/plain": [
       "                                                  Title  Release Date  \\\n",
       "155                                Apocalypse Now Redux   Aug 3, 2001   \n",
       "3560                    Scottsboro: An American Tragedy  Jan 19, 2001   \n",
       "3891                                      Strange Fruit   Nov 6, 2002   \n",
       "4432                                         Ghost Town  Sep 19, 2008   \n",
       "4729                  The Great Dance: A Hunter's Story  Sep 29, 2000   \n",
       "7472   Hey, Boo: Harper Lee and 'To Kill a Mockingbird'  May 13, 2011   \n",
       "8691                                      Asphalt Zahov  Mar 13, 2002   \n",
       "10353                                    It's About You   Jan 4, 2012   \n",
       "10621                             Cuba: Island of Music  Jan 16, 2004   \n",
       "11072                                 Daydream Believer  Sep 25, 2002   \n",
       "11489                                         Labor Day  Dec 27, 2013   \n",
       "12636                   The Hidden Wars of Desert Storm  Apr 20, 2001   \n",
       "12875                                                IF  May 17, 2024   \n",
       "\n",
       "                                             Description  Rating  Nb_Votes  \\\n",
       "155    During the Vietnam War, Captain Willard is sen...     8.2      89.0   \n",
       "3560   Covering several decades, this documentary exa...     6.8      31.0   \n",
       "3891   The first documentary exploring the history an...     6.8      31.0   \n",
       "4432   Bertram Pincus is a man whose skills leave muc...     6.8      31.0   \n",
       "4729   This documentary by Craig and Damon Foster foc...     6.8      31.0   \n",
       "7472   Fifty years after winning the Pulitzer Prize, ...     7.2       9.0   \n",
       "8691   Three dramatic encounters between modern-day I...     6.8      31.0   \n",
       "10353  The documentary follows John Mellencamp as he ...     6.8      31.0   \n",
       "10621  This documentary examines contemporary Cuban m...     6.8      31.0   \n",
       "11072  An edgy, contemporary take on an age-old story...     6.8      31.0   \n",
       "11489  Labor Day centers on 13-year-old Henry Wheeler...     6.8      31.0   \n",
       "12636  This video documentary examines various aspect...     6.8      31.0   \n",
       "12875  IF is about a girl who discovers that she can ...     6.8      31.0   \n",
       "\n",
       "                                       Directed by  \\\n",
       "155                           Francis Ford Coppola   \n",
       "3560     Barak Goodman, \\n    \\n      Daniel Anker   \n",
       "3891                                     Joel Katz   \n",
       "4432                                   Dayong Zhao   \n",
       "4729      Craig Foster, \\n    \\n      Damon Foster   \n",
       "7472                          Mary McDonagh Murphy   \n",
       "8691                                    Dan Verete   \n",
       "10353        Ian Markus, \\n    \\n      Kurt Markus   \n",
       "10621                                    Gary Keys   \n",
       "11072                             Debra Eisenstadt   \n",
       "11489                                 Glenn Silber   \n",
       "12636  Audrey Brohy, \\n    \\n      Gerard Ungerman   \n",
       "12875                               John Krasinski   \n",
       "\n",
       "                          Written by Duration  \\\n",
       "155                          Unknown      NaN   \n",
       "3560        Barak Goodman, Kay Boyle      NaN   \n",
       "3891                       Joel Katz      NaN   \n",
       "4432                         Unknown      NaN   \n",
       "4729                    Jeremy Evans      NaN   \n",
       "7472            Mary McDonagh Murphy      NaN   \n",
       "8691                      Dan Verete      NaN   \n",
       "10353                        Unknown      NaN   \n",
       "10621                        Unknown      NaN   \n",
       "11072               Debra Eisenstadt      NaN   \n",
       "11489                        Unknown      NaN   \n",
       "12636  Audrey Brohy, Gerard Ungerman      NaN   \n",
       "12875                 John Krasinski      NaN   \n",
       "\n",
       "                                   Genres  \n",
       "155                                   War  \n",
       "3560                  Documentary,History  \n",
       "3891                          Documentary  \n",
       "4432                          Documentary  \n",
       "4729                          Documentary  \n",
       "7472   Documentary,Biography,History,News  \n",
       "8691                        Drama,Romance  \n",
       "10353         Documentary,Biography,Music  \n",
       "10621                         Documentary  \n",
       "11072                               Drama  \n",
       "11489                    Documentary,News  \n",
       "12636                         Documentary  \n",
       "12875               Comedy,Family,Fantasy  "
      ]
     },
     "execution_count": 19,
     "metadata": {},
     "output_type": "execute_result"
    }
   ],
   "source": [
    "# Print movies with missing values in \"Duration in Minutes\" column\n",
    "df[df[\"Duration\"].isnull()]"
   ]
  },
  {
   "cell_type": "markdown",
   "metadata": {},
   "source": [
    "Let's do an internet search for each of the films above to find the duration of the movies and manually replace it in the \"Duration\" column : \n",
    "<ol>\n",
    "    <li>\"Apocalypse Now Redux\" : 3 h 22 m </li>\n",
    "    <li>\"Scottsboro: An American Tragedy\" : 1 h 24 m</li>\n",
    "    <li>\"Strange Fruit\" : 0 h 57 m</li>\n",
    "    <li>\"Ghost Town\" : 2 h 49 m</li>\n",
    "    <li>\"The Great Dance: A Hunter's Story\" : 1 h 30 m</li>  \n",
    "    <li>\"Hey, Boo: Harper Lee and 'To Kill a Mockingbird'\" : 1 h 18 m</li>\n",
    "    <li>\"Asphalt Zahov\" : 1 h 27 m</li>\n",
    "    <li>\"It's About You\" : 1 h 26 m</li>\n",
    "    <li>\"Cuba: Island of Music\" : 1 h 35 m</li>\n",
    "    <li>\"Daydream Believer\" : 1 h 19 m</li>\n",
    "    <li>\"Labor Day\" : 1 h 16m</li>\n",
    "    <li>\"The Hidden Wars of Desert Storm\" : 1 h 4 m</li>\n",
    "    <li>\"IF\" : 1 h 44 m</li>\n",
    "</ol>"
   ]
  },
  {
   "cell_type": "code",
   "execution_count": 20,
   "metadata": {
    "trusted": true
   },
   "outputs": [],
   "source": [
    "# We add the duration of the 13 movies above\n",
    "\n",
    "# List of indexes to modify\n",
    "index_list = [155, 3560, 3891, 4432, 4729, 7472, 8691, 10353, 10621, 11072, 11489, 12636, 12875]\n",
    "\n",
    "# New duration to assign\n",
    "durations = [\"3 h 22 m\", \"1 h 24 m\", \"0 h 57 m\", \"2 h 49 m\", \"1 h 30 m\", \"1 h 18 m\", \"1 h 27 m\", \"1 h 26 m\", \"1 h 35 m\", \"1 h 19 m\", \"1 h 16 m\", \"1 h 4 m\", \"1 h 44 m\"]\n",
    "\n",
    "# Replace the values of the 'Duration in Minutes' column\n",
    "df.loc[index_list, \"Duration\"] = durations"
   ]
  },
  {
   "cell_type": "markdown",
   "metadata": {},
   "source": [
    "Now let's check that our dataset no longer contains any missing values."
   ]
  },
  {
   "cell_type": "code",
   "execution_count": 21,
   "metadata": {},
   "outputs": [
    {
     "data": {
      "text/plain": [
       "np.int64(0)"
      ]
     },
     "execution_count": 21,
     "metadata": {},
     "output_type": "execute_result"
    }
   ],
   "source": [
    "df.isnull().sum().sum()"
   ]
  },
  {
   "cell_type": "markdown",
   "metadata": {},
   "source": [
    "## 3.2 - Remove Duplicates"
   ]
  },
  {
   "cell_type": "code",
   "execution_count": 22,
   "metadata": {
    "trusted": true
   },
   "outputs": [],
   "source": [
    "df.drop_duplicates(inplace=True)"
   ]
  },
  {
   "cell_type": "code",
   "execution_count": 23,
   "metadata": {
    "trusted": true
   },
   "outputs": [
    {
     "data": {
      "text/plain": [
       "(15173, 9)"
      ]
     },
     "execution_count": 23,
     "metadata": {},
     "output_type": "execute_result"
    }
   ],
   "source": [
    "df.shape"
   ]
  },
  {
   "cell_type": "markdown",
   "metadata": {},
   "source": [
    "# 4 - Data Wrangling"
   ]
  },
  {
   "cell_type": "markdown",
   "metadata": {},
   "source": [
    "## 4.1 - Data Types"
   ]
  },
  {
   "cell_type": "code",
   "execution_count": 24,
   "metadata": {
    "trusted": true
   },
   "outputs": [
    {
     "data": {
      "text/plain": [
       "Title            object\n",
       "Release Date     object\n",
       "Description      object\n",
       "Rating          float64\n",
       "Nb_Votes        float64\n",
       "Directed by      object\n",
       "Written by       object\n",
       "Duration         object\n",
       "Genres           object\n",
       "dtype: object"
      ]
     },
     "execution_count": 24,
     "metadata": {},
     "output_type": "execute_result"
    }
   ],
   "source": [
    "# Let's list the data types for each column\n",
    "df.dtypes"
   ]
  },
  {
   "cell_type": "code",
   "execution_count": 25,
   "metadata": {
    "trusted": true
   },
   "outputs": [],
   "source": [
    "# Convert data types to proper format\n",
    "\n",
    "\n",
    "# Convert \"Release Date\" in date format\n",
    "df[\"Release Date\"] = pd.to_datetime(df[\"Release Date\"])\n",
    "\n",
    "# Convert \"Duration\" in minutes\n",
    "def convert_duration_to_minutes(duration):\n",
    "    # Extract hours and minutes\n",
    "    hours = duration.str.extract(r'(\\d+) h')[0].fillna(0).astype(int)\n",
    "    minutes = duration.str.extract(r'(\\d+) m')[0].fillna(0).astype(int)\n",
    "    \n",
    "    # Compute the total duration in minutes\n",
    "    total_minutes = hours * 60 + minutes\n",
    "    return total_minutes\n",
    "\n",
    "# We apply the function to the \"Duration\" column of our dataframe and create a new column \"Duration in Minutes\"\n",
    "df['Duration in Minutes'] = convert_duration_to_minutes(df['Duration'])\n",
    "\n",
    "# We drop Duration column\n",
    "df = df.drop(columns=[\"Duration\"])"
   ]
  },
  {
   "cell_type": "code",
   "execution_count": 26,
   "metadata": {
    "trusted": true
   },
   "outputs": [
    {
     "data": {
      "text/html": [
       "<div>\n",
       "<style scoped>\n",
       "    .dataframe tbody tr th:only-of-type {\n",
       "        vertical-align: middle;\n",
       "    }\n",
       "\n",
       "    .dataframe tbody tr th {\n",
       "        vertical-align: top;\n",
       "    }\n",
       "\n",
       "    .dataframe thead th {\n",
       "        text-align: right;\n",
       "    }\n",
       "</style>\n",
       "<table border=\"1\" class=\"dataframe\">\n",
       "  <thead>\n",
       "    <tr style=\"text-align: right;\">\n",
       "      <th></th>\n",
       "      <th>Title</th>\n",
       "      <th>Release Date</th>\n",
       "      <th>Description</th>\n",
       "      <th>Rating</th>\n",
       "      <th>Nb_Votes</th>\n",
       "      <th>Directed by</th>\n",
       "      <th>Written by</th>\n",
       "      <th>Genres</th>\n",
       "      <th>Duration in Minutes</th>\n",
       "    </tr>\n",
       "  </thead>\n",
       "  <tbody>\n",
       "    <tr>\n",
       "      <th>0</th>\n",
       "      <td>Dekalog (1988)</td>\n",
       "      <td>1996-03-22</td>\n",
       "      <td>This masterwork by Krzysztof Kieślowski is one...</td>\n",
       "      <td>7.4</td>\n",
       "      <td>118.0</td>\n",
       "      <td>Krzysztof Kieslowski</td>\n",
       "      <td>Krzysztof Kieslowski, Krzysztof Piesiewicz</td>\n",
       "      <td>Drama</td>\n",
       "      <td>572</td>\n",
       "    </tr>\n",
       "    <tr>\n",
       "      <th>1</th>\n",
       "      <td>Three Colors: Red</td>\n",
       "      <td>1994-11-23</td>\n",
       "      <td>Krzysztof Kieslowski closes his Three Colors t...</td>\n",
       "      <td>8.3</td>\n",
       "      <td>241.0</td>\n",
       "      <td>Krzysztof Kieslowski</td>\n",
       "      <td>Krzysztof Kieslowski, Krzysztof Piesiewicz, Ag...</td>\n",
       "      <td>Drama,Mystery,Romance</td>\n",
       "      <td>99</td>\n",
       "    </tr>\n",
       "    <tr>\n",
       "      <th>2</th>\n",
       "      <td>The Conformist</td>\n",
       "      <td>1970-10-22</td>\n",
       "      <td>Set in Rome in the 1930s, this re-release of B...</td>\n",
       "      <td>7.3</td>\n",
       "      <td>106.0</td>\n",
       "      <td>Bernardo Bertolucci</td>\n",
       "      <td>Alberto Moravia, Bernardo Bertolucci</td>\n",
       "      <td>Drama</td>\n",
       "      <td>107</td>\n",
       "    </tr>\n",
       "    <tr>\n",
       "      <th>3</th>\n",
       "      <td>Tokyo Story</td>\n",
       "      <td>1972-03-13</td>\n",
       "      <td>Yasujiro Ozu’s Tokyo Story follows an aging co...</td>\n",
       "      <td>8.1</td>\n",
       "      <td>147.0</td>\n",
       "      <td>Yasujirô Ozu</td>\n",
       "      <td>Kôgo Noda, Yasujirô Ozu</td>\n",
       "      <td>Drama</td>\n",
       "      <td>136</td>\n",
       "    </tr>\n",
       "    <tr>\n",
       "      <th>4</th>\n",
       "      <td>The Leopard (re-release)</td>\n",
       "      <td>2004-08-13</td>\n",
       "      <td>Set in Sicily in 1860, Luchino Visconti's spec...</td>\n",
       "      <td>7.8</td>\n",
       "      <td>85.0</td>\n",
       "      <td>Luchino Visconti</td>\n",
       "      <td>Giuseppe Tomasi di Lampedusa, Suso Cecchi D'Am...</td>\n",
       "      <td>Drama,History</td>\n",
       "      <td>187</td>\n",
       "    </tr>\n",
       "  </tbody>\n",
       "</table>\n",
       "</div>"
      ],
      "text/plain": [
       "                      Title Release Date  \\\n",
       "0            Dekalog (1988)   1996-03-22   \n",
       "1         Three Colors: Red   1994-11-23   \n",
       "2            The Conformist   1970-10-22   \n",
       "3               Tokyo Story   1972-03-13   \n",
       "4  The Leopard (re-release)   2004-08-13   \n",
       "\n",
       "                                         Description  Rating  Nb_Votes  \\\n",
       "0  This masterwork by Krzysztof Kieślowski is one...     7.4     118.0   \n",
       "1  Krzysztof Kieslowski closes his Three Colors t...     8.3     241.0   \n",
       "2  Set in Rome in the 1930s, this re-release of B...     7.3     106.0   \n",
       "3  Yasujiro Ozu’s Tokyo Story follows an aging co...     8.1     147.0   \n",
       "4  Set in Sicily in 1860, Luchino Visconti's spec...     7.8      85.0   \n",
       "\n",
       "            Directed by                                         Written by  \\\n",
       "0  Krzysztof Kieslowski         Krzysztof Kieslowski, Krzysztof Piesiewicz   \n",
       "1  Krzysztof Kieslowski  Krzysztof Kieslowski, Krzysztof Piesiewicz, Ag...   \n",
       "2   Bernardo Bertolucci               Alberto Moravia, Bernardo Bertolucci   \n",
       "3          Yasujirô Ozu                            Kôgo Noda, Yasujirô Ozu   \n",
       "4      Luchino Visconti  Giuseppe Tomasi di Lampedusa, Suso Cecchi D'Am...   \n",
       "\n",
       "                  Genres  Duration in Minutes  \n",
       "0                  Drama                  572  \n",
       "1  Drama,Mystery,Romance                   99  \n",
       "2                  Drama                  107  \n",
       "3                  Drama                  136  \n",
       "4          Drama,History                  187  "
      ]
     },
     "execution_count": 26,
     "metadata": {},
     "output_type": "execute_result"
    }
   ],
   "source": [
    "# We display the resulting dataframe\n",
    "df.head()"
   ]
  },
  {
   "cell_type": "code",
   "execution_count": 27,
   "metadata": {
    "trusted": true
   },
   "outputs": [
    {
     "data": {
      "text/plain": [
       "Title                          object\n",
       "Release Date           datetime64[ns]\n",
       "Description                    object\n",
       "Rating                        float64\n",
       "Nb_Votes                      float64\n",
       "Directed by                    object\n",
       "Written by                     object\n",
       "Genres                         object\n",
       "Duration in Minutes             int64\n",
       "dtype: object"
      ]
     },
     "execution_count": 27,
     "metadata": {},
     "output_type": "execute_result"
    }
   ],
   "source": [
    "# We verify datatypes \n",
    "df.dtypes"
   ]
  },
  {
   "cell_type": "markdown",
   "metadata": {},
   "source": [
    "## 4.2 - Outliers"
   ]
  },
  {
   "cell_type": "code",
   "execution_count": 28,
   "metadata": {
    "trusted": true
   },
   "outputs": [
    {
     "data": {
      "text/html": [
       "<div>\n",
       "<style scoped>\n",
       "    .dataframe tbody tr th:only-of-type {\n",
       "        vertical-align: middle;\n",
       "    }\n",
       "\n",
       "    .dataframe tbody tr th {\n",
       "        vertical-align: top;\n",
       "    }\n",
       "\n",
       "    .dataframe thead th {\n",
       "        text-align: right;\n",
       "    }\n",
       "</style>\n",
       "<table border=\"1\" class=\"dataframe\">\n",
       "  <thead>\n",
       "    <tr style=\"text-align: right;\">\n",
       "      <th></th>\n",
       "      <th>Release Date</th>\n",
       "      <th>Rating</th>\n",
       "      <th>Nb_Votes</th>\n",
       "      <th>Duration in Minutes</th>\n",
       "    </tr>\n",
       "  </thead>\n",
       "  <tbody>\n",
       "    <tr>\n",
       "      <th>count</th>\n",
       "      <td>15173</td>\n",
       "      <td>15173.000000</td>\n",
       "      <td>15173.000000</td>\n",
       "      <td>15173.000000</td>\n",
       "    </tr>\n",
       "    <tr>\n",
       "      <th>mean</th>\n",
       "      <td>2008-08-27 09:47:50.651815680</td>\n",
       "      <td>6.657609</td>\n",
       "      <td>113.997693</td>\n",
       "      <td>102.716404</td>\n",
       "    </tr>\n",
       "    <tr>\n",
       "      <th>min</th>\n",
       "      <td>1970-01-25 00:00:00</td>\n",
       "      <td>0.300000</td>\n",
       "      <td>4.000000</td>\n",
       "      <td>0.000000</td>\n",
       "    </tr>\n",
       "    <tr>\n",
       "      <th>25%</th>\n",
       "      <td>2002-08-30 00:00:00</td>\n",
       "      <td>6.100000</td>\n",
       "      <td>14.000000</td>\n",
       "      <td>91.000000</td>\n",
       "    </tr>\n",
       "    <tr>\n",
       "      <th>50%</th>\n",
       "      <td>2011-03-04 00:00:00</td>\n",
       "      <td>6.800000</td>\n",
       "      <td>31.000000</td>\n",
       "      <td>100.000000</td>\n",
       "    </tr>\n",
       "    <tr>\n",
       "      <th>75%</th>\n",
       "      <td>2017-06-28 00:00:00</td>\n",
       "      <td>7.400000</td>\n",
       "      <td>80.000000</td>\n",
       "      <td>113.000000</td>\n",
       "    </tr>\n",
       "    <tr>\n",
       "      <th>max</th>\n",
       "      <td>2024-11-13 00:00:00</td>\n",
       "      <td>10.000000</td>\n",
       "      <td>10639.000000</td>\n",
       "      <td>808.000000</td>\n",
       "    </tr>\n",
       "    <tr>\n",
       "      <th>std</th>\n",
       "      <td>NaN</td>\n",
       "      <td>1.257562</td>\n",
       "      <td>335.980136</td>\n",
       "      <td>24.624320</td>\n",
       "    </tr>\n",
       "  </tbody>\n",
       "</table>\n",
       "</div>"
      ],
      "text/plain": [
       "                        Release Date        Rating      Nb_Votes  \\\n",
       "count                          15173  15173.000000  15173.000000   \n",
       "mean   2008-08-27 09:47:50.651815680      6.657609    113.997693   \n",
       "min              1970-01-25 00:00:00      0.300000      4.000000   \n",
       "25%              2002-08-30 00:00:00      6.100000     14.000000   \n",
       "50%              2011-03-04 00:00:00      6.800000     31.000000   \n",
       "75%              2017-06-28 00:00:00      7.400000     80.000000   \n",
       "max              2024-11-13 00:00:00     10.000000  10639.000000   \n",
       "std                              NaN      1.257562    335.980136   \n",
       "\n",
       "       Duration in Minutes  \n",
       "count         15173.000000  \n",
       "mean            102.716404  \n",
       "min               0.000000  \n",
       "25%              91.000000  \n",
       "50%             100.000000  \n",
       "75%             113.000000  \n",
       "max             808.000000  \n",
       "std              24.624320  "
      ]
     },
     "execution_count": 28,
     "metadata": {},
     "output_type": "execute_result"
    }
   ],
   "source": [
    "# Descriptive statistics \n",
    "df.describe()"
   ]
  },
  {
   "cell_type": "markdown",
   "metadata": {},
   "source": [
    "We notice that there is at least one film whose duration is 0 minute, which is absurd. Let's look at how many movies have a duration of 0 minute in our dataframe.\n"
   ]
  },
  {
   "cell_type": "code",
   "execution_count": 29,
   "metadata": {
    "trusted": true
   },
   "outputs": [
    {
     "data": {
      "text/plain": [
       "(227, 9)"
      ]
     },
     "execution_count": 29,
     "metadata": {},
     "output_type": "execute_result"
    }
   ],
   "source": [
    "# Filter the movies with a duration of 0 minute\n",
    "zero_duration_movies = df[df['Duration in Minutes'] == 0]\n",
    "zero_duration_movies.shape"
   ]
  },
  {
   "cell_type": "markdown",
   "metadata": {},
   "source": [
    "There are 227 movies with a duration of 0 minute. \n",
    "\n",
    "Let's use the OMDb API to fetch movie durations that have a value of 0 minute in our dataframe.\n"
   ]
  },
  {
   "cell_type": "code",
   "execution_count": 30,
   "metadata": {
    "trusted": true
   },
   "outputs": [],
   "source": [
    "# My API key OMDb\n",
    "API_KEY = \"a30f02ad\"\n",
    "\n",
    "# Function to get the duration of a movie via OMDb API\n",
    "def get_movie_duration_from_omdb(movie_title):\n",
    "    try:\n",
    "        url = f\"https://www.omdbapi.com/?t={movie_title}&apikey={API_KEY}\"\n",
    "        response = requests.get(url)\n",
    "        data = response.json()\n",
    "\n",
    "        # Check if movie exists and extract duration\n",
    "        if data['Response'] == 'True':\n",
    "            duration = data.get('Runtime', 'Duration unknown')\n",
    "            return duration\n",
    "        else:\n",
    "            return f\"Movie not found : {movie_title}\"\n",
    "    \n",
    "    except Exception as e:\n",
    "        print(f\"Error while scraping {movie_title}: {e}\")\n",
    "        return None\n",
    "\n",
    "# Function to extract digits from duration as string and convert to integer\n",
    "def extract_minutes(duration_str):\n",
    "    match = re.search(r'\\d+', duration_str)  # Find digits in string\n",
    "    if match:\n",
    "        return int(match.group())  # Returns the integer value of the digits found\n",
    "    return None\n",
    "\n",
    "for index, row in zero_duration_movies.iterrows():\n",
    "    duration_str = get_movie_duration_from_omdb(row['Title'])\n",
    "    if duration_str is not None:\n",
    "        duration_in_minutes = extract_minutes(duration_str)  # Extract duration in minutes\n",
    "        if duration_in_minutes is not None:\n",
    "            df.at[index, 'Duration in Minutes'] = duration_in_minutes  # Update column with integer value"
   ]
  },
  {
   "cell_type": "code",
   "execution_count": 31,
   "metadata": {
    "trusted": true
   },
   "outputs": [
    {
     "data": {
      "text/plain": [
       "(9, 9)"
      ]
     },
     "execution_count": 31,
     "metadata": {},
     "output_type": "execute_result"
    }
   ],
   "source": [
    "# Filter again the movies with a duration of 0 minute\n",
    "zero_duration_movies = df[df['Duration in Minutes'] == 0]\n",
    "zero_duration_movies.shape"
   ]
  },
  {
   "cell_type": "markdown",
   "metadata": {},
   "source": [
    "After retrieving the film durations via the omdb API, we see that there are only 9 movies with a duration of 0 minute in our dataframe (compared to 227 before).\n"
   ]
  },
  {
   "cell_type": "markdown",
   "metadata": {},
   "source": [
    "Let's look at what are the remaining 9 movies with a duration of 0 minute."
   ]
  },
  {
   "cell_type": "code",
   "execution_count": 32,
   "metadata": {
    "trusted": true
   },
   "outputs": [
    {
     "data": {
      "text/html": [
       "<div>\n",
       "<style scoped>\n",
       "    .dataframe tbody tr th:only-of-type {\n",
       "        vertical-align: middle;\n",
       "    }\n",
       "\n",
       "    .dataframe tbody tr th {\n",
       "        vertical-align: top;\n",
       "    }\n",
       "\n",
       "    .dataframe thead th {\n",
       "        text-align: right;\n",
       "    }\n",
       "</style>\n",
       "<table border=\"1\" class=\"dataframe\">\n",
       "  <thead>\n",
       "    <tr style=\"text-align: right;\">\n",
       "      <th></th>\n",
       "      <th>Title</th>\n",
       "      <th>Release Date</th>\n",
       "      <th>Description</th>\n",
       "      <th>Rating</th>\n",
       "      <th>Nb_Votes</th>\n",
       "      <th>Directed by</th>\n",
       "      <th>Written by</th>\n",
       "      <th>Genres</th>\n",
       "      <th>Duration in Minutes</th>\n",
       "    </tr>\n",
       "  </thead>\n",
       "  <tbody>\n",
       "    <tr>\n",
       "      <th>1424</th>\n",
       "      <td>Cowards Bend the Knee or The Blue Hands</td>\n",
       "      <td>2004-08-11</td>\n",
       "      <td>A 10-part penny dreadful, a peepshow melodrama...</td>\n",
       "      <td>6.8</td>\n",
       "      <td>31.0</td>\n",
       "      <td>Guy Maddin</td>\n",
       "      <td>Guy Maddin</td>\n",
       "      <td>Drama,Romance</td>\n",
       "      <td>0</td>\n",
       "    </tr>\n",
       "    <tr>\n",
       "      <th>2754</th>\n",
       "      <td>Code Black</td>\n",
       "      <td>2014-06-20</td>\n",
       "      <td>In his vivid and thought-provoking filmmaking ...</td>\n",
       "      <td>6.1</td>\n",
       "      <td>8.0</td>\n",
       "      <td>Ryan McGarry</td>\n",
       "      <td>Joshua Altman, Ryan McGarry</td>\n",
       "      <td>Documentary,Drama</td>\n",
       "      <td>0</td>\n",
       "    </tr>\n",
       "    <tr>\n",
       "      <th>5255</th>\n",
       "      <td>Operation Varsity Blues: The College Admission...</td>\n",
       "      <td>2021-03-17</td>\n",
       "      <td>Reenactments drive this documentary investigat...</td>\n",
       "      <td>7.3</td>\n",
       "      <td>12.0</td>\n",
       "      <td>Chris Smith</td>\n",
       "      <td>Jon Karmen</td>\n",
       "      <td>Documentary,Crime,Drama</td>\n",
       "      <td>0</td>\n",
       "    </tr>\n",
       "    <tr>\n",
       "      <th>5329</th>\n",
       "      <td>Be Here to Love Me: A Film About Townes Van Zandt</td>\n",
       "      <td>2005-12-02</td>\n",
       "      <td>A documentary portrait of Townes Van Zandt, th...</td>\n",
       "      <td>6.8</td>\n",
       "      <td>31.0</td>\n",
       "      <td>Margaret Brown</td>\n",
       "      <td>Unknown</td>\n",
       "      <td>Documentary,Biography,Music</td>\n",
       "      <td>0</td>\n",
       "    </tr>\n",
       "    <tr>\n",
       "      <th>7417</th>\n",
       "      <td>The Cotton Club Encore</td>\n",
       "      <td>2019-10-11</td>\n",
       "      <td>In this lavish, 1930s-era drama, Harlem's lege...</td>\n",
       "      <td>6.8</td>\n",
       "      <td>31.0</td>\n",
       "      <td>Francis Ford Coppola</td>\n",
       "      <td>Unknown</td>\n",
       "      <td>Musical</td>\n",
       "      <td>0</td>\n",
       "    </tr>\n",
       "    <tr>\n",
       "      <th>7971</th>\n",
       "      <td>Reset</td>\n",
       "      <td>2017-01-13</td>\n",
       "      <td>Stunningly gorgeous and delicate in both subje...</td>\n",
       "      <td>6.8</td>\n",
       "      <td>31.0</td>\n",
       "      <td>Paul Bojack</td>\n",
       "      <td>Paul Bojack</td>\n",
       "      <td>Drama</td>\n",
       "      <td>0</td>\n",
       "    </tr>\n",
       "    <tr>\n",
       "      <th>8729</th>\n",
       "      <td>Scandalous: The Untold Story of the National E...</td>\n",
       "      <td>2019-11-15</td>\n",
       "      <td>Sex! Gossip! Scandal! For over 60 years, the N...</td>\n",
       "      <td>6.8</td>\n",
       "      <td>31.0</td>\n",
       "      <td>Mark Landsman</td>\n",
       "      <td>Unknown</td>\n",
       "      <td>Documentary</td>\n",
       "      <td>0</td>\n",
       "    </tr>\n",
       "    <tr>\n",
       "      <th>9141</th>\n",
       "      <td>Hava Nagila: The Movie</td>\n",
       "      <td>2013-03-01</td>\n",
       "      <td>A documentary that traces the history of the s...</td>\n",
       "      <td>2.6</td>\n",
       "      <td>8.0</td>\n",
       "      <td>Roberta Grossman</td>\n",
       "      <td>Sophie Sartain</td>\n",
       "      <td>Documentary,Comedy,History,Music</td>\n",
       "      <td>0</td>\n",
       "    </tr>\n",
       "    <tr>\n",
       "      <th>16202</th>\n",
       "      <td>America: Imagine a World Without Her</td>\n",
       "      <td>2014-07-02</td>\n",
       "      <td>Someone once observed: \"America is great becau...</td>\n",
       "      <td>6.3</td>\n",
       "      <td>148.0</td>\n",
       "      <td>Dinesh D'Souza, \\n    \\n      John Sullivan</td>\n",
       "      <td>Dinesh D'Souza, John Sullivan, Bruce Schooley</td>\n",
       "      <td>Documentary</td>\n",
       "      <td>0</td>\n",
       "    </tr>\n",
       "  </tbody>\n",
       "</table>\n",
       "</div>"
      ],
      "text/plain": [
       "                                                   Title Release Date  \\\n",
       "1424             Cowards Bend the Knee or The Blue Hands   2004-08-11   \n",
       "2754                                          Code Black   2014-06-20   \n",
       "5255   Operation Varsity Blues: The College Admission...   2021-03-17   \n",
       "5329   Be Here to Love Me: A Film About Townes Van Zandt   2005-12-02   \n",
       "7417                              The Cotton Club Encore   2019-10-11   \n",
       "7971                                               Reset   2017-01-13   \n",
       "8729   Scandalous: The Untold Story of the National E...   2019-11-15   \n",
       "9141                              Hava Nagila: The Movie   2013-03-01   \n",
       "16202               America: Imagine a World Without Her   2014-07-02   \n",
       "\n",
       "                                             Description  Rating  Nb_Votes  \\\n",
       "1424   A 10-part penny dreadful, a peepshow melodrama...     6.8      31.0   \n",
       "2754   In his vivid and thought-provoking filmmaking ...     6.1       8.0   \n",
       "5255   Reenactments drive this documentary investigat...     7.3      12.0   \n",
       "5329   A documentary portrait of Townes Van Zandt, th...     6.8      31.0   \n",
       "7417   In this lavish, 1930s-era drama, Harlem's lege...     6.8      31.0   \n",
       "7971   Stunningly gorgeous and delicate in both subje...     6.8      31.0   \n",
       "8729   Sex! Gossip! Scandal! For over 60 years, the N...     6.8      31.0   \n",
       "9141   A documentary that traces the history of the s...     2.6       8.0   \n",
       "16202  Someone once observed: \"America is great becau...     6.3     148.0   \n",
       "\n",
       "                                       Directed by  \\\n",
       "1424                                    Guy Maddin   \n",
       "2754                                  Ryan McGarry   \n",
       "5255                                   Chris Smith   \n",
       "5329                                Margaret Brown   \n",
       "7417                          Francis Ford Coppola   \n",
       "7971                                   Paul Bojack   \n",
       "8729                                 Mark Landsman   \n",
       "9141                              Roberta Grossman   \n",
       "16202  Dinesh D'Souza, \\n    \\n      John Sullivan   \n",
       "\n",
       "                                          Written by  \\\n",
       "1424                                      Guy Maddin   \n",
       "2754                     Joshua Altman, Ryan McGarry   \n",
       "5255                                      Jon Karmen   \n",
       "5329                                         Unknown   \n",
       "7417                                         Unknown   \n",
       "7971                                     Paul Bojack   \n",
       "8729                                         Unknown   \n",
       "9141                                  Sophie Sartain   \n",
       "16202  Dinesh D'Souza, John Sullivan, Bruce Schooley   \n",
       "\n",
       "                                 Genres  Duration in Minutes  \n",
       "1424                      Drama,Romance                    0  \n",
       "2754                  Documentary,Drama                    0  \n",
       "5255            Documentary,Crime,Drama                    0  \n",
       "5329        Documentary,Biography,Music                    0  \n",
       "7417                            Musical                    0  \n",
       "7971                              Drama                    0  \n",
       "8729                        Documentary                    0  \n",
       "9141   Documentary,Comedy,History,Music                    0  \n",
       "16202                       Documentary                    0  "
      ]
     },
     "execution_count": 32,
     "metadata": {},
     "output_type": "execute_result"
    }
   ],
   "source": [
    "zero_duration_movies"
   ]
  },
  {
   "cell_type": "markdown",
   "metadata": {},
   "source": [
    "Let's do a Metacritic search for each of the films above to find the duration of the films and manually replace it in the \"Duration in Minutes\" column : \n",
    "<ol>\n",
    "    <li>\"Cowards Bend the Knee or The Blue Hands\" :  60 min</li>\n",
    "    <li>\"Code Black\" : 78 min </li>\n",
    "    <li>\"Operation Varsity Blues: The college Admission Scandal\" : 99 min</li>\n",
    "    <li>\"Be Here to Love Me: A Film About Townes Van Zandt\" : 99 min </li>\n",
    "    <li>\"The Cotton Club Encore\" : 139 min </li>\n",
    "    <li>\"Reset\" : 75 min </li>\n",
    "    <li>\"Scandalous: The Untold Story of the National Enquirer\" : 97 min </li>\n",
    "    <li>\"Hava Nagila: The Movie\" : 75 min</li>\n",
    "    <li>\"America: Imagine a World Without Her\" : 105 min</li>\n",
    "</ol>"
   ]
  },
  {
   "cell_type": "code",
   "execution_count": 33,
   "metadata": {
    "trusted": true
   },
   "outputs": [],
   "source": [
    "# We add the duration of the 4 films above (found on the Metacritic site)\n",
    "\n",
    "# List of indexes to modify\n",
    "index_list = [1424, 2754, 5255, 5329, 7417, 7971, 8729, 9141, 16202]\n",
    "\n",
    "# New durations to assign\n",
    "new_duration = [60, 78, 99, 99, 139, 75, 97, 75, 105]\n",
    "\n",
    "# Replace the values of the 'Duration in Minutes' column\n",
    "df.loc[index_list, 'Duration in Minutes'] = new_duration"
   ]
  },
  {
   "cell_type": "code",
   "execution_count": 34,
   "metadata": {
    "trusted": true
   },
   "outputs": [
    {
     "data": {
      "text/html": [
       "<div>\n",
       "<style scoped>\n",
       "    .dataframe tbody tr th:only-of-type {\n",
       "        vertical-align: middle;\n",
       "    }\n",
       "\n",
       "    .dataframe tbody tr th {\n",
       "        vertical-align: top;\n",
       "    }\n",
       "\n",
       "    .dataframe thead th {\n",
       "        text-align: right;\n",
       "    }\n",
       "</style>\n",
       "<table border=\"1\" class=\"dataframe\">\n",
       "  <thead>\n",
       "    <tr style=\"text-align: right;\">\n",
       "      <th></th>\n",
       "      <th>Title</th>\n",
       "      <th>Release Date</th>\n",
       "      <th>Description</th>\n",
       "      <th>Rating</th>\n",
       "      <th>Nb_Votes</th>\n",
       "      <th>Directed by</th>\n",
       "      <th>Written by</th>\n",
       "      <th>Genres</th>\n",
       "      <th>Duration in Minutes</th>\n",
       "    </tr>\n",
       "  </thead>\n",
       "  <tbody>\n",
       "    <tr>\n",
       "      <th>1424</th>\n",
       "      <td>Cowards Bend the Knee or The Blue Hands</td>\n",
       "      <td>2004-08-11</td>\n",
       "      <td>A 10-part penny dreadful, a peepshow melodrama...</td>\n",
       "      <td>6.8</td>\n",
       "      <td>31.0</td>\n",
       "      <td>Guy Maddin</td>\n",
       "      <td>Guy Maddin</td>\n",
       "      <td>Drama,Romance</td>\n",
       "      <td>60</td>\n",
       "    </tr>\n",
       "    <tr>\n",
       "      <th>2754</th>\n",
       "      <td>Code Black</td>\n",
       "      <td>2014-06-20</td>\n",
       "      <td>In his vivid and thought-provoking filmmaking ...</td>\n",
       "      <td>6.1</td>\n",
       "      <td>8.0</td>\n",
       "      <td>Ryan McGarry</td>\n",
       "      <td>Joshua Altman, Ryan McGarry</td>\n",
       "      <td>Documentary,Drama</td>\n",
       "      <td>78</td>\n",
       "    </tr>\n",
       "    <tr>\n",
       "      <th>5255</th>\n",
       "      <td>Operation Varsity Blues: The College Admission...</td>\n",
       "      <td>2021-03-17</td>\n",
       "      <td>Reenactments drive this documentary investigat...</td>\n",
       "      <td>7.3</td>\n",
       "      <td>12.0</td>\n",
       "      <td>Chris Smith</td>\n",
       "      <td>Jon Karmen</td>\n",
       "      <td>Documentary,Crime,Drama</td>\n",
       "      <td>99</td>\n",
       "    </tr>\n",
       "    <tr>\n",
       "      <th>5329</th>\n",
       "      <td>Be Here to Love Me: A Film About Townes Van Zandt</td>\n",
       "      <td>2005-12-02</td>\n",
       "      <td>A documentary portrait of Townes Van Zandt, th...</td>\n",
       "      <td>6.8</td>\n",
       "      <td>31.0</td>\n",
       "      <td>Margaret Brown</td>\n",
       "      <td>Unknown</td>\n",
       "      <td>Documentary,Biography,Music</td>\n",
       "      <td>99</td>\n",
       "    </tr>\n",
       "    <tr>\n",
       "      <th>7417</th>\n",
       "      <td>The Cotton Club Encore</td>\n",
       "      <td>2019-10-11</td>\n",
       "      <td>In this lavish, 1930s-era drama, Harlem's lege...</td>\n",
       "      <td>6.8</td>\n",
       "      <td>31.0</td>\n",
       "      <td>Francis Ford Coppola</td>\n",
       "      <td>Unknown</td>\n",
       "      <td>Musical</td>\n",
       "      <td>139</td>\n",
       "    </tr>\n",
       "    <tr>\n",
       "      <th>7971</th>\n",
       "      <td>Reset</td>\n",
       "      <td>2017-01-13</td>\n",
       "      <td>Stunningly gorgeous and delicate in both subje...</td>\n",
       "      <td>6.8</td>\n",
       "      <td>31.0</td>\n",
       "      <td>Paul Bojack</td>\n",
       "      <td>Paul Bojack</td>\n",
       "      <td>Drama</td>\n",
       "      <td>75</td>\n",
       "    </tr>\n",
       "    <tr>\n",
       "      <th>8729</th>\n",
       "      <td>Scandalous: The Untold Story of the National E...</td>\n",
       "      <td>2019-11-15</td>\n",
       "      <td>Sex! Gossip! Scandal! For over 60 years, the N...</td>\n",
       "      <td>6.8</td>\n",
       "      <td>31.0</td>\n",
       "      <td>Mark Landsman</td>\n",
       "      <td>Unknown</td>\n",
       "      <td>Documentary</td>\n",
       "      <td>97</td>\n",
       "    </tr>\n",
       "    <tr>\n",
       "      <th>9141</th>\n",
       "      <td>Hava Nagila: The Movie</td>\n",
       "      <td>2013-03-01</td>\n",
       "      <td>A documentary that traces the history of the s...</td>\n",
       "      <td>2.6</td>\n",
       "      <td>8.0</td>\n",
       "      <td>Roberta Grossman</td>\n",
       "      <td>Sophie Sartain</td>\n",
       "      <td>Documentary,Comedy,History,Music</td>\n",
       "      <td>75</td>\n",
       "    </tr>\n",
       "    <tr>\n",
       "      <th>16202</th>\n",
       "      <td>America: Imagine a World Without Her</td>\n",
       "      <td>2014-07-02</td>\n",
       "      <td>Someone once observed: \"America is great becau...</td>\n",
       "      <td>6.3</td>\n",
       "      <td>148.0</td>\n",
       "      <td>Dinesh D'Souza, \\n    \\n      John Sullivan</td>\n",
       "      <td>Dinesh D'Souza, John Sullivan, Bruce Schooley</td>\n",
       "      <td>Documentary</td>\n",
       "      <td>105</td>\n",
       "    </tr>\n",
       "  </tbody>\n",
       "</table>\n",
       "</div>"
      ],
      "text/plain": [
       "                                                   Title Release Date  \\\n",
       "1424             Cowards Bend the Knee or The Blue Hands   2004-08-11   \n",
       "2754                                          Code Black   2014-06-20   \n",
       "5255   Operation Varsity Blues: The College Admission...   2021-03-17   \n",
       "5329   Be Here to Love Me: A Film About Townes Van Zandt   2005-12-02   \n",
       "7417                              The Cotton Club Encore   2019-10-11   \n",
       "7971                                               Reset   2017-01-13   \n",
       "8729   Scandalous: The Untold Story of the National E...   2019-11-15   \n",
       "9141                              Hava Nagila: The Movie   2013-03-01   \n",
       "16202               America: Imagine a World Without Her   2014-07-02   \n",
       "\n",
       "                                             Description  Rating  Nb_Votes  \\\n",
       "1424   A 10-part penny dreadful, a peepshow melodrama...     6.8      31.0   \n",
       "2754   In his vivid and thought-provoking filmmaking ...     6.1       8.0   \n",
       "5255   Reenactments drive this documentary investigat...     7.3      12.0   \n",
       "5329   A documentary portrait of Townes Van Zandt, th...     6.8      31.0   \n",
       "7417   In this lavish, 1930s-era drama, Harlem's lege...     6.8      31.0   \n",
       "7971   Stunningly gorgeous and delicate in both subje...     6.8      31.0   \n",
       "8729   Sex! Gossip! Scandal! For over 60 years, the N...     6.8      31.0   \n",
       "9141   A documentary that traces the history of the s...     2.6       8.0   \n",
       "16202  Someone once observed: \"America is great becau...     6.3     148.0   \n",
       "\n",
       "                                       Directed by  \\\n",
       "1424                                    Guy Maddin   \n",
       "2754                                  Ryan McGarry   \n",
       "5255                                   Chris Smith   \n",
       "5329                                Margaret Brown   \n",
       "7417                          Francis Ford Coppola   \n",
       "7971                                   Paul Bojack   \n",
       "8729                                 Mark Landsman   \n",
       "9141                              Roberta Grossman   \n",
       "16202  Dinesh D'Souza, \\n    \\n      John Sullivan   \n",
       "\n",
       "                                          Written by  \\\n",
       "1424                                      Guy Maddin   \n",
       "2754                     Joshua Altman, Ryan McGarry   \n",
       "5255                                      Jon Karmen   \n",
       "5329                                         Unknown   \n",
       "7417                                         Unknown   \n",
       "7971                                     Paul Bojack   \n",
       "8729                                         Unknown   \n",
       "9141                                  Sophie Sartain   \n",
       "16202  Dinesh D'Souza, John Sullivan, Bruce Schooley   \n",
       "\n",
       "                                 Genres  Duration in Minutes  \n",
       "1424                      Drama,Romance                   60  \n",
       "2754                  Documentary,Drama                   78  \n",
       "5255            Documentary,Crime,Drama                   99  \n",
       "5329        Documentary,Biography,Music                   99  \n",
       "7417                            Musical                  139  \n",
       "7971                              Drama                   75  \n",
       "8729                        Documentary                   97  \n",
       "9141   Documentary,Comedy,History,Music                   75  \n",
       "16202                       Documentary                  105  "
      ]
     },
     "execution_count": 34,
     "metadata": {},
     "output_type": "execute_result"
    }
   ],
   "source": [
    "# Check changes\n",
    "df.loc[index_list]"
   ]
  },
  {
   "cell_type": "code",
   "execution_count": 35,
   "metadata": {
    "trusted": true
   },
   "outputs": [
    {
     "data": {
      "text/html": [
       "<div>\n",
       "<style scoped>\n",
       "    .dataframe tbody tr th:only-of-type {\n",
       "        vertical-align: middle;\n",
       "    }\n",
       "\n",
       "    .dataframe tbody tr th {\n",
       "        vertical-align: top;\n",
       "    }\n",
       "\n",
       "    .dataframe thead th {\n",
       "        text-align: right;\n",
       "    }\n",
       "</style>\n",
       "<table border=\"1\" class=\"dataframe\">\n",
       "  <thead>\n",
       "    <tr style=\"text-align: right;\">\n",
       "      <th></th>\n",
       "      <th>Release Date</th>\n",
       "      <th>Rating</th>\n",
       "      <th>Nb_Votes</th>\n",
       "      <th>Duration in Minutes</th>\n",
       "    </tr>\n",
       "  </thead>\n",
       "  <tbody>\n",
       "    <tr>\n",
       "      <th>count</th>\n",
       "      <td>15173</td>\n",
       "      <td>15173.000000</td>\n",
       "      <td>15173.000000</td>\n",
       "      <td>15173.000000</td>\n",
       "    </tr>\n",
       "    <tr>\n",
       "      <th>mean</th>\n",
       "      <td>2008-08-27 09:47:50.651815680</td>\n",
       "      <td>6.657609</td>\n",
       "      <td>113.997693</td>\n",
       "      <td>104.226719</td>\n",
       "    </tr>\n",
       "    <tr>\n",
       "      <th>min</th>\n",
       "      <td>1970-01-25 00:00:00</td>\n",
       "      <td>0.300000</td>\n",
       "      <td>4.000000</td>\n",
       "      <td>3.000000</td>\n",
       "    </tr>\n",
       "    <tr>\n",
       "      <th>25%</th>\n",
       "      <td>2002-08-30 00:00:00</td>\n",
       "      <td>6.100000</td>\n",
       "      <td>14.000000</td>\n",
       "      <td>92.000000</td>\n",
       "    </tr>\n",
       "    <tr>\n",
       "      <th>50%</th>\n",
       "      <td>2011-03-04 00:00:00</td>\n",
       "      <td>6.800000</td>\n",
       "      <td>31.000000</td>\n",
       "      <td>101.000000</td>\n",
       "    </tr>\n",
       "    <tr>\n",
       "      <th>75%</th>\n",
       "      <td>2017-06-28 00:00:00</td>\n",
       "      <td>7.400000</td>\n",
       "      <td>80.000000</td>\n",
       "      <td>113.000000</td>\n",
       "    </tr>\n",
       "    <tr>\n",
       "      <th>max</th>\n",
       "      <td>2024-11-13 00:00:00</td>\n",
       "      <td>10.000000</td>\n",
       "      <td>10639.000000</td>\n",
       "      <td>2013.000000</td>\n",
       "    </tr>\n",
       "    <tr>\n",
       "      <th>std</th>\n",
       "      <td>NaN</td>\n",
       "      <td>1.257562</td>\n",
       "      <td>335.980136</td>\n",
       "      <td>26.364510</td>\n",
       "    </tr>\n",
       "  </tbody>\n",
       "</table>\n",
       "</div>"
      ],
      "text/plain": [
       "                        Release Date        Rating      Nb_Votes  \\\n",
       "count                          15173  15173.000000  15173.000000   \n",
       "mean   2008-08-27 09:47:50.651815680      6.657609    113.997693   \n",
       "min              1970-01-25 00:00:00      0.300000      4.000000   \n",
       "25%              2002-08-30 00:00:00      6.100000     14.000000   \n",
       "50%              2011-03-04 00:00:00      6.800000     31.000000   \n",
       "75%              2017-06-28 00:00:00      7.400000     80.000000   \n",
       "max              2024-11-13 00:00:00     10.000000  10639.000000   \n",
       "std                              NaN      1.257562    335.980136   \n",
       "\n",
       "       Duration in Minutes  \n",
       "count         15173.000000  \n",
       "mean            104.226719  \n",
       "min               3.000000  \n",
       "25%              92.000000  \n",
       "50%             101.000000  \n",
       "75%             113.000000  \n",
       "max            2013.000000  \n",
       "std              26.364510  "
      ]
     },
     "execution_count": 35,
     "metadata": {},
     "output_type": "execute_result"
    }
   ],
   "source": [
    "df.describe()"
   ]
  },
  {
   "cell_type": "markdown",
   "metadata": {},
   "source": [
    "Now our dataframe no longer contains movies with a duration of 0 minutes (the minimum is 3 minutes). However, 3 minutes seems short, even for a short film. Let's look at which movie(s) this corresponds to. "
   ]
  },
  {
   "cell_type": "code",
   "execution_count": 36,
   "metadata": {},
   "outputs": [
    {
     "data": {
      "text/html": [
       "<div>\n",
       "<style scoped>\n",
       "    .dataframe tbody tr th:only-of-type {\n",
       "        vertical-align: middle;\n",
       "    }\n",
       "\n",
       "    .dataframe tbody tr th {\n",
       "        vertical-align: top;\n",
       "    }\n",
       "\n",
       "    .dataframe thead th {\n",
       "        text-align: right;\n",
       "    }\n",
       "</style>\n",
       "<table border=\"1\" class=\"dataframe\">\n",
       "  <thead>\n",
       "    <tr style=\"text-align: right;\">\n",
       "      <th></th>\n",
       "      <th>Title</th>\n",
       "      <th>Release Date</th>\n",
       "      <th>Description</th>\n",
       "      <th>Rating</th>\n",
       "      <th>Nb_Votes</th>\n",
       "      <th>Directed by</th>\n",
       "      <th>Written by</th>\n",
       "      <th>Genres</th>\n",
       "      <th>Duration in Minutes</th>\n",
       "    </tr>\n",
       "  </thead>\n",
       "  <tbody>\n",
       "    <tr>\n",
       "      <th>6944</th>\n",
       "      <td>Kenny Chesney: Summer in 3D</td>\n",
       "      <td>2010-04-21</td>\n",
       "      <td>Kenny Chesney, the biggest ticket-seller of th...</td>\n",
       "      <td>6.8</td>\n",
       "      <td>31.0</td>\n",
       "      <td>Joe Thomas</td>\n",
       "      <td>Holly Gleason</td>\n",
       "      <td>Documentary,Music</td>\n",
       "      <td>3</td>\n",
       "    </tr>\n",
       "  </tbody>\n",
       "</table>\n",
       "</div>"
      ],
      "text/plain": [
       "                            Title Release Date  \\\n",
       "6944  Kenny Chesney: Summer in 3D   2010-04-21   \n",
       "\n",
       "                                            Description  Rating  Nb_Votes  \\\n",
       "6944  Kenny Chesney, the biggest ticket-seller of th...     6.8      31.0   \n",
       "\n",
       "     Directed by     Written by             Genres  Duration in Minutes  \n",
       "6944  Joe Thomas  Holly Gleason  Documentary,Music                    3  "
      ]
     },
     "execution_count": 36,
     "metadata": {},
     "output_type": "execute_result"
    }
   ],
   "source": [
    "df[df[\"Duration in Minutes\"]==3]"
   ]
  },
  {
   "cell_type": "markdown",
   "metadata": {},
   "source": [
    "There is an error here, the film above is actually 99 minutes long."
   ]
  },
  {
   "cell_type": "code",
   "execution_count": 37,
   "metadata": {},
   "outputs": [
    {
     "data": {
      "text/html": [
       "<div>\n",
       "<style scoped>\n",
       "    .dataframe tbody tr th:only-of-type {\n",
       "        vertical-align: middle;\n",
       "    }\n",
       "\n",
       "    .dataframe tbody tr th {\n",
       "        vertical-align: top;\n",
       "    }\n",
       "\n",
       "    .dataframe thead th {\n",
       "        text-align: right;\n",
       "    }\n",
       "</style>\n",
       "<table border=\"1\" class=\"dataframe\">\n",
       "  <thead>\n",
       "    <tr style=\"text-align: right;\">\n",
       "      <th></th>\n",
       "      <th>Release Date</th>\n",
       "      <th>Rating</th>\n",
       "      <th>Nb_Votes</th>\n",
       "      <th>Duration in Minutes</th>\n",
       "    </tr>\n",
       "  </thead>\n",
       "  <tbody>\n",
       "    <tr>\n",
       "      <th>count</th>\n",
       "      <td>15173</td>\n",
       "      <td>15173.000000</td>\n",
       "      <td>15173.000000</td>\n",
       "      <td>15173.000000</td>\n",
       "    </tr>\n",
       "    <tr>\n",
       "      <th>mean</th>\n",
       "      <td>2008-08-27 09:47:50.651815680</td>\n",
       "      <td>6.657609</td>\n",
       "      <td>113.997693</td>\n",
       "      <td>104.233046</td>\n",
       "    </tr>\n",
       "    <tr>\n",
       "      <th>min</th>\n",
       "      <td>1970-01-25 00:00:00</td>\n",
       "      <td>0.300000</td>\n",
       "      <td>4.000000</td>\n",
       "      <td>21.000000</td>\n",
       "    </tr>\n",
       "    <tr>\n",
       "      <th>25%</th>\n",
       "      <td>2002-08-30 00:00:00</td>\n",
       "      <td>6.100000</td>\n",
       "      <td>14.000000</td>\n",
       "      <td>92.000000</td>\n",
       "    </tr>\n",
       "    <tr>\n",
       "      <th>50%</th>\n",
       "      <td>2011-03-04 00:00:00</td>\n",
       "      <td>6.800000</td>\n",
       "      <td>31.000000</td>\n",
       "      <td>101.000000</td>\n",
       "    </tr>\n",
       "    <tr>\n",
       "      <th>75%</th>\n",
       "      <td>2017-06-28 00:00:00</td>\n",
       "      <td>7.400000</td>\n",
       "      <td>80.000000</td>\n",
       "      <td>113.000000</td>\n",
       "    </tr>\n",
       "    <tr>\n",
       "      <th>max</th>\n",
       "      <td>2024-11-13 00:00:00</td>\n",
       "      <td>10.000000</td>\n",
       "      <td>10639.000000</td>\n",
       "      <td>2013.000000</td>\n",
       "    </tr>\n",
       "    <tr>\n",
       "      <th>std</th>\n",
       "      <td>NaN</td>\n",
       "      <td>1.257562</td>\n",
       "      <td>335.980136</td>\n",
       "      <td>26.351732</td>\n",
       "    </tr>\n",
       "  </tbody>\n",
       "</table>\n",
       "</div>"
      ],
      "text/plain": [
       "                        Release Date        Rating      Nb_Votes  \\\n",
       "count                          15173  15173.000000  15173.000000   \n",
       "mean   2008-08-27 09:47:50.651815680      6.657609    113.997693   \n",
       "min              1970-01-25 00:00:00      0.300000      4.000000   \n",
       "25%              2002-08-30 00:00:00      6.100000     14.000000   \n",
       "50%              2011-03-04 00:00:00      6.800000     31.000000   \n",
       "75%              2017-06-28 00:00:00      7.400000     80.000000   \n",
       "max              2024-11-13 00:00:00     10.000000  10639.000000   \n",
       "std                              NaN      1.257562    335.980136   \n",
       "\n",
       "       Duration in Minutes  \n",
       "count         15173.000000  \n",
       "mean            104.233046  \n",
       "min              21.000000  \n",
       "25%              92.000000  \n",
       "50%             101.000000  \n",
       "75%             113.000000  \n",
       "max            2013.000000  \n",
       "std              26.351732  "
      ]
     },
     "execution_count": 37,
     "metadata": {},
     "output_type": "execute_result"
    }
   ],
   "source": [
    "df.loc[6944, 'Duration in Minutes'] = 99\n",
    "df.describe()"
   ]
  },
  {
   "cell_type": "markdown",
   "metadata": {},
   "source": [
    "Now, the shortest duration of a film is 21 minutes, which is consistent for a short film. On the other hand, the maximum duration is 2013 minutes, which is more than 33 hours. Let's take a closer look at which movie this corresponds to.\n"
   ]
  },
  {
   "cell_type": "code",
   "execution_count": 38,
   "metadata": {},
   "outputs": [
    {
     "data": {
      "text/html": [
       "<div>\n",
       "<style scoped>\n",
       "    .dataframe tbody tr th:only-of-type {\n",
       "        vertical-align: middle;\n",
       "    }\n",
       "\n",
       "    .dataframe tbody tr th {\n",
       "        vertical-align: top;\n",
       "    }\n",
       "\n",
       "    .dataframe thead th {\n",
       "        text-align: right;\n",
       "    }\n",
       "</style>\n",
       "<table border=\"1\" class=\"dataframe\">\n",
       "  <thead>\n",
       "    <tr style=\"text-align: right;\">\n",
       "      <th></th>\n",
       "      <th>Title</th>\n",
       "      <th>Release Date</th>\n",
       "      <th>Description</th>\n",
       "      <th>Rating</th>\n",
       "      <th>Nb_Votes</th>\n",
       "      <th>Directed by</th>\n",
       "      <th>Written by</th>\n",
       "      <th>Genres</th>\n",
       "      <th>Duration in Minutes</th>\n",
       "    </tr>\n",
       "  </thead>\n",
       "  <tbody>\n",
       "    <tr>\n",
       "      <th>4103</th>\n",
       "      <td>Uprising (2013)</td>\n",
       "      <td>2013-01-11</td>\n",
       "      <td>Uprising recounts the story of the Egyptian re...</td>\n",
       "      <td>6.8</td>\n",
       "      <td>31.0</td>\n",
       "      <td>Fredrik Stanton</td>\n",
       "      <td>Fredrik Stanton</td>\n",
       "      <td>Documentary,Action,History</td>\n",
       "      <td>2013</td>\n",
       "    </tr>\n",
       "  </tbody>\n",
       "</table>\n",
       "</div>"
      ],
      "text/plain": [
       "                Title Release Date  \\\n",
       "4103  Uprising (2013)   2013-01-11   \n",
       "\n",
       "                                            Description  Rating  Nb_Votes  \\\n",
       "4103  Uprising recounts the story of the Egyptian re...     6.8      31.0   \n",
       "\n",
       "          Directed by       Written by                      Genres  \\\n",
       "4103  Fredrik Stanton  Fredrik Stanton  Documentary,Action,History   \n",
       "\n",
       "      Duration in Minutes  \n",
       "4103                 2013  "
      ]
     },
     "execution_count": 38,
     "metadata": {},
     "output_type": "execute_result"
    }
   ],
   "source": [
    "df[df[\"Duration in Minutes\"]==2013]"
   ]
  },
  {
   "cell_type": "markdown",
   "metadata": {},
   "source": [
    "There is an error again here, the film above is actually 85 minutes long."
   ]
  },
  {
   "cell_type": "code",
   "execution_count": 39,
   "metadata": {},
   "outputs": [
    {
     "data": {
      "text/html": [
       "<div>\n",
       "<style scoped>\n",
       "    .dataframe tbody tr th:only-of-type {\n",
       "        vertical-align: middle;\n",
       "    }\n",
       "\n",
       "    .dataframe tbody tr th {\n",
       "        vertical-align: top;\n",
       "    }\n",
       "\n",
       "    .dataframe thead th {\n",
       "        text-align: right;\n",
       "    }\n",
       "</style>\n",
       "<table border=\"1\" class=\"dataframe\">\n",
       "  <thead>\n",
       "    <tr style=\"text-align: right;\">\n",
       "      <th></th>\n",
       "      <th>Release Date</th>\n",
       "      <th>Rating</th>\n",
       "      <th>Nb_Votes</th>\n",
       "      <th>Duration in Minutes</th>\n",
       "    </tr>\n",
       "  </thead>\n",
       "  <tbody>\n",
       "    <tr>\n",
       "      <th>count</th>\n",
       "      <td>15173</td>\n",
       "      <td>15173.000000</td>\n",
       "      <td>15173.000000</td>\n",
       "      <td>15173.000000</td>\n",
       "    </tr>\n",
       "    <tr>\n",
       "      <th>mean</th>\n",
       "      <td>2008-08-27 09:47:50.651815680</td>\n",
       "      <td>6.657609</td>\n",
       "      <td>113.997693</td>\n",
       "      <td>104.105978</td>\n",
       "    </tr>\n",
       "    <tr>\n",
       "      <th>min</th>\n",
       "      <td>1970-01-25 00:00:00</td>\n",
       "      <td>0.300000</td>\n",
       "      <td>4.000000</td>\n",
       "      <td>21.000000</td>\n",
       "    </tr>\n",
       "    <tr>\n",
       "      <th>25%</th>\n",
       "      <td>2002-08-30 00:00:00</td>\n",
       "      <td>6.100000</td>\n",
       "      <td>14.000000</td>\n",
       "      <td>92.000000</td>\n",
       "    </tr>\n",
       "    <tr>\n",
       "      <th>50%</th>\n",
       "      <td>2011-03-04 00:00:00</td>\n",
       "      <td>6.800000</td>\n",
       "      <td>31.000000</td>\n",
       "      <td>101.000000</td>\n",
       "    </tr>\n",
       "    <tr>\n",
       "      <th>75%</th>\n",
       "      <td>2017-06-28 00:00:00</td>\n",
       "      <td>7.400000</td>\n",
       "      <td>80.000000</td>\n",
       "      <td>113.000000</td>\n",
       "    </tr>\n",
       "    <tr>\n",
       "      <th>max</th>\n",
       "      <td>2024-11-13 00:00:00</td>\n",
       "      <td>10.000000</td>\n",
       "      <td>10639.000000</td>\n",
       "      <td>808.000000</td>\n",
       "    </tr>\n",
       "    <tr>\n",
       "      <th>std</th>\n",
       "      <td>NaN</td>\n",
       "      <td>1.257562</td>\n",
       "      <td>335.980136</td>\n",
       "      <td>21.313912</td>\n",
       "    </tr>\n",
       "  </tbody>\n",
       "</table>\n",
       "</div>"
      ],
      "text/plain": [
       "                        Release Date        Rating      Nb_Votes  \\\n",
       "count                          15173  15173.000000  15173.000000   \n",
       "mean   2008-08-27 09:47:50.651815680      6.657609    113.997693   \n",
       "min              1970-01-25 00:00:00      0.300000      4.000000   \n",
       "25%              2002-08-30 00:00:00      6.100000     14.000000   \n",
       "50%              2011-03-04 00:00:00      6.800000     31.000000   \n",
       "75%              2017-06-28 00:00:00      7.400000     80.000000   \n",
       "max              2024-11-13 00:00:00     10.000000  10639.000000   \n",
       "std                              NaN      1.257562    335.980136   \n",
       "\n",
       "       Duration in Minutes  \n",
       "count         15173.000000  \n",
       "mean            104.105978  \n",
       "min              21.000000  \n",
       "25%              92.000000  \n",
       "50%             101.000000  \n",
       "75%             113.000000  \n",
       "max             808.000000  \n",
       "std              21.313912  "
      ]
     },
     "execution_count": 39,
     "metadata": {},
     "output_type": "execute_result"
    }
   ],
   "source": [
    "df.loc[4103, 'Duration in Minutes'] = 85\n",
    "df.describe()"
   ]
  },
  {
   "cell_type": "code",
   "execution_count": 40,
   "metadata": {},
   "outputs": [
    {
     "data": {
      "text/html": [
       "<div>\n",
       "<style scoped>\n",
       "    .dataframe tbody tr th:only-of-type {\n",
       "        vertical-align: middle;\n",
       "    }\n",
       "\n",
       "    .dataframe tbody tr th {\n",
       "        vertical-align: top;\n",
       "    }\n",
       "\n",
       "    .dataframe thead th {\n",
       "        text-align: right;\n",
       "    }\n",
       "</style>\n",
       "<table border=\"1\" class=\"dataframe\">\n",
       "  <thead>\n",
       "    <tr style=\"text-align: right;\">\n",
       "      <th></th>\n",
       "      <th>Title</th>\n",
       "      <th>Release Date</th>\n",
       "      <th>Description</th>\n",
       "      <th>Rating</th>\n",
       "      <th>Nb_Votes</th>\n",
       "      <th>Directed by</th>\n",
       "      <th>Written by</th>\n",
       "      <th>Genres</th>\n",
       "      <th>Duration in Minutes</th>\n",
       "    </tr>\n",
       "  </thead>\n",
       "  <tbody>\n",
       "    <tr>\n",
       "      <th>2714</th>\n",
       "      <td>La Flor</td>\n",
       "      <td>2019-08-02</td>\n",
       "      <td>A decade in the making, Mariano Llinás’s La Fl...</td>\n",
       "      <td>6.8</td>\n",
       "      <td>31.0</td>\n",
       "      <td>Mariano Llinás</td>\n",
       "      <td>Mariano Llinás</td>\n",
       "      <td>Drama,Fantasy,Musical,Mystery,Romance,Thriller</td>\n",
       "      <td>808</td>\n",
       "    </tr>\n",
       "  </tbody>\n",
       "</table>\n",
       "</div>"
      ],
      "text/plain": [
       "        Title Release Date                                        Description  \\\n",
       "2714  La Flor   2019-08-02  A decade in the making, Mariano Llinás’s La Fl...   \n",
       "\n",
       "      Rating  Nb_Votes     Directed by      Written by  \\\n",
       "2714     6.8      31.0  Mariano Llinás  Mariano Llinás   \n",
       "\n",
       "                                              Genres  Duration in Minutes  \n",
       "2714  Drama,Fantasy,Musical,Mystery,Romance,Thriller                  808  "
      ]
     },
     "execution_count": 40,
     "metadata": {},
     "output_type": "execute_result"
    }
   ],
   "source": [
    "df[df[\"Duration in Minutes\"]==808]"
   ]
  },
  {
   "cell_type": "markdown",
   "metadata": {},
   "source": [
    "This Argentine movie has a duration of more than 13 hours (it is even the longest film in the history of Argentine cinema).\n"
   ]
  },
  {
   "cell_type": "markdown",
   "metadata": {},
   "source": [
    "For now let's keep all the movies in our dataset, regardless of their length. We will see later in the analysis whether or not it is necessary to discard these values.\n"
   ]
  },
  {
   "cell_type": "markdown",
   "metadata": {},
   "source": [
    "## 4.3 - Simplification of the dataset"
   ]
  },
  {
   "cell_type": "code",
   "execution_count": 41,
   "metadata": {},
   "outputs": [
    {
     "data": {
      "text/html": [
       "<div>\n",
       "<style scoped>\n",
       "    .dataframe tbody tr th:only-of-type {\n",
       "        vertical-align: middle;\n",
       "    }\n",
       "\n",
       "    .dataframe tbody tr th {\n",
       "        vertical-align: top;\n",
       "    }\n",
       "\n",
       "    .dataframe thead th {\n",
       "        text-align: right;\n",
       "    }\n",
       "</style>\n",
       "<table border=\"1\" class=\"dataframe\">\n",
       "  <thead>\n",
       "    <tr style=\"text-align: right;\">\n",
       "      <th></th>\n",
       "      <th>Title</th>\n",
       "      <th>Release Date</th>\n",
       "      <th>Description</th>\n",
       "      <th>Rating</th>\n",
       "      <th>Nb_Votes</th>\n",
       "      <th>Directed by</th>\n",
       "      <th>Written by</th>\n",
       "      <th>Genres</th>\n",
       "      <th>Duration in Minutes</th>\n",
       "    </tr>\n",
       "  </thead>\n",
       "  <tbody>\n",
       "    <tr>\n",
       "      <th>0</th>\n",
       "      <td>Dekalog (1988)</td>\n",
       "      <td>1996-03-22</td>\n",
       "      <td>This masterwork by Krzysztof Kieślowski is one...</td>\n",
       "      <td>7.4</td>\n",
       "      <td>118.0</td>\n",
       "      <td>Krzysztof Kieslowski</td>\n",
       "      <td>Krzysztof Kieslowski, Krzysztof Piesiewicz</td>\n",
       "      <td>Drama</td>\n",
       "      <td>572</td>\n",
       "    </tr>\n",
       "    <tr>\n",
       "      <th>1</th>\n",
       "      <td>Three Colors: Red</td>\n",
       "      <td>1994-11-23</td>\n",
       "      <td>Krzysztof Kieslowski closes his Three Colors t...</td>\n",
       "      <td>8.3</td>\n",
       "      <td>241.0</td>\n",
       "      <td>Krzysztof Kieslowski</td>\n",
       "      <td>Krzysztof Kieslowski, Krzysztof Piesiewicz, Ag...</td>\n",
       "      <td>Drama,Mystery,Romance</td>\n",
       "      <td>99</td>\n",
       "    </tr>\n",
       "    <tr>\n",
       "      <th>2</th>\n",
       "      <td>The Conformist</td>\n",
       "      <td>1970-10-22</td>\n",
       "      <td>Set in Rome in the 1930s, this re-release of B...</td>\n",
       "      <td>7.3</td>\n",
       "      <td>106.0</td>\n",
       "      <td>Bernardo Bertolucci</td>\n",
       "      <td>Alberto Moravia, Bernardo Bertolucci</td>\n",
       "      <td>Drama</td>\n",
       "      <td>107</td>\n",
       "    </tr>\n",
       "  </tbody>\n",
       "</table>\n",
       "</div>"
      ],
      "text/plain": [
       "               Title Release Date  \\\n",
       "0     Dekalog (1988)   1996-03-22   \n",
       "1  Three Colors: Red   1994-11-23   \n",
       "2     The Conformist   1970-10-22   \n",
       "\n",
       "                                         Description  Rating  Nb_Votes  \\\n",
       "0  This masterwork by Krzysztof Kieślowski is one...     7.4     118.0   \n",
       "1  Krzysztof Kieslowski closes his Three Colors t...     8.3     241.0   \n",
       "2  Set in Rome in the 1930s, this re-release of B...     7.3     106.0   \n",
       "\n",
       "            Directed by                                         Written by  \\\n",
       "0  Krzysztof Kieslowski         Krzysztof Kieslowski, Krzysztof Piesiewicz   \n",
       "1  Krzysztof Kieslowski  Krzysztof Kieslowski, Krzysztof Piesiewicz, Ag...   \n",
       "2   Bernardo Bertolucci               Alberto Moravia, Bernardo Bertolucci   \n",
       "\n",
       "                  Genres  Duration in Minutes  \n",
       "0                  Drama                  572  \n",
       "1  Drama,Mystery,Romance                   99  \n",
       "2                  Drama                  107  "
      ]
     },
     "execution_count": 41,
     "metadata": {},
     "output_type": "execute_result"
    }
   ],
   "source": [
    "df.head(3)"
   ]
  },
  {
   "cell_type": "markdown",
   "metadata": {},
   "source": [
    "### 4.3.1 - \"Genres\" column"
   ]
  },
  {
   "cell_type": "markdown",
   "metadata": {},
   "source": [
    "In the \"Genres\" column of DataFrame df, we notice that there are sometimes several different genres separated by commas. To facilitate the analysis of film genres, let's only keep the first genre that appears."
   ]
  },
  {
   "cell_type": "code",
   "execution_count": 42,
   "metadata": {},
   "outputs": [
    {
     "data": {
      "text/html": [
       "<div>\n",
       "<style scoped>\n",
       "    .dataframe tbody tr th:only-of-type {\n",
       "        vertical-align: middle;\n",
       "    }\n",
       "\n",
       "    .dataframe tbody tr th {\n",
       "        vertical-align: top;\n",
       "    }\n",
       "\n",
       "    .dataframe thead th {\n",
       "        text-align: right;\n",
       "    }\n",
       "</style>\n",
       "<table border=\"1\" class=\"dataframe\">\n",
       "  <thead>\n",
       "    <tr style=\"text-align: right;\">\n",
       "      <th></th>\n",
       "      <th>Title</th>\n",
       "      <th>Release Date</th>\n",
       "      <th>Description</th>\n",
       "      <th>Rating</th>\n",
       "      <th>Nb_Votes</th>\n",
       "      <th>Directed by</th>\n",
       "      <th>Written by</th>\n",
       "      <th>Genres</th>\n",
       "      <th>Duration in Minutes</th>\n",
       "    </tr>\n",
       "  </thead>\n",
       "  <tbody>\n",
       "    <tr>\n",
       "      <th>0</th>\n",
       "      <td>Dekalog (1988)</td>\n",
       "      <td>1996-03-22</td>\n",
       "      <td>This masterwork by Krzysztof Kieślowski is one...</td>\n",
       "      <td>7.4</td>\n",
       "      <td>118.0</td>\n",
       "      <td>Krzysztof Kieslowski</td>\n",
       "      <td>Krzysztof Kieslowski, Krzysztof Piesiewicz</td>\n",
       "      <td>Drama</td>\n",
       "      <td>572</td>\n",
       "    </tr>\n",
       "    <tr>\n",
       "      <th>1</th>\n",
       "      <td>Three Colors: Red</td>\n",
       "      <td>1994-11-23</td>\n",
       "      <td>Krzysztof Kieslowski closes his Three Colors t...</td>\n",
       "      <td>8.3</td>\n",
       "      <td>241.0</td>\n",
       "      <td>Krzysztof Kieslowski</td>\n",
       "      <td>Krzysztof Kieslowski, Krzysztof Piesiewicz, Ag...</td>\n",
       "      <td>Drama</td>\n",
       "      <td>99</td>\n",
       "    </tr>\n",
       "    <tr>\n",
       "      <th>2</th>\n",
       "      <td>The Conformist</td>\n",
       "      <td>1970-10-22</td>\n",
       "      <td>Set in Rome in the 1930s, this re-release of B...</td>\n",
       "      <td>7.3</td>\n",
       "      <td>106.0</td>\n",
       "      <td>Bernardo Bertolucci</td>\n",
       "      <td>Alberto Moravia, Bernardo Bertolucci</td>\n",
       "      <td>Drama</td>\n",
       "      <td>107</td>\n",
       "    </tr>\n",
       "  </tbody>\n",
       "</table>\n",
       "</div>"
      ],
      "text/plain": [
       "               Title Release Date  \\\n",
       "0     Dekalog (1988)   1996-03-22   \n",
       "1  Three Colors: Red   1994-11-23   \n",
       "2     The Conformist   1970-10-22   \n",
       "\n",
       "                                         Description  Rating  Nb_Votes  \\\n",
       "0  This masterwork by Krzysztof Kieślowski is one...     7.4     118.0   \n",
       "1  Krzysztof Kieslowski closes his Three Colors t...     8.3     241.0   \n",
       "2  Set in Rome in the 1930s, this re-release of B...     7.3     106.0   \n",
       "\n",
       "            Directed by                                         Written by  \\\n",
       "0  Krzysztof Kieslowski         Krzysztof Kieslowski, Krzysztof Piesiewicz   \n",
       "1  Krzysztof Kieslowski  Krzysztof Kieslowski, Krzysztof Piesiewicz, Ag...   \n",
       "2   Bernardo Bertolucci               Alberto Moravia, Bernardo Bertolucci   \n",
       "\n",
       "  Genres  Duration in Minutes  \n",
       "0  Drama                  572  \n",
       "1  Drama                   99  \n",
       "2  Drama                  107  "
      ]
     },
     "execution_count": 42,
     "metadata": {},
     "output_type": "execute_result"
    }
   ],
   "source": [
    "# Keep the first genre that appaears in the \"Genres\" column\n",
    "df[\"Genres\"] = df[\"Genres\"].str.split(\",\").str[0]\n",
    "df.head(3)"
   ]
  },
  {
   "cell_type": "markdown",
   "metadata": {},
   "source": [
    "Let's look at the different movie genres in our dataset."
   ]
  },
  {
   "cell_type": "code",
   "execution_count": 43,
   "metadata": {},
   "outputs": [
    {
     "data": {
      "text/plain": [
       "array(['Drama', 'Crime', 'Adventure', 'Comedy', 'Thriller', 'Documentary',\n",
       "       'Biography', 'Action', 'Animation', 'War', 'Horror', 'Unknown',\n",
       "       'Fantasy', 'Musical', 'Mystery', 'Music', 'Romance', 'Sci-Fi',\n",
       "       'Family', 'Western', 'History'], dtype=object)"
      ]
     },
     "execution_count": 43,
     "metadata": {},
     "output_type": "execute_result"
    }
   ],
   "source": [
    "df[\"Genres\"].unique()"
   ]
  },
  {
   "cell_type": "markdown",
   "metadata": {},
   "source": [
    "In our dataset, there are \"Musical\" genre films and \"Music\" genre films. Let's group these two genres into one under the name \"Musical\"."
   ]
  },
  {
   "cell_type": "code",
   "execution_count": 44,
   "metadata": {},
   "outputs": [
    {
     "data": {
      "text/plain": [
       "array(['Drama', 'Crime', 'Adventure', 'Comedy', 'Thriller', 'Documentary',\n",
       "       'Biography', 'Action', 'Animation', 'War', 'Horror', 'Unknown',\n",
       "       'Fantasy', 'Musical', 'Mystery', 'Romance', 'Sci-Fi', 'Family',\n",
       "       'Western', 'History'], dtype=object)"
      ]
     },
     "execution_count": 44,
     "metadata": {},
     "output_type": "execute_result"
    }
   ],
   "source": [
    "df[\"Genres\"] = df[\"Genres\"].replace(\"Music\", \"Musical\")\n",
    "\n",
    "# Check that the \"Music\" genre no longer exists.\n",
    "df[\"Genres\"].unique()"
   ]
  },
  {
   "cell_type": "markdown",
   "metadata": {},
   "source": [
    "### 4.3.2 - \"Directed by\" & \"Written by\" columns"
   ]
  },
  {
   "cell_type": "markdown",
   "metadata": {},
   "source": [
    "Similar to the genres column, the \"Written by\" column can contain several different writers separated by a comma. Let's just keep the first screenwriter who appears. Let's do the same for the \"Directed by\" column.\n"
   ]
  },
  {
   "cell_type": "code",
   "execution_count": 45,
   "metadata": {},
   "outputs": [
    {
     "data": {
      "text/html": [
       "<div>\n",
       "<style scoped>\n",
       "    .dataframe tbody tr th:only-of-type {\n",
       "        vertical-align: middle;\n",
       "    }\n",
       "\n",
       "    .dataframe tbody tr th {\n",
       "        vertical-align: top;\n",
       "    }\n",
       "\n",
       "    .dataframe thead th {\n",
       "        text-align: right;\n",
       "    }\n",
       "</style>\n",
       "<table border=\"1\" class=\"dataframe\">\n",
       "  <thead>\n",
       "    <tr style=\"text-align: right;\">\n",
       "      <th></th>\n",
       "      <th>Title</th>\n",
       "      <th>Release Date</th>\n",
       "      <th>Description</th>\n",
       "      <th>Rating</th>\n",
       "      <th>Nb_Votes</th>\n",
       "      <th>Directed by</th>\n",
       "      <th>Written by</th>\n",
       "      <th>Genres</th>\n",
       "      <th>Duration in Minutes</th>\n",
       "    </tr>\n",
       "  </thead>\n",
       "  <tbody>\n",
       "    <tr>\n",
       "      <th>0</th>\n",
       "      <td>Dekalog (1988)</td>\n",
       "      <td>1996-03-22</td>\n",
       "      <td>This masterwork by Krzysztof Kieślowski is one...</td>\n",
       "      <td>7.4</td>\n",
       "      <td>118.0</td>\n",
       "      <td>Krzysztof Kieslowski</td>\n",
       "      <td>Krzysztof Kieslowski</td>\n",
       "      <td>Drama</td>\n",
       "      <td>572</td>\n",
       "    </tr>\n",
       "    <tr>\n",
       "      <th>1</th>\n",
       "      <td>Three Colors: Red</td>\n",
       "      <td>1994-11-23</td>\n",
       "      <td>Krzysztof Kieslowski closes his Three Colors t...</td>\n",
       "      <td>8.3</td>\n",
       "      <td>241.0</td>\n",
       "      <td>Krzysztof Kieslowski</td>\n",
       "      <td>Krzysztof Kieslowski</td>\n",
       "      <td>Drama</td>\n",
       "      <td>99</td>\n",
       "    </tr>\n",
       "    <tr>\n",
       "      <th>2</th>\n",
       "      <td>The Conformist</td>\n",
       "      <td>1970-10-22</td>\n",
       "      <td>Set in Rome in the 1930s, this re-release of B...</td>\n",
       "      <td>7.3</td>\n",
       "      <td>106.0</td>\n",
       "      <td>Bernardo Bertolucci</td>\n",
       "      <td>Alberto Moravia</td>\n",
       "      <td>Drama</td>\n",
       "      <td>107</td>\n",
       "    </tr>\n",
       "  </tbody>\n",
       "</table>\n",
       "</div>"
      ],
      "text/plain": [
       "               Title Release Date  \\\n",
       "0     Dekalog (1988)   1996-03-22   \n",
       "1  Three Colors: Red   1994-11-23   \n",
       "2     The Conformist   1970-10-22   \n",
       "\n",
       "                                         Description  Rating  Nb_Votes  \\\n",
       "0  This masterwork by Krzysztof Kieślowski is one...     7.4     118.0   \n",
       "1  Krzysztof Kieslowski closes his Three Colors t...     8.3     241.0   \n",
       "2  Set in Rome in the 1930s, this re-release of B...     7.3     106.0   \n",
       "\n",
       "            Directed by            Written by Genres  Duration in Minutes  \n",
       "0  Krzysztof Kieslowski  Krzysztof Kieslowski  Drama                  572  \n",
       "1  Krzysztof Kieslowski  Krzysztof Kieslowski  Drama                   99  \n",
       "2   Bernardo Bertolucci       Alberto Moravia  Drama                  107  "
      ]
     },
     "execution_count": 45,
     "metadata": {},
     "output_type": "execute_result"
    }
   ],
   "source": [
    "# Keep the first director that appaears in the \"Directed by\" column\n",
    "df[\"Directed by\"] = df[\"Directed by\"].str.split(\",\").str[0]\n",
    "\n",
    "# Keep the first writer that appaears in the \"Written by\" column\n",
    "df[\"Written by\"] = df[\"Written by\"].str.split(\",\").str[0]\n",
    "\n",
    "df.head(3)"
   ]
  },
  {
   "cell_type": "markdown",
   "metadata": {},
   "source": [
    "Let's change the name of the columns \"Directed by\" and \"Written by\" to \"Director\" and \"Writer\" respectively."
   ]
  },
  {
   "cell_type": "code",
   "execution_count": 46,
   "metadata": {},
   "outputs": [],
   "source": [
    "df = df.rename(columns={\"Directed by\": \"Director\", \"Written by\": \"Writer\"})"
   ]
  },
  {
   "cell_type": "markdown",
   "metadata": {},
   "source": [
    "## 4.4 - Rating weighting\n",
    "We will create a \"Weighted_rating\" variable in order to give more weight to films with a large number of votes, which will improve the reliability of the average evaluation.\n",
    "\n",
    "To do this, we will use the following formula used by imdb (https://fr.wikipedia.org/wiki/Top_250_de_l%27Internet_Movie_Database#Classement_actuel) : \n",
    "\n",
    "$$W = \\frac{Rv + Cm}{v + m}$$\n",
    "\n",
    "with :\n",
    "\n",
    "_W_ = Rating weighting (\"Weighted_rating\" column)\n",
    "\n",
    "*R* = Average of movie rating given by users (\"Rating\" column)\n",
    "\n",
    "*v* = Number of votes (\"Nb_Votes\" column)\n",
    "\n",
    "*m* = Minimum number of votes to appear in the ranking\n",
    "\n",
    "*C* = Average rating of all films"
   ]
  },
  {
   "cell_type": "markdown",
   "metadata": {},
   "source": [
    "To apply this formula to our dataset, we need to define the value of *m*. It is necessary to choose a threshold which guarantees statistical significance while taking into account the variability of votes. Two main options are available to us to define this threshold : based on the average of the number of votes, or based on the median.\n"
   ]
  },
  {
   "cell_type": "code",
   "execution_count": 48,
   "metadata": {},
   "outputs": [
    {
     "name": "stdout",
     "output_type": "stream",
     "text": [
      "Average movie rating 113.99769327094181\n",
      "Median movie rating 31.0\n"
     ]
    }
   ],
   "source": [
    "print(\"Average movie rating\", df[\"Nb_Votes\"].mean())\n",
    "print(\"Median movie rating\", df[\"Nb_Votes\"].median())"
   ]
  },
  {
   "cell_type": "markdown",
   "metadata": {},
   "source": [
    "The average gives us an idea of ​​the overall popularity of films because it takes into account all votes, including those for films that attracted large audiences. By defining *m* close to average, we place more emphasis on the most viewed and highest rated films. This approach therefore favors popular films, because it limits the impact of films that received few votes, thus ensuring that films influencing the weighted average are representative of a large audience.\n",
    "\n",
    "The median is not influenced by extreme values. By fixing *m* to the median, we broaden the scope of films considered, thus including those with a moderate number of votes. This approach is useful so as not to neglect films that are less popular but could still reflect a significant level of interest among their audience."
   ]
  },
  {
   "cell_type": "markdown",
   "metadata": {},
   "source": [
    "To guarantee a balanced and representative analysis, we chose a value of m located between the mean and the median (Let's say *m* = 50). This compromise makes it possible to include a wide range of films, while preventing films with too few votes from unduly influencing the weighted score. This approach ensures optimal representativeness, taking into account popular films without excluding those which, despite a more moderate number of votes, contribute to the diversity of our analysis."
   ]
  },
  {
   "cell_type": "markdown",
   "metadata": {},
   "source": [
    "In conclusion, this methodology offers a more precise and fairer weighted score, reflecting the opinion of a broad audience while preserving the diversity of the films evaluated."
   ]
  },
  {
   "cell_type": "code",
   "execution_count": 49,
   "metadata": {},
   "outputs": [
    {
     "data": {
      "text/html": [
       "<div>\n",
       "<style scoped>\n",
       "    .dataframe tbody tr th:only-of-type {\n",
       "        vertical-align: middle;\n",
       "    }\n",
       "\n",
       "    .dataframe tbody tr th {\n",
       "        vertical-align: top;\n",
       "    }\n",
       "\n",
       "    .dataframe thead th {\n",
       "        text-align: right;\n",
       "    }\n",
       "</style>\n",
       "<table border=\"1\" class=\"dataframe\">\n",
       "  <thead>\n",
       "    <tr style=\"text-align: right;\">\n",
       "      <th></th>\n",
       "      <th>Title</th>\n",
       "      <th>Release Date</th>\n",
       "      <th>Description</th>\n",
       "      <th>Rating</th>\n",
       "      <th>Nb_Votes</th>\n",
       "      <th>Director</th>\n",
       "      <th>Writer</th>\n",
       "      <th>Genres</th>\n",
       "      <th>Duration in Minutes</th>\n",
       "      <th>Weighted_rating</th>\n",
       "    </tr>\n",
       "  </thead>\n",
       "  <tbody>\n",
       "    <tr>\n",
       "      <th>0</th>\n",
       "      <td>Dekalog (1988)</td>\n",
       "      <td>1996-03-22</td>\n",
       "      <td>This masterwork by Krzysztof Kieślowski is one...</td>\n",
       "      <td>7.4</td>\n",
       "      <td>118.0</td>\n",
       "      <td>Krzysztof Kieslowski</td>\n",
       "      <td>Krzysztof Kieslowski</td>\n",
       "      <td>Drama</td>\n",
       "      <td>572</td>\n",
       "      <td>7.2</td>\n",
       "    </tr>\n",
       "    <tr>\n",
       "      <th>1</th>\n",
       "      <td>Three Colors: Red</td>\n",
       "      <td>1994-11-23</td>\n",
       "      <td>Krzysztof Kieslowski closes his Three Colors t...</td>\n",
       "      <td>8.3</td>\n",
       "      <td>241.0</td>\n",
       "      <td>Krzysztof Kieslowski</td>\n",
       "      <td>Krzysztof Kieslowski</td>\n",
       "      <td>Drama</td>\n",
       "      <td>99</td>\n",
       "      <td>8.0</td>\n",
       "    </tr>\n",
       "    <tr>\n",
       "      <th>2</th>\n",
       "      <td>The Conformist</td>\n",
       "      <td>1970-10-22</td>\n",
       "      <td>Set in Rome in the 1930s, this re-release of B...</td>\n",
       "      <td>7.3</td>\n",
       "      <td>106.0</td>\n",
       "      <td>Bernardo Bertolucci</td>\n",
       "      <td>Alberto Moravia</td>\n",
       "      <td>Drama</td>\n",
       "      <td>107</td>\n",
       "      <td>7.1</td>\n",
       "    </tr>\n",
       "    <tr>\n",
       "      <th>3</th>\n",
       "      <td>Tokyo Story</td>\n",
       "      <td>1972-03-13</td>\n",
       "      <td>Yasujiro Ozu’s Tokyo Story follows an aging co...</td>\n",
       "      <td>8.1</td>\n",
       "      <td>147.0</td>\n",
       "      <td>Yasujirô Ozu</td>\n",
       "      <td>Kôgo Noda</td>\n",
       "      <td>Drama</td>\n",
       "      <td>136</td>\n",
       "      <td>7.7</td>\n",
       "    </tr>\n",
       "    <tr>\n",
       "      <th>4</th>\n",
       "      <td>The Leopard (re-release)</td>\n",
       "      <td>2004-08-13</td>\n",
       "      <td>Set in Sicily in 1860, Luchino Visconti's spec...</td>\n",
       "      <td>7.8</td>\n",
       "      <td>85.0</td>\n",
       "      <td>Luchino Visconti</td>\n",
       "      <td>Giuseppe Tomasi di Lampedusa</td>\n",
       "      <td>Drama</td>\n",
       "      <td>187</td>\n",
       "      <td>7.4</td>\n",
       "    </tr>\n",
       "  </tbody>\n",
       "</table>\n",
       "</div>"
      ],
      "text/plain": [
       "                      Title Release Date  \\\n",
       "0            Dekalog (1988)   1996-03-22   \n",
       "1         Three Colors: Red   1994-11-23   \n",
       "2            The Conformist   1970-10-22   \n",
       "3               Tokyo Story   1972-03-13   \n",
       "4  The Leopard (re-release)   2004-08-13   \n",
       "\n",
       "                                         Description  Rating  Nb_Votes  \\\n",
       "0  This masterwork by Krzysztof Kieślowski is one...     7.4     118.0   \n",
       "1  Krzysztof Kieslowski closes his Three Colors t...     8.3     241.0   \n",
       "2  Set in Rome in the 1930s, this re-release of B...     7.3     106.0   \n",
       "3  Yasujiro Ozu’s Tokyo Story follows an aging co...     8.1     147.0   \n",
       "4  Set in Sicily in 1860, Luchino Visconti's spec...     7.8      85.0   \n",
       "\n",
       "               Director                        Writer Genres  \\\n",
       "0  Krzysztof Kieslowski          Krzysztof Kieslowski  Drama   \n",
       "1  Krzysztof Kieslowski          Krzysztof Kieslowski  Drama   \n",
       "2   Bernardo Bertolucci               Alberto Moravia  Drama   \n",
       "3          Yasujirô Ozu                     Kôgo Noda  Drama   \n",
       "4      Luchino Visconti  Giuseppe Tomasi di Lampedusa  Drama   \n",
       "\n",
       "   Duration in Minutes  Weighted_rating  \n",
       "0                  572              7.2  \n",
       "1                   99              8.0  \n",
       "2                  107              7.1  \n",
       "3                  136              7.7  \n",
       "4                  187              7.4  "
      ]
     },
     "execution_count": 49,
     "metadata": {},
     "output_type": "execute_result"
    }
   ],
   "source": [
    "df[\"Weighted_rating\"] = round((df[\"Rating\"]*df[\"Nb_Votes\"] + df[\"Rating\"].mean()*50)/(df[\"Nb_Votes\"] + 50),1)\n",
    "df.head()"
   ]
  },
  {
   "cell_type": "markdown",
   "metadata": {},
   "source": [
    "From now on, when we talk about \"rating\", we will refer to the weighted rating.\n",
    "\n",
    "We can delete the \"Rating\" column because we will only refer to the weighted rating."
   ]
  },
  {
   "cell_type": "code",
   "execution_count": 50,
   "metadata": {},
   "outputs": [],
   "source": [
    "df = df.drop(columns=[\"Rating\"])"
   ]
  },
  {
   "cell_type": "markdown",
   "metadata": {},
   "source": [
    "Let's rename the column \"Weighted_rating\" to \"Rating\"."
   ]
  },
  {
   "cell_type": "code",
   "execution_count": 51,
   "metadata": {},
   "outputs": [],
   "source": [
    "df = df.rename(columns={\"Weighted_rating\": \"Rating\"})"
   ]
  },
  {
   "cell_type": "markdown",
   "metadata": {},
   "source": [
    "# 5 - Exploratory Data Analysis"
   ]
  },
  {
   "cell_type": "markdown",
   "metadata": {},
   "source": [
    "## 5.1 - Data distribution"
   ]
  },
  {
   "cell_type": "markdown",
   "metadata": {},
   "source": [
    "### 5.1.1 - Distribution of Rating"
   ]
  },
  {
   "cell_type": "code",
   "execution_count": 53,
   "metadata": {},
   "outputs": [
    {
     "data": {
      "image/png": "[encoded data removed]",
      "text/plain": [
       "<Figure size 1000x600 with 1 Axes>"
      ]
     },
     "metadata": {},
     "output_type": "display_data"
    }
   ],
   "source": [
    "# Histogram of ratings\n",
    "plt.figure(figsize=(10, 6))\n",
    "sns.histplot(df[\"Rating\"], bins=20, kde=True)\n",
    "plt.title(\"Distribution of movie ratings\")\n",
    "plt.xlabel(\"Rating\")\n",
    "plt.ylabel(\"Frequency\")\n",
    "plt.show()"
   ]
  },
  {
   "cell_type": "markdown",
   "metadata": {},
   "source": [
    "### 5.1.2 - Distribution of Duration"
   ]
  },
  {
   "cell_type": "code",
   "execution_count": 54,
   "metadata": {},
   "outputs": [
    {
     "data": {
      "image/png": "[encoded data removed]",
      "text/plain": [
       "<Figure size 1000x600 with 1 Axes>"
      ]
     },
     "metadata": {},
     "output_type": "display_data"
    }
   ],
   "source": [
    "# Histogram of duration\n",
    "plt.figure(figsize=(10, 6))\n",
    "sns.histplot(df[\"Duration in Minutes\"], bins=20, kde=True)\n",
    "plt.title(\"Distribution of movie durations\")\n",
    "plt.xlabel(\"Duration (minutes)\")\n",
    "plt.ylabel(\"Frequency\")\n",
    "plt.show()"
   ]
  },
  {
   "cell_type": "markdown",
   "metadata": {},
   "source": [
    "## 5.2 - Evolution of the number of votes"
   ]
  },
  {
   "cell_type": "code",
   "execution_count": 55,
   "metadata": {},
   "outputs": [
    {
     "data": {
      "image/png": "[encoded data removed]",
      "text/plain": [
       "<Figure size 1200x600 with 1 Axes>"
      ]
     },
     "metadata": {},
     "output_type": "display_data"
    }
   ],
   "source": [
    "# We extract the year from \"Release Date\" and we add a new column \"Year\" in df \n",
    "df[\"Year\"] = df[\"Release Date\"].dt.year\n",
    "\n",
    "# Evolution of the average number of votes over the year\n",
    "plt.figure(figsize=(12, 6))\n",
    "sns.lineplot(data=df.groupby(\"Year\")[\"Nb_Votes\"].mean(), label=\"Average Number of Votes\")\n",
    "plt.title(\"Evolution of the average number of votes over the year\")\n",
    "plt.xlabel(\"Release Year\")\n",
    "plt.ylabel(\"Average Number of Votes\")\n",
    "plt.legend()\n",
    "plt.show()"
   ]
  },
  {
   "cell_type": "markdown",
   "metadata": {},
   "source": [
    "## 5.3 - Trends in movie ratings over time "
   ]
  },
  {
   "cell_type": "code",
   "execution_count": 56,
   "metadata": {},
   "outputs": [],
   "source": [
    "# We group by year and compute the mean of rating\n",
    "rating_per_year = df.groupby(\"Year\")[\"Rating\"].mean().reset_index()"
   ]
  },
  {
   "cell_type": "markdown",
   "metadata": {},
   "source": [
    "The chart generated by the code below is an interactive Plotly chart. If you can't see it, the same graph in a non-interactive version is present just after."
   ]
  },
  {
   "cell_type": "code",
   "execution_count": 57,
   "metadata": {
    "trusted": true
   },
   "outputs": [
    {
     "data": {
      "application/vnd.plotly.v1+json": {
       "config": {
        "plotlyServerURL": "https://plot.ly"
       },
       "data": [
        {
         "hovertemplate": "Year=%{x}<br>Rating=%{y}<extra></extra>",
         "legendgroup": "",
         "line": {
          "color": "#636efa",
          "dash": "solid"
         },
         "marker": {
          "symbol": "circle"
         },
         "mode": "lines+markers",
         "name": "",
         "orientation": "v",
         "showlegend": false,
         "type": "scatter",
         "x": [
          1970,
          1971,
          1972,
          1973,
          1974,
          1975,
          1976,
          1977,
          1978,
          1979,
          1980,
          1981,
          1982,
          1983,
          1984,
          1985,
          1986,
          1987,
          1988,
          1989,
          1990,
          1991,
          1992,
          1993,
          1994,
          1995,
          1996,
          1997,
          1998,
          1999,
          2000,
          2001,
          2002,
          2003,
          2004,
          2005,
          2006,
          2007,
          2008,
          2009,
          2010,
          2011,
          2012,
          2013,
          2014,
          2015,
          2016,
          2017,
          2018,
          2019,
          2020,
          2021,
          2022,
          2023,
          2024
         ],
         "xaxis": "x",
         "y": [
          6.76551724137931,
          6.881578947368421,
          6.86,
          6.885714285714285,
          6.7973684210526315,
          6.855882352941176,
          6.920454545454546,
          6.881578947368421,
          6.781481481481482,
          6.944615384615385,
          6.7421875,
          6.8493150684931505,
          6.8307692307692305,
          6.816216216216216,
          6.7631578947368425,
          6.930693069306931,
          6.939516129032258,
          6.899122807017544,
          6.896190476190476,
          7.002777777777777,
          6.905555555555556,
          6.919417475728156,
          6.914529914529915,
          6.928260869565218,
          6.906034482758621,
          6.97007299270073,
          6.897333333333333,
          6.951923076923077,
          6.815384615384615,
          6.810714285714286,
          6.76497175141243,
          6.769672131147541,
          6.8121212121212125,
          6.799248120300752,
          6.799139784946236,
          6.792842535787321,
          6.769320388349514,
          6.789565217391304,
          6.780629539951574,
          6.721173469387755,
          6.837062937062937,
          6.68413001912046,
          6.704676258992806,
          6.699014778325123,
          6.688803680981596,
          6.639747634069401,
          6.652268907563025,
          6.631270903010034,
          6.646911519198665,
          6.673369565217391,
          6.646007604562738,
          6.548859315589353,
          6.601353965183753,
          6.62262156448203,
          6.571724137931034
         ],
         "yaxis": "y"
        }
       ],
       "layout": {
        "height": 600,
        "legend": {
         "tracegroupgap": 0
        },
        "template": {
         "data": {
          "bar": [
           {
            "error_x": {
             "color": "#2a3f5f"
            },
            "error_y": {
             "color": "#2a3f5f"
            },
            "marker": {
             "line": {
              "color": "#E5ECF6",
              "width": 0.5
             },
             "pattern": {
              "fillmode": "overlay",
              "size": 10,
              "solidity": 0.2
             }
            },
            "type": "bar"
           }
          ],
          "barpolar": [
           {
            "marker": {
             "line": {
              "color": "#E5ECF6",
              "width": 0.5
             },
             "pattern": {
              "fillmode": "overlay",
              "size": 10,
              "solidity": 0.2
             }
            },
            "type": "barpolar"
           }
          ],
          "carpet": [
           {
            "aaxis": {
             "endlinecolor": "#2a3f5f",
             "gridcolor": "white",
             "linecolor": "white",
             "minorgridcolor": "white",
             "startlinecolor": "#2a3f5f"
            },
            "baxis": {
             "endlinecolor": "#2a3f5f",
             "gridcolor": "white",
             "linecolor": "white",
             "minorgridcolor": "white",
             "startlinecolor": "#2a3f5f"
            },
            "type": "carpet"
           }
          ],
          "choropleth": [
           {
            "colorbar": {
             "outlinewidth": 0,
             "ticks": ""
            },
            "type": "choropleth"
           }
          ],
          "contour": [
           {
            "colorbar": {
             "outlinewidth": 0,
             "ticks": ""
            },
            "colorscale": [
             [
              0,
              "#0d0887"
             ],
             [
              0.1111111111111111,
              "#46039f"
             ],
             [
              0.2222222222222222,
              "#7201a8"
             ],
             [
              0.3333333333333333,
              "#9c179e"
             ],
             [
              0.4444444444444444,
              "#bd3786"
             ],
             [
              0.5555555555555556,
              "#d8576b"
             ],
             [
              0.6666666666666666,
              "#ed7953"
             ],
             [
              0.7777777777777778,
              "#fb9f3a"
             ],
             [
              0.8888888888888888,
              "#fdca26"
             ],
             [
              1,
              "#f0f921"
             ]
            ],
            "type": "contour"
           }
          ],
          "contourcarpet": [
           {
            "colorbar": {
             "outlinewidth": 0,
             "ticks": ""
            },
            "type": "contourcarpet"
           }
          ],
          "heatmap": [
           {
            "colorbar": {
             "outlinewidth": 0,
             "ticks": ""
            },
            "colorscale": [
             [
              0,
              "#0d0887"
             ],
             [
              0.1111111111111111,
              "#46039f"
             ],
             [
              0.2222222222222222,
              "#7201a8"
             ],
             [
              0.3333333333333333,
              "#9c179e"
             ],
             [
              0.4444444444444444,
              "#bd3786"
             ],
             [
              0.5555555555555556,
              "#d8576b"
             ],
             [
              0.6666666666666666,
              "#ed7953"
             ],
             [
              0.7777777777777778,
              "#fb9f3a"
             ],
             [
              0.8888888888888888,
              "#fdca26"
             ],
             [
              1,
              "#f0f921"
             ]
            ],
            "type": "heatmap"
           }
          ],
          "heatmapgl": [
           {
            "colorbar": {
             "outlinewidth": 0,
             "ticks": ""
            },
            "colorscale": [
             [
              0,
              "#0d0887"
             ],
             [
              0.1111111111111111,
              "#46039f"
             ],
             [
              0.2222222222222222,
              "#7201a8"
             ],
             [
              0.3333333333333333,
              "#9c179e"
             ],
             [
              0.4444444444444444,
              "#bd3786"
             ],
             [
              0.5555555555555556,
              "#d8576b"
             ],
             [
              0.6666666666666666,
              "#ed7953"
             ],
             [
              0.7777777777777778,
              "#fb9f3a"
             ],
             [
              0.8888888888888888,
              "#fdca26"
             ],
             [
              1,
              "#f0f921"
             ]
            ],
            "type": "heatmapgl"
           }
          ],
          "histogram": [
           {
            "marker": {
             "pattern": {
              "fillmode": "overlay",
              "size": 10,
              "solidity": 0.2
             }
            },
            "type": "histogram"
           }
          ],
          "histogram2d": [
           {
            "colorbar": {
             "outlinewidth": 0,
             "ticks": ""
            },
            "colorscale": [
             [
              0,
              "#0d0887"
             ],
             [
              0.1111111111111111,
              "#46039f"
             ],
             [
              0.2222222222222222,
              "#7201a8"
             ],
             [
              0.3333333333333333,
              "#9c179e"
             ],
             [
              0.4444444444444444,
              "#bd3786"
             ],
             [
              0.5555555555555556,
              "#d8576b"
             ],
             [
              0.6666666666666666,
              "#ed7953"
             ],
             [
              0.7777777777777778,
              "#fb9f3a"
             ],
             [
              0.8888888888888888,
              "#fdca26"
             ],
             [
              1,
              "#f0f921"
             ]
            ],
            "type": "histogram2d"
           }
          ],
          "histogram2dcontour": [
           {
            "colorbar": {
             "outlinewidth": 0,
             "ticks": ""
            },
            "colorscale": [
             [
              0,
              "#0d0887"
             ],
             [
              0.1111111111111111,
              "#46039f"
             ],
             [
              0.2222222222222222,
              "#7201a8"
             ],
             [
              0.3333333333333333,
              "#9c179e"
             ],
             [
              0.4444444444444444,
              "#bd3786"
             ],
             [
              0.5555555555555556,
              "#d8576b"
             ],
             [
              0.6666666666666666,
              "#ed7953"
             ],
             [
              0.7777777777777778,
              "#fb9f3a"
             ],
             [
              0.8888888888888888,
              "#fdca26"
             ],
             [
              1,
              "#f0f921"
             ]
            ],
            "type": "histogram2dcontour"
           }
          ],
          "mesh3d": [
           {
            "colorbar": {
             "outlinewidth": 0,
             "ticks": ""
            },
            "type": "mesh3d"
           }
          ],
          "parcoords": [
           {
            "line": {
             "colorbar": {
              "outlinewidth": 0,
              "ticks": ""
             }
            },
            "type": "parcoords"
           }
          ],
          "pie": [
           {
            "automargin": true,
            "type": "pie"
           }
          ],
          "scatter": [
           {
            "fillpattern": {
             "fillmode": "overlay",
             "size": 10,
             "solidity": 0.2
            },
            "type": "scatter"
           }
          ],
          "scatter3d": [
           {
            "line": {
             "colorbar": {
              "outlinewidth": 0,
              "ticks": ""
             }
            },
            "marker": {
             "colorbar": {
              "outlinewidth": 0,
              "ticks": ""
             }
            },
            "type": "scatter3d"
           }
          ],
          "scattercarpet": [
           {
            "marker": {
             "colorbar": {
              "outlinewidth": 0,
              "ticks": ""
             }
            },
            "type": "scattercarpet"
           }
          ],
          "scattergeo": [
           {
            "marker": {
             "colorbar": {
              "outlinewidth": 0,
              "ticks": ""
             }
            },
            "type": "scattergeo"
           }
          ],
          "scattergl": [
           {
            "marker": {
             "colorbar": {
              "outlinewidth": 0,
              "ticks": ""
             }
            },
            "type": "scattergl"
           }
          ],
          "scattermapbox": [
           {
            "marker": {
             "colorbar": {
              "outlinewidth": 0,
              "ticks": ""
             }
            },
            "type": "scattermapbox"
           }
          ],
          "scatterpolar": [
           {
            "marker": {
             "colorbar": {
              "outlinewidth": 0,
              "ticks": ""
             }
            },
            "type": "scatterpolar"
           }
          ],
          "scatterpolargl": [
           {
            "marker": {
             "colorbar": {
              "outlinewidth": 0,
              "ticks": ""
             }
            },
            "type": "scatterpolargl"
           }
          ],
          "scatterternary": [
           {
            "marker": {
             "colorbar": {
              "outlinewidth": 0,
              "ticks": ""
             }
            },
            "type": "scatterternary"
           }
          ],
          "surface": [
           {
            "colorbar": {
             "outlinewidth": 0,
             "ticks": ""
            },
            "colorscale": [
             [
              0,
              "#0d0887"
             ],
             [
              0.1111111111111111,
              "#46039f"
             ],
             [
              0.2222222222222222,
              "#7201a8"
             ],
             [
              0.3333333333333333,
              "#9c179e"
             ],
             [
              0.4444444444444444,
              "#bd3786"
             ],
             [
              0.5555555555555556,
              "#d8576b"
             ],
             [
              0.6666666666666666,
              "#ed7953"
             ],
             [
              0.7777777777777778,
              "#fb9f3a"
             ],
             [
              0.8888888888888888,
              "#fdca26"
             ],
             [
              1,
              "#f0f921"
             ]
            ],
            "type": "surface"
           }
          ],
          "table": [
           {
            "cells": {
             "fill": {
              "color": "#EBF0F8"
             },
             "line": {
              "color": "white"
             }
            },
            "header": {
             "fill": {
              "color": "#C8D4E3"
             },
             "line": {
              "color": "white"
             }
            },
            "type": "table"
           }
          ]
         },
         "layout": {
          "annotationdefaults": {
           "arrowcolor": "#2a3f5f",
           "arrowhead": 0,
           "arrowwidth": 1
          },
          "autotypenumbers": "strict",
          "coloraxis": {
           "colorbar": {
            "outlinewidth": 0,
            "ticks": ""
           }
          },
          "colorscale": {
           "diverging": [
            [
             0,
             "#8e0152"
            ],
            [
             0.1,
             "#c51b7d"
            ],
            [
             0.2,
             "#de77ae"
            ],
            [
             0.3,
             "#f1b6da"
            ],
            [
             0.4,
             "#fde0ef"
            ],
            [
             0.5,
             "#f7f7f7"
            ],
            [
             0.6,
             "#e6f5d0"
            ],
            [
             0.7,
             "#b8e186"
            ],
            [
             0.8,
             "#7fbc41"
            ],
            [
             0.9,
             "#4d9221"
            ],
            [
             1,
             "#276419"
            ]
           ],
           "sequential": [
            [
             0,
             "#0d0887"
            ],
            [
             0.1111111111111111,
             "#46039f"
            ],
            [
             0.2222222222222222,
             "#7201a8"
            ],
            [
             0.3333333333333333,
             "#9c179e"
            ],
            [
             0.4444444444444444,
             "#bd3786"
            ],
            [
             0.5555555555555556,
             "#d8576b"
            ],
            [
             0.6666666666666666,
             "#ed7953"
            ],
            [
             0.7777777777777778,
             "#fb9f3a"
            ],
            [
             0.8888888888888888,
             "#fdca26"
            ],
            [
             1,
             "#f0f921"
            ]
           ],
           "sequentialminus": [
            [
             0,
             "#0d0887"
            ],
            [
             0.1111111111111111,
             "#46039f"
            ],
            [
             0.2222222222222222,
             "#7201a8"
            ],
            [
             0.3333333333333333,
             "#9c179e"
            ],
            [
             0.4444444444444444,
             "#bd3786"
            ],
            [
             0.5555555555555556,
             "#d8576b"
            ],
            [
             0.6666666666666666,
             "#ed7953"
            ],
            [
             0.7777777777777778,
             "#fb9f3a"
            ],
            [
             0.8888888888888888,
             "#fdca26"
            ],
            [
             1,
             "#f0f921"
            ]
           ]
          },
          "colorway": [
           "#636efa",
           "#EF553B",
           "#00cc96",
           "#ab63fa",
           "#FFA15A",
           "#19d3f3",
           "#FF6692",
           "#B6E880",
           "#FF97FF",
           "#FECB52"
          ],
          "font": {
           "color": "#2a3f5f"
          },
          "geo": {
           "bgcolor": "white",
           "lakecolor": "white",
           "landcolor": "#E5ECF6",
           "showlakes": true,
           "showland": true,
           "subunitcolor": "white"
          },
          "hoverlabel": {
           "align": "left"
          },
          "hovermode": "closest",
          "mapbox": {
           "style": "light"
          },
          "paper_bgcolor": "white",
          "plot_bgcolor": "#E5ECF6",
          "polar": {
           "angularaxis": {
            "gridcolor": "white",
            "linecolor": "white",
            "ticks": ""
           },
           "bgcolor": "#E5ECF6",
           "radialaxis": {
            "gridcolor": "white",
            "linecolor": "white",
            "ticks": ""
           }
          },
          "scene": {
           "xaxis": {
            "backgroundcolor": "#E5ECF6",
            "gridcolor": "white",
            "gridwidth": 2,
            "linecolor": "white",
            "showbackground": true,
            "ticks": "",
            "zerolinecolor": "white"
           },
           "yaxis": {
            "backgroundcolor": "#E5ECF6",
            "gridcolor": "white",
            "gridwidth": 2,
            "linecolor": "white",
            "showbackground": true,
            "ticks": "",
            "zerolinecolor": "white"
           },
           "zaxis": {
            "backgroundcolor": "#E5ECF6",
            "gridcolor": "white",
            "gridwidth": 2,
            "linecolor": "white",
            "showbackground": true,
            "ticks": "",
            "zerolinecolor": "white"
           }
          },
          "shapedefaults": {
           "line": {
            "color": "#2a3f5f"
           }
          },
          "ternary": {
           "aaxis": {
            "gridcolor": "white",
            "linecolor": "white",
            "ticks": ""
           },
           "baxis": {
            "gridcolor": "white",
            "linecolor": "white",
            "ticks": ""
           },
           "bgcolor": "#E5ECF6",
           "caxis": {
            "gridcolor": "white",
            "linecolor": "white",
            "ticks": ""
           }
          },
          "title": {
           "x": 0.05
          },
          "xaxis": {
           "automargin": true,
           "gridcolor": "white",
           "linecolor": "white",
           "ticks": "",
           "title": {
            "standoff": 15
           },
           "zerolinecolor": "white",
           "zerolinewidth": 2
          },
          "yaxis": {
           "automargin": true,
           "gridcolor": "white",
           "linecolor": "white",
           "ticks": "",
           "title": {
            "standoff": 15
           },
           "zerolinecolor": "white",
           "zerolinewidth": 2
          }
         }
        },
        "title": {
         "text": "Evolution of the ratings attributed to movies by the years"
        },
        "xaxis": {
         "anchor": "y",
         "domain": [
          0,
          1
         ],
         "title": {
          "text": "Year"
         }
        },
        "yaxis": {
         "anchor": "x",
         "domain": [
          0,
          1
         ],
         "title": {
          "text": "Average Rating"
         }
        }
       }
      }
     },
     "metadata": {},
     "output_type": "display_data"
    }
   ],
   "source": [
    "# We plot the graph representing the evolution of the ratings attributed to movies by the years\n",
    "fig = px.line(\n",
    "    rating_per_year,\n",
    "    x=\"Year\",\n",
    "    y=\"Rating\",\n",
    "    title=\"Evolution of the ratings attributed to movies by the years\",\n",
    "    markers=True,\n",
    "    height=600)\n",
    "\n",
    "fig.update_layout(\n",
    "    xaxis_title = \"Year\",\n",
    "    yaxis_title = \"Average Rating\")\n",
    "\n",
    "fig.show()"
   ]
  },
  {
   "cell_type": "code",
   "execution_count": 58,
   "metadata": {},
   "outputs": [
    {
     "data": {
      "image/png": "[encoded data removed]",
      "text/plain": [
       "<Figure size 1200x600 with 1 Axes>"
      ]
     },
     "metadata": {},
     "output_type": "display_data"
    }
   ],
   "source": [
    "# Evolution of the average rating over the year\n",
    "plt.figure(figsize=(12, 6))\n",
    "sns.lineplot(data= df.groupby(\"Year\")[\"Rating\"].mean())\n",
    "plt.title(\"Evolution of the ratings attributed to movies by the years\")\n",
    "plt.xlabel(\"Year\")\n",
    "plt.ylabel(\"Average Rating\")\n",
    "plt.show()"
   ]
  },
  {
   "cell_type": "markdown",
   "metadata": {},
   "source": [
    "We have observed a downward trend in film ratings since 1970. However, the trend mentioned does not suggest a correlation because the average grades over each year vary between 6.5 and 7.0, which is very minimal.\n",
    "\n",
    "Let's see what that looks like by looking at decades."
   ]
  },
  {
   "cell_type": "code",
   "execution_count": 59,
   "metadata": {},
   "outputs": [],
   "source": [
    "# We define the limits of the decades\n",
    "bins = [1969, 1979, 1989, 1999, 2009, 2019, 2029]\n",
    "labels = [\"1970-1979\", \"1980-1989\", \"1990-1999\", \"2000-2009\", \"2010-2019\", \"2020-2029\"]\n",
    "\n",
    "# We use pd.cut to create a \"Decade\" column\n",
    "df[\"Decade\"] = pd.cut(df[\"Year\"], bins=bins, labels=labels, right=True)\n",
    "\n",
    "# We group by decade and compute the average rating\n",
    "rating_per_decade = df.groupby(\"Decade\", observed=False)[\"Rating\"].mean().reset_index()"
   ]
  },
  {
   "cell_type": "markdown",
   "metadata": {},
   "source": [
    "As before, the chart generated by the code below is an interactive Plotly chart but the same graph in a non-interactive version is present just after."
   ]
  },
  {
   "cell_type": "code",
   "execution_count": 60,
   "metadata": {
    "trusted": true
   },
   "outputs": [
    {
     "data": {
      "application/vnd.plotly.v1+json": {
       "config": {
        "plotlyServerURL": "https://plot.ly"
       },
       "data": [
        {
         "hovertemplate": "Decade=%{x}<br>Rating=%{y}<extra></extra>",
         "legendgroup": "",
         "line": {
          "color": "#636efa",
          "dash": "solid"
         },
         "marker": {
          "symbol": "circle"
         },
         "mode": "lines+markers",
         "name": "",
         "orientation": "v",
         "showlegend": false,
         "type": "scatter",
         "x": [
          "1970-1979",
          "1980-1989",
          "1990-1999",
          "2000-2009",
          "2010-2019",
          "2020-2029"
         ],
         "xaxis": "x",
         "y": [
          6.863349514563106,
          6.878846153846154,
          6.892827868852459,
          6.780850070060719,
          6.68103358273882,
          6.600214408233277
         ],
         "yaxis": "y"
        }
       ],
       "layout": {
        "height": 600,
        "legend": {
         "tracegroupgap": 0
        },
        "template": {
         "data": {
          "bar": [
           {
            "error_x": {
             "color": "#2a3f5f"
            },
            "error_y": {
             "color": "#2a3f5f"
            },
            "marker": {
             "line": {
              "color": "#E5ECF6",
              "width": 0.5
             },
             "pattern": {
              "fillmode": "overlay",
              "size": 10,
              "solidity": 0.2
             }
            },
            "type": "bar"
           }
          ],
          "barpolar": [
           {
            "marker": {
             "line": {
              "color": "#E5ECF6",
              "width": 0.5
             },
             "pattern": {
              "fillmode": "overlay",
              "size": 10,
              "solidity": 0.2
             }
            },
            "type": "barpolar"
           }
          ],
          "carpet": [
           {
            "aaxis": {
             "endlinecolor": "#2a3f5f",
             "gridcolor": "white",
             "linecolor": "white",
             "minorgridcolor": "white",
             "startlinecolor": "#2a3f5f"
            },
            "baxis": {
             "endlinecolor": "#2a3f5f",
             "gridcolor": "white",
             "linecolor": "white",
             "minorgridcolor": "white",
             "startlinecolor": "#2a3f5f"
            },
            "type": "carpet"
           }
          ],
          "choropleth": [
           {
            "colorbar": {
             "outlinewidth": 0,
             "ticks": ""
            },
            "type": "choropleth"
           }
          ],
          "contour": [
           {
            "colorbar": {
             "outlinewidth": 0,
             "ticks": ""
            },
            "colorscale": [
             [
              0,
              "#0d0887"
             ],
             [
              0.1111111111111111,
              "#46039f"
             ],
             [
              0.2222222222222222,
              "#7201a8"
             ],
             [
              0.3333333333333333,
              "#9c179e"
             ],
             [
              0.4444444444444444,
              "#bd3786"
             ],
             [
              0.5555555555555556,
              "#d8576b"
             ],
             [
              0.6666666666666666,
              "#ed7953"
             ],
             [
              0.7777777777777778,
              "#fb9f3a"
             ],
             [
              0.8888888888888888,
              "#fdca26"
             ],
             [
              1,
              "#f0f921"
             ]
            ],
            "type": "contour"
           }
          ],
          "contourcarpet": [
           {
            "colorbar": {
             "outlinewidth": 0,
             "ticks": ""
            },
            "type": "contourcarpet"
           }
          ],
          "heatmap": [
           {
            "colorbar": {
             "outlinewidth": 0,
             "ticks": ""
            },
            "colorscale": [
             [
              0,
              "#0d0887"
             ],
             [
              0.1111111111111111,
              "#46039f"
             ],
             [
              0.2222222222222222,
              "#7201a8"
             ],
             [
              0.3333333333333333,
              "#9c179e"
             ],
             [
              0.4444444444444444,
              "#bd3786"
             ],
             [
              0.5555555555555556,
              "#d8576b"
             ],
             [
              0.6666666666666666,
              "#ed7953"
             ],
             [
              0.7777777777777778,
              "#fb9f3a"
             ],
             [
              0.8888888888888888,
              "#fdca26"
             ],
             [
              1,
              "#f0f921"
             ]
            ],
            "type": "heatmap"
           }
          ],
          "heatmapgl": [
           {
            "colorbar": {
             "outlinewidth": 0,
             "ticks": ""
            },
            "colorscale": [
             [
              0,
              "#0d0887"
             ],
             [
              0.1111111111111111,
              "#46039f"
             ],
             [
              0.2222222222222222,
              "#7201a8"
             ],
             [
              0.3333333333333333,
              "#9c179e"
             ],
             [
              0.4444444444444444,
              "#bd3786"
             ],
             [
              0.5555555555555556,
              "#d8576b"
             ],
             [
              0.6666666666666666,
              "#ed7953"
             ],
             [
              0.7777777777777778,
              "#fb9f3a"
             ],
             [
              0.8888888888888888,
              "#fdca26"
             ],
             [
              1,
              "#f0f921"
             ]
            ],
            "type": "heatmapgl"
           }
          ],
          "histogram": [
           {
            "marker": {
             "pattern": {
              "fillmode": "overlay",
              "size": 10,
              "solidity": 0.2
             }
            },
            "type": "histogram"
           }
          ],
          "histogram2d": [
           {
            "colorbar": {
             "outlinewidth": 0,
             "ticks": ""
            },
            "colorscale": [
             [
              0,
              "#0d0887"
             ],
             [
              0.1111111111111111,
              "#46039f"
             ],
             [
              0.2222222222222222,
              "#7201a8"
             ],
             [
              0.3333333333333333,
              "#9c179e"
             ],
             [
              0.4444444444444444,
              "#bd3786"
             ],
             [
              0.5555555555555556,
              "#d8576b"
             ],
             [
              0.6666666666666666,
              "#ed7953"
             ],
             [
              0.7777777777777778,
              "#fb9f3a"
             ],
             [
              0.8888888888888888,
              "#fdca26"
             ],
             [
              1,
              "#f0f921"
             ]
            ],
            "type": "histogram2d"
           }
          ],
          "histogram2dcontour": [
           {
            "colorbar": {
             "outlinewidth": 0,
             "ticks": ""
            },
            "colorscale": [
             [
              0,
              "#0d0887"
             ],
             [
              0.1111111111111111,
              "#46039f"
             ],
             [
              0.2222222222222222,
              "#7201a8"
             ],
             [
              0.3333333333333333,
              "#9c179e"
             ],
             [
              0.4444444444444444,
              "#bd3786"
             ],
             [
              0.5555555555555556,
              "#d8576b"
             ],
             [
              0.6666666666666666,
              "#ed7953"
             ],
             [
              0.7777777777777778,
              "#fb9f3a"
             ],
             [
              0.8888888888888888,
              "#fdca26"
             ],
             [
              1,
              "#f0f921"
             ]
            ],
            "type": "histogram2dcontour"
           }
          ],
          "mesh3d": [
           {
            "colorbar": {
             "outlinewidth": 0,
             "ticks": ""
            },
            "type": "mesh3d"
           }
          ],
          "parcoords": [
           {
            "line": {
             "colorbar": {
              "outlinewidth": 0,
              "ticks": ""
             }
            },
            "type": "parcoords"
           }
          ],
          "pie": [
           {
            "automargin": true,
            "type": "pie"
           }
          ],
          "scatter": [
           {
            "fillpattern": {
             "fillmode": "overlay",
             "size": 10,
             "solidity": 0.2
            },
            "type": "scatter"
           }
          ],
          "scatter3d": [
           {
            "line": {
             "colorbar": {
              "outlinewidth": 0,
              "ticks": ""
             }
            },
            "marker": {
             "colorbar": {
              "outlinewidth": 0,
              "ticks": ""
             }
            },
            "type": "scatter3d"
           }
          ],
          "scattercarpet": [
           {
            "marker": {
             "colorbar": {
              "outlinewidth": 0,
              "ticks": ""
             }
            },
            "type": "scattercarpet"
           }
          ],
          "scattergeo": [
           {
            "marker": {
             "colorbar": {
              "outlinewidth": 0,
              "ticks": ""
             }
            },
            "type": "scattergeo"
           }
          ],
          "scattergl": [
           {
            "marker": {
             "colorbar": {
              "outlinewidth": 0,
              "ticks": ""
             }
            },
            "type": "scattergl"
           }
          ],
          "scattermapbox": [
           {
            "marker": {
             "colorbar": {
              "outlinewidth": 0,
              "ticks": ""
             }
            },
            "type": "scattermapbox"
           }
          ],
          "scatterpolar": [
           {
            "marker": {
             "colorbar": {
              "outlinewidth": 0,
              "ticks": ""
             }
            },
            "type": "scatterpolar"
           }
          ],
          "scatterpolargl": [
           {
            "marker": {
             "colorbar": {
              "outlinewidth": 0,
              "ticks": ""
             }
            },
            "type": "scatterpolargl"
           }
          ],
          "scatterternary": [
           {
            "marker": {
             "colorbar": {
              "outlinewidth": 0,
              "ticks": ""
             }
            },
            "type": "scatterternary"
           }
          ],
          "surface": [
           {
            "colorbar": {
             "outlinewidth": 0,
             "ticks": ""
            },
            "colorscale": [
             [
              0,
              "#0d0887"
             ],
             [
              0.1111111111111111,
              "#46039f"
             ],
             [
              0.2222222222222222,
              "#7201a8"
             ],
             [
              0.3333333333333333,
              "#9c179e"
             ],
             [
              0.4444444444444444,
              "#bd3786"
             ],
             [
              0.5555555555555556,
              "#d8576b"
             ],
             [
              0.6666666666666666,
              "#ed7953"
             ],
             [
              0.7777777777777778,
              "#fb9f3a"
             ],
             [
              0.8888888888888888,
              "#fdca26"
             ],
             [
              1,
              "#f0f921"
             ]
            ],
            "type": "surface"
           }
          ],
          "table": [
           {
            "cells": {
             "fill": {
              "color": "#EBF0F8"
             },
             "line": {
              "color": "white"
             }
            },
            "header": {
             "fill": {
              "color": "#C8D4E3"
             },
             "line": {
              "color": "white"
             }
            },
            "type": "table"
           }
          ]
         },
         "layout": {
          "annotationdefaults": {
           "arrowcolor": "#2a3f5f",
           "arrowhead": 0,
           "arrowwidth": 1
          },
          "autotypenumbers": "strict",
          "coloraxis": {
           "colorbar": {
            "outlinewidth": 0,
            "ticks": ""
           }
          },
          "colorscale": {
           "diverging": [
            [
             0,
             "#8e0152"
            ],
            [
             0.1,
             "#c51b7d"
            ],
            [
             0.2,
             "#de77ae"
            ],
            [
             0.3,
             "#f1b6da"
            ],
            [
             0.4,
             "#fde0ef"
            ],
            [
             0.5,
             "#f7f7f7"
            ],
            [
             0.6,
             "#e6f5d0"
            ],
            [
             0.7,
             "#b8e186"
            ],
            [
             0.8,
             "#7fbc41"
            ],
            [
             0.9,
             "#4d9221"
            ],
            [
             1,
             "#276419"
            ]
           ],
           "sequential": [
            [
             0,
             "#0d0887"
            ],
            [
             0.1111111111111111,
             "#46039f"
            ],
            [
             0.2222222222222222,
             "#7201a8"
            ],
            [
             0.3333333333333333,
             "#9c179e"
            ],
            [
             0.4444444444444444,
             "#bd3786"
            ],
            [
             0.5555555555555556,
             "#d8576b"
            ],
            [
             0.6666666666666666,
             "#ed7953"
            ],
            [
             0.7777777777777778,
             "#fb9f3a"
            ],
            [
             0.8888888888888888,
             "#fdca26"
            ],
            [
             1,
             "#f0f921"
            ]
           ],
           "sequentialminus": [
            [
             0,
             "#0d0887"
            ],
            [
             0.1111111111111111,
             "#46039f"
            ],
            [
             0.2222222222222222,
             "#7201a8"
            ],
            [
             0.3333333333333333,
             "#9c179e"
            ],
            [
             0.4444444444444444,
             "#bd3786"
            ],
            [
             0.5555555555555556,
             "#d8576b"
            ],
            [
             0.6666666666666666,
             "#ed7953"
            ],
            [
             0.7777777777777778,
             "#fb9f3a"
            ],
            [
             0.8888888888888888,
             "#fdca26"
            ],
            [
             1,
             "#f0f921"
            ]
           ]
          },
          "colorway": [
           "#636efa",
           "#EF553B",
           "#00cc96",
           "#ab63fa",
           "#FFA15A",
           "#19d3f3",
           "#FF6692",
           "#B6E880",
           "#FF97FF",
           "#FECB52"
          ],
          "font": {
           "color": "#2a3f5f"
          },
          "geo": {
           "bgcolor": "white",
           "lakecolor": "white",
           "landcolor": "#E5ECF6",
           "showlakes": true,
           "showland": true,
           "subunitcolor": "white"
          },
          "hoverlabel": {
           "align": "left"
          },
          "hovermode": "closest",
          "mapbox": {
           "style": "light"
          },
          "paper_bgcolor": "white",
          "plot_bgcolor": "#E5ECF6",
          "polar": {
           "angularaxis": {
            "gridcolor": "white",
            "linecolor": "white",
            "ticks": ""
           },
           "bgcolor": "#E5ECF6",
           "radialaxis": {
            "gridcolor": "white",
            "linecolor": "white",
            "ticks": ""
           }
          },
          "scene": {
           "xaxis": {
            "backgroundcolor": "#E5ECF6",
            "gridcolor": "white",
            "gridwidth": 2,
            "linecolor": "white",
            "showbackground": true,
            "ticks": "",
            "zerolinecolor": "white"
           },
           "yaxis": {
            "backgroundcolor": "#E5ECF6",
            "gridcolor": "white",
            "gridwidth": 2,
            "linecolor": "white",
            "showbackground": true,
            "ticks": "",
            "zerolinecolor": "white"
           },
           "zaxis": {
            "backgroundcolor": "#E5ECF6",
            "gridcolor": "white",
            "gridwidth": 2,
            "linecolor": "white",
            "showbackground": true,
            "ticks": "",
            "zerolinecolor": "white"
           }
          },
          "shapedefaults": {
           "line": {
            "color": "#2a3f5f"
           }
          },
          "ternary": {
           "aaxis": {
            "gridcolor": "white",
            "linecolor": "white",
            "ticks": ""
           },
           "baxis": {
            "gridcolor": "white",
            "linecolor": "white",
            "ticks": ""
           },
           "bgcolor": "#E5ECF6",
           "caxis": {
            "gridcolor": "white",
            "linecolor": "white",
            "ticks": ""
           }
          },
          "title": {
           "x": 0.05
          },
          "xaxis": {
           "automargin": true,
           "gridcolor": "white",
           "linecolor": "white",
           "ticks": "",
           "title": {
            "standoff": 15
           },
           "zerolinecolor": "white",
           "zerolinewidth": 2
          },
          "yaxis": {
           "automargin": true,
           "gridcolor": "white",
           "linecolor": "white",
           "ticks": "",
           "title": {
            "standoff": 15
           },
           "zerolinecolor": "white",
           "zerolinewidth": 2
          }
         }
        },
        "title": {
         "text": "Evolution of the ratings attributed to movies by the decades"
        },
        "xaxis": {
         "anchor": "y",
         "domain": [
          0,
          1
         ],
         "title": {
          "text": "Decade"
         }
        },
        "yaxis": {
         "anchor": "x",
         "domain": [
          0,
          1
         ],
         "title": {
          "text": "Average Rating"
         }
        }
       }
      }
     },
     "metadata": {},
     "output_type": "display_data"
    }
   ],
   "source": [
    "# We plot the graph representing the evolution of the ratings attributed to movies by the decades\n",
    "fig = px.line(\n",
    "    rating_per_decade,\n",
    "    x=\"Decade\", y=\"Rating\",\n",
    "    title=\"Evolution of the ratings attributed to movies by the decades\",\n",
    "    markers=True,\n",
    "    height=600)\n",
    "\n",
    "fig.update_layout(\n",
    "    xaxis_title = \"Decade\",\n",
    "    yaxis_title = \"Average Rating\")\n",
    "\n",
    "fig.show()"
   ]
  },
  {
   "cell_type": "code",
   "execution_count": 61,
   "metadata": {},
   "outputs": [
    {
     "data": {
      "image/png": "[encoded data removed]",
      "text/plain": [
       "<Figure size 1200x600 with 1 Axes>"
      ]
     },
     "metadata": {},
     "output_type": "display_data"
    }
   ],
   "source": [
    "# Evolution of the average number of votes over the year\n",
    "plt.figure(figsize=(12, 6))\n",
    "sns.lineplot(data= df.groupby(\"Decade\", observed=False)[\"Rating\"].mean())\n",
    "plt.title(\"Evolution of the ratings attributed to movies by the decades\")\n",
    "plt.xlabel(\"Decade\")\n",
    "plt.ylabel(\"Average Rating\")\n",
    "plt.show()"
   ]
  },
  {
   "cell_type": "markdown",
   "metadata": {},
   "source": [
    "The average scores over each decade vary between 6.6 and 6.9, nothing can be deduced from this."
   ]
  },
  {
   "cell_type": "markdown",
   "metadata": {},
   "source": [
    "## 5.4 - Genre popularity and evolution across decades"
   ]
  },
  {
   "cell_type": "markdown",
   "metadata": {},
   "source": [
    "### 5.4.1 Genre popularity across decades"
   ]
  },
  {
   "cell_type": "code",
   "execution_count": 62,
   "metadata": {},
   "outputs": [],
   "source": [
    "# We group by decade and genre and compute the average rating\n",
    "rating_per_decade_genre = df.groupby([\"Decade\", \"Genres\"], observed=False)[\"Rating\"].mean().reset_index()"
   ]
  },
  {
   "cell_type": "markdown",
   "metadata": {},
   "source": [
    "The chart generated by the code below is an interactive Plotly chart but the screenshots of each decade from this graph are present just after."
   ]
  },
  {
   "cell_type": "code",
   "execution_count": 63,
   "metadata": {},
   "outputs": [
    {
     "data": {
      "application/vnd.plotly.v1+json": {
       "config": {
        "plotlyServerURL": "https://plot.ly"
       },
       "data": [
        {
         "marker": {
          "color": [
           "orange",
           "orange",
           "orange",
           "blue",
           "blue",
           "blue",
           "blue",
           "blue",
           "blue",
           "blue",
           "blue",
           "blue",
           "blue",
           "blue",
           "blue",
           "blue",
           "blue",
           "blue",
           "blue",
           "blue"
          ]
         },
         "name": "1970-1979",
         "type": "bar",
         "visible": true,
         "x": [
          "Fantasy",
          "Biography",
          "Drama",
          "Thriller",
          "Crime",
          "Adventure",
          "Mystery",
          "Action",
          "Comedy",
          "Documentary",
          "Animation",
          "Sci-Fi",
          "Horror",
          "Family",
          "History",
          "Musical",
          "Romance",
          "Unknown",
          "War",
          "Western"
         ],
         "y": [
          7.6,
          7.090909090909091,
          6.968686868686868,
          6.9,
          6.8810810810810805,
          6.875,
          6.85,
          6.826923076923077,
          6.808653846153846,
          6.7700000000000005,
          6.76,
          6.75,
          6.675,
          null,
          null,
          null,
          null,
          null,
          null,
          null
         ]
        },
        {
         "marker": {
          "color": [
           "orange",
           "orange",
           "orange",
           "blue",
           "blue",
           "blue",
           "blue",
           "blue",
           "blue",
           "blue",
           "blue",
           "blue",
           "blue",
           "blue",
           "blue",
           "blue",
           "blue",
           "blue",
           "blue",
           "blue"
          ]
         },
         "name": "1980-1989",
         "type": "bar",
         "visible": false,
         "x": [
          "Animation",
          "Romance",
          "Fantasy",
          "Biography",
          "Adventure",
          "Action",
          "Crime",
          "Comedy",
          "Drama",
          "Horror",
          "Documentary",
          "Thriller",
          "Sci-Fi",
          "Family",
          "Mystery",
          "History",
          "Musical",
          "Unknown",
          "War",
          "Western"
         ],
         "y": [
          7.284999999999999,
          7.15,
          7.01,
          6.959999999999999,
          6.925757575757576,
          6.902083333333334,
          6.866176470588235,
          6.862582781456954,
          6.841509433962264,
          6.776470588235295,
          6.768421052631578,
          6.75,
          6.733333333333333,
          6.7,
          6,
          null,
          null,
          null,
          null,
          null
         ]
        },
        {
         "marker": {
          "color": [
           "orange",
           "orange",
           "orange",
           "blue",
           "blue",
           "blue",
           "blue",
           "blue",
           "blue",
           "blue",
           "blue",
           "blue",
           "blue",
           "blue",
           "blue",
           "blue",
           "blue",
           "blue",
           "blue",
           "blue"
          ]
         },
         "name": "1990-1999",
         "type": "bar",
         "visible": false,
         "x": [
          "Animation",
          "Thriller",
          "Crime",
          "Horror",
          "Adventure",
          "Biography",
          "Action",
          "Drama",
          "Comedy",
          "Fantasy",
          "Documentary",
          "Western",
          "Sci-Fi",
          "Family",
          "Mystery",
          "Romance",
          "History",
          "Musical",
          "Unknown",
          "War"
         ],
         "y": [
          7.42,
          7.1,
          6.970714285714285,
          6.954054054054055,
          6.95223880597015,
          6.94025974025974,
          6.890613718411553,
          6.862105263157895,
          6.85071283095723,
          6.781818181818181,
          6.752941176470588,
          6.7,
          6.6,
          6.6,
          6.459999999999999,
          6.4,
          null,
          null,
          null,
          null
         ]
        },
        {
         "marker": {
          "color": [
           "orange",
           "orange",
           "orange",
           "blue",
           "blue",
           "blue",
           "blue",
           "blue",
           "blue",
           "blue",
           "blue",
           "blue",
           "blue",
           "blue",
           "blue",
           "blue",
           "blue",
           "blue",
           "blue",
           "blue"
          ]
         },
         "name": "2000-2009",
         "type": "bar",
         "visible": false,
         "x": [
          "Fantasy",
          "Mystery",
          "Sci-Fi",
          "Animation",
          "Thriller",
          "Biography",
          "War",
          "Crime",
          "Action",
          "Drama",
          "Comedy",
          "Adventure",
          "Unknown",
          "Documentary",
          "Romance",
          "Musical",
          "Horror",
          "Family",
          "History",
          "Western"
         ],
         "y": [
          7.25,
          7.1,
          7.08,
          7.0311111111111115,
          7,
          6.8880681818181815,
          6.866666666666667,
          6.863782051282051,
          6.844117647058823,
          6.798406747891284,
          6.745881310894597,
          6.742857142857143,
          6.7,
          6.678294573643411,
          6.644444444444444,
          6.622222222222223,
          6.538679245283019,
          6.3,
          null,
          null
         ]
        },
        {
         "marker": {
          "color": [
           "orange",
           "orange",
           "orange",
           "blue",
           "blue",
           "blue",
           "blue",
           "blue",
           "blue",
           "blue",
           "blue",
           "blue",
           "blue",
           "blue",
           "blue",
           "blue",
           "blue",
           "blue",
           "blue",
           "blue"
          ]
         },
         "name": "2010-2019",
         "type": "bar",
         "visible": false,
         "x": [
          "Musical",
          "Animation",
          "Biography",
          "Mystery",
          "Drama",
          "Crime",
          "Documentary",
          "Unknown",
          "Adventure",
          "Fantasy",
          "Thriller",
          "Comedy",
          "Action",
          "Romance",
          "Sci-Fi",
          "Horror",
          "Family",
          "History",
          "War",
          "Western"
         ],
         "y": [
          6.925,
          6.8164021164021165,
          6.801988636363637,
          6.763636363636363,
          6.746314325452017,
          6.735987261146496,
          6.714887892376682,
          6.7,
          6.661081081081081,
          6.633333333333334,
          6.626315789473685,
          6.619244604316547,
          6.568592964824121,
          6.55,
          6.4,
          6.388108108108108,
          null,
          null,
          null,
          null
         ]
        },
        {
         "marker": {
          "color": [
           "orange",
           "orange",
           "orange",
           "blue",
           "blue",
           "blue",
           "blue",
           "blue",
           "blue",
           "blue",
           "blue",
           "blue",
           "blue",
           "blue",
           "blue",
           "blue",
           "blue",
           "blue",
           "blue",
           "blue"
          ]
         },
         "name": "2020-2029",
         "type": "bar",
         "visible": false,
         "x": [
          "Family",
          "Unknown",
          "Romance",
          "Documentary",
          "Animation",
          "History",
          "Biography",
          "Drama",
          "Crime",
          "Musical",
          "Fantasy",
          "Comedy",
          "Adventure",
          "Thriller",
          "Horror",
          "Action",
          "Mystery",
          "Sci-Fi",
          "War",
          "Western"
         ],
         "y": [
          7.65,
          6.95,
          6.75,
          6.734417344173441,
          6.733673469387755,
          6.7,
          6.696428571428571,
          6.664391691394659,
          6.6000000000000005,
          6.6,
          6.575,
          6.550559284116331,
          6.534782608695652,
          6.523529411764706,
          6.436206896551725,
          6.355244755244755,
          6.3,
          6.3,
          null,
          null
         ]
        }
       ],
       "layout": {
        "height": 600,
        "template": {
         "data": {
          "bar": [
           {
            "error_x": {
             "color": "#2a3f5f"
            },
            "error_y": {
             "color": "#2a3f5f"
            },
            "marker": {
             "line": {
              "color": "#E5ECF6",
              "width": 0.5
             },
             "pattern": {
              "fillmode": "overlay",
              "size": 10,
              "solidity": 0.2
             }
            },
            "type": "bar"
           }
          ],
          "barpolar": [
           {
            "marker": {
             "line": {
              "color": "#E5ECF6",
              "width": 0.5
             },
             "pattern": {
              "fillmode": "overlay",
              "size": 10,
              "solidity": 0.2
             }
            },
            "type": "barpolar"
           }
          ],
          "carpet": [
           {
            "aaxis": {
             "endlinecolor": "#2a3f5f",
             "gridcolor": "white",
             "linecolor": "white",
             "minorgridcolor": "white",
             "startlinecolor": "#2a3f5f"
            },
            "baxis": {
             "endlinecolor": "#2a3f5f",
             "gridcolor": "white",
             "linecolor": "white",
             "minorgridcolor": "white",
             "startlinecolor": "#2a3f5f"
            },
            "type": "carpet"
           }
          ],
          "choropleth": [
           {
            "colorbar": {
             "outlinewidth": 0,
             "ticks": ""
            },
            "type": "choropleth"
           }
          ],
          "contour": [
           {
            "colorbar": {
             "outlinewidth": 0,
             "ticks": ""
            },
            "colorscale": [
             [
              0,
              "#0d0887"
             ],
             [
              0.1111111111111111,
              "#46039f"
             ],
             [
              0.2222222222222222,
              "#7201a8"
             ],
             [
              0.3333333333333333,
              "#9c179e"
             ],
             [
              0.4444444444444444,
              "#bd3786"
             ],
             [
              0.5555555555555556,
              "#d8576b"
             ],
             [
              0.6666666666666666,
              "#ed7953"
             ],
             [
              0.7777777777777778,
              "#fb9f3a"
             ],
             [
              0.8888888888888888,
              "#fdca26"
             ],
             [
              1,
              "#f0f921"
             ]
            ],
            "type": "contour"
           }
          ],
          "contourcarpet": [
           {
            "colorbar": {
             "outlinewidth": 0,
             "ticks": ""
            },
            "type": "contourcarpet"
           }
          ],
          "heatmap": [
           {
            "colorbar": {
             "outlinewidth": 0,
             "ticks": ""
            },
            "colorscale": [
             [
              0,
              "#0d0887"
             ],
             [
              0.1111111111111111,
              "#46039f"
             ],
             [
              0.2222222222222222,
              "#7201a8"
             ],
             [
              0.3333333333333333,
              "#9c179e"
             ],
             [
              0.4444444444444444,
              "#bd3786"
             ],
             [
              0.5555555555555556,
              "#d8576b"
             ],
             [
              0.6666666666666666,
              "#ed7953"
             ],
             [
              0.7777777777777778,
              "#fb9f3a"
             ],
             [
              0.8888888888888888,
              "#fdca26"
             ],
             [
              1,
              "#f0f921"
             ]
            ],
            "type": "heatmap"
           }
          ],
          "heatmapgl": [
           {
            "colorbar": {
             "outlinewidth": 0,
             "ticks": ""
            },
            "colorscale": [
             [
              0,
              "#0d0887"
             ],
             [
              0.1111111111111111,
              "#46039f"
             ],
             [
              0.2222222222222222,
              "#7201a8"
             ],
             [
              0.3333333333333333,
              "#9c179e"
             ],
             [
              0.4444444444444444,
              "#bd3786"
             ],
             [
              0.5555555555555556,
              "#d8576b"
             ],
             [
              0.6666666666666666,
              "#ed7953"
             ],
             [
              0.7777777777777778,
              "#fb9f3a"
             ],
             [
              0.8888888888888888,
              "#fdca26"
             ],
             [
              1,
              "#f0f921"
             ]
            ],
            "type": "heatmapgl"
           }
          ],
          "histogram": [
           {
            "marker": {
             "pattern": {
              "fillmode": "overlay",
              "size": 10,
              "solidity": 0.2
             }
            },
            "type": "histogram"
           }
          ],
          "histogram2d": [
           {
            "colorbar": {
             "outlinewidth": 0,
             "ticks": ""
            },
            "colorscale": [
             [
              0,
              "#0d0887"
             ],
             [
              0.1111111111111111,
              "#46039f"
             ],
             [
              0.2222222222222222,
              "#7201a8"
             ],
             [
              0.3333333333333333,
              "#9c179e"
             ],
             [
              0.4444444444444444,
              "#bd3786"
             ],
             [
              0.5555555555555556,
              "#d8576b"
             ],
             [
              0.6666666666666666,
              "#ed7953"
             ],
             [
              0.7777777777777778,
              "#fb9f3a"
             ],
             [
              0.8888888888888888,
              "#fdca26"
             ],
             [
              1,
              "#f0f921"
             ]
            ],
            "type": "histogram2d"
           }
          ],
          "histogram2dcontour": [
           {
            "colorbar": {
             "outlinewidth": 0,
             "ticks": ""
            },
            "colorscale": [
             [
              0,
              "#0d0887"
             ],
             [
              0.1111111111111111,
              "#46039f"
             ],
             [
              0.2222222222222222,
              "#7201a8"
             ],
             [
              0.3333333333333333,
              "#9c179e"
             ],
             [
              0.4444444444444444,
              "#bd3786"
             ],
             [
              0.5555555555555556,
              "#d8576b"
             ],
             [
              0.6666666666666666,
              "#ed7953"
             ],
             [
              0.7777777777777778,
              "#fb9f3a"
             ],
             [
              0.8888888888888888,
              "#fdca26"
             ],
             [
              1,
              "#f0f921"
             ]
            ],
            "type": "histogram2dcontour"
           }
          ],
          "mesh3d": [
           {
            "colorbar": {
             "outlinewidth": 0,
             "ticks": ""
            },
            "type": "mesh3d"
           }
          ],
          "parcoords": [
           {
            "line": {
             "colorbar": {
              "outlinewidth": 0,
              "ticks": ""
             }
            },
            "type": "parcoords"
           }
          ],
          "pie": [
           {
            "automargin": true,
            "type": "pie"
           }
          ],
          "scatter": [
           {
            "fillpattern": {
             "fillmode": "overlay",
             "size": 10,
             "solidity": 0.2
            },
            "type": "scatter"
           }
          ],
          "scatter3d": [
           {
            "line": {
             "colorbar": {
              "outlinewidth": 0,
              "ticks": ""
             }
            },
            "marker": {
             "colorbar": {
              "outlinewidth": 0,
              "ticks": ""
             }
            },
            "type": "scatter3d"
           }
          ],
          "scattercarpet": [
           {
            "marker": {
             "colorbar": {
              "outlinewidth": 0,
              "ticks": ""
             }
            },
            "type": "scattercarpet"
           }
          ],
          "scattergeo": [
           {
            "marker": {
             "colorbar": {
              "outlinewidth": 0,
              "ticks": ""
             }
            },
            "type": "scattergeo"
           }
          ],
          "scattergl": [
           {
            "marker": {
             "colorbar": {
              "outlinewidth": 0,
              "ticks": ""
             }
            },
            "type": "scattergl"
           }
          ],
          "scattermapbox": [
           {
            "marker": {
             "colorbar": {
              "outlinewidth": 0,
              "ticks": ""
             }
            },
            "type": "scattermapbox"
           }
          ],
          "scatterpolar": [
           {
            "marker": {
             "colorbar": {
              "outlinewidth": 0,
              "ticks": ""
             }
            },
            "type": "scatterpolar"
           }
          ],
          "scatterpolargl": [
           {
            "marker": {
             "colorbar": {
              "outlinewidth": 0,
              "ticks": ""
             }
            },
            "type": "scatterpolargl"
           }
          ],
          "scatterternary": [
           {
            "marker": {
             "colorbar": {
              "outlinewidth": 0,
              "ticks": ""
             }
            },
            "type": "scatterternary"
           }
          ],
          "surface": [
           {
            "colorbar": {
             "outlinewidth": 0,
             "ticks": ""
            },
            "colorscale": [
             [
              0,
              "#0d0887"
             ],
             [
              0.1111111111111111,
              "#46039f"
             ],
             [
              0.2222222222222222,
              "#7201a8"
             ],
             [
              0.3333333333333333,
              "#9c179e"
             ],
             [
              0.4444444444444444,
              "#bd3786"
             ],
             [
              0.5555555555555556,
              "#d8576b"
             ],
             [
              0.6666666666666666,
              "#ed7953"
             ],
             [
              0.7777777777777778,
              "#fb9f3a"
             ],
             [
              0.8888888888888888,
              "#fdca26"
             ],
             [
              1,
              "#f0f921"
             ]
            ],
            "type": "surface"
           }
          ],
          "table": [
           {
            "cells": {
             "fill": {
              "color": "#EBF0F8"
             },
             "line": {
              "color": "white"
             }
            },
            "header": {
             "fill": {
              "color": "#C8D4E3"
             },
             "line": {
              "color": "white"
             }
            },
            "type": "table"
           }
          ]
         },
         "layout": {
          "annotationdefaults": {
           "arrowcolor": "#2a3f5f",
           "arrowhead": 0,
           "arrowwidth": 1
          },
          "autotypenumbers": "strict",
          "coloraxis": {
           "colorbar": {
            "outlinewidth": 0,
            "ticks": ""
           }
          },
          "colorscale": {
           "diverging": [
            [
             0,
             "#8e0152"
            ],
            [
             0.1,
             "#c51b7d"
            ],
            [
             0.2,
             "#de77ae"
            ],
            [
             0.3,
             "#f1b6da"
            ],
            [
             0.4,
             "#fde0ef"
            ],
            [
             0.5,
             "#f7f7f7"
            ],
            [
             0.6,
             "#e6f5d0"
            ],
            [
             0.7,
             "#b8e186"
            ],
            [
             0.8,
             "#7fbc41"
            ],
            [
             0.9,
             "#4d9221"
            ],
            [
             1,
             "#276419"
            ]
           ],
           "sequential": [
            [
             0,
             "#0d0887"
            ],
            [
             0.1111111111111111,
             "#46039f"
            ],
            [
             0.2222222222222222,
             "#7201a8"
            ],
            [
             0.3333333333333333,
             "#9c179e"
            ],
            [
             0.4444444444444444,
             "#bd3786"
            ],
            [
             0.5555555555555556,
             "#d8576b"
            ],
            [
             0.6666666666666666,
             "#ed7953"
            ],
            [
             0.7777777777777778,
             "#fb9f3a"
            ],
            [
             0.8888888888888888,
             "#fdca26"
            ],
            [
             1,
             "#f0f921"
            ]
           ],
           "sequentialminus": [
            [
             0,
             "#0d0887"
            ],
            [
             0.1111111111111111,
             "#46039f"
            ],
            [
             0.2222222222222222,
             "#7201a8"
            ],
            [
             0.3333333333333333,
             "#9c179e"
            ],
            [
             0.4444444444444444,
             "#bd3786"
            ],
            [
             0.5555555555555556,
             "#d8576b"
            ],
            [
             0.6666666666666666,
             "#ed7953"
            ],
            [
             0.7777777777777778,
             "#fb9f3a"
            ],
            [
             0.8888888888888888,
             "#fdca26"
            ],
            [
             1,
             "#f0f921"
            ]
           ]
          },
          "colorway": [
           "#636efa",
           "#EF553B",
           "#00cc96",
           "#ab63fa",
           "#FFA15A",
           "#19d3f3",
           "#FF6692",
           "#B6E880",
           "#FF97FF",
           "#FECB52"
          ],
          "font": {
           "color": "#2a3f5f"
          },
          "geo": {
           "bgcolor": "white",
           "lakecolor": "white",
           "landcolor": "#E5ECF6",
           "showlakes": true,
           "showland": true,
           "subunitcolor": "white"
          },
          "hoverlabel": {
           "align": "left"
          },
          "hovermode": "closest",
          "mapbox": {
           "style": "light"
          },
          "paper_bgcolor": "white",
          "plot_bgcolor": "#E5ECF6",
          "polar": {
           "angularaxis": {
            "gridcolor": "white",
            "linecolor": "white",
            "ticks": ""
           },
           "bgcolor": "#E5ECF6",
           "radialaxis": {
            "gridcolor": "white",
            "linecolor": "white",
            "ticks": ""
           }
          },
          "scene": {
           "xaxis": {
            "backgroundcolor": "#E5ECF6",
            "gridcolor": "white",
            "gridwidth": 2,
            "linecolor": "white",
            "showbackground": true,
            "ticks": "",
            "zerolinecolor": "white"
           },
           "yaxis": {
            "backgroundcolor": "#E5ECF6",
            "gridcolor": "white",
            "gridwidth": 2,
            "linecolor": "white",
            "showbackground": true,
            "ticks": "",
            "zerolinecolor": "white"
           },
           "zaxis": {
            "backgroundcolor": "#E5ECF6",
            "gridcolor": "white",
            "gridwidth": 2,
            "linecolor": "white",
            "showbackground": true,
            "ticks": "",
            "zerolinecolor": "white"
           }
          },
          "shapedefaults": {
           "line": {
            "color": "#2a3f5f"
           }
          },
          "ternary": {
           "aaxis": {
            "gridcolor": "white",
            "linecolor": "white",
            "ticks": ""
           },
           "baxis": {
            "gridcolor": "white",
            "linecolor": "white",
            "ticks": ""
           },
           "bgcolor": "#E5ECF6",
           "caxis": {
            "gridcolor": "white",
            "linecolor": "white",
            "ticks": ""
           }
          },
          "title": {
           "x": 0.05
          },
          "xaxis": {
           "automargin": true,
           "gridcolor": "white",
           "linecolor": "white",
           "ticks": "",
           "title": {
            "standoff": 15
           },
           "zerolinecolor": "white",
           "zerolinewidth": 2
          },
          "yaxis": {
           "automargin": true,
           "gridcolor": "white",
           "linecolor": "white",
           "ticks": "",
           "title": {
            "standoff": 15
           },
           "zerolinecolor": "white",
           "zerolinewidth": 2
          }
         }
        },
        "title": {
         "text": "Evolution of the ratings attributed to movies by genres across decades"
        },
        "updatemenus": [
         {
          "buttons": [
           {
            "args": [
             {
              "visible": [
               true,
               false,
               false,
               false,
               false,
               false
              ]
             },
             {
              "yaxis.range": [
               0,
               7.6
              ]
             }
            ],
            "label": "1970-1979",
            "method": "update"
           },
           {
            "args": [
             {
              "visible": [
               false,
               true,
               false,
               false,
               false,
               false
              ]
             },
             {
              "yaxis.range": [
               0,
               7.284999999999999
              ]
             }
            ],
            "label": "1980-1989",
            "method": "update"
           },
           {
            "args": [
             {
              "visible": [
               false,
               false,
               true,
               false,
               false,
               false
              ]
             },
             {
              "yaxis.range": [
               0,
               7.42
              ]
             }
            ],
            "label": "1990-1999",
            "method": "update"
           },
           {
            "args": [
             {
              "visible": [
               false,
               false,
               false,
               true,
               false,
               false
              ]
             },
             {
              "yaxis.range": [
               0,
               7.25
              ]
             }
            ],
            "label": "2000-2009",
            "method": "update"
           },
           {
            "args": [
             {
              "visible": [
               false,
               false,
               false,
               false,
               true,
               false
              ]
             },
             {
              "yaxis.range": [
               0,
               6.925
              ]
             }
            ],
            "label": "2010-2019",
            "method": "update"
           },
           {
            "args": [
             {
              "visible": [
               false,
               false,
               false,
               false,
               false,
               true
              ]
             },
             {
              "yaxis.range": [
               0,
               7.65
              ]
             }
            ],
            "label": "2020-2029",
            "method": "update"
           }
          ],
          "direction": "down",
          "showactive": true
         }
        ],
        "xaxis": {
         "title": {
          "text": "Genres"
         }
        },
        "yaxis": {
         "title": {
          "text": "Average Rating"
         }
        }
       }
      }
     },
     "metadata": {},
     "output_type": "display_data"
    }
   ],
   "source": [
    "# We plot the graph representing the evolution of the ratings attributed to movies by the decades\n",
    "# Create a figure\n",
    "fig = go.Figure()\n",
    "\n",
    "# Add bars for each decade\n",
    "for decade in rating_per_decade_genre[\"Decade\"].unique():\n",
    "    # Filter by decade and sort by Rating \n",
    "    df_decade = rating_per_decade_genre[rating_per_decade_genre[\"Decade\"] == decade]\n",
    "    df_decade = df_decade.sort_values(by=\"Rating\", ascending=False)\n",
    "\n",
    "    # Color the 3 genres with the most releases in orange\n",
    "    colors = [\"orange\" if i < 3 else \"blue\" for i in range(len(df_decade))]\n",
    "\n",
    "    fig.add_trace(go.Bar(\n",
    "        x=df_decade[\"Genres\"],\n",
    "        y=df_decade[\"Rating\"],\n",
    "        name=decade,\n",
    "        visible=False,\n",
    "        marker_color=colors,\n",
    "    ))\n",
    "\n",
    "# Make the first decade visible by default\n",
    "fig.data[0].visible = True\n",
    "\n",
    "# Configuring animations\n",
    "fig.update_layout(\n",
    "    updatemenus=[{\n",
    "        \"buttons\": [\n",
    "            {\n",
    "                \"label\": decade,\n",
    "                \"method\": \"update\",\n",
    "                \"args\": [\n",
    "                    {\"visible\": [decade == d for d in rating_per_decade_genre[\"Decade\"].unique()]},\n",
    "                    {\"yaxis.range\": [0, rating_per_decade_genre[rating_per_decade_genre[\"Decade\"] == decade][\"Rating\"].max()]}\n",
    "                ]  \n",
    "            } for decade in rating_per_decade_genre[\"Decade\"].unique()\n",
    "        ],\n",
    "        \"direction\": \"down\",\n",
    "        \"showactive\": True\n",
    "    }],\n",
    "    title=\"Evolution of the ratings attributed to movies by genres across decades\",\n",
    "    height=600\n",
    ")\n",
    "\n",
    "# Edit axis titles\n",
    "fig.update_layout(\n",
    "    xaxis_title=\"Genres\",\n",
    "    yaxis_title=\"Average Rating\" \n",
    ")\n",
    "\n",
    "# Show chart\n",
    "fig.show()\n"
   ]
  },
  {
   "cell_type": "markdown",
   "metadata": {},
   "source": [
    "![80s](Screenshots_Plotly_Charts/Ratings_by_genres_80s.png)"
   ]
  },
  {
   "cell_type": "markdown",
   "metadata": {},
   "source": [
    "![90s](Screenshots_Plotly_Charts/Ratings_by_genres_90s.png)"
   ]
  },
  {
   "cell_type": "markdown",
   "metadata": {},
   "source": [
    "![00s](Screenshots_Plotly_Charts/Ratings_by_genres_00s.png)"
   ]
  },
  {
   "cell_type": "markdown",
   "metadata": {},
   "source": [
    "![10s](Screenshots_Plotly_Charts/Ratings_by_genres_10s.png)"
   ]
  },
  {
   "cell_type": "markdown",
   "metadata": {},
   "source": [
    "![20s](Screenshots_Plotly_Charts/Ratings_by_genres_20s.png)"
   ]
  },
  {
   "cell_type": "markdown",
   "metadata": {},
   "source": [
    "### 5.4.2 Genre evolution across decades"
   ]
  },
  {
   "cell_type": "code",
   "execution_count": 64,
   "metadata": {},
   "outputs": [],
   "source": [
    "# We group by decade and genre and compute the average rating\n",
    "evolution_per_decade_genre = df.groupby([\"Decade\", \"Genres\"], observed=False)[\"Title\"].count().reset_index()\n",
    "evolution_per_decade_genre.rename(columns={\"Title\" : \"Nb_movies\"}, inplace=True)\n",
    "\n",
    "# Convert \"Nb_movies\" column in numeric\n",
    "evolution_per_decade_genre[\"Nb_movies\"] = pd.to_numeric(evolution_per_decade_genre[\"Nb_movies\"], errors=\"coerce\")"
   ]
  },
  {
   "cell_type": "markdown",
   "metadata": {},
   "source": [
    "The chart generated by the code below is an interactive Plotly chart but the screenshots of each decade from this graph are present just after."
   ]
  },
  {
   "cell_type": "code",
   "execution_count": 65,
   "metadata": {},
   "outputs": [
    {
     "data": {
      "application/vnd.plotly.v1+json": {
       "config": {
        "plotlyServerURL": "https://plot.ly"
       },
       "data": [
        {
         "marker": {
          "color": [
           "blue",
           "blue",
           "blue",
           "blue",
           "blue",
           "blue",
           "blue",
           "blue",
           "blue",
           "blue",
           "blue",
           "blue",
           "blue",
           "blue",
           "blue",
           "blue",
           "blue",
           "orange",
           "orange",
           "orange"
          ]
         },
         "name": "1970-1979",
         "orientation": "h",
         "type": "bar",
         "visible": true,
         "x": [
          0,
          0,
          0,
          0,
          0,
          0,
          0,
          2,
          2,
          2,
          2,
          5,
          10,
          11,
          28,
          32,
          37,
          78,
          99,
          104
         ],
         "y": [
          "Musical",
          "Romance",
          "History",
          "Family",
          "War",
          "Western",
          "Unknown",
          "Fantasy",
          "Thriller",
          "Sci-Fi",
          "Mystery",
          "Animation",
          "Documentary",
          "Biography",
          "Horror",
          "Adventure",
          "Crime",
          "Action",
          "Drama",
          "Comedy"
         ]
        },
        {
         "marker": {
          "color": [
           "blue",
           "blue",
           "blue",
           "blue",
           "blue",
           "blue",
           "blue",
           "blue",
           "blue",
           "blue",
           "blue",
           "blue",
           "blue",
           "blue",
           "blue",
           "blue",
           "blue",
           "orange",
           "orange",
           "orange"
          ]
         },
         "name": "1980-1989",
         "orientation": "h",
         "type": "bar",
         "visible": false,
         "x": [
          0,
          0,
          0,
          0,
          0,
          1,
          1,
          2,
          2,
          3,
          10,
          19,
          20,
          40,
          51,
          66,
          68,
          159,
          192,
          302
         ],
         "y": [
          "Musical",
          "History",
          "War",
          "Unknown",
          "Western",
          "Family",
          "Mystery",
          "Romance",
          "Thriller",
          "Sci-Fi",
          "Fantasy",
          "Documentary",
          "Animation",
          "Biography",
          "Horror",
          "Adventure",
          "Crime",
          "Drama",
          "Action",
          "Comedy"
         ]
        },
        {
         "marker": {
          "color": [
           "blue",
           "blue",
           "blue",
           "blue",
           "blue",
           "blue",
           "blue",
           "blue",
           "blue",
           "blue",
           "blue",
           "blue",
           "blue",
           "blue",
           "blue",
           "blue",
           "blue",
           "orange",
           "orange",
           "orange"
          ]
         },
         "name": "1990-1999",
         "orientation": "h",
         "type": "bar",
         "visible": false,
         "x": [
          0,
          0,
          0,
          0,
          1,
          1,
          1,
          1,
          1,
          5,
          11,
          34,
          35,
          37,
          67,
          77,
          140,
          277,
          285,
          491
         ],
         "y": [
          "Musical",
          "History",
          "War",
          "Unknown",
          "Sci-Fi",
          "Thriller",
          "Family",
          "Romance",
          "Western",
          "Mystery",
          "Fantasy",
          "Documentary",
          "Animation",
          "Horror",
          "Adventure",
          "Biography",
          "Crime",
          "Action",
          "Drama",
          "Comedy"
         ]
        },
        {
         "marker": {
          "color": [
           "blue",
           "blue",
           "blue",
           "blue",
           "blue",
           "blue",
           "blue",
           "blue",
           "blue",
           "blue",
           "blue",
           "blue",
           "blue",
           "blue",
           "blue",
           "blue",
           "blue",
           "orange",
           "orange",
           "orange"
          ]
         },
         "name": "2000-2009",
         "orientation": "h",
         "type": "bar",
         "visible": false,
         "x": [
          0,
          0,
          1,
          1,
          3,
          5,
          8,
          9,
          9,
          9,
          10,
          106,
          135,
          147,
          176,
          312,
          510,
          645,
          1067,
          1129
         ],
         "y": [
          "History",
          "Western",
          "Unknown",
          "Family",
          "War",
          "Sci-Fi",
          "Fantasy",
          "Musical",
          "Mystery",
          "Romance",
          "Thriller",
          "Horror",
          "Animation",
          "Adventure",
          "Biography",
          "Crime",
          "Action",
          "Documentary",
          "Drama",
          "Comedy"
         ]
        },
        {
         "marker": {
          "color": [
           "blue",
           "blue",
           "blue",
           "blue",
           "blue",
           "blue",
           "blue",
           "blue",
           "blue",
           "blue",
           "blue",
           "blue",
           "blue",
           "blue",
           "blue",
           "blue",
           "blue",
           "orange",
           "orange",
           "orange"
          ]
         },
         "name": "2010-2019",
         "orientation": "h",
         "type": "bar",
         "visible": false,
         "x": [
          0,
          0,
          0,
          0,
          1,
          1,
          4,
          4,
          11,
          19,
          21,
          185,
          185,
          189,
          314,
          352,
          796,
          1112,
          1115,
          1438
         ],
         "y": [
          "History",
          "Family",
          "War",
          "Western",
          "Sci-Fi",
          "Unknown",
          "Romance",
          "Musical",
          "Mystery",
          "Thriller",
          "Fantasy",
          "Adventure",
          "Horror",
          "Animation",
          "Crime",
          "Biography",
          "Action",
          "Comedy",
          "Documentary",
          "Drama"
         ]
        },
        {
         "marker": {
          "color": [
           "blue",
           "blue",
           "blue",
           "blue",
           "blue",
           "blue",
           "blue",
           "blue",
           "blue",
           "blue",
           "blue",
           "blue",
           "blue",
           "blue",
           "blue",
           "blue",
           "blue",
           "orange",
           "orange",
           "orange"
          ]
         },
         "name": "2020-2029",
         "orientation": "h",
         "type": "bar",
         "visible": false,
         "x": [
          0,
          0,
          1,
          1,
          2,
          2,
          2,
          2,
          6,
          12,
          17,
          69,
          98,
          112,
          116,
          116,
          286,
          369,
          447,
          674
         ],
         "y": [
          "War",
          "Western",
          "Musical",
          "History",
          "Sci-Fi",
          "Unknown",
          "Family",
          "Romance",
          "Mystery",
          "Fantasy",
          "Thriller",
          "Adventure",
          "Animation",
          "Biography",
          "Crime",
          "Horror",
          "Action",
          "Documentary",
          "Comedy",
          "Drama"
         ]
        }
       ],
       "layout": {
        "height": 600,
        "template": {
         "data": {
          "bar": [
           {
            "error_x": {
             "color": "#2a3f5f"
            },
            "error_y": {
             "color": "#2a3f5f"
            },
            "marker": {
             "line": {
              "color": "#E5ECF6",
              "width": 0.5
             },
             "pattern": {
              "fillmode": "overlay",
              "size": 10,
              "solidity": 0.2
             }
            },
            "type": "bar"
           }
          ],
          "barpolar": [
           {
            "marker": {
             "line": {
              "color": "#E5ECF6",
              "width": 0.5
             },
             "pattern": {
              "fillmode": "overlay",
              "size": 10,
              "solidity": 0.2
             }
            },
            "type": "barpolar"
           }
          ],
          "carpet": [
           {
            "aaxis": {
             "endlinecolor": "#2a3f5f",
             "gridcolor": "white",
             "linecolor": "white",
             "minorgridcolor": "white",
             "startlinecolor": "#2a3f5f"
            },
            "baxis": {
             "endlinecolor": "#2a3f5f",
             "gridcolor": "white",
             "linecolor": "white",
             "minorgridcolor": "white",
             "startlinecolor": "#2a3f5f"
            },
            "type": "carpet"
           }
          ],
          "choropleth": [
           {
            "colorbar": {
             "outlinewidth": 0,
             "ticks": ""
            },
            "type": "choropleth"
           }
          ],
          "contour": [
           {
            "colorbar": {
             "outlinewidth": 0,
             "ticks": ""
            },
            "colorscale": [
             [
              0,
              "#0d0887"
             ],
             [
              0.1111111111111111,
              "#46039f"
             ],
             [
              0.2222222222222222,
              "#7201a8"
             ],
             [
              0.3333333333333333,
              "#9c179e"
             ],
             [
              0.4444444444444444,
              "#bd3786"
             ],
             [
              0.5555555555555556,
              "#d8576b"
             ],
             [
              0.6666666666666666,
              "#ed7953"
             ],
             [
              0.7777777777777778,
              "#fb9f3a"
             ],
             [
              0.8888888888888888,
              "#fdca26"
             ],
             [
              1,
              "#f0f921"
             ]
            ],
            "type": "contour"
           }
          ],
          "contourcarpet": [
           {
            "colorbar": {
             "outlinewidth": 0,
             "ticks": ""
            },
            "type": "contourcarpet"
           }
          ],
          "heatmap": [
           {
            "colorbar": {
             "outlinewidth": 0,
             "ticks": ""
            },
            "colorscale": [
             [
              0,
              "#0d0887"
             ],
             [
              0.1111111111111111,
              "#46039f"
             ],
             [
              0.2222222222222222,
              "#7201a8"
             ],
             [
              0.3333333333333333,
              "#9c179e"
             ],
             [
              0.4444444444444444,
              "#bd3786"
             ],
             [
              0.5555555555555556,
              "#d8576b"
             ],
             [
              0.6666666666666666,
              "#ed7953"
             ],
             [
              0.7777777777777778,
              "#fb9f3a"
             ],
             [
              0.8888888888888888,
              "#fdca26"
             ],
             [
              1,
              "#f0f921"
             ]
            ],
            "type": "heatmap"
           }
          ],
          "heatmapgl": [
           {
            "colorbar": {
             "outlinewidth": 0,
             "ticks": ""
            },
            "colorscale": [
             [
              0,
              "#0d0887"
             ],
             [
              0.1111111111111111,
              "#46039f"
             ],
             [
              0.2222222222222222,
              "#7201a8"
             ],
             [
              0.3333333333333333,
              "#9c179e"
             ],
             [
              0.4444444444444444,
              "#bd3786"
             ],
             [
              0.5555555555555556,
              "#d8576b"
             ],
             [
              0.6666666666666666,
              "#ed7953"
             ],
             [
              0.7777777777777778,
              "#fb9f3a"
             ],
             [
              0.8888888888888888,
              "#fdca26"
             ],
             [
              1,
              "#f0f921"
             ]
            ],
            "type": "heatmapgl"
           }
          ],
          "histogram": [
           {
            "marker": {
             "pattern": {
              "fillmode": "overlay",
              "size": 10,
              "solidity": 0.2
             }
            },
            "type": "histogram"
           }
          ],
          "histogram2d": [
           {
            "colorbar": {
             "outlinewidth": 0,
             "ticks": ""
            },
            "colorscale": [
             [
              0,
              "#0d0887"
             ],
             [
              0.1111111111111111,
              "#46039f"
             ],
             [
              0.2222222222222222,
              "#7201a8"
             ],
             [
              0.3333333333333333,
              "#9c179e"
             ],
             [
              0.4444444444444444,
              "#bd3786"
             ],
             [
              0.5555555555555556,
              "#d8576b"
             ],
             [
              0.6666666666666666,
              "#ed7953"
             ],
             [
              0.7777777777777778,
              "#fb9f3a"
             ],
             [
              0.8888888888888888,
              "#fdca26"
             ],
             [
              1,
              "#f0f921"
             ]
            ],
            "type": "histogram2d"
           }
          ],
          "histogram2dcontour": [
           {
            "colorbar": {
             "outlinewidth": 0,
             "ticks": ""
            },
            "colorscale": [
             [
              0,
              "#0d0887"
             ],
             [
              0.1111111111111111,
              "#46039f"
             ],
             [
              0.2222222222222222,
              "#7201a8"
             ],
             [
              0.3333333333333333,
              "#9c179e"
             ],
             [
              0.4444444444444444,
              "#bd3786"
             ],
             [
              0.5555555555555556,
              "#d8576b"
             ],
             [
              0.6666666666666666,
              "#ed7953"
             ],
             [
              0.7777777777777778,
              "#fb9f3a"
             ],
             [
              0.8888888888888888,
              "#fdca26"
             ],
             [
              1,
              "#f0f921"
             ]
            ],
            "type": "histogram2dcontour"
           }
          ],
          "mesh3d": [
           {
            "colorbar": {
             "outlinewidth": 0,
             "ticks": ""
            },
            "type": "mesh3d"
           }
          ],
          "parcoords": [
           {
            "line": {
             "colorbar": {
              "outlinewidth": 0,
              "ticks": ""
             }
            },
            "type": "parcoords"
           }
          ],
          "pie": [
           {
            "automargin": true,
            "type": "pie"
           }
          ],
          "scatter": [
           {
            "fillpattern": {
             "fillmode": "overlay",
             "size": 10,
             "solidity": 0.2
            },
            "type": "scatter"
           }
          ],
          "scatter3d": [
           {
            "line": {
             "colorbar": {
              "outlinewidth": 0,
              "ticks": ""
             }
            },
            "marker": {
             "colorbar": {
              "outlinewidth": 0,
              "ticks": ""
             }
            },
            "type": "scatter3d"
           }
          ],
          "scattercarpet": [
           {
            "marker": {
             "colorbar": {
              "outlinewidth": 0,
              "ticks": ""
             }
            },
            "type": "scattercarpet"
           }
          ],
          "scattergeo": [
           {
            "marker": {
             "colorbar": {
              "outlinewidth": 0,
              "ticks": ""
             }
            },
            "type": "scattergeo"
           }
          ],
          "scattergl": [
           {
            "marker": {
             "colorbar": {
              "outlinewidth": 0,
              "ticks": ""
             }
            },
            "type": "scattergl"
           }
          ],
          "scattermapbox": [
           {
            "marker": {
             "colorbar": {
              "outlinewidth": 0,
              "ticks": ""
             }
            },
            "type": "scattermapbox"
           }
          ],
          "scatterpolar": [
           {
            "marker": {
             "colorbar": {
              "outlinewidth": 0,
              "ticks": ""
             }
            },
            "type": "scatterpolar"
           }
          ],
          "scatterpolargl": [
           {
            "marker": {
             "colorbar": {
              "outlinewidth": 0,
              "ticks": ""
             }
            },
            "type": "scatterpolargl"
           }
          ],
          "scatterternary": [
           {
            "marker": {
             "colorbar": {
              "outlinewidth": 0,
              "ticks": ""
             }
            },
            "type": "scatterternary"
           }
          ],
          "surface": [
           {
            "colorbar": {
             "outlinewidth": 0,
             "ticks": ""
            },
            "colorscale": [
             [
              0,
              "#0d0887"
             ],
             [
              0.1111111111111111,
              "#46039f"
             ],
             [
              0.2222222222222222,
              "#7201a8"
             ],
             [
              0.3333333333333333,
              "#9c179e"
             ],
             [
              0.4444444444444444,
              "#bd3786"
             ],
             [
              0.5555555555555556,
              "#d8576b"
             ],
             [
              0.6666666666666666,
              "#ed7953"
             ],
             [
              0.7777777777777778,
              "#fb9f3a"
             ],
             [
              0.8888888888888888,
              "#fdca26"
             ],
             [
              1,
              "#f0f921"
             ]
            ],
            "type": "surface"
           }
          ],
          "table": [
           {
            "cells": {
             "fill": {
              "color": "#EBF0F8"
             },
             "line": {
              "color": "white"
             }
            },
            "header": {
             "fill": {
              "color": "#C8D4E3"
             },
             "line": {
              "color": "white"
             }
            },
            "type": "table"
           }
          ]
         },
         "layout": {
          "annotationdefaults": {
           "arrowcolor": "#2a3f5f",
           "arrowhead": 0,
           "arrowwidth": 1
          },
          "autotypenumbers": "strict",
          "coloraxis": {
           "colorbar": {
            "outlinewidth": 0,
            "ticks": ""
           }
          },
          "colorscale": {
           "diverging": [
            [
             0,
             "#8e0152"
            ],
            [
             0.1,
             "#c51b7d"
            ],
            [
             0.2,
             "#de77ae"
            ],
            [
             0.3,
             "#f1b6da"
            ],
            [
             0.4,
             "#fde0ef"
            ],
            [
             0.5,
             "#f7f7f7"
            ],
            [
             0.6,
             "#e6f5d0"
            ],
            [
             0.7,
             "#b8e186"
            ],
            [
             0.8,
             "#7fbc41"
            ],
            [
             0.9,
             "#4d9221"
            ],
            [
             1,
             "#276419"
            ]
           ],
           "sequential": [
            [
             0,
             "#0d0887"
            ],
            [
             0.1111111111111111,
             "#46039f"
            ],
            [
             0.2222222222222222,
             "#7201a8"
            ],
            [
             0.3333333333333333,
             "#9c179e"
            ],
            [
             0.4444444444444444,
             "#bd3786"
            ],
            [
             0.5555555555555556,
             "#d8576b"
            ],
            [
             0.6666666666666666,
             "#ed7953"
            ],
            [
             0.7777777777777778,
             "#fb9f3a"
            ],
            [
             0.8888888888888888,
             "#fdca26"
            ],
            [
             1,
             "#f0f921"
            ]
           ],
           "sequentialminus": [
            [
             0,
             "#0d0887"
            ],
            [
             0.1111111111111111,
             "#46039f"
            ],
            [
             0.2222222222222222,
             "#7201a8"
            ],
            [
             0.3333333333333333,
             "#9c179e"
            ],
            [
             0.4444444444444444,
             "#bd3786"
            ],
            [
             0.5555555555555556,
             "#d8576b"
            ],
            [
             0.6666666666666666,
             "#ed7953"
            ],
            [
             0.7777777777777778,
             "#fb9f3a"
            ],
            [
             0.8888888888888888,
             "#fdca26"
            ],
            [
             1,
             "#f0f921"
            ]
           ]
          },
          "colorway": [
           "#636efa",
           "#EF553B",
           "#00cc96",
           "#ab63fa",
           "#FFA15A",
           "#19d3f3",
           "#FF6692",
           "#B6E880",
           "#FF97FF",
           "#FECB52"
          ],
          "font": {
           "color": "#2a3f5f"
          },
          "geo": {
           "bgcolor": "white",
           "lakecolor": "white",
           "landcolor": "#E5ECF6",
           "showlakes": true,
           "showland": true,
           "subunitcolor": "white"
          },
          "hoverlabel": {
           "align": "left"
          },
          "hovermode": "closest",
          "mapbox": {
           "style": "light"
          },
          "paper_bgcolor": "white",
          "plot_bgcolor": "#E5ECF6",
          "polar": {
           "angularaxis": {
            "gridcolor": "white",
            "linecolor": "white",
            "ticks": ""
           },
           "bgcolor": "#E5ECF6",
           "radialaxis": {
            "gridcolor": "white",
            "linecolor": "white",
            "ticks": ""
           }
          },
          "scene": {
           "xaxis": {
            "backgroundcolor": "#E5ECF6",
            "gridcolor": "white",
            "gridwidth": 2,
            "linecolor": "white",
            "showbackground": true,
            "ticks": "",
            "zerolinecolor": "white"
           },
           "yaxis": {
            "backgroundcolor": "#E5ECF6",
            "gridcolor": "white",
            "gridwidth": 2,
            "linecolor": "white",
            "showbackground": true,
            "ticks": "",
            "zerolinecolor": "white"
           },
           "zaxis": {
            "backgroundcolor": "#E5ECF6",
            "gridcolor": "white",
            "gridwidth": 2,
            "linecolor": "white",
            "showbackground": true,
            "ticks": "",
            "zerolinecolor": "white"
           }
          },
          "shapedefaults": {
           "line": {
            "color": "#2a3f5f"
           }
          },
          "ternary": {
           "aaxis": {
            "gridcolor": "white",
            "linecolor": "white",
            "ticks": ""
           },
           "baxis": {
            "gridcolor": "white",
            "linecolor": "white",
            "ticks": ""
           },
           "bgcolor": "#E5ECF6",
           "caxis": {
            "gridcolor": "white",
            "linecolor": "white",
            "ticks": ""
           }
          },
          "title": {
           "x": 0.05
          },
          "xaxis": {
           "automargin": true,
           "gridcolor": "white",
           "linecolor": "white",
           "ticks": "",
           "title": {
            "standoff": 15
           },
           "zerolinecolor": "white",
           "zerolinewidth": 2
          },
          "yaxis": {
           "automargin": true,
           "gridcolor": "white",
           "linecolor": "white",
           "ticks": "",
           "title": {
            "standoff": 15
           },
           "zerolinecolor": "white",
           "zerolinewidth": 2
          }
         }
        },
        "title": {
         "text": "Evolution of the number of movies by genres across decades"
        },
        "updatemenus": [
         {
          "buttons": [
           {
            "args": [
             {
              "visible": [
               true,
               false,
               false,
               false,
               false,
               false
              ]
             },
             {
              "xaxis.range": [
               0,
               104
              ],
              "yaxis.title.text": "Genres"
             }
            ],
            "label": "1970-1979",
            "method": "update"
           },
           {
            "args": [
             {
              "visible": [
               false,
               true,
               false,
               false,
               false,
               false
              ]
             },
             {
              "xaxis.range": [
               0,
               302
              ],
              "yaxis.title.text": "Genres"
             }
            ],
            "label": "1980-1989",
            "method": "update"
           },
           {
            "args": [
             {
              "visible": [
               false,
               false,
               true,
               false,
               false,
               false
              ]
             },
             {
              "xaxis.range": [
               0,
               491
              ],
              "yaxis.title.text": "Genres"
             }
            ],
            "label": "1990-1999",
            "method": "update"
           },
           {
            "args": [
             {
              "visible": [
               false,
               false,
               false,
               true,
               false,
               false
              ]
             },
             {
              "xaxis.range": [
               0,
               1129
              ],
              "yaxis.title.text": "Genres"
             }
            ],
            "label": "2000-2009",
            "method": "update"
           },
           {
            "args": [
             {
              "visible": [
               false,
               false,
               false,
               false,
               true,
               false
              ]
             },
             {
              "xaxis.range": [
               0,
               1438
              ],
              "yaxis.title.text": "Genres"
             }
            ],
            "label": "2010-2019",
            "method": "update"
           },
           {
            "args": [
             {
              "visible": [
               false,
               false,
               false,
               false,
               false,
               true
              ]
             },
             {
              "xaxis.range": [
               0,
               674
              ],
              "yaxis.title.text": "Genres"
             }
            ],
            "label": "2020-2029",
            "method": "update"
           }
          ],
          "direction": "down",
          "showactive": true,
          "x": 0.045,
          "y": 1.1
         }
        ],
        "xaxis": {
         "title": {
          "text": "Number of movies released"
         }
        },
        "yaxis": {
         "title": {
          "text": "Genres"
         }
        }
       }
      }
     },
     "metadata": {},
     "output_type": "display_data"
    }
   ],
   "source": [
    "# We plot the graph representing the evolution of the ratings attributed to movies by the decades\n",
    "# Create a figure\n",
    "fig = go.Figure()\n",
    "\n",
    "# Add bars for each decade\n",
    "for decade in evolution_per_decade_genre[\"Decade\"].unique():\n",
    "    # Filter by decade and sort by Nb_movies\n",
    "    df_decade = evolution_per_decade_genre[evolution_per_decade_genre[\"Decade\"] == decade]\n",
    "    df_decade = df_decade.sort_values(by=\"Nb_movies\")\n",
    "\n",
    "    # Color the 3 genres with the most releases in orange\n",
    "    colors = [\"orange\" if (len(df_decade)-3 <= i <= len(df_decade)) else \"blue\" for i in range(len(df_decade))]\n",
    "\n",
    "    fig.add_trace(go.Bar(\n",
    "        x=df_decade[\"Nb_movies\"],\n",
    "        y=df_decade[\"Genres\"],\n",
    "        name=decade,\n",
    "        visible=False,\n",
    "        marker_color=colors,\n",
    "        orientation=\"h\"\n",
    "    ))\n",
    "\n",
    "# Make the first decade visible by default\n",
    "fig.data[0].visible = True\n",
    "\n",
    "# Configuring animations\n",
    "fig.update_layout(\n",
    "    updatemenus=[{\n",
    "        \"buttons\": [\n",
    "            {\n",
    "                \"label\": decade,\n",
    "                \"method\": \"update\",\n",
    "                \"args\": [\n",
    "                    {\"visible\": [decade == d for d in evolution_per_decade_genre[\"Decade\"].unique()]},\n",
    "                    {\n",
    "                        \"xaxis.range\": [0, evolution_per_decade_genre[evolution_per_decade_genre[\"Decade\"] == decade][\"Nb_movies\"].max()],\n",
    "                        \"yaxis.title.text\": \"Genres\"  # Assurer que le titre de l'axe des ordonnées est maintenu\n",
    "                    }\n",
    "                ]\n",
    "            } for decade in evolution_per_decade_genre[\"Decade\"].unique()\n",
    "        ],\n",
    "        \"direction\": \"down\",\n",
    "        \"showactive\": True,\n",
    "        \"x\": 0.045,  # Ajuster la position horizontale (plus à gauche)\n",
    "        \"y\": 1.10    # Ajuster la position verticale (au-dessus du graphique)\n",
    "    }],\n",
    "    title=\"Evolution of the number of movies by genres across decades\",\n",
    "    height=600\n",
    ")\n",
    "\n",
    "# Edit axis titles\n",
    "fig.update_layout(\n",
    "    xaxis_title=\"Number of movies released\",\n",
    "    yaxis_title=\"Genres\"\n",
    ")\n",
    "\n",
    "# Show chart\n",
    "fig.show()\n"
   ]
  },
  {
   "cell_type": "markdown",
   "metadata": {},
   "source": [
    "![70sNb](Screenshots_Plotly_Charts/Nb_movies_by_genres_70s.png)"
   ]
  },
  {
   "cell_type": "markdown",
   "metadata": {},
   "source": [
    "![80sNb](Screenshots_Plotly_Charts/Nb_movies_by_genres_80s.png)"
   ]
  },
  {
   "cell_type": "markdown",
   "metadata": {},
   "source": [
    "![90sNb](Screenshots_Plotly_Charts/Nb_movies_by_genres_90s.png)"
   ]
  },
  {
   "cell_type": "markdown",
   "metadata": {},
   "source": [
    "![00sNb](Screenshots_Plotly_Charts/Nb_movies_by_genres_00s.png)"
   ]
  },
  {
   "cell_type": "markdown",
   "metadata": {},
   "source": [
    "![10sNb](Screenshots_Plotly_Charts/Nb_movies_by_genres_10s.png)"
   ]
  },
  {
   "cell_type": "markdown",
   "metadata": {},
   "source": [
    "![20sNb](Screenshots_Plotly_Charts/Nb_movies_by_genres_20s.png)"
   ]
  },
  {
   "cell_type": "markdown",
   "metadata": {},
   "source": [
    "First of all, we notice that the number of movies released increases over the decades.\n",
    "\\\n",
    "All decades combined, film releases are mainly dramas, comedies and documentaries. If we choose not to count documentaries among films, then action films come in third place.\n",
    "\n",
    "To verify these observations, the dataframe below new_df represents the number of films released by genre during the entire period studied.\n",
    "\n"
   ]
  },
  {
   "cell_type": "code",
   "execution_count": 67,
   "metadata": {},
   "outputs": [
    {
     "name": "stdout",
     "output_type": "stream",
     "text": [
      "     Genres  Nb_movies\n",
      "      Drama       3722\n",
      "     Comedy       3585\n",
      "Documentary       2192\n",
      "     Action       2139\n",
      "      Crime        987\n",
      "  Biography        768\n",
      "  Adventure        566\n",
      "     Horror        523\n",
      "  Animation        482\n",
      "    Fantasy         64\n",
      "   Thriller         51\n",
      "    Mystery         34\n",
      "    Romance         18\n",
      "    Musical         14\n",
      "     Sci-Fi         14\n",
      "     Family          5\n",
      "    Unknown          4\n",
      "        War          3\n",
      "    History          1\n",
      "    Western          1\n"
     ]
    }
   ],
   "source": [
    "new_df=df.groupby([\"Genres\"])[\"Title\"].count().reset_index()\n",
    "new_df.rename(columns={\"Title\" : \"Nb_movies\"}, inplace=True)\n",
    "new_df.sort_values(by=\"Nb_movies\", ascending=False, inplace=True)\n",
    "print(new_df.to_string(index=False))\n"
   ]
  },
  {
   "cell_type": "markdown",
   "metadata": {},
   "source": [
    "## 5.5 - Analysis by directors/writers"
   ]
  },
  {
   "cell_type": "markdown",
   "metadata": {},
   "source": [
    "### 5.5.1 - Calculate the average rating by director and writer as well as the number of films"
   ]
  },
  {
   "cell_type": "code",
   "execution_count": 68,
   "metadata": {
    "trusted": true
   },
   "outputs": [
    {
     "data": {
      "text/html": [
       "<div>\n",
       "<style scoped>\n",
       "    .dataframe tbody tr th:only-of-type {\n",
       "        vertical-align: middle;\n",
       "    }\n",
       "\n",
       "    .dataframe tbody tr th {\n",
       "        vertical-align: top;\n",
       "    }\n",
       "\n",
       "    .dataframe thead th {\n",
       "        text-align: right;\n",
       "    }\n",
       "</style>\n",
       "<table border=\"1\" class=\"dataframe\">\n",
       "  <thead>\n",
       "    <tr style=\"text-align: right;\">\n",
       "      <th></th>\n",
       "      <th>Director</th>\n",
       "      <th>Rating</th>\n",
       "      <th>Film_Count</th>\n",
       "    </tr>\n",
       "  </thead>\n",
       "  <tbody>\n",
       "    <tr>\n",
       "      <th>0</th>\n",
       "      <td>Agustín Díaz Yanes</td>\n",
       "      <td>9.4</td>\n",
       "      <td>1</td>\n",
       "    </tr>\n",
       "    <tr>\n",
       "      <th>1</th>\n",
       "      <td>Casper Andreas</td>\n",
       "      <td>9.3</td>\n",
       "      <td>1</td>\n",
       "    </tr>\n",
       "    <tr>\n",
       "      <th>2</th>\n",
       "      <td>Chris Pine</td>\n",
       "      <td>9.3</td>\n",
       "      <td>1</td>\n",
       "    </tr>\n",
       "    <tr>\n",
       "      <th>3</th>\n",
       "      <td>Sheldon Wilson</td>\n",
       "      <td>9.3</td>\n",
       "      <td>1</td>\n",
       "    </tr>\n",
       "    <tr>\n",
       "      <th>4</th>\n",
       "      <td>Meiert Avis</td>\n",
       "      <td>9.3</td>\n",
       "      <td>1</td>\n",
       "    </tr>\n",
       "  </tbody>\n",
       "</table>\n",
       "</div>"
      ],
      "text/plain": [
       "             Director  Rating  Film_Count\n",
       "0  Agustín Díaz Yanes     9.4           1\n",
       "1      Casper Andreas     9.3           1\n",
       "2          Chris Pine     9.3           1\n",
       "3      Sheldon Wilson     9.3           1\n",
       "4         Meiert Avis     9.3           1"
      ]
     },
     "execution_count": 68,
     "metadata": {},
     "output_type": "execute_result"
    }
   ],
   "source": [
    "########## DIRECTOR ##########\n",
    "# Average rating per director\n",
    "director_rating = df.groupby(\"Director\")[\"Rating\"].mean().reset_index().sort_values(by=\"Rating\", ascending=False)\n",
    "\n",
    "# Calcul the number of movies per director\n",
    "director_counts = df[\"Director\"].value_counts().reset_index()\n",
    "director_counts.columns = [\"Director\", \"Film_Count\"]\n",
    "\n",
    "# Merge the number of films with the director_rating DataFrame\n",
    "director_rating = pd.merge(director_rating, director_counts, on=\"Director\")\n",
    "\n",
    "director_rating.head()"
   ]
  },
  {
   "cell_type": "code",
   "execution_count": 69,
   "metadata": {},
   "outputs": [
    {
     "data": {
      "text/html": [
       "<div>\n",
       "<style scoped>\n",
       "    .dataframe tbody tr th:only-of-type {\n",
       "        vertical-align: middle;\n",
       "    }\n",
       "\n",
       "    .dataframe tbody tr th {\n",
       "        vertical-align: top;\n",
       "    }\n",
       "\n",
       "    .dataframe thead th {\n",
       "        text-align: right;\n",
       "    }\n",
       "</style>\n",
       "<table border=\"1\" class=\"dataframe\">\n",
       "  <thead>\n",
       "    <tr style=\"text-align: right;\">\n",
       "      <th></th>\n",
       "      <th>Writer</th>\n",
       "      <th>Rating</th>\n",
       "      <th>Film_Count</th>\n",
       "    </tr>\n",
       "  </thead>\n",
       "  <tbody>\n",
       "    <tr>\n",
       "      <th>0</th>\n",
       "      <td>Agustín Díaz Yanes</td>\n",
       "      <td>9.4</td>\n",
       "      <td>1</td>\n",
       "    </tr>\n",
       "    <tr>\n",
       "      <th>1</th>\n",
       "      <td>Ava Ostern Fries</td>\n",
       "      <td>9.3</td>\n",
       "      <td>1</td>\n",
       "    </tr>\n",
       "    <tr>\n",
       "      <th>2</th>\n",
       "      <td>Jason Freeland</td>\n",
       "      <td>9.3</td>\n",
       "      <td>1</td>\n",
       "    </tr>\n",
       "    <tr>\n",
       "      <th>3</th>\n",
       "      <td>Hunter Hill</td>\n",
       "      <td>9.3</td>\n",
       "      <td>1</td>\n",
       "    </tr>\n",
       "    <tr>\n",
       "      <th>4</th>\n",
       "      <td>Peter Mattei</td>\n",
       "      <td>9.3</td>\n",
       "      <td>1</td>\n",
       "    </tr>\n",
       "  </tbody>\n",
       "</table>\n",
       "</div>"
      ],
      "text/plain": [
       "               Writer  Rating  Film_Count\n",
       "0  Agustín Díaz Yanes     9.4           1\n",
       "1    Ava Ostern Fries     9.3           1\n",
       "2      Jason Freeland     9.3           1\n",
       "3         Hunter Hill     9.3           1\n",
       "4        Peter Mattei     9.3           1"
      ]
     },
     "execution_count": 69,
     "metadata": {},
     "output_type": "execute_result"
    }
   ],
   "source": [
    "########## WRITER ##########\n",
    "# Average rating per writer\n",
    "writer_rating = df.groupby(\"Writer\")[\"Rating\"].mean().reset_index().sort_values(by=\"Rating\", ascending=False)\n",
    "\n",
    "# Calcul the number of movies per writer\n",
    "writer_counts = df[\"Writer\"].value_counts().reset_index()\n",
    "writer_counts.columns = [\"Writer\", \"Film_Count\"]\n",
    "\n",
    "# Merge the number of films with the writer_rating DataFrame\n",
    "writer_rating = pd.merge(writer_rating, writer_counts, on=\"Writer\")\n",
    "\n",
    "writer_rating.head()"
   ]
  },
  {
   "cell_type": "markdown",
   "metadata": {},
   "source": [
    "We see that the directors and writers with the best ratings are those who have only one or two films released with a very good rating. Their ratings are therefore not significant.\n"
   ]
  },
  {
   "cell_type": "markdown",
   "metadata": {},
   "source": [
    "Let's look at the average ratings of directors and writers by sorting them in descending order of the number of movies released, then for the same number of movies released, in descending order of average rating."
   ]
  },
  {
   "cell_type": "code",
   "execution_count": 70,
   "metadata": {
    "trusted": true
   },
   "outputs": [
    {
     "data": {
      "text/html": [
       "<div>\n",
       "<style scoped>\n",
       "    .dataframe tbody tr th:only-of-type {\n",
       "        vertical-align: middle;\n",
       "    }\n",
       "\n",
       "    .dataframe tbody tr th {\n",
       "        vertical-align: top;\n",
       "    }\n",
       "\n",
       "    .dataframe thead th {\n",
       "        text-align: right;\n",
       "    }\n",
       "</style>\n",
       "<table border=\"1\" class=\"dataframe\">\n",
       "  <thead>\n",
       "    <tr style=\"text-align: right;\">\n",
       "      <th></th>\n",
       "      <th>Director</th>\n",
       "      <th>Rating</th>\n",
       "      <th>Film_Count</th>\n",
       "    </tr>\n",
       "  </thead>\n",
       "  <tbody>\n",
       "    <tr>\n",
       "      <th>0</th>\n",
       "      <td>Woody Allen</td>\n",
       "      <td>6.9</td>\n",
       "      <td>42</td>\n",
       "    </tr>\n",
       "    <tr>\n",
       "      <th>1</th>\n",
       "      <td>Clint Eastwood</td>\n",
       "      <td>6.9</td>\n",
       "      <td>35</td>\n",
       "    </tr>\n",
       "    <tr>\n",
       "      <th>2</th>\n",
       "      <td>Ron Howard</td>\n",
       "      <td>6.8</td>\n",
       "      <td>34</td>\n",
       "    </tr>\n",
       "    <tr>\n",
       "      <th>3</th>\n",
       "      <td>Steven Spielberg</td>\n",
       "      <td>7.5</td>\n",
       "      <td>33</td>\n",
       "    </tr>\n",
       "    <tr>\n",
       "      <th>4</th>\n",
       "      <td>Steven Soderbergh</td>\n",
       "      <td>6.9</td>\n",
       "      <td>31</td>\n",
       "    </tr>\n",
       "    <tr>\n",
       "      <th>5</th>\n",
       "      <td>Spike Lee</td>\n",
       "      <td>6.6</td>\n",
       "      <td>31</td>\n",
       "    </tr>\n",
       "    <tr>\n",
       "      <th>6</th>\n",
       "      <td>Martin Scorsese</td>\n",
       "      <td>7.3</td>\n",
       "      <td>29</td>\n",
       "    </tr>\n",
       "    <tr>\n",
       "      <th>7</th>\n",
       "      <td>Ridley Scott</td>\n",
       "      <td>7.1</td>\n",
       "      <td>27</td>\n",
       "    </tr>\n",
       "    <tr>\n",
       "      <th>8</th>\n",
       "      <td>Barry Levinson</td>\n",
       "      <td>7.0</td>\n",
       "      <td>24</td>\n",
       "    </tr>\n",
       "    <tr>\n",
       "      <th>9</th>\n",
       "      <td>Francis Ford Coppola</td>\n",
       "      <td>7.5</td>\n",
       "      <td>22</td>\n",
       "    </tr>\n",
       "  </tbody>\n",
       "</table>\n",
       "</div>"
      ],
      "text/plain": [
       "               Director  Rating  Film_Count\n",
       "0           Woody Allen     6.9          42\n",
       "1        Clint Eastwood     6.9          35\n",
       "2            Ron Howard     6.8          34\n",
       "3      Steven Spielberg     7.5          33\n",
       "4     Steven Soderbergh     6.9          31\n",
       "5             Spike Lee     6.6          31\n",
       "6       Martin Scorsese     7.3          29\n",
       "7          Ridley Scott     7.1          27\n",
       "8        Barry Levinson     7.0          24\n",
       "9  Francis Ford Coppola     7.5          22"
      ]
     },
     "execution_count": 70,
     "metadata": {},
     "output_type": "execute_result"
    }
   ],
   "source": [
    "########## TOP DIRECTORS ##########\n",
    "top_director_rating = df.groupby(\"Director\").agg(\n",
    "    Rating=(\"Rating\", lambda x: round(x.mean(),1)),\n",
    "    Film_Count=(\"Director\", \"size\")\n",
    ").sort_values(by=[\"Film_Count\",\"Rating\"], ascending=False).reset_index()\n",
    "\n",
    "top_director_rating.head(10)"
   ]
  },
  {
   "cell_type": "code",
   "execution_count": 71,
   "metadata": {},
   "outputs": [
    {
     "data": {
      "text/html": [
       "<div>\n",
       "<style scoped>\n",
       "    .dataframe tbody tr th:only-of-type {\n",
       "        vertical-align: middle;\n",
       "    }\n",
       "\n",
       "    .dataframe tbody tr th {\n",
       "        vertical-align: top;\n",
       "    }\n",
       "\n",
       "    .dataframe thead th {\n",
       "        text-align: right;\n",
       "    }\n",
       "</style>\n",
       "<table border=\"1\" class=\"dataframe\">\n",
       "  <thead>\n",
       "    <tr style=\"text-align: right;\">\n",
       "      <th></th>\n",
       "      <th>Writer</th>\n",
       "      <th>Rating</th>\n",
       "      <th>Film_Count</th>\n",
       "    </tr>\n",
       "  </thead>\n",
       "  <tbody>\n",
       "    <tr>\n",
       "      <th>0</th>\n",
       "      <td>Woody Allen</td>\n",
       "      <td>6.9</td>\n",
       "      <td>43</td>\n",
       "    </tr>\n",
       "    <tr>\n",
       "      <th>1</th>\n",
       "      <td>Stephen King</td>\n",
       "      <td>6.7</td>\n",
       "      <td>36</td>\n",
       "    </tr>\n",
       "    <tr>\n",
       "      <th>2</th>\n",
       "      <td>Mark Monroe</td>\n",
       "      <td>6.8</td>\n",
       "      <td>22</td>\n",
       "    </tr>\n",
       "    <tr>\n",
       "      <th>3</th>\n",
       "      <td>Luc Besson</td>\n",
       "      <td>6.7</td>\n",
       "      <td>22</td>\n",
       "    </tr>\n",
       "    <tr>\n",
       "      <th>4</th>\n",
       "      <td>Tyler Perry</td>\n",
       "      <td>6.6</td>\n",
       "      <td>20</td>\n",
       "    </tr>\n",
       "    <tr>\n",
       "      <th>5</th>\n",
       "      <td>Werner Herzog</td>\n",
       "      <td>6.8</td>\n",
       "      <td>19</td>\n",
       "    </tr>\n",
       "    <tr>\n",
       "      <th>6</th>\n",
       "      <td>John Hughes</td>\n",
       "      <td>7.2</td>\n",
       "      <td>18</td>\n",
       "    </tr>\n",
       "    <tr>\n",
       "      <th>7</th>\n",
       "      <td>David Mamet</td>\n",
       "      <td>7.0</td>\n",
       "      <td>18</td>\n",
       "    </tr>\n",
       "    <tr>\n",
       "      <th>8</th>\n",
       "      <td>Michael Crichton</td>\n",
       "      <td>7.0</td>\n",
       "      <td>18</td>\n",
       "    </tr>\n",
       "    <tr>\n",
       "      <th>9</th>\n",
       "      <td>Pedro Almodóvar</td>\n",
       "      <td>7.1</td>\n",
       "      <td>17</td>\n",
       "    </tr>\n",
       "  </tbody>\n",
       "</table>\n",
       "</div>"
      ],
      "text/plain": [
       "             Writer  Rating  Film_Count\n",
       "0       Woody Allen     6.9          43\n",
       "1      Stephen King     6.7          36\n",
       "2       Mark Monroe     6.8          22\n",
       "3        Luc Besson     6.7          22\n",
       "4       Tyler Perry     6.6          20\n",
       "5     Werner Herzog     6.8          19\n",
       "6       John Hughes     7.2          18\n",
       "7       David Mamet     7.0          18\n",
       "8  Michael Crichton     7.0          18\n",
       "9   Pedro Almodóvar     7.1          17"
      ]
     },
     "execution_count": 71,
     "metadata": {},
     "output_type": "execute_result"
    }
   ],
   "source": [
    "########## TOP WRITERS ##########\n",
    "\n",
    "# Filter the dataframe to exclude \"Unknown\" writers\n",
    "filtered_df = df[df[\"Writer\"] != \"Unknown\"]  \n",
    "\n",
    "top_writer_rating = filtered_df.groupby(\"Writer\").agg(\n",
    "    Rating=(\"Rating\", lambda x: round(x.mean(),1)),\n",
    "    Film_Count=(\"Writer\", \"size\")\n",
    ").sort_values(by=[\"Film_Count\",\"Rating\"], ascending=False).reset_index()\n",
    "\n",
    "top_writer_rating.head(10)"
   ]
  },
  {
   "cell_type": "markdown",
   "metadata": {},
   "source": [
    "### 5.5.2 - Analysis of rating distribution"
   ]
  },
  {
   "cell_type": "markdown",
   "metadata": {},
   "source": [
    "To better understand the distribution of ratings by director and writer, we can visualize the distribution of ratings in the form of boxplots."
   ]
  },
  {
   "cell_type": "markdown",
   "metadata": {},
   "source": [
    "Let's look at the 10 directors and writers with the most movies released and best ratings."
   ]
  },
  {
   "cell_type": "code",
   "execution_count": 72,
   "metadata": {
    "trusted": true
   },
   "outputs": [
    {
     "data": {
      "image/png": "[encoded data removed]",
      "text/plain": [
       "<Figure size 1200x800 with 1 Axes>"
      ]
     },
     "metadata": {},
     "output_type": "display_data"
    },
    {
     "data": {
      "image/png": "[encoded data removed]",
      "text/plain": [
       "<Figure size 1200x800 with 1 Axes>"
      ]
     },
     "metadata": {},
     "output_type": "display_data"
    }
   ],
   "source": [
    "# Boxplot of ratings by director\n",
    "plt.figure(figsize=(12, 8))\n",
    "sns.boxplot(data=df[df[\"Director\"].isin(top_director_rating[\"Director\"].head(10))], x=\"Director\", y=\"Rating\")\n",
    "plt.xticks(rotation=90)\n",
    "plt.title(\"Distribution of ratings by director\")\n",
    "plt.show()\n",
    "\n",
    "# Boxplot of ratings by writer\n",
    "plt.figure(figsize=(12, 8))\n",
    "sns.boxplot(data=df[df[\"Writer\"].isin(top_writer_rating[\"Writer\"].head(10))], x=\"Writer\", y=\"Rating\")\n",
    "plt.xticks(rotation=90)\n",
    "plt.title(\"Distribution of ratings by writer\")\n",
    "plt.show()\n"
   ]
  },
  {
   "cell_type": "markdown",
   "metadata": {},
   "source": [
    "### 5.5.3 - Analysis of duration distribution"
   ]
  },
  {
   "cell_type": "markdown",
   "metadata": {},
   "source": [
    "To better understand the distribution of durations by director and writer, we can visualize the distribution of durations in the form of boxplots."
   ]
  },
  {
   "cell_type": "markdown",
   "metadata": {},
   "source": [
    "Let's look at the 10 directors and writers with the most movies released and best ratings."
   ]
  },
  {
   "cell_type": "code",
   "execution_count": 73,
   "metadata": {},
   "outputs": [
    {
     "data": {
      "image/png": "[encoded data removed]",
      "text/plain": [
       "<Figure size 1200x800 with 1 Axes>"
      ]
     },
     "metadata": {},
     "output_type": "display_data"
    },
    {
     "data": {
      "image/png": "[encoded data removed]",
      "text/plain": [
       "<Figure size 1200x800 with 1 Axes>"
      ]
     },
     "metadata": {},
     "output_type": "display_data"
    }
   ],
   "source": [
    "# Boxplot of durations by director\n",
    "plt.figure(figsize=(12, 8))\n",
    "sns.boxplot(data=df[df[\"Director\"].isin(top_director_rating[\"Director\"].head(10))], x=\"Director\", y=\"Duration in Minutes\")\n",
    "plt.xticks(rotation=90)\n",
    "plt.title(\"Distribution of durations by director\")\n",
    "plt.show()\n",
    "\n",
    "# Boxplot of durations by writer\n",
    "plt.figure(figsize=(12, 8))\n",
    "sns.boxplot(data=df[df[\"Writer\"].isin(top_writer_rating[\"Writer\"].head(10))], x=\"Writer\", y=\"Duration in Minutes\")\n",
    "plt.xticks(rotation=90)\n",
    "plt.title(\"Distribution of durations by writer\")\n",
    "plt.show()\n"
   ]
  },
  {
   "cell_type": "markdown",
   "metadata": {},
   "source": [
    "# 6 - Correlation Analysis"
   ]
  },
  {
   "cell_type": "markdown",
   "metadata": {},
   "source": [
    "## 6.1 - Correlation Matrix"
   ]
  },
  {
   "cell_type": "code",
   "execution_count": 75,
   "metadata": {},
   "outputs": [
    {
     "data": {
      "text/html": [
       "<div>\n",
       "<style scoped>\n",
       "    .dataframe tbody tr th:only-of-type {\n",
       "        vertical-align: middle;\n",
       "    }\n",
       "\n",
       "    .dataframe tbody tr th {\n",
       "        vertical-align: top;\n",
       "    }\n",
       "\n",
       "    .dataframe thead th {\n",
       "        text-align: right;\n",
       "    }\n",
       "</style>\n",
       "<table border=\"1\" class=\"dataframe\">\n",
       "  <thead>\n",
       "    <tr style=\"text-align: right;\">\n",
       "      <th></th>\n",
       "      <th>Nb_Votes</th>\n",
       "      <th>Duration in Minutes</th>\n",
       "      <th>Rating</th>\n",
       "      <th>Year</th>\n",
       "    </tr>\n",
       "  </thead>\n",
       "  <tbody>\n",
       "    <tr>\n",
       "      <th>Nb_Votes</th>\n",
       "      <td>1.000000</td>\n",
       "      <td>0.210373</td>\n",
       "      <td>0.214143</td>\n",
       "      <td>0.034595</td>\n",
       "    </tr>\n",
       "    <tr>\n",
       "      <th>Duration in Minutes</th>\n",
       "      <td>0.210373</td>\n",
       "      <td>1.000000</td>\n",
       "      <td>0.114515</td>\n",
       "      <td>-0.061134</td>\n",
       "    </tr>\n",
       "    <tr>\n",
       "      <th>Rating</th>\n",
       "      <td>0.214143</td>\n",
       "      <td>0.114515</td>\n",
       "      <td>1.000000</td>\n",
       "      <td>-0.127731</td>\n",
       "    </tr>\n",
       "    <tr>\n",
       "      <th>Year</th>\n",
       "      <td>0.034595</td>\n",
       "      <td>-0.061134</td>\n",
       "      <td>-0.127731</td>\n",
       "      <td>1.000000</td>\n",
       "    </tr>\n",
       "  </tbody>\n",
       "</table>\n",
       "</div>"
      ],
      "text/plain": [
       "                     Nb_Votes  Duration in Minutes    Rating      Year\n",
       "Nb_Votes             1.000000             0.210373  0.214143  0.034595\n",
       "Duration in Minutes  0.210373             1.000000  0.114515 -0.061134\n",
       "Rating               0.214143             0.114515  1.000000 -0.127731\n",
       "Year                 0.034595            -0.061134 -0.127731  1.000000"
      ]
     },
     "execution_count": 75,
     "metadata": {},
     "output_type": "execute_result"
    }
   ],
   "source": [
    "# Select only the numeric columns of the DataFrame\n",
    "df_numeric = df.select_dtypes(include=['float64', 'int64', 'int32'])\n",
    "\n",
    "# Calculate correlation matrix on numeric columns\n",
    "correlation_matrix = df_numeric.corr()\n",
    "\n",
    "# Show correlation matrix\n",
    "correlation_matrix"
   ]
  },
  {
   "cell_type": "markdown",
   "metadata": {},
   "source": [
    "There appears to be no correlation between the numerical variables. We will therefore not develop a model here."
   ]
  },
  {
   "cell_type": "markdown",
   "metadata": {},
   "source": [
    "# 7 - Download the cleaned dataframe"
   ]
  },
  {
   "cell_type": "markdown",
   "metadata": {},
   "source": [
    "We download the cleaned dataset to continue the visualization part on the Tableau software."
   ]
  },
  {
   "cell_type": "code",
   "execution_count": 76,
   "metadata": {},
   "outputs": [],
   "source": [
    "df.to_csv(\"Cleaned_16k_Movies.csv\", index=False)"
   ]
  },
  {
   "cell_type": "markdown",
   "metadata": {},
   "source": [
    "# 8 - Dashboard with Tableau"
   ]
  },
  {
   "cell_type": "markdown",
   "metadata": {},
   "source": [
    "I built a dashboard on Tableau allowing in-depth exploration of the Cleaned_16k_Movies.csv dataset. Available [here](https://public.tableau.com/shared/85C69C3N7?:display_count=n&:origin=viz_share_link)."
   ]
  },
  {
   "cell_type": "markdown",
   "metadata": {},
   "source": [
    "# 9 - Conclusion"
   ]
  },
  {
   "cell_type": "markdown",
   "metadata": {},
   "source": [
    "This film data analysis project covers the evolution of films between 1970 and 2024, with a particular focus on the trend of film ratings, the evolution of genres over the years, and the overall diversity of cinema across directors and screenwriters.\n",
    "\n",
    "Despite the absence of clear correlations or trends in the dataset, the exploration resulted in an enriched and comprehensive database, thanks to the integration of missing information via the IMDB API and the adjusting movie ratings based on voting volume. The careful data cleaning, along with the transformations applied, resulted in a high-quality dataset, providing a better overview of film distribution based on genres, decades and audience engagement.\n",
    "\n",
    "The descriptive analyzes carried out with Python and the advanced visualizations in Tableau made it possible to create an interactive dashboard, accessible to a wide audience and allowing in-depth exploration of the dataset. This dashboard provides a clear and intuitive view of the characteristics of films from the last five decades and allows you to navigate through the different dimensions of global cinema.\n",
    "\n",
    "In conclusion, this analysis highlights the importance of thorough data cleaning to ensure reliable insights and highlights the power of visualization tools to reveal the subtleties and complexity of a field as rich as cinema."
   ]
  },
  {
   "cell_type": "markdown",
   "metadata": {},
   "source": [
    "# Author\n",
    "\n",
    "Thibaut LANNERS"
   ]
  }
 ],
 "metadata": {
  "kernelspec": {
   "display_name": "Python 3",
   "language": "python",
   "name": "python3"
  },
  "language_info": {
   "codemirror_mode": {
    "name": "ipython",
    "version": 3
   },
   "file_extension": ".py",
   "mimetype": "text/x-python",
   "name": "python",
   "nbconvert_exporter": "python",
   "pygments_lexer": "ipython3",
   "version": "3.12.6"
  }
 },
 "nbformat": 4,
 "nbformat_minor": 4
}
