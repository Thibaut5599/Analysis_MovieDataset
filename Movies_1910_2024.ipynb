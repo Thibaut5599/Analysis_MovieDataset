{
  "cells": [
    {
      "cell_type": "markdown",
      "metadata": {},
      "source": [
        "# Dataset Description\n",
        "This dataset contains detailed information on over 16,000 movies released between 1910 and 2024, along with their corresponding Metacritic ratings. The dataset is an extensive collection for film enthusiasts, researchers, and data scientists interested in exploring trends in cinema over more than a century.\n",
        "\n",
        "<b> Key Features :</b>\n",
        "<ul>\n",
        "    <li><b>Title :</b> The name of the movie.</li>\n",
        "    <li><b>Release date :</b> The official release date of the movie.</li>\n",
        "    <li><b>Description :</b> A brief synopsis or critical overview of the film.</li>\n",
        "    <li><b>Rating :</b> The average Metacritic score, providing an indication of the movie's critical reception.</li>\n",
        "    <li><b>Number of Persons Voted :</b> The number of individuals who rated the movie on Metacritic.</li>\n",
        "    <li><b>Directed by :</b> The director(s) of the movie.</li>\n",
        "    <li><b>Written by :</b> The screenwriter(s) responsible for the movie's script.</li>\n",
        "    <li><b>Duration :</b> The runtime of the movie.</li>\n",
        "    <li><b>Genres :</b> The genre(s) the movie falls under, such as a Drama, Comedy, or Action.</li>\n",
        "</ul>\n"
      ]
    },
    {
      "cell_type": "markdown",
      "metadata": {},
      "source": [
        "# Objectives\n",
        "<ul>\n",
        "    <li><b>Trends in movie ratings</b> over time.</li>\n",
        "    <li><b>Genre popularity</b> and evolution across decades</li>\n",
        "    <li><b>Correlation between directors/writers</b> and critical success.</li>\n",
        "    <li><b>Impact of duration</b> on ratings.</li>\n",
        "    <li><b>Global cinema trends</b> with diverse genres and filmmakers.</li>\n",
        "</ul>"
      ]
    },
    {
      "cell_type": "markdown",
      "metadata": {},
      "source": [
        "# 1 - Import libraries"
      ]
    },
    {
      "cell_type": "code",
      "execution_count": 55,
      "metadata": {
        "trusted": true
      },
      "outputs": [
        {
          "ename": "ModuleNotFoundError",
          "evalue": "No module named 'piplite'",
          "output_type": "error",
          "traceback": [
            "\u001b[1;31m---------------------------------------------------------------------------\u001b[0m",
            "\u001b[1;31mModuleNotFoundError\u001b[0m                       Traceback (most recent call last)",
            "Cell \u001b[1;32mIn[55], line 1\u001b[0m\n\u001b[1;32m----> 1\u001b[0m \u001b[38;5;28;01mimport\u001b[39;00m \u001b[38;5;21;01mpiplite\u001b[39;00m\n\u001b[0;32m      3\u001b[0m \u001b[38;5;28;01mawait\u001b[39;00m piplite\u001b[38;5;241m.\u001b[39minstall([\u001b[38;5;124m'\u001b[39m\u001b[38;5;124mnbformat\u001b[39m\u001b[38;5;124m'\u001b[39m, \u001b[38;5;124m'\u001b[39m\u001b[38;5;124mplotly\u001b[39m\u001b[38;5;124m'\u001b[39m])\n",
            "\u001b[1;31mModuleNotFoundError\u001b[0m: No module named 'piplite'"
          ]
        }
      ],
      "source": [
        "import piplite\n",
        "\n",
        "await piplite.install(['nbformat', 'plotly'])"
      ]
    },
    {
      "cell_type": "code",
      "execution_count": 1,
      "metadata": {
        "trusted": true
      },
      "outputs": [
        {
          "name": "stdout",
          "output_type": "stream",
          "text": [
            "Requirement already satisfied: seaborn in c:\\users\\thiba\\appdata\\local\\programs\\python\\python312\\lib\\site-packages (0.13.2)Note: you may need to restart the kernel to use updated packages.\n",
            "\n",
            "Requirement already satisfied: numpy!=1.24.0,>=1.20 in c:\\users\\thiba\\appdata\\local\\programs\\python\\python312\\lib\\site-packages (from seaborn) (2.1.1)\n",
            "Requirement already satisfied: pandas>=1.2 in c:\\users\\thiba\\appdata\\local\\programs\\python\\python312\\lib\\site-packages (from seaborn) (2.2.3)\n",
            "Requirement already satisfied: matplotlib!=3.6.1,>=3.4 in c:\\users\\thiba\\appdata\\local\\programs\\python\\python312\\lib\\site-packages (from seaborn) (3.9.2)\n",
            "Requirement already satisfied: contourpy>=1.0.1 in c:\\users\\thiba\\appdata\\local\\programs\\python\\python312\\lib\\site-packages (from matplotlib!=3.6.1,>=3.4->seaborn) (1.3.0)\n",
            "Requirement already satisfied: cycler>=0.10 in c:\\users\\thiba\\appdata\\local\\programs\\python\\python312\\lib\\site-packages (from matplotlib!=3.6.1,>=3.4->seaborn) (0.12.1)\n",
            "Requirement already satisfied: fonttools>=4.22.0 in c:\\users\\thiba\\appdata\\local\\programs\\python\\python312\\lib\\site-packages (from matplotlib!=3.6.1,>=3.4->seaborn) (4.54.1)\n",
            "Requirement already satisfied: kiwisolver>=1.3.1 in c:\\users\\thiba\\appdata\\local\\programs\\python\\python312\\lib\\site-packages (from matplotlib!=3.6.1,>=3.4->seaborn) (1.4.7)\n",
            "Requirement already satisfied: packaging>=20.0 in c:\\users\\thiba\\appdata\\local\\programs\\python\\python312\\lib\\site-packages (from matplotlib!=3.6.1,>=3.4->seaborn) (24.1)\n",
            "Requirement already satisfied: pillow>=8 in c:\\users\\thiba\\appdata\\local\\programs\\python\\python312\\lib\\site-packages (from matplotlib!=3.6.1,>=3.4->seaborn) (10.4.0)\n",
            "Requirement already satisfied: pyparsing>=2.3.1 in c:\\users\\thiba\\appdata\\local\\programs\\python\\python312\\lib\\site-packages (from matplotlib!=3.6.1,>=3.4->seaborn) (3.1.4)\n",
            "Requirement already satisfied: python-dateutil>=2.7 in c:\\users\\thiba\\appdata\\local\\programs\\python\\python312\\lib\\site-packages (from matplotlib!=3.6.1,>=3.4->seaborn) (2.9.0.post0)\n",
            "Requirement already satisfied: pytz>=2020.1 in c:\\users\\thiba\\appdata\\local\\programs\\python\\python312\\lib\\site-packages (from pandas>=1.2->seaborn) (2024.2)\n",
            "Requirement already satisfied: tzdata>=2022.7 in c:\\users\\thiba\\appdata\\local\\programs\\python\\python312\\lib\\site-packages (from pandas>=1.2->seaborn) (2024.2)\n",
            "Requirement already satisfied: six>=1.5 in c:\\users\\thiba\\appdata\\local\\programs\\python\\python312\\lib\\site-packages (from python-dateutil>=2.7->matplotlib!=3.6.1,>=3.4->seaborn) (1.16.0)\n"
          ]
        },
        {
          "name": "stderr",
          "output_type": "stream",
          "text": [
            "\n",
            "[notice] A new release of pip is available: 24.2 -> 24.3.1\n",
            "[notice] To update, run: python.exe -m pip install --upgrade pip\n"
          ]
        }
      ],
      "source": [
        "%pip install seaborn"
      ]
    },
    {
      "cell_type": "code",
      "execution_count": 2,
      "metadata": {
        "trusted": true
      },
      "outputs": [],
      "source": [
        "import numpy as np \n",
        "import pandas as pd\n",
        "import seaborn as sns\n",
        "import matplotlib.pyplot as plt\n",
        "import plotly.express as px\n",
        "import plotly.graph_objects as go\n",
        "from scipy import stats\n",
        "from bs4 import BeautifulSoup\n",
        "import time\n",
        "import requests\n",
        "import re"
      ]
    },
    {
      "cell_type": "markdown",
      "metadata": {},
      "source": [
        "# 2 - Download the dataset "
      ]
    },
    {
      "cell_type": "code",
      "execution_count": 4,
      "metadata": {
        "trusted": true
      },
      "outputs": [
        {
          "data": {
            "text/html": [
              "<div>\n",
              "<style scoped>\n",
              "    .dataframe tbody tr th:only-of-type {\n",
              "        vertical-align: middle;\n",
              "    }\n",
              "\n",
              "    .dataframe tbody tr th {\n",
              "        vertical-align: top;\n",
              "    }\n",
              "\n",
              "    .dataframe thead th {\n",
              "        text-align: right;\n",
              "    }\n",
              "</style>\n",
              "<table border=\"1\" class=\"dataframe\">\n",
              "  <thead>\n",
              "    <tr style=\"text-align: right;\">\n",
              "      <th></th>\n",
              "      <th>Unnamed: 0</th>\n",
              "      <th>Title</th>\n",
              "      <th>Release Date</th>\n",
              "      <th>Description</th>\n",
              "      <th>Rating</th>\n",
              "      <th>No of Persons Voted</th>\n",
              "      <th>Directed by</th>\n",
              "      <th>Written by</th>\n",
              "      <th>Duration</th>\n",
              "      <th>Genres</th>\n",
              "    </tr>\n",
              "  </thead>\n",
              "  <tbody>\n",
              "    <tr>\n",
              "      <th>0</th>\n",
              "      <td>0</td>\n",
              "      <td>Dekalog (1988)</td>\n",
              "      <td>Mar 22, 1996</td>\n",
              "      <td>This masterwork by Krzysztof Kieślowski is one...</td>\n",
              "      <td>7.4</td>\n",
              "      <td>118</td>\n",
              "      <td>Krzysztof Kieslowski</td>\n",
              "      <td>Krzysztof Kieslowski, Krzysztof Piesiewicz</td>\n",
              "      <td>9 h 32 m</td>\n",
              "      <td>Drama</td>\n",
              "    </tr>\n",
              "    <tr>\n",
              "      <th>1</th>\n",
              "      <td>1</td>\n",
              "      <td>Three Colors: Red</td>\n",
              "      <td>Nov 23, 1994</td>\n",
              "      <td>Krzysztof Kieslowski closes his Three Colors t...</td>\n",
              "      <td>8.3</td>\n",
              "      <td>241</td>\n",
              "      <td>Krzysztof Kieslowski</td>\n",
              "      <td>Krzysztof Kieslowski, Krzysztof Piesiewicz, Ag...</td>\n",
              "      <td>1 h 39 m</td>\n",
              "      <td>Drama,Mystery,Romance</td>\n",
              "    </tr>\n",
              "    <tr>\n",
              "      <th>2</th>\n",
              "      <td>2</td>\n",
              "      <td>The Conformist</td>\n",
              "      <td>Oct 22, 1970</td>\n",
              "      <td>Set in Rome in the 1930s, this re-release of B...</td>\n",
              "      <td>7.3</td>\n",
              "      <td>106</td>\n",
              "      <td>Bernardo Bertolucci</td>\n",
              "      <td>Alberto Moravia, Bernardo Bertolucci</td>\n",
              "      <td>1 h 47 m</td>\n",
              "      <td>Drama</td>\n",
              "    </tr>\n",
              "    <tr>\n",
              "      <th>3</th>\n",
              "      <td>3</td>\n",
              "      <td>Tokyo Story</td>\n",
              "      <td>Mar 13, 1972</td>\n",
              "      <td>Yasujiro Ozu’s Tokyo Story follows an aging co...</td>\n",
              "      <td>8.1</td>\n",
              "      <td>147</td>\n",
              "      <td>Yasujirô Ozu</td>\n",
              "      <td>Kôgo Noda, Yasujirô Ozu</td>\n",
              "      <td>2 h 16 m</td>\n",
              "      <td>Drama</td>\n",
              "    </tr>\n",
              "    <tr>\n",
              "      <th>4</th>\n",
              "      <td>4</td>\n",
              "      <td>The Leopard (re-release)</td>\n",
              "      <td>Aug 13, 2004</td>\n",
              "      <td>Set in Sicily in 1860, Luchino Visconti's spec...</td>\n",
              "      <td>7.8</td>\n",
              "      <td>85</td>\n",
              "      <td>Luchino Visconti</td>\n",
              "      <td>Giuseppe Tomasi di Lampedusa, Suso Cecchi D'Am...</td>\n",
              "      <td>3 h 7 m</td>\n",
              "      <td>Drama,History</td>\n",
              "    </tr>\n",
              "  </tbody>\n",
              "</table>\n",
              "</div>"
            ],
            "text/plain": [
              "   Unnamed: 0                     Title  Release Date  \\\n",
              "0           0            Dekalog (1988)  Mar 22, 1996   \n",
              "1           1         Three Colors: Red  Nov 23, 1994   \n",
              "2           2            The Conformist  Oct 22, 1970   \n",
              "3           3               Tokyo Story  Mar 13, 1972   \n",
              "4           4  The Leopard (re-release)  Aug 13, 2004   \n",
              "\n",
              "                                         Description  Rating  \\\n",
              "0  This masterwork by Krzysztof Kieślowski is one...     7.4   \n",
              "1  Krzysztof Kieslowski closes his Three Colors t...     8.3   \n",
              "2  Set in Rome in the 1930s, this re-release of B...     7.3   \n",
              "3  Yasujiro Ozu’s Tokyo Story follows an aging co...     8.1   \n",
              "4  Set in Sicily in 1860, Luchino Visconti's spec...     7.8   \n",
              "\n",
              "  No of Persons Voted           Directed by  \\\n",
              "0                 118  Krzysztof Kieslowski   \n",
              "1                 241  Krzysztof Kieslowski   \n",
              "2                 106   Bernardo Bertolucci   \n",
              "3                 147          Yasujirô Ozu   \n",
              "4                  85      Luchino Visconti   \n",
              "\n",
              "                                          Written by  Duration  \\\n",
              "0         Krzysztof Kieslowski, Krzysztof Piesiewicz  9 h 32 m   \n",
              "1  Krzysztof Kieslowski, Krzysztof Piesiewicz, Ag...  1 h 39 m   \n",
              "2               Alberto Moravia, Bernardo Bertolucci  1 h 47 m   \n",
              "3                            Kôgo Noda, Yasujirô Ozu  2 h 16 m   \n",
              "4  Giuseppe Tomasi di Lampedusa, Suso Cecchi D'Am...   3 h 7 m   \n",
              "\n",
              "                  Genres  \n",
              "0                  Drama  \n",
              "1  Drama,Mystery,Romance  \n",
              "2                  Drama  \n",
              "3                  Drama  \n",
              "4          Drama,History  "
            ]
          },
          "execution_count": 4,
          "metadata": {},
          "output_type": "execute_result"
        }
      ],
      "source": [
        "df = pd.read_csv(\"16k_Movies.csv\")\n",
        "df.head()"
      ]
    },
    {
      "cell_type": "code",
      "execution_count": 5,
      "metadata": {
        "trusted": true
      },
      "outputs": [
        {
          "data": {
            "text/plain": [
              "(16290, 10)"
            ]
          },
          "execution_count": 5,
          "metadata": {},
          "output_type": "execute_result"
        }
      ],
      "source": [
        "df.shape"
      ]
    },
    {
      "cell_type": "markdown",
      "metadata": {},
      "source": [
        "# 3 - Data Cleaning\n"
      ]
    },
    {
      "cell_type": "code",
      "execution_count": 6,
      "metadata": {
        "trusted": true
      },
      "outputs": [
        {
          "data": {
            "text/html": [
              "<div>\n",
              "<style scoped>\n",
              "    .dataframe tbody tr th:only-of-type {\n",
              "        vertical-align: middle;\n",
              "    }\n",
              "\n",
              "    .dataframe tbody tr th {\n",
              "        vertical-align: top;\n",
              "    }\n",
              "\n",
              "    .dataframe thead th {\n",
              "        text-align: right;\n",
              "    }\n",
              "</style>\n",
              "<table border=\"1\" class=\"dataframe\">\n",
              "  <thead>\n",
              "    <tr style=\"text-align: right;\">\n",
              "      <th></th>\n",
              "      <th>Title</th>\n",
              "      <th>Release Date</th>\n",
              "      <th>Description</th>\n",
              "      <th>Rating</th>\n",
              "      <th>No of Persons Voted</th>\n",
              "      <th>Directed by</th>\n",
              "      <th>Written by</th>\n",
              "      <th>Duration</th>\n",
              "      <th>Genres</th>\n",
              "    </tr>\n",
              "  </thead>\n",
              "  <tbody>\n",
              "    <tr>\n",
              "      <th>0</th>\n",
              "      <td>Dekalog (1988)</td>\n",
              "      <td>Mar 22, 1996</td>\n",
              "      <td>This masterwork by Krzysztof Kieślowski is one...</td>\n",
              "      <td>7.4</td>\n",
              "      <td>118</td>\n",
              "      <td>Krzysztof Kieslowski</td>\n",
              "      <td>Krzysztof Kieslowski, Krzysztof Piesiewicz</td>\n",
              "      <td>9 h 32 m</td>\n",
              "      <td>Drama</td>\n",
              "    </tr>\n",
              "    <tr>\n",
              "      <th>1</th>\n",
              "      <td>Three Colors: Red</td>\n",
              "      <td>Nov 23, 1994</td>\n",
              "      <td>Krzysztof Kieslowski closes his Three Colors t...</td>\n",
              "      <td>8.3</td>\n",
              "      <td>241</td>\n",
              "      <td>Krzysztof Kieslowski</td>\n",
              "      <td>Krzysztof Kieslowski, Krzysztof Piesiewicz, Ag...</td>\n",
              "      <td>1 h 39 m</td>\n",
              "      <td>Drama,Mystery,Romance</td>\n",
              "    </tr>\n",
              "    <tr>\n",
              "      <th>2</th>\n",
              "      <td>The Conformist</td>\n",
              "      <td>Oct 22, 1970</td>\n",
              "      <td>Set in Rome in the 1930s, this re-release of B...</td>\n",
              "      <td>7.3</td>\n",
              "      <td>106</td>\n",
              "      <td>Bernardo Bertolucci</td>\n",
              "      <td>Alberto Moravia, Bernardo Bertolucci</td>\n",
              "      <td>1 h 47 m</td>\n",
              "      <td>Drama</td>\n",
              "    </tr>\n",
              "    <tr>\n",
              "      <th>3</th>\n",
              "      <td>Tokyo Story</td>\n",
              "      <td>Mar 13, 1972</td>\n",
              "      <td>Yasujiro Ozu’s Tokyo Story follows an aging co...</td>\n",
              "      <td>8.1</td>\n",
              "      <td>147</td>\n",
              "      <td>Yasujirô Ozu</td>\n",
              "      <td>Kôgo Noda, Yasujirô Ozu</td>\n",
              "      <td>2 h 16 m</td>\n",
              "      <td>Drama</td>\n",
              "    </tr>\n",
              "    <tr>\n",
              "      <th>4</th>\n",
              "      <td>The Leopard (re-release)</td>\n",
              "      <td>Aug 13, 2004</td>\n",
              "      <td>Set in Sicily in 1860, Luchino Visconti's spec...</td>\n",
              "      <td>7.8</td>\n",
              "      <td>85</td>\n",
              "      <td>Luchino Visconti</td>\n",
              "      <td>Giuseppe Tomasi di Lampedusa, Suso Cecchi D'Am...</td>\n",
              "      <td>3 h 7 m</td>\n",
              "      <td>Drama,History</td>\n",
              "    </tr>\n",
              "  </tbody>\n",
              "</table>\n",
              "</div>"
            ],
            "text/plain": [
              "                      Title  Release Date  \\\n",
              "0            Dekalog (1988)  Mar 22, 1996   \n",
              "1         Three Colors: Red  Nov 23, 1994   \n",
              "2            The Conformist  Oct 22, 1970   \n",
              "3               Tokyo Story  Mar 13, 1972   \n",
              "4  The Leopard (re-release)  Aug 13, 2004   \n",
              "\n",
              "                                         Description  Rating  \\\n",
              "0  This masterwork by Krzysztof Kieślowski is one...     7.4   \n",
              "1  Krzysztof Kieslowski closes his Three Colors t...     8.3   \n",
              "2  Set in Rome in the 1930s, this re-release of B...     7.3   \n",
              "3  Yasujiro Ozu’s Tokyo Story follows an aging co...     8.1   \n",
              "4  Set in Sicily in 1860, Luchino Visconti's spec...     7.8   \n",
              "\n",
              "  No of Persons Voted           Directed by  \\\n",
              "0                 118  Krzysztof Kieslowski   \n",
              "1                 241  Krzysztof Kieslowski   \n",
              "2                 106   Bernardo Bertolucci   \n",
              "3                 147          Yasujirô Ozu   \n",
              "4                  85      Luchino Visconti   \n",
              "\n",
              "                                          Written by  Duration  \\\n",
              "0         Krzysztof Kieslowski, Krzysztof Piesiewicz  9 h 32 m   \n",
              "1  Krzysztof Kieslowski, Krzysztof Piesiewicz, Ag...  1 h 39 m   \n",
              "2               Alberto Moravia, Bernardo Bertolucci  1 h 47 m   \n",
              "3                            Kôgo Noda, Yasujirô Ozu  2 h 16 m   \n",
              "4  Giuseppe Tomasi di Lampedusa, Suso Cecchi D'Am...   3 h 7 m   \n",
              "\n",
              "                  Genres  \n",
              "0                  Drama  \n",
              "1  Drama,Mystery,Romance  \n",
              "2                  Drama  \n",
              "3                  Drama  \n",
              "4          Drama,History  "
            ]
          },
          "execution_count": 6,
          "metadata": {},
          "output_type": "execute_result"
        }
      ],
      "source": [
        "# Dropping the first column (this is the index column)\n",
        "df.drop(\"Unnamed: 0\", axis=1, inplace = True)\n",
        "df.head()"
      ]
    },
    {
      "cell_type": "markdown",
      "metadata": {},
      "source": [
        "## 3.1 -Missing Values"
      ]
    },
    {
      "cell_type": "code",
      "execution_count": 7,
      "metadata": {
        "trusted": true
      },
      "outputs": [
        {
          "name": "stdout",
          "output_type": "stream",
          "text": [
            "Title\n",
            "Non-missing values : 16290\n",
            "Missing values : 0\n",
            "Proportion of missing values = 0.0 %\n",
            "\n",
            "Release Date\n",
            "Non-missing values : 16290\n",
            "Missing values : 0\n",
            "Proportion of missing values = 0.0 %\n",
            "\n",
            "Description\n",
            "Non-missing values : 16290\n",
            "Missing values : 0\n",
            "Proportion of missing values = 0.0 %\n",
            "\n",
            "Rating\n",
            "Non-missing values : 12846\n",
            "Missing values : 3444\n",
            "Proportion of missing values = 21.14 %\n",
            "\n",
            "No of Persons Voted\n",
            "Non-missing values : 12829\n",
            "Missing values : 3461\n",
            "Proportion of missing values = 21.25 %\n",
            "\n",
            "Directed by\n",
            "Non-missing values : 16283\n",
            "Missing values : 7\n",
            "Proportion of missing values = 0.04 %\n",
            "\n",
            "Written by\n",
            "Non-missing values : 15327\n",
            "Missing values : 963\n",
            "Proportion of missing values = 5.91 %\n",
            "\n",
            "Duration\n",
            "Non-missing values : 16277\n",
            "Missing values : 13\n",
            "Proportion of missing values = 0.08 %\n",
            "\n",
            "Genres\n",
            "Non-missing values : 16285\n",
            "Missing values : 5\n",
            "Proportion of missing values = 0.03 %\n",
            "\n"
          ]
        }
      ],
      "source": [
        "missing_data = df.isnull()\n",
        "\n",
        "# Count missing values in each column\n",
        "for column in missing_data.columns:\n",
        "    non_missing_count = missing_data[column].value_counts().get(False,0)\n",
        "    missing_count = missing_data[column].value_counts().get(True, 0)\n",
        "\n",
        "    print(f\"{column}\")\n",
        "    print(f\"Non-missing values : {non_missing_count}\")\n",
        "    print(f\"Missing values : {missing_count}\")\n",
        "    print(\"Proportion of missing values =\", round(missing_data[column].mean()*100,2), \"%\")\n",
        "    \n",
        "    print(\"\")    "
      ]
    },
    {
      "cell_type": "markdown",
      "metadata": {},
      "source": [
        "Based on the summary above, each column has 16 290 rows of data and six of the columns containing missing data:\n",
        "<ol>\n",
        "    <li>\"Rating\" : 3 444 missing data</li>\n",
        "    <li>\"No of Persons Voted\" : 3 461 missing data</li>\n",
        "    <li>\"Directed by\" : 7 missing data</li>\n",
        "    <li>\"Written by\" : 963 missing data</li>\n",
        "    <li>\"Duration\" : 13 missing data</li>\n",
        "    <li>\"Genres\" : 5 missing data</li>\n",
        "</ol>\n",
        "\n",
        "The \"No of Persons Voted\" and \"Rating\" columns contain approximately 21% missing values, which is significant. Removing all missing rows could therefore significantly reduce the sample size and, potentially, introduce bias into the analyses.\n",
        "\n",
        "Let's try imputation of missing values ​​for the \"Rating\" and \"No of Persons Voted\" columns using the median.\n"
      ]
    },
    {
      "cell_type": "code",
      "execution_count": 8,
      "metadata": {},
      "outputs": [
        {
          "data": {
            "text/plain": [
              "Title                   object\n",
              "Release Date            object\n",
              "Description             object\n",
              "Rating                 float64\n",
              "No of Persons Voted     object\n",
              "Directed by             object\n",
              "Written by              object\n",
              "Duration                object\n",
              "Genres                  object\n",
              "dtype: object"
            ]
          },
          "execution_count": 8,
          "metadata": {},
          "output_type": "execute_result"
        }
      ],
      "source": [
        "df.dtypes"
      ]
    },
    {
      "cell_type": "markdown",
      "metadata": {},
      "source": [
        "Note that the “No of Persons Voted” column is not in numerical format. Let's convert the values ​​of this column to floats.\n"
      ]
    },
    {
      "cell_type": "code",
      "execution_count": 9,
      "metadata": {},
      "outputs": [
        {
          "data": {
            "text/plain": [
              "Title                   object\n",
              "Release Date            object\n",
              "Description             object\n",
              "Rating                 float64\n",
              "No of Persons Voted    float64\n",
              "Directed by             object\n",
              "Written by              object\n",
              "Duration                object\n",
              "Genres                  object\n",
              "dtype: object"
            ]
          },
          "execution_count": 9,
          "metadata": {},
          "output_type": "execute_result"
        }
      ],
      "source": [
        "# Convert \"No of Persons Voted\" in integer\n",
        "df['No of Persons Voted'] = df['No of Persons Voted'].replace({',': ''}, regex=True).astype(float)\n",
        "\n",
        "df.dtypes"
      ]
    },
    {
      "cell_type": "code",
      "execution_count": 10,
      "metadata": {},
      "outputs": [
        {
          "name": "stderr",
          "output_type": "stream",
          "text": [
            "C:\\Users\\thiba\\AppData\\Local\\Temp\\ipykernel_7932\\2379108068.py:2: FutureWarning: A value is trying to be set on a copy of a DataFrame or Series through chained assignment using an inplace method.\n",
            "The behavior will change in pandas 3.0. This inplace method will never work because the intermediate object on which we are setting values always behaves as a copy.\n",
            "\n",
            "For example, when doing 'df[col].method(value, inplace=True)', try using 'df.method({col: value}, inplace=True)' or df[col] = df[col].method(value) instead, to perform the operation inplace on the original object.\n",
            "\n",
            "\n",
            "  df['Rating'].fillna(df['Rating'].median(), inplace=True)\n",
            "C:\\Users\\thiba\\AppData\\Local\\Temp\\ipykernel_7932\\2379108068.py:3: FutureWarning: A value is trying to be set on a copy of a DataFrame or Series through chained assignment using an inplace method.\n",
            "The behavior will change in pandas 3.0. This inplace method will never work because the intermediate object on which we are setting values always behaves as a copy.\n",
            "\n",
            "For example, when doing 'df[col].method(value, inplace=True)', try using 'df.method({col: value}, inplace=True)' or df[col] = df[col].method(value) instead, to perform the operation inplace on the original object.\n",
            "\n",
            "\n",
            "  df['No of Persons Voted'].fillna(df['No of Persons Voted'].median(), inplace=True)\n"
          ]
        }
      ],
      "source": [
        "# Imputation with median\n",
        "df['Rating'].fillna(df['Rating'].median(), inplace=True)\n",
        "df['No of Persons Voted'].fillna(df['No of Persons Voted'].median(), inplace=True)"
      ]
    },
    {
      "cell_type": "code",
      "execution_count": 11,
      "metadata": {},
      "outputs": [
        {
          "name": "stdout",
          "output_type": "stream",
          "text": [
            "Title\n",
            "Non-missing values : 16290\n",
            "Missing values : 0\n",
            "Proportion of missing values = 0.0 %\n",
            "\n",
            "Release Date\n",
            "Non-missing values : 16290\n",
            "Missing values : 0\n",
            "Proportion of missing values = 0.0 %\n",
            "\n",
            "Description\n",
            "Non-missing values : 16290\n",
            "Missing values : 0\n",
            "Proportion of missing values = 0.0 %\n",
            "\n",
            "Rating\n",
            "Non-missing values : 16290\n",
            "Missing values : 0\n",
            "Proportion of missing values = 0.0 %\n",
            "\n",
            "No of Persons Voted\n",
            "Non-missing values : 16290\n",
            "Missing values : 0\n",
            "Proportion of missing values = 0.0 %\n",
            "\n",
            "Directed by\n",
            "Non-missing values : 16283\n",
            "Missing values : 7\n",
            "Proportion of missing values = 0.04 %\n",
            "\n",
            "Written by\n",
            "Non-missing values : 15327\n",
            "Missing values : 963\n",
            "Proportion of missing values = 5.91 %\n",
            "\n",
            "Duration\n",
            "Non-missing values : 16277\n",
            "Missing values : 13\n",
            "Proportion of missing values = 0.08 %\n",
            "\n",
            "Genres\n",
            "Non-missing values : 16285\n",
            "Missing values : 5\n",
            "Proportion of missing values = 0.03 %\n",
            "\n"
          ]
        }
      ],
      "source": [
        "missing_data = df.isnull()\n",
        "\n",
        "# Count missing values in each column\n",
        "for column in missing_data.columns:\n",
        "    non_missing_count = missing_data[column].value_counts().get(False,0)\n",
        "    missing_count = missing_data[column].value_counts().get(True, 0)\n",
        "\n",
        "    print(f\"{column}\")\n",
        "    print(f\"Non-missing values : {non_missing_count}\")\n",
        "    print(f\"Missing values : {missing_count}\")\n",
        "    print(\"Proportion of missing values =\", round(missing_data[column].mean()*100,2), \"%\")\n",
        "    \n",
        "    print(\"\")  "
      ]
    },
    {
      "cell_type": "markdown",
      "metadata": {},
      "source": [
        "After imputation, missing values ​​in \"Rating\" and \"No of Persons Voted\" were removed. There are still missing values ​​in the following columns :\n",
        "<ul>\n",
        "    <li>Written by : 5.91 %</li>\n",
        "    <li>Duration : 0.08 %</li>\n",
        "    <li>Directed by : 0.04 %</li>\n",
        "    <li>Genres : 0.03 %</li>\n",
        "</ul>\n",
        "\n",
        "These proportions are small, so we can delete the few remaining lines without risk of losing a significant amount of data.\n",
        "\n"
      ]
    },
    {
      "cell_type": "code",
      "execution_count": 12,
      "metadata": {
        "trusted": true
      },
      "outputs": [
        {
          "data": {
            "text/plain": [
              "(15317, 9)"
            ]
          },
          "execution_count": 12,
          "metadata": {},
          "output_type": "execute_result"
        }
      ],
      "source": [
        "# Remove missing values\n",
        "df = df.dropna()\n",
        "\n",
        "df.shape"
      ]
    },
    {
      "cell_type": "markdown",
      "metadata": {},
      "source": [
        "## 3.2 - Remove Duplicates"
      ]
    },
    {
      "cell_type": "code",
      "execution_count": 9,
      "metadata": {
        "trusted": true
      },
      "outputs": [],
      "source": [
        "df.drop_duplicates(inplace=True)"
      ]
    },
    {
      "cell_type": "code",
      "execution_count": 10,
      "metadata": {
        "trusted": true
      },
      "outputs": [
        {
          "data": {
            "text/plain": [
              "(11447, 9)"
            ]
          },
          "execution_count": 10,
          "metadata": {},
          "output_type": "execute_result"
        }
      ],
      "source": [
        "df.shape"
      ]
    },
    {
      "cell_type": "markdown",
      "metadata": {},
      "source": [
        "# 4 - Data Wrangling"
      ]
    },
    {
      "cell_type": "markdown",
      "metadata": {},
      "source": [
        "## 4.1 - Data Types"
      ]
    },
    {
      "cell_type": "code",
      "execution_count": 9,
      "metadata": {
        "trusted": true
      },
      "outputs": [
        {
          "data": {
            "text/plain": [
              "Title                   object\n",
              "Release Date            object\n",
              "Description             object\n",
              "Rating                 float64\n",
              "No of Persons Voted     object\n",
              "Directed by             object\n",
              "Written by              object\n",
              "Duration                object\n",
              "Genres                  object\n",
              "dtype: object"
            ]
          },
          "execution_count": 9,
          "metadata": {},
          "output_type": "execute_result"
        }
      ],
      "source": [
        "# Let's list the data types for each column\n",
        "df.dtypes"
      ]
    },
    {
      "cell_type": "code",
      "execution_count": 10,
      "metadata": {
        "trusted": true
      },
      "outputs": [],
      "source": [
        "# Convert data types to proper format\n",
        "\n",
        "\n",
        "# Convert \"Release Date\" in date format\n",
        "df[\"Release Date\"] = pd.to_datetime(df[\"Release Date\"])\n",
        "\n",
        "# Convert \"Duration\" in minutes\n",
        "def convert_duration_to_minutes(duration):\n",
        "    # Extract hours and minutes\n",
        "    hours = duration.str.extract(r'(\\d+) h')[0].fillna(0).astype(int)\n",
        "    minutes = duration.str.extract(r'(\\d+) m')[0].fillna(0).astype(int)\n",
        "    \n",
        "    # Compute the total duration in minutes\n",
        "    total_minutes = hours * 60 + minutes\n",
        "    return total_minutes\n",
        "\n",
        "# We apply the function to the \"Duration\" column of our dataframe and create a new column \"Duration in Minutes\"\n",
        "df['Duration in Minutes'] = convert_duration_to_minutes(df['Duration'])\n",
        "\n",
        "# We drop Duration column\n",
        "df = df.drop(columns=[\"Duration\"])"
      ]
    },
    {
      "cell_type": "code",
      "execution_count": 11,
      "metadata": {
        "trusted": true
      },
      "outputs": [
        {
          "data": {
            "text/html": [
              "<div>\n",
              "<style scoped>\n",
              "    .dataframe tbody tr th:only-of-type {\n",
              "        vertical-align: middle;\n",
              "    }\n",
              "\n",
              "    .dataframe tbody tr th {\n",
              "        vertical-align: top;\n",
              "    }\n",
              "\n",
              "    .dataframe thead th {\n",
              "        text-align: right;\n",
              "    }\n",
              "</style>\n",
              "<table border=\"1\" class=\"dataframe\">\n",
              "  <thead>\n",
              "    <tr style=\"text-align: right;\">\n",
              "      <th></th>\n",
              "      <th>Title</th>\n",
              "      <th>Release Date</th>\n",
              "      <th>Description</th>\n",
              "      <th>Rating</th>\n",
              "      <th>No of Persons Voted</th>\n",
              "      <th>Directed by</th>\n",
              "      <th>Written by</th>\n",
              "      <th>Genres</th>\n",
              "      <th>Duration in Minutes</th>\n",
              "    </tr>\n",
              "  </thead>\n",
              "  <tbody>\n",
              "    <tr>\n",
              "      <th>0</th>\n",
              "      <td>Dekalog (1988)</td>\n",
              "      <td>1996-03-22</td>\n",
              "      <td>This masterwork by Krzysztof Kieślowski is one...</td>\n",
              "      <td>7.4</td>\n",
              "      <td>118</td>\n",
              "      <td>Krzysztof Kieslowski</td>\n",
              "      <td>Krzysztof Kieslowski, Krzysztof Piesiewicz</td>\n",
              "      <td>Drama</td>\n",
              "      <td>572</td>\n",
              "    </tr>\n",
              "    <tr>\n",
              "      <th>1</th>\n",
              "      <td>Three Colors: Red</td>\n",
              "      <td>1994-11-23</td>\n",
              "      <td>Krzysztof Kieslowski closes his Three Colors t...</td>\n",
              "      <td>8.3</td>\n",
              "      <td>241</td>\n",
              "      <td>Krzysztof Kieslowski</td>\n",
              "      <td>Krzysztof Kieslowski, Krzysztof Piesiewicz, Ag...</td>\n",
              "      <td>Drama,Mystery,Romance</td>\n",
              "      <td>99</td>\n",
              "    </tr>\n",
              "    <tr>\n",
              "      <th>2</th>\n",
              "      <td>The Conformist</td>\n",
              "      <td>1970-10-22</td>\n",
              "      <td>Set in Rome in the 1930s, this re-release of B...</td>\n",
              "      <td>7.3</td>\n",
              "      <td>106</td>\n",
              "      <td>Bernardo Bertolucci</td>\n",
              "      <td>Alberto Moravia, Bernardo Bertolucci</td>\n",
              "      <td>Drama</td>\n",
              "      <td>107</td>\n",
              "    </tr>\n",
              "    <tr>\n",
              "      <th>3</th>\n",
              "      <td>Tokyo Story</td>\n",
              "      <td>1972-03-13</td>\n",
              "      <td>Yasujiro Ozu’s Tokyo Story follows an aging co...</td>\n",
              "      <td>8.1</td>\n",
              "      <td>147</td>\n",
              "      <td>Yasujirô Ozu</td>\n",
              "      <td>Kôgo Noda, Yasujirô Ozu</td>\n",
              "      <td>Drama</td>\n",
              "      <td>136</td>\n",
              "    </tr>\n",
              "    <tr>\n",
              "      <th>4</th>\n",
              "      <td>The Leopard (re-release)</td>\n",
              "      <td>2004-08-13</td>\n",
              "      <td>Set in Sicily in 1860, Luchino Visconti's spec...</td>\n",
              "      <td>7.8</td>\n",
              "      <td>85</td>\n",
              "      <td>Luchino Visconti</td>\n",
              "      <td>Giuseppe Tomasi di Lampedusa, Suso Cecchi D'Am...</td>\n",
              "      <td>Drama,History</td>\n",
              "      <td>187</td>\n",
              "    </tr>\n",
              "  </tbody>\n",
              "</table>\n",
              "</div>"
            ],
            "text/plain": [
              "                      Title Release Date  \\\n",
              "0            Dekalog (1988)   1996-03-22   \n",
              "1         Three Colors: Red   1994-11-23   \n",
              "2            The Conformist   1970-10-22   \n",
              "3               Tokyo Story   1972-03-13   \n",
              "4  The Leopard (re-release)   2004-08-13   \n",
              "\n",
              "                                         Description  Rating  \\\n",
              "0  This masterwork by Krzysztof Kieślowski is one...     7.4   \n",
              "1  Krzysztof Kieslowski closes his Three Colors t...     8.3   \n",
              "2  Set in Rome in the 1930s, this re-release of B...     7.3   \n",
              "3  Yasujiro Ozu’s Tokyo Story follows an aging co...     8.1   \n",
              "4  Set in Sicily in 1860, Luchino Visconti's spec...     7.8   \n",
              "\n",
              "   No of Persons Voted           Directed by  \\\n",
              "0                  118  Krzysztof Kieslowski   \n",
              "1                  241  Krzysztof Kieslowski   \n",
              "2                  106   Bernardo Bertolucci   \n",
              "3                  147          Yasujirô Ozu   \n",
              "4                   85      Luchino Visconti   \n",
              "\n",
              "                                          Written by                 Genres  \\\n",
              "0         Krzysztof Kieslowski, Krzysztof Piesiewicz                  Drama   \n",
              "1  Krzysztof Kieslowski, Krzysztof Piesiewicz, Ag...  Drama,Mystery,Romance   \n",
              "2               Alberto Moravia, Bernardo Bertolucci                  Drama   \n",
              "3                            Kôgo Noda, Yasujirô Ozu                  Drama   \n",
              "4  Giuseppe Tomasi di Lampedusa, Suso Cecchi D'Am...          Drama,History   \n",
              "\n",
              "   Duration in Minutes  \n",
              "0                  572  \n",
              "1                   99  \n",
              "2                  107  \n",
              "3                  136  \n",
              "4                  187  "
            ]
          },
          "execution_count": 11,
          "metadata": {},
          "output_type": "execute_result"
        }
      ],
      "source": [
        "# We display the resulting dataframe\n",
        "df.head()"
      ]
    },
    {
      "cell_type": "code",
      "execution_count": 12,
      "metadata": {
        "trusted": true
      },
      "outputs": [
        {
          "data": {
            "text/plain": [
              "Title                          object\n",
              "Release Date           datetime64[ns]\n",
              "Description                    object\n",
              "Rating                        float64\n",
              "No of Persons Voted             int64\n",
              "Directed by                    object\n",
              "Written by                     object\n",
              "Genres                         object\n",
              "Duration in Minutes             int64\n",
              "dtype: object"
            ]
          },
          "execution_count": 12,
          "metadata": {},
          "output_type": "execute_result"
        }
      ],
      "source": [
        "# We verify datatypes \n",
        "df.dtypes"
      ]
    },
    {
      "cell_type": "markdown",
      "metadata": {},
      "source": [
        "## 4.2 - Outliers"
      ]
    },
    {
      "cell_type": "code",
      "execution_count": 13,
      "metadata": {
        "trusted": true
      },
      "outputs": [
        {
          "data": {
            "text/html": [
              "<div>\n",
              "<style scoped>\n",
              "    .dataframe tbody tr th:only-of-type {\n",
              "        vertical-align: middle;\n",
              "    }\n",
              "\n",
              "    .dataframe tbody tr th {\n",
              "        vertical-align: top;\n",
              "    }\n",
              "\n",
              "    .dataframe thead th {\n",
              "        text-align: right;\n",
              "    }\n",
              "</style>\n",
              "<table border=\"1\" class=\"dataframe\">\n",
              "  <thead>\n",
              "    <tr style=\"text-align: right;\">\n",
              "      <th></th>\n",
              "      <th>Release Date</th>\n",
              "      <th>Rating</th>\n",
              "      <th>No of Persons Voted</th>\n",
              "      <th>Duration in Minutes</th>\n",
              "    </tr>\n",
              "  </thead>\n",
              "  <tbody>\n",
              "    <tr>\n",
              "      <th>count</th>\n",
              "      <td>12335</td>\n",
              "      <td>12335.000000</td>\n",
              "      <td>12335.000000</td>\n",
              "      <td>12335.000000</td>\n",
              "    </tr>\n",
              "    <tr>\n",
              "      <th>mean</th>\n",
              "      <td>2008-08-13 17:50:02.869882368</td>\n",
              "      <td>6.616157</td>\n",
              "      <td>139.163194</td>\n",
              "      <td>105.552898</td>\n",
              "    </tr>\n",
              "    <tr>\n",
              "      <th>min</th>\n",
              "      <td>1970-01-25 00:00:00</td>\n",
              "      <td>0.300000</td>\n",
              "      <td>4.000000</td>\n",
              "      <td>0.000000</td>\n",
              "    </tr>\n",
              "    <tr>\n",
              "      <th>25%</th>\n",
              "      <td>2002-05-24 00:00:00</td>\n",
              "      <td>5.800000</td>\n",
              "      <td>11.000000</td>\n",
              "      <td>93.000000</td>\n",
              "    </tr>\n",
              "    <tr>\n",
              "      <th>50%</th>\n",
              "      <td>2011-04-29 00:00:00</td>\n",
              "      <td>6.800000</td>\n",
              "      <td>34.000000</td>\n",
              "      <td>103.000000</td>\n",
              "    </tr>\n",
              "    <tr>\n",
              "      <th>75%</th>\n",
              "      <td>2017-06-18 12:00:00</td>\n",
              "      <td>7.600000</td>\n",
              "      <td>122.000000</td>\n",
              "      <td>115.000000</td>\n",
              "    </tr>\n",
              "    <tr>\n",
              "      <th>max</th>\n",
              "      <td>2024-09-13 00:00:00</td>\n",
              "      <td>10.000000</td>\n",
              "      <td>10639.000000</td>\n",
              "      <td>729.000000</td>\n",
              "    </tr>\n",
              "    <tr>\n",
              "      <th>std</th>\n",
              "      <td>NaN</td>\n",
              "      <td>1.411172</td>\n",
              "      <td>372.215377</td>\n",
              "      <td>21.458422</td>\n",
              "    </tr>\n",
              "  </tbody>\n",
              "</table>\n",
              "</div>"
            ],
            "text/plain": [
              "                        Release Date        Rating  No of Persons Voted  \\\n",
              "count                          12335  12335.000000         12335.000000   \n",
              "mean   2008-08-13 17:50:02.869882368      6.616157           139.163194   \n",
              "min              1970-01-25 00:00:00      0.300000             4.000000   \n",
              "25%              2002-05-24 00:00:00      5.800000            11.000000   \n",
              "50%              2011-04-29 00:00:00      6.800000            34.000000   \n",
              "75%              2017-06-18 12:00:00      7.600000           122.000000   \n",
              "max              2024-09-13 00:00:00     10.000000         10639.000000   \n",
              "std                              NaN      1.411172           372.215377   \n",
              "\n",
              "       Duration in Minutes  \n",
              "count         12335.000000  \n",
              "mean            105.552898  \n",
              "min               0.000000  \n",
              "25%              93.000000  \n",
              "50%             103.000000  \n",
              "75%             115.000000  \n",
              "max             729.000000  \n",
              "std              21.458422  "
            ]
          },
          "execution_count": 13,
          "metadata": {},
          "output_type": "execute_result"
        }
      ],
      "source": [
        "# Descriptive statistics \n",
        "df.describe()"
      ]
    },
    {
      "cell_type": "markdown",
      "metadata": {},
      "source": [
        "We notice that there is at least one film whose duration is 0 minute, which is absurd. Let's look at how many movies have a duration of 0 minute in our dataframe.\n"
      ]
    },
    {
      "cell_type": "code",
      "execution_count": 14,
      "metadata": {
        "trusted": true
      },
      "outputs": [
        {
          "data": {
            "text/plain": [
              "(61, 9)"
            ]
          },
          "execution_count": 14,
          "metadata": {},
          "output_type": "execute_result"
        }
      ],
      "source": [
        "# Filter the movies with a duration of 0 minute\n",
        "zero_duration_movies = df[df['Duration in Minutes'] == 0]\n",
        "zero_duration_movies.shape"
      ]
    },
    {
      "cell_type": "markdown",
      "metadata": {},
      "source": [
        "There are 57 movies with a duration of 0 minute. \n",
        "\n",
        "Let's use the OMDb API to fetch movie durations that have a value of 0 minute in our dataframe.\n"
      ]
    },
    {
      "cell_type": "code",
      "execution_count": 15,
      "metadata": {
        "trusted": true
      },
      "outputs": [],
      "source": [
        "# My API key OMDb\n",
        "API_KEY = \"a30f02ad\"\n",
        "\n",
        "# Function to get the duration of a movie via OMDb API\n",
        "def get_movie_duration_from_omdb(movie_title):\n",
        "    try:\n",
        "        url = f\"https://www.omdbapi.com/?t={movie_title}&apikey={API_KEY}\"\n",
        "        response = requests.get(url)\n",
        "        data = response.json()\n",
        "\n",
        "        # Check if movie exists and extract duration\n",
        "        if data['Response'] == 'True':\n",
        "            duration = data.get('Runtime', 'Duration unknown')\n",
        "            return duration\n",
        "        else:\n",
        "            return f\"Movie not found : {movie_title}\"\n",
        "    \n",
        "    except Exception as e:\n",
        "        print(f\"Error while scraping {movie_title}: {e}\")\n",
        "        return None\n",
        "\n",
        "# Function to extract digits from duration as string and convert to integer\n",
        "def extract_minutes(duration_str):\n",
        "    match = re.search(r'\\d+', duration_str)  # Find digits in string\n",
        "    if match:\n",
        "        return int(match.group())  # Returns the integer value of the digits found\n",
        "    return None\n",
        "\n",
        "for index, row in zero_duration_movies.iterrows():\n",
        "    duration_str = get_movie_duration_from_omdb(row['Title'])\n",
        "    if duration_str is not None:\n",
        "        duration_in_minutes = extract_minutes(duration_str)  # Extract duration in minutes\n",
        "        if duration_in_minutes is not None:\n",
        "            df.at[index, 'Duration in Minutes'] = duration_in_minutes  # Update column with integer value"
      ]
    },
    {
      "cell_type": "code",
      "execution_count": 16,
      "metadata": {
        "trusted": true
      },
      "outputs": [
        {
          "data": {
            "text/plain": [
              "(4, 9)"
            ]
          },
          "execution_count": 16,
          "metadata": {},
          "output_type": "execute_result"
        }
      ],
      "source": [
        "# Filter again the movies with a duration of 0 minute\n",
        "zero_duration_movies = df[df['Duration in Minutes'] == 0]\n",
        "zero_duration_movies.shape"
      ]
    },
    {
      "cell_type": "markdown",
      "metadata": {},
      "source": [
        "After retrieving the film durations via the omdb API, we see that there are only 4 films with a duration of 0 minute in our dataframe (compared to 57 before).\n"
      ]
    },
    {
      "cell_type": "markdown",
      "metadata": {},
      "source": [
        "Let's look at what are the remaining 4 movies with a duration of 0 minute."
      ]
    },
    {
      "cell_type": "code",
      "execution_count": 17,
      "metadata": {
        "trusted": true
      },
      "outputs": [
        {
          "data": {
            "text/html": [
              "<div>\n",
              "<style scoped>\n",
              "    .dataframe tbody tr th:only-of-type {\n",
              "        vertical-align: middle;\n",
              "    }\n",
              "\n",
              "    .dataframe tbody tr th {\n",
              "        vertical-align: top;\n",
              "    }\n",
              "\n",
              "    .dataframe thead th {\n",
              "        text-align: right;\n",
              "    }\n",
              "</style>\n",
              "<table border=\"1\" class=\"dataframe\">\n",
              "  <thead>\n",
              "    <tr style=\"text-align: right;\">\n",
              "      <th></th>\n",
              "      <th>Title</th>\n",
              "      <th>Release Date</th>\n",
              "      <th>Description</th>\n",
              "      <th>Rating</th>\n",
              "      <th>No of Persons Voted</th>\n",
              "      <th>Directed by</th>\n",
              "      <th>Written by</th>\n",
              "      <th>Genres</th>\n",
              "      <th>Duration in Minutes</th>\n",
              "    </tr>\n",
              "  </thead>\n",
              "  <tbody>\n",
              "    <tr>\n",
              "      <th>2754</th>\n",
              "      <td>Code Black</td>\n",
              "      <td>2014-06-20</td>\n",
              "      <td>In his vivid and thought-provoking filmmaking ...</td>\n",
              "      <td>6.1</td>\n",
              "      <td>8</td>\n",
              "      <td>Ryan McGarry</td>\n",
              "      <td>Joshua Altman, Ryan McGarry</td>\n",
              "      <td>Documentary,Drama</td>\n",
              "      <td>0</td>\n",
              "    </tr>\n",
              "    <tr>\n",
              "      <th>5255</th>\n",
              "      <td>Operation Varsity Blues: The College Admission...</td>\n",
              "      <td>2021-03-17</td>\n",
              "      <td>Reenactments drive this documentary investigat...</td>\n",
              "      <td>7.3</td>\n",
              "      <td>12</td>\n",
              "      <td>Chris Smith</td>\n",
              "      <td>Jon Karmen</td>\n",
              "      <td>Documentary,Crime,Drama</td>\n",
              "      <td>0</td>\n",
              "    </tr>\n",
              "    <tr>\n",
              "      <th>9141</th>\n",
              "      <td>Hava Nagila: The Movie</td>\n",
              "      <td>2013-03-01</td>\n",
              "      <td>A documentary that traces the history of the s...</td>\n",
              "      <td>2.6</td>\n",
              "      <td>8</td>\n",
              "      <td>Roberta Grossman</td>\n",
              "      <td>Sophie Sartain</td>\n",
              "      <td>Documentary,Comedy,History,Music</td>\n",
              "      <td>0</td>\n",
              "    </tr>\n",
              "    <tr>\n",
              "      <th>16202</th>\n",
              "      <td>America: Imagine a World Without Her</td>\n",
              "      <td>2014-07-02</td>\n",
              "      <td>Someone once observed: \"America is great becau...</td>\n",
              "      <td>6.3</td>\n",
              "      <td>148</td>\n",
              "      <td>Dinesh D'Souza, \\n    \\n      John Sullivan</td>\n",
              "      <td>Dinesh D'Souza, John Sullivan, Bruce Schooley</td>\n",
              "      <td>Documentary</td>\n",
              "      <td>0</td>\n",
              "    </tr>\n",
              "  </tbody>\n",
              "</table>\n",
              "</div>"
            ],
            "text/plain": [
              "                                                   Title Release Date  \\\n",
              "2754                                          Code Black   2014-06-20   \n",
              "5255   Operation Varsity Blues: The College Admission...   2021-03-17   \n",
              "9141                              Hava Nagila: The Movie   2013-03-01   \n",
              "16202               America: Imagine a World Without Her   2014-07-02   \n",
              "\n",
              "                                             Description  Rating  \\\n",
              "2754   In his vivid and thought-provoking filmmaking ...     6.1   \n",
              "5255   Reenactments drive this documentary investigat...     7.3   \n",
              "9141   A documentary that traces the history of the s...     2.6   \n",
              "16202  Someone once observed: \"America is great becau...     6.3   \n",
              "\n",
              "       No of Persons Voted                                  Directed by  \\\n",
              "2754                     8                                 Ryan McGarry   \n",
              "5255                    12                                  Chris Smith   \n",
              "9141                     8                             Roberta Grossman   \n",
              "16202                  148  Dinesh D'Souza, \\n    \\n      John Sullivan   \n",
              "\n",
              "                                          Written by  \\\n",
              "2754                     Joshua Altman, Ryan McGarry   \n",
              "5255                                      Jon Karmen   \n",
              "9141                                  Sophie Sartain   \n",
              "16202  Dinesh D'Souza, John Sullivan, Bruce Schooley   \n",
              "\n",
              "                                 Genres  Duration in Minutes  \n",
              "2754                  Documentary,Drama                    0  \n",
              "5255            Documentary,Crime,Drama                    0  \n",
              "9141   Documentary,Comedy,History,Music                    0  \n",
              "16202                       Documentary                    0  "
            ]
          },
          "execution_count": 17,
          "metadata": {},
          "output_type": "execute_result"
        }
      ],
      "source": [
        "zero_duration_movies"
      ]
    },
    {
      "cell_type": "markdown",
      "metadata": {},
      "source": [
        "Let's do a Metacritic search for each of the films above to find the duration of the films and manually replace it in the \"Duration in Minutes\" column : \n",
        "<ol>\n",
        "    <li>\"Code Black\" : 78 min </li>\n",
        "    <li>\"Operation Varsity Blues: The college Admission Scandal\" : 99 min</li>\n",
        "    <li>\"Hava Nagila: The Movie\" : 75 min</li>\n",
        "    <li>\"America: Imagine a World Without Her\" : 105 min</li>\n",
        "</ol>"
      ]
    },
    {
      "cell_type": "code",
      "execution_count": 18,
      "metadata": {
        "trusted": true
      },
      "outputs": [],
      "source": [
        "# We add the duration of the 4 films above (found on the Metacritic site)\n",
        "\n",
        "# List of indexes to modify\n",
        "index_list = [2754, 5255, 9141, 16202]\n",
        "\n",
        "# New durations to assign\n",
        "new_duration = [78, 99, 75, 105]\n",
        "\n",
        "# Replace the values of the 'Duration in Minutes' column\n",
        "df.loc[index_list, 'Duration in Minutes'] = new_duration"
      ]
    },
    {
      "cell_type": "code",
      "execution_count": 19,
      "metadata": {
        "trusted": true
      },
      "outputs": [
        {
          "data": {
            "text/html": [
              "<div>\n",
              "<style scoped>\n",
              "    .dataframe tbody tr th:only-of-type {\n",
              "        vertical-align: middle;\n",
              "    }\n",
              "\n",
              "    .dataframe tbody tr th {\n",
              "        vertical-align: top;\n",
              "    }\n",
              "\n",
              "    .dataframe thead th {\n",
              "        text-align: right;\n",
              "    }\n",
              "</style>\n",
              "<table border=\"1\" class=\"dataframe\">\n",
              "  <thead>\n",
              "    <tr style=\"text-align: right;\">\n",
              "      <th></th>\n",
              "      <th>Title</th>\n",
              "      <th>Release Date</th>\n",
              "      <th>Description</th>\n",
              "      <th>Rating</th>\n",
              "      <th>No of Persons Voted</th>\n",
              "      <th>Directed by</th>\n",
              "      <th>Written by</th>\n",
              "      <th>Genres</th>\n",
              "      <th>Duration in Minutes</th>\n",
              "    </tr>\n",
              "  </thead>\n",
              "  <tbody>\n",
              "    <tr>\n",
              "      <th>2754</th>\n",
              "      <td>Code Black</td>\n",
              "      <td>2014-06-20</td>\n",
              "      <td>In his vivid and thought-provoking filmmaking ...</td>\n",
              "      <td>6.1</td>\n",
              "      <td>8</td>\n",
              "      <td>Ryan McGarry</td>\n",
              "      <td>Joshua Altman, Ryan McGarry</td>\n",
              "      <td>Documentary,Drama</td>\n",
              "      <td>78</td>\n",
              "    </tr>\n",
              "    <tr>\n",
              "      <th>5255</th>\n",
              "      <td>Operation Varsity Blues: The College Admission...</td>\n",
              "      <td>2021-03-17</td>\n",
              "      <td>Reenactments drive this documentary investigat...</td>\n",
              "      <td>7.3</td>\n",
              "      <td>12</td>\n",
              "      <td>Chris Smith</td>\n",
              "      <td>Jon Karmen</td>\n",
              "      <td>Documentary,Crime,Drama</td>\n",
              "      <td>99</td>\n",
              "    </tr>\n",
              "    <tr>\n",
              "      <th>9141</th>\n",
              "      <td>Hava Nagila: The Movie</td>\n",
              "      <td>2013-03-01</td>\n",
              "      <td>A documentary that traces the history of the s...</td>\n",
              "      <td>2.6</td>\n",
              "      <td>8</td>\n",
              "      <td>Roberta Grossman</td>\n",
              "      <td>Sophie Sartain</td>\n",
              "      <td>Documentary,Comedy,History,Music</td>\n",
              "      <td>75</td>\n",
              "    </tr>\n",
              "    <tr>\n",
              "      <th>16202</th>\n",
              "      <td>America: Imagine a World Without Her</td>\n",
              "      <td>2014-07-02</td>\n",
              "      <td>Someone once observed: \"America is great becau...</td>\n",
              "      <td>6.3</td>\n",
              "      <td>148</td>\n",
              "      <td>Dinesh D'Souza, \\n    \\n      John Sullivan</td>\n",
              "      <td>Dinesh D'Souza, John Sullivan, Bruce Schooley</td>\n",
              "      <td>Documentary</td>\n",
              "      <td>105</td>\n",
              "    </tr>\n",
              "  </tbody>\n",
              "</table>\n",
              "</div>"
            ],
            "text/plain": [
              "                                                   Title Release Date  \\\n",
              "2754                                          Code Black   2014-06-20   \n",
              "5255   Operation Varsity Blues: The College Admission...   2021-03-17   \n",
              "9141                              Hava Nagila: The Movie   2013-03-01   \n",
              "16202               America: Imagine a World Without Her   2014-07-02   \n",
              "\n",
              "                                             Description  Rating  \\\n",
              "2754   In his vivid and thought-provoking filmmaking ...     6.1   \n",
              "5255   Reenactments drive this documentary investigat...     7.3   \n",
              "9141   A documentary that traces the history of the s...     2.6   \n",
              "16202  Someone once observed: \"America is great becau...     6.3   \n",
              "\n",
              "       No of Persons Voted                                  Directed by  \\\n",
              "2754                     8                                 Ryan McGarry   \n",
              "5255                    12                                  Chris Smith   \n",
              "9141                     8                             Roberta Grossman   \n",
              "16202                  148  Dinesh D'Souza, \\n    \\n      John Sullivan   \n",
              "\n",
              "                                          Written by  \\\n",
              "2754                     Joshua Altman, Ryan McGarry   \n",
              "5255                                      Jon Karmen   \n",
              "9141                                  Sophie Sartain   \n",
              "16202  Dinesh D'Souza, John Sullivan, Bruce Schooley   \n",
              "\n",
              "                                 Genres  Duration in Minutes  \n",
              "2754                  Documentary,Drama                   78  \n",
              "5255            Documentary,Crime,Drama                   99  \n",
              "9141   Documentary,Comedy,History,Music                   75  \n",
              "16202                       Documentary                  105  "
            ]
          },
          "execution_count": 19,
          "metadata": {},
          "output_type": "execute_result"
        }
      ],
      "source": [
        "# Check changes\n",
        "df.loc[index_list]"
      ]
    },
    {
      "cell_type": "code",
      "execution_count": 20,
      "metadata": {
        "trusted": true
      },
      "outputs": [
        {
          "data": {
            "text/html": [
              "<div>\n",
              "<style scoped>\n",
              "    .dataframe tbody tr th:only-of-type {\n",
              "        vertical-align: middle;\n",
              "    }\n",
              "\n",
              "    .dataframe tbody tr th {\n",
              "        vertical-align: top;\n",
              "    }\n",
              "\n",
              "    .dataframe thead th {\n",
              "        text-align: right;\n",
              "    }\n",
              "</style>\n",
              "<table border=\"1\" class=\"dataframe\">\n",
              "  <thead>\n",
              "    <tr style=\"text-align: right;\">\n",
              "      <th></th>\n",
              "      <th>Release Date</th>\n",
              "      <th>Rating</th>\n",
              "      <th>No of Persons Voted</th>\n",
              "      <th>Duration in Minutes</th>\n",
              "    </tr>\n",
              "  </thead>\n",
              "  <tbody>\n",
              "    <tr>\n",
              "      <th>count</th>\n",
              "      <td>12335</td>\n",
              "      <td>12335.000000</td>\n",
              "      <td>12335.000000</td>\n",
              "      <td>12335.000000</td>\n",
              "    </tr>\n",
              "    <tr>\n",
              "      <th>mean</th>\n",
              "      <td>2008-08-13 17:50:02.869882368</td>\n",
              "      <td>6.616157</td>\n",
              "      <td>139.163194</td>\n",
              "      <td>106.018970</td>\n",
              "    </tr>\n",
              "    <tr>\n",
              "      <th>min</th>\n",
              "      <td>1970-01-25 00:00:00</td>\n",
              "      <td>0.300000</td>\n",
              "      <td>4.000000</td>\n",
              "      <td>30.000000</td>\n",
              "    </tr>\n",
              "    <tr>\n",
              "      <th>25%</th>\n",
              "      <td>2002-05-24 00:00:00</td>\n",
              "      <td>5.800000</td>\n",
              "      <td>11.000000</td>\n",
              "      <td>93.000000</td>\n",
              "    </tr>\n",
              "    <tr>\n",
              "      <th>50%</th>\n",
              "      <td>2011-04-29 00:00:00</td>\n",
              "      <td>6.800000</td>\n",
              "      <td>34.000000</td>\n",
              "      <td>103.000000</td>\n",
              "    </tr>\n",
              "    <tr>\n",
              "      <th>75%</th>\n",
              "      <td>2017-06-18 12:00:00</td>\n",
              "      <td>7.600000</td>\n",
              "      <td>122.000000</td>\n",
              "      <td>115.000000</td>\n",
              "    </tr>\n",
              "    <tr>\n",
              "      <th>max</th>\n",
              "      <td>2024-09-13 00:00:00</td>\n",
              "      <td>10.000000</td>\n",
              "      <td>10639.000000</td>\n",
              "      <td>729.000000</td>\n",
              "    </tr>\n",
              "    <tr>\n",
              "      <th>std</th>\n",
              "      <td>NaN</td>\n",
              "      <td>1.411172</td>\n",
              "      <td>372.215377</td>\n",
              "      <td>20.212495</td>\n",
              "    </tr>\n",
              "  </tbody>\n",
              "</table>\n",
              "</div>"
            ],
            "text/plain": [
              "                        Release Date        Rating  No of Persons Voted  \\\n",
              "count                          12335  12335.000000         12335.000000   \n",
              "mean   2008-08-13 17:50:02.869882368      6.616157           139.163194   \n",
              "min              1970-01-25 00:00:00      0.300000             4.000000   \n",
              "25%              2002-05-24 00:00:00      5.800000            11.000000   \n",
              "50%              2011-04-29 00:00:00      6.800000            34.000000   \n",
              "75%              2017-06-18 12:00:00      7.600000           122.000000   \n",
              "max              2024-09-13 00:00:00     10.000000         10639.000000   \n",
              "std                              NaN      1.411172           372.215377   \n",
              "\n",
              "       Duration in Minutes  \n",
              "count         12335.000000  \n",
              "mean            106.018970  \n",
              "min              30.000000  \n",
              "25%              93.000000  \n",
              "50%             103.000000  \n",
              "75%             115.000000  \n",
              "max             729.000000  \n",
              "std              20.212495  "
            ]
          },
          "execution_count": 20,
          "metadata": {},
          "output_type": "execute_result"
        }
      ],
      "source": [
        "df.describe()"
      ]
    },
    {
      "cell_type": "markdown",
      "metadata": {},
      "source": [
        "Now our dataframe no longer contains movies with a duration of 0 minutes (the minimum is 30 minutes)."
      ]
    },
    {
      "cell_type": "markdown",
      "metadata": {},
      "source": [
        "## 4.3 - Simplification of the dataset"
      ]
    },
    {
      "cell_type": "code",
      "execution_count": 21,
      "metadata": {},
      "outputs": [
        {
          "data": {
            "text/html": [
              "<div>\n",
              "<style scoped>\n",
              "    .dataframe tbody tr th:only-of-type {\n",
              "        vertical-align: middle;\n",
              "    }\n",
              "\n",
              "    .dataframe tbody tr th {\n",
              "        vertical-align: top;\n",
              "    }\n",
              "\n",
              "    .dataframe thead th {\n",
              "        text-align: right;\n",
              "    }\n",
              "</style>\n",
              "<table border=\"1\" class=\"dataframe\">\n",
              "  <thead>\n",
              "    <tr style=\"text-align: right;\">\n",
              "      <th></th>\n",
              "      <th>Title</th>\n",
              "      <th>Release Date</th>\n",
              "      <th>Description</th>\n",
              "      <th>Rating</th>\n",
              "      <th>No of Persons Voted</th>\n",
              "      <th>Directed by</th>\n",
              "      <th>Written by</th>\n",
              "      <th>Genres</th>\n",
              "      <th>Duration in Minutes</th>\n",
              "    </tr>\n",
              "  </thead>\n",
              "  <tbody>\n",
              "    <tr>\n",
              "      <th>0</th>\n",
              "      <td>Dekalog (1988)</td>\n",
              "      <td>1996-03-22</td>\n",
              "      <td>This masterwork by Krzysztof Kieślowski is one...</td>\n",
              "      <td>7.4</td>\n",
              "      <td>118</td>\n",
              "      <td>Krzysztof Kieslowski</td>\n",
              "      <td>Krzysztof Kieslowski, Krzysztof Piesiewicz</td>\n",
              "      <td>Drama</td>\n",
              "      <td>572</td>\n",
              "    </tr>\n",
              "    <tr>\n",
              "      <th>1</th>\n",
              "      <td>Three Colors: Red</td>\n",
              "      <td>1994-11-23</td>\n",
              "      <td>Krzysztof Kieslowski closes his Three Colors t...</td>\n",
              "      <td>8.3</td>\n",
              "      <td>241</td>\n",
              "      <td>Krzysztof Kieslowski</td>\n",
              "      <td>Krzysztof Kieslowski, Krzysztof Piesiewicz, Ag...</td>\n",
              "      <td>Drama,Mystery,Romance</td>\n",
              "      <td>99</td>\n",
              "    </tr>\n",
              "    <tr>\n",
              "      <th>2</th>\n",
              "      <td>The Conformist</td>\n",
              "      <td>1970-10-22</td>\n",
              "      <td>Set in Rome in the 1930s, this re-release of B...</td>\n",
              "      <td>7.3</td>\n",
              "      <td>106</td>\n",
              "      <td>Bernardo Bertolucci</td>\n",
              "      <td>Alberto Moravia, Bernardo Bertolucci</td>\n",
              "      <td>Drama</td>\n",
              "      <td>107</td>\n",
              "    </tr>\n",
              "  </tbody>\n",
              "</table>\n",
              "</div>"
            ],
            "text/plain": [
              "               Title Release Date  \\\n",
              "0     Dekalog (1988)   1996-03-22   \n",
              "1  Three Colors: Red   1994-11-23   \n",
              "2     The Conformist   1970-10-22   \n",
              "\n",
              "                                         Description  Rating  \\\n",
              "0  This masterwork by Krzysztof Kieślowski is one...     7.4   \n",
              "1  Krzysztof Kieslowski closes his Three Colors t...     8.3   \n",
              "2  Set in Rome in the 1930s, this re-release of B...     7.3   \n",
              "\n",
              "   No of Persons Voted           Directed by  \\\n",
              "0                  118  Krzysztof Kieslowski   \n",
              "1                  241  Krzysztof Kieslowski   \n",
              "2                  106   Bernardo Bertolucci   \n",
              "\n",
              "                                          Written by                 Genres  \\\n",
              "0         Krzysztof Kieslowski, Krzysztof Piesiewicz                  Drama   \n",
              "1  Krzysztof Kieslowski, Krzysztof Piesiewicz, Ag...  Drama,Mystery,Romance   \n",
              "2               Alberto Moravia, Bernardo Bertolucci                  Drama   \n",
              "\n",
              "   Duration in Minutes  \n",
              "0                  572  \n",
              "1                   99  \n",
              "2                  107  "
            ]
          },
          "execution_count": 21,
          "metadata": {},
          "output_type": "execute_result"
        }
      ],
      "source": [
        "df.head(3)"
      ]
    },
    {
      "cell_type": "markdown",
      "metadata": {},
      "source": [
        "In the \"Genres\" column of DataFrame df, we notice that there are sometimes several different genres separated by commas. To facilitate the analysis of film genres, let's only keep the first genre that appears."
      ]
    },
    {
      "cell_type": "code",
      "execution_count": 22,
      "metadata": {},
      "outputs": [
        {
          "data": {
            "text/html": [
              "<div>\n",
              "<style scoped>\n",
              "    .dataframe tbody tr th:only-of-type {\n",
              "        vertical-align: middle;\n",
              "    }\n",
              "\n",
              "    .dataframe tbody tr th {\n",
              "        vertical-align: top;\n",
              "    }\n",
              "\n",
              "    .dataframe thead th {\n",
              "        text-align: right;\n",
              "    }\n",
              "</style>\n",
              "<table border=\"1\" class=\"dataframe\">\n",
              "  <thead>\n",
              "    <tr style=\"text-align: right;\">\n",
              "      <th></th>\n",
              "      <th>Title</th>\n",
              "      <th>Release Date</th>\n",
              "      <th>Description</th>\n",
              "      <th>Rating</th>\n",
              "      <th>No of Persons Voted</th>\n",
              "      <th>Directed by</th>\n",
              "      <th>Written by</th>\n",
              "      <th>Genres</th>\n",
              "      <th>Duration in Minutes</th>\n",
              "    </tr>\n",
              "  </thead>\n",
              "  <tbody>\n",
              "    <tr>\n",
              "      <th>0</th>\n",
              "      <td>Dekalog (1988)</td>\n",
              "      <td>1996-03-22</td>\n",
              "      <td>This masterwork by Krzysztof Kieślowski is one...</td>\n",
              "      <td>7.4</td>\n",
              "      <td>118</td>\n",
              "      <td>Krzysztof Kieslowski</td>\n",
              "      <td>Krzysztof Kieslowski, Krzysztof Piesiewicz</td>\n",
              "      <td>Drama</td>\n",
              "      <td>572</td>\n",
              "    </tr>\n",
              "    <tr>\n",
              "      <th>1</th>\n",
              "      <td>Three Colors: Red</td>\n",
              "      <td>1994-11-23</td>\n",
              "      <td>Krzysztof Kieslowski closes his Three Colors t...</td>\n",
              "      <td>8.3</td>\n",
              "      <td>241</td>\n",
              "      <td>Krzysztof Kieslowski</td>\n",
              "      <td>Krzysztof Kieslowski, Krzysztof Piesiewicz, Ag...</td>\n",
              "      <td>Drama</td>\n",
              "      <td>99</td>\n",
              "    </tr>\n",
              "    <tr>\n",
              "      <th>2</th>\n",
              "      <td>The Conformist</td>\n",
              "      <td>1970-10-22</td>\n",
              "      <td>Set in Rome in the 1930s, this re-release of B...</td>\n",
              "      <td>7.3</td>\n",
              "      <td>106</td>\n",
              "      <td>Bernardo Bertolucci</td>\n",
              "      <td>Alberto Moravia, Bernardo Bertolucci</td>\n",
              "      <td>Drama</td>\n",
              "      <td>107</td>\n",
              "    </tr>\n",
              "  </tbody>\n",
              "</table>\n",
              "</div>"
            ],
            "text/plain": [
              "               Title Release Date  \\\n",
              "0     Dekalog (1988)   1996-03-22   \n",
              "1  Three Colors: Red   1994-11-23   \n",
              "2     The Conformist   1970-10-22   \n",
              "\n",
              "                                         Description  Rating  \\\n",
              "0  This masterwork by Krzysztof Kieślowski is one...     7.4   \n",
              "1  Krzysztof Kieslowski closes his Three Colors t...     8.3   \n",
              "2  Set in Rome in the 1930s, this re-release of B...     7.3   \n",
              "\n",
              "   No of Persons Voted           Directed by  \\\n",
              "0                  118  Krzysztof Kieslowski   \n",
              "1                  241  Krzysztof Kieslowski   \n",
              "2                  106   Bernardo Bertolucci   \n",
              "\n",
              "                                          Written by Genres  \\\n",
              "0         Krzysztof Kieslowski, Krzysztof Piesiewicz  Drama   \n",
              "1  Krzysztof Kieslowski, Krzysztof Piesiewicz, Ag...  Drama   \n",
              "2               Alberto Moravia, Bernardo Bertolucci  Drama   \n",
              "\n",
              "   Duration in Minutes  \n",
              "0                  572  \n",
              "1                   99  \n",
              "2                  107  "
            ]
          },
          "execution_count": 22,
          "metadata": {},
          "output_type": "execute_result"
        }
      ],
      "source": [
        "# Keep the first genre that appaears in the \"Genres\" column\n",
        "df[\"Genres\"] = df[\"Genres\"].str.split(\",\").str[0]\n",
        "df.head(3)"
      ]
    },
    {
      "cell_type": "markdown",
      "metadata": {},
      "source": [
        "# 5 - Exploratory Data Analysis"
      ]
    },
    {
      "cell_type": "markdown",
      "metadata": {},
      "source": [
        "## 5.1 - Data distribution"
      ]
    },
    {
      "cell_type": "markdown",
      "metadata": {},
      "source": [
        "### 5.1.1 - Distribution of Rating"
      ]
    },
    {
      "cell_type": "code",
      "execution_count": 23,
      "metadata": {},
      "outputs": [
        {
          "data": {
            "image/png": "[encoded data removed]",
            "text/plain": [
              "<Figure size 1000x600 with 1 Axes>"
            ]
          },
          "metadata": {},
          "output_type": "display_data"
        }
      ],
      "source": [
        "# Histogram of ratings\n",
        "plt.figure(figsize=(10, 6))\n",
        "sns.histplot(df[\"Rating\"], bins=20, kde=True)\n",
        "plt.title(\"Distribution of movie ratings\")\n",
        "plt.xlabel(\"Rating\")\n",
        "plt.ylabel(\"Frequency\")\n",
        "plt.show()"
      ]
    },
    {
      "cell_type": "markdown",
      "metadata": {},
      "source": [
        "### 5.1.2 - Distribution of Duration"
      ]
    },
    {
      "cell_type": "code",
      "execution_count": 24,
      "metadata": {},
      "outputs": [
        {
          "data": {
            "image/png": "[encoded data removed]",
            "text/plain": [
              "<Figure size 1000x600 with 1 Axes>"
            ]
          },
          "metadata": {},
          "output_type": "display_data"
        }
      ],
      "source": [
        "# Histogram of duration\n",
        "plt.figure(figsize=(10, 6))\n",
        "sns.histplot(df[\"Duration in Minutes\"], bins=20, kde=True)\n",
        "plt.title(\"Distribution of movie durations\")\n",
        "plt.xlabel(\"Duration (minutes)\")\n",
        "plt.ylabel(\"Frequency\")\n",
        "plt.show()"
      ]
    },
    {
      "cell_type": "markdown",
      "metadata": {},
      "source": [
        "## 5.2 - Evolution of the number of votes"
      ]
    },
    {
      "cell_type": "code",
      "execution_count": 25,
      "metadata": {},
      "outputs": [
        {
          "data": {
            "image/png": "[encoded data removed]",
            "text/plain": [
              "<Figure size 1200x600 with 1 Axes>"
            ]
          },
          "metadata": {},
          "output_type": "display_data"
        }
      ],
      "source": [
        "# Evolution of the average number of votes over the year\n",
        "df[\"Year\"] = df[\"Release Date\"].dt.year\n",
        "plt.figure(figsize=(12, 6))\n",
        "sns.lineplot(data=df.groupby(\"Year\")[\"No of Persons Voted\"].mean(), label=\"Average Number of Votes\")\n",
        "plt.title(\"Evolution of the average number of votes over the year\")\n",
        "plt.xlabel(\"Release Year\")\n",
        "plt.ylabel(\"Average Number of Votes\")\n",
        "plt.legend()\n",
        "plt.show()"
      ]
    },
    {
      "cell_type": "markdown",
      "metadata": {},
      "source": [
        "## 5.3 - Trends in movie ratings over time "
      ]
    },
    {
      "cell_type": "code",
      "execution_count": 26,
      "metadata": {
        "trusted": true
      },
      "outputs": [
        {
          "data": {
            "application/vnd.plotly.v1+json": {
              "config": {
                "plotlyServerURL": "https://plot.ly"
              },
              "data": [
                {
                  "hovertemplate": "Release Year=%{x}<br>Rating=%{y}<extra></extra>",
                  "legendgroup": "",
                  "line": {
                    "color": "#636efa",
                    "dash": "solid"
                  },
                  "marker": {
                    "symbol": "circle"
                  },
                  "mode": "lines+markers",
                  "name": "",
                  "orientation": "v",
                  "showlegend": false,
                  "type": "scatter",
                  "x": [
                    1970,
                    1971,
                    1972,
                    1973,
                    1974,
                    1975,
                    1976,
                    1977,
                    1978,
                    1979,
                    1980,
                    1981,
                    1982,
                    1983,
                    1984,
                    1985,
                    1986,
                    1987,
                    1988,
                    1989,
                    1990,
                    1991,
                    1992,
                    1993,
                    1994,
                    1995,
                    1996,
                    1997,
                    1998,
                    1999,
                    2000,
                    2001,
                    2002,
                    2003,
                    2004,
                    2005,
                    2006,
                    2007,
                    2008,
                    2009,
                    2010,
                    2011,
                    2012,
                    2013,
                    2014,
                    2015,
                    2016,
                    2017,
                    2018,
                    2019,
                    2020,
                    2021,
                    2022,
                    2023,
                    2024
                  ],
                  "xaxis": "x",
                  "y": [
                    6.95625,
                    7.305555555555555,
                    7.07037037037037,
                    7.23888888888889,
                    6.68108108108108,
                    6.819999999999999,
                    7.199999999999999,
                    7.094117647058823,
                    6.985106382978723,
                    7.291666666666667,
                    6.5,
                    7.07719298245614,
                    6.8307692307692305,
                    6.99672131147541,
                    6.845070422535211,
                    7.303703703703704,
                    7.2414141414141415,
                    7.187234042553191,
                    7.13855421686747,
                    7.245652173913044,
                    7.069090909090909,
                    7.139130434782608,
                    6.973737373737373,
                    7.050406504065041,
                    7.059183673469387,
                    7.148031496062992,
                    6.951879699248121,
                    6.998581560283688,
                    6.816666666666666,
                    6.771729957805907,
                    6.581679389312978,
                    6.618727915194346,
                    6.647770700636943,
                    6.631935483870968,
                    6.641640378548896,
                    6.690340909090909,
                    6.768380462724936,
                    6.730199430199431,
                    6.705135951661632,
                    6.595014662756599,
                    6.92,
                    6.577880184331797,
                    6.561936936936937,
                    6.52404255319149,
                    6.4379432624113475,
                    6.43953488372093,
                    6.418918918918919,
                    6.48195020746888,
                    6.49030303030303,
                    6.531788079470199,
                    6.372453703703704,
                    6.2016587677725115,
                    6.190821256038648,
                    6.255269922879178,
                    6.199107142857143
                  ],
                  "yaxis": "y"
                }
              ],
              "layout": {
                "height": 600,
                "legend": {
                  "tracegroupgap": 0
                },
                "template": {
                  "data": {
                    "bar": [
                      {
                        "error_x": {
                          "color": "#2a3f5f"
                        },
                        "error_y": {
                          "color": "#2a3f5f"
                        },
                        "marker": {
                          "line": {
                            "color": "#E5ECF6",
                            "width": 0.5
                          },
                          "pattern": {
                            "fillmode": "overlay",
                            "size": 10,
                            "solidity": 0.2
                          }
                        },
                        "type": "bar"
                      }
                    ],
                    "barpolar": [
                      {
                        "marker": {
                          "line": {
                            "color": "#E5ECF6",
                            "width": 0.5
                          },
                          "pattern": {
                            "fillmode": "overlay",
                            "size": 10,
                            "solidity": 0.2
                          }
                        },
                        "type": "barpolar"
                      }
                    ],
                    "carpet": [
                      {
                        "aaxis": {
                          "endlinecolor": "#2a3f5f",
                          "gridcolor": "white",
                          "linecolor": "white",
                          "minorgridcolor": "white",
                          "startlinecolor": "#2a3f5f"
                        },
                        "baxis": {
                          "endlinecolor": "#2a3f5f",
                          "gridcolor": "white",
                          "linecolor": "white",
                          "minorgridcolor": "white",
                          "startlinecolor": "#2a3f5f"
                        },
                        "type": "carpet"
                      }
                    ],
                    "choropleth": [
                      {
                        "colorbar": {
                          "outlinewidth": 0,
                          "ticks": ""
                        },
                        "type": "choropleth"
                      }
                    ],
                    "contour": [
                      {
                        "colorbar": {
                          "outlinewidth": 0,
                          "ticks": ""
                        },
                        "colorscale": [
                          [
                            0,
                            "#0d0887"
                          ],
                          [
                            0.1111111111111111,
                            "#46039f"
                          ],
                          [
                            0.2222222222222222,
                            "#7201a8"
                          ],
                          [
                            0.3333333333333333,
                            "#9c179e"
                          ],
                          [
                            0.4444444444444444,
                            "#bd3786"
                          ],
                          [
                            0.5555555555555556,
                            "#d8576b"
                          ],
                          [
                            0.6666666666666666,
                            "#ed7953"
                          ],
                          [
                            0.7777777777777778,
                            "#fb9f3a"
                          ],
                          [
                            0.8888888888888888,
                            "#fdca26"
                          ],
                          [
                            1,
                            "#f0f921"
                          ]
                        ],
                        "type": "contour"
                      }
                    ],
                    "contourcarpet": [
                      {
                        "colorbar": {
                          "outlinewidth": 0,
                          "ticks": ""
                        },
                        "type": "contourcarpet"
                      }
                    ],
                    "heatmap": [
                      {
                        "colorbar": {
                          "outlinewidth": 0,
                          "ticks": ""
                        },
                        "colorscale": [
                          [
                            0,
                            "#0d0887"
                          ],
                          [
                            0.1111111111111111,
                            "#46039f"
                          ],
                          [
                            0.2222222222222222,
                            "#7201a8"
                          ],
                          [
                            0.3333333333333333,
                            "#9c179e"
                          ],
                          [
                            0.4444444444444444,
                            "#bd3786"
                          ],
                          [
                            0.5555555555555556,
                            "#d8576b"
                          ],
                          [
                            0.6666666666666666,
                            "#ed7953"
                          ],
                          [
                            0.7777777777777778,
                            "#fb9f3a"
                          ],
                          [
                            0.8888888888888888,
                            "#fdca26"
                          ],
                          [
                            1,
                            "#f0f921"
                          ]
                        ],
                        "type": "heatmap"
                      }
                    ],
                    "heatmapgl": [
                      {
                        "colorbar": {
                          "outlinewidth": 0,
                          "ticks": ""
                        },
                        "colorscale": [
                          [
                            0,
                            "#0d0887"
                          ],
                          [
                            0.1111111111111111,
                            "#46039f"
                          ],
                          [
                            0.2222222222222222,
                            "#7201a8"
                          ],
                          [
                            0.3333333333333333,
                            "#9c179e"
                          ],
                          [
                            0.4444444444444444,
                            "#bd3786"
                          ],
                          [
                            0.5555555555555556,
                            "#d8576b"
                          ],
                          [
                            0.6666666666666666,
                            "#ed7953"
                          ],
                          [
                            0.7777777777777778,
                            "#fb9f3a"
                          ],
                          [
                            0.8888888888888888,
                            "#fdca26"
                          ],
                          [
                            1,
                            "#f0f921"
                          ]
                        ],
                        "type": "heatmapgl"
                      }
                    ],
                    "histogram": [
                      {
                        "marker": {
                          "pattern": {
                            "fillmode": "overlay",
                            "size": 10,
                            "solidity": 0.2
                          }
                        },
                        "type": "histogram"
                      }
                    ],
                    "histogram2d": [
                      {
                        "colorbar": {
                          "outlinewidth": 0,
                          "ticks": ""
                        },
                        "colorscale": [
                          [
                            0,
                            "#0d0887"
                          ],
                          [
                            0.1111111111111111,
                            "#46039f"
                          ],
                          [
                            0.2222222222222222,
                            "#7201a8"
                          ],
                          [
                            0.3333333333333333,
                            "#9c179e"
                          ],
                          [
                            0.4444444444444444,
                            "#bd3786"
                          ],
                          [
                            0.5555555555555556,
                            "#d8576b"
                          ],
                          [
                            0.6666666666666666,
                            "#ed7953"
                          ],
                          [
                            0.7777777777777778,
                            "#fb9f3a"
                          ],
                          [
                            0.8888888888888888,
                            "#fdca26"
                          ],
                          [
                            1,
                            "#f0f921"
                          ]
                        ],
                        "type": "histogram2d"
                      }
                    ],
                    "histogram2dcontour": [
                      {
                        "colorbar": {
                          "outlinewidth": 0,
                          "ticks": ""
                        },
                        "colorscale": [
                          [
                            0,
                            "#0d0887"
                          ],
                          [
                            0.1111111111111111,
                            "#46039f"
                          ],
                          [
                            0.2222222222222222,
                            "#7201a8"
                          ],
                          [
                            0.3333333333333333,
                            "#9c179e"
                          ],
                          [
                            0.4444444444444444,
                            "#bd3786"
                          ],
                          [
                            0.5555555555555556,
                            "#d8576b"
                          ],
                          [
                            0.6666666666666666,
                            "#ed7953"
                          ],
                          [
                            0.7777777777777778,
                            "#fb9f3a"
                          ],
                          [
                            0.8888888888888888,
                            "#fdca26"
                          ],
                          [
                            1,
                            "#f0f921"
                          ]
                        ],
                        "type": "histogram2dcontour"
                      }
                    ],
                    "mesh3d": [
                      {
                        "colorbar": {
                          "outlinewidth": 0,
                          "ticks": ""
                        },
                        "type": "mesh3d"
                      }
                    ],
                    "parcoords": [
                      {
                        "line": {
                          "colorbar": {
                            "outlinewidth": 0,
                            "ticks": ""
                          }
                        },
                        "type": "parcoords"
                      }
                    ],
                    "pie": [
                      {
                        "automargin": true,
                        "type": "pie"
                      }
                    ],
                    "scatter": [
                      {
                        "fillpattern": {
                          "fillmode": "overlay",
                          "size": 10,
                          "solidity": 0.2
                        },
                        "type": "scatter"
                      }
                    ],
                    "scatter3d": [
                      {
                        "line": {
                          "colorbar": {
                            "outlinewidth": 0,
                            "ticks": ""
                          }
                        },
                        "marker": {
                          "colorbar": {
                            "outlinewidth": 0,
                            "ticks": ""
                          }
                        },
                        "type": "scatter3d"
                      }
                    ],
                    "scattercarpet": [
                      {
                        "marker": {
                          "colorbar": {
                            "outlinewidth": 0,
                            "ticks": ""
                          }
                        },
                        "type": "scattercarpet"
                      }
                    ],
                    "scattergeo": [
                      {
                        "marker": {
                          "colorbar": {
                            "outlinewidth": 0,
                            "ticks": ""
                          }
                        },
                        "type": "scattergeo"
                      }
                    ],
                    "scattergl": [
                      {
                        "marker": {
                          "colorbar": {
                            "outlinewidth": 0,
                            "ticks": ""
                          }
                        },
                        "type": "scattergl"
                      }
                    ],
                    "scattermapbox": [
                      {
                        "marker": {
                          "colorbar": {
                            "outlinewidth": 0,
                            "ticks": ""
                          }
                        },
                        "type": "scattermapbox"
                      }
                    ],
                    "scatterpolar": [
                      {
                        "marker": {
                          "colorbar": {
                            "outlinewidth": 0,
                            "ticks": ""
                          }
                        },
                        "type": "scatterpolar"
                      }
                    ],
                    "scatterpolargl": [
                      {
                        "marker": {
                          "colorbar": {
                            "outlinewidth": 0,
                            "ticks": ""
                          }
                        },
                        "type": "scatterpolargl"
                      }
                    ],
                    "scatterternary": [
                      {
                        "marker": {
                          "colorbar": {
                            "outlinewidth": 0,
                            "ticks": ""
                          }
                        },
                        "type": "scatterternary"
                      }
                    ],
                    "surface": [
                      {
                        "colorbar": {
                          "outlinewidth": 0,
                          "ticks": ""
                        },
                        "colorscale": [
                          [
                            0,
                            "#0d0887"
                          ],
                          [
                            0.1111111111111111,
                            "#46039f"
                          ],
                          [
                            0.2222222222222222,
                            "#7201a8"
                          ],
                          [
                            0.3333333333333333,
                            "#9c179e"
                          ],
                          [
                            0.4444444444444444,
                            "#bd3786"
                          ],
                          [
                            0.5555555555555556,
                            "#d8576b"
                          ],
                          [
                            0.6666666666666666,
                            "#ed7953"
                          ],
                          [
                            0.7777777777777778,
                            "#fb9f3a"
                          ],
                          [
                            0.8888888888888888,
                            "#fdca26"
                          ],
                          [
                            1,
                            "#f0f921"
                          ]
                        ],
                        "type": "surface"
                      }
                    ],
                    "table": [
                      {
                        "cells": {
                          "fill": {
                            "color": "#EBF0F8"
                          },
                          "line": {
                            "color": "white"
                          }
                        },
                        "header": {
                          "fill": {
                            "color": "#C8D4E3"
                          },
                          "line": {
                            "color": "white"
                          }
                        },
                        "type": "table"
                      }
                    ]
                  },
                  "layout": {
                    "annotationdefaults": {
                      "arrowcolor": "#2a3f5f",
                      "arrowhead": 0,
                      "arrowwidth": 1
                    },
                    "autotypenumbers": "strict",
                    "coloraxis": {
                      "colorbar": {
                        "outlinewidth": 0,
                        "ticks": ""
                      }
                    },
                    "colorscale": {
                      "diverging": [
                        [
                          0,
                          "#8e0152"
                        ],
                        [
                          0.1,
                          "#c51b7d"
                        ],
                        [
                          0.2,
                          "#de77ae"
                        ],
                        [
                          0.3,
                          "#f1b6da"
                        ],
                        [
                          0.4,
                          "#fde0ef"
                        ],
                        [
                          0.5,
                          "#f7f7f7"
                        ],
                        [
                          0.6,
                          "#e6f5d0"
                        ],
                        [
                          0.7,
                          "#b8e186"
                        ],
                        [
                          0.8,
                          "#7fbc41"
                        ],
                        [
                          0.9,
                          "#4d9221"
                        ],
                        [
                          1,
                          "#276419"
                        ]
                      ],
                      "sequential": [
                        [
                          0,
                          "#0d0887"
                        ],
                        [
                          0.1111111111111111,
                          "#46039f"
                        ],
                        [
                          0.2222222222222222,
                          "#7201a8"
                        ],
                        [
                          0.3333333333333333,
                          "#9c179e"
                        ],
                        [
                          0.4444444444444444,
                          "#bd3786"
                        ],
                        [
                          0.5555555555555556,
                          "#d8576b"
                        ],
                        [
                          0.6666666666666666,
                          "#ed7953"
                        ],
                        [
                          0.7777777777777778,
                          "#fb9f3a"
                        ],
                        [
                          0.8888888888888888,
                          "#fdca26"
                        ],
                        [
                          1,
                          "#f0f921"
                        ]
                      ],
                      "sequentialminus": [
                        [
                          0,
                          "#0d0887"
                        ],
                        [
                          0.1111111111111111,
                          "#46039f"
                        ],
                        [
                          0.2222222222222222,
                          "#7201a8"
                        ],
                        [
                          0.3333333333333333,
                          "#9c179e"
                        ],
                        [
                          0.4444444444444444,
                          "#bd3786"
                        ],
                        [
                          0.5555555555555556,
                          "#d8576b"
                        ],
                        [
                          0.6666666666666666,
                          "#ed7953"
                        ],
                        [
                          0.7777777777777778,
                          "#fb9f3a"
                        ],
                        [
                          0.8888888888888888,
                          "#fdca26"
                        ],
                        [
                          1,
                          "#f0f921"
                        ]
                      ]
                    },
                    "colorway": [
                      "#636efa",
                      "#EF553B",
                      "#00cc96",
                      "#ab63fa",
                      "#FFA15A",
                      "#19d3f3",
                      "#FF6692",
                      "#B6E880",
                      "#FF97FF",
                      "#FECB52"
                    ],
                    "font": {
                      "color": "#2a3f5f"
                    },
                    "geo": {
                      "bgcolor": "white",
                      "lakecolor": "white",
                      "landcolor": "#E5ECF6",
                      "showlakes": true,
                      "showland": true,
                      "subunitcolor": "white"
                    },
                    "hoverlabel": {
                      "align": "left"
                    },
                    "hovermode": "closest",
                    "mapbox": {
                      "style": "light"
                    },
                    "paper_bgcolor": "white",
                    "plot_bgcolor": "#E5ECF6",
                    "polar": {
                      "angularaxis": {
                        "gridcolor": "white",
                        "linecolor": "white",
                        "ticks": ""
                      },
                      "bgcolor": "#E5ECF6",
                      "radialaxis": {
                        "gridcolor": "white",
                        "linecolor": "white",
                        "ticks": ""
                      }
                    },
                    "scene": {
                      "xaxis": {
                        "backgroundcolor": "#E5ECF6",
                        "gridcolor": "white",
                        "gridwidth": 2,
                        "linecolor": "white",
                        "showbackground": true,
                        "ticks": "",
                        "zerolinecolor": "white"
                      },
                      "yaxis": {
                        "backgroundcolor": "#E5ECF6",
                        "gridcolor": "white",
                        "gridwidth": 2,
                        "linecolor": "white",
                        "showbackground": true,
                        "ticks": "",
                        "zerolinecolor": "white"
                      },
                      "zaxis": {
                        "backgroundcolor": "#E5ECF6",
                        "gridcolor": "white",
                        "gridwidth": 2,
                        "linecolor": "white",
                        "showbackground": true,
                        "ticks": "",
                        "zerolinecolor": "white"
                      }
                    },
                    "shapedefaults": {
                      "line": {
                        "color": "#2a3f5f"
                      }
                    },
                    "ternary": {
                      "aaxis": {
                        "gridcolor": "white",
                        "linecolor": "white",
                        "ticks": ""
                      },
                      "baxis": {
                        "gridcolor": "white",
                        "linecolor": "white",
                        "ticks": ""
                      },
                      "bgcolor": "#E5ECF6",
                      "caxis": {
                        "gridcolor": "white",
                        "linecolor": "white",
                        "ticks": ""
                      }
                    },
                    "title": {
                      "x": 0.05
                    },
                    "xaxis": {
                      "automargin": true,
                      "gridcolor": "white",
                      "linecolor": "white",
                      "ticks": "",
                      "title": {
                        "standoff": 15
                      },
                      "zerolinecolor": "white",
                      "zerolinewidth": 2
                    },
                    "yaxis": {
                      "automargin": true,
                      "gridcolor": "white",
                      "linecolor": "white",
                      "ticks": "",
                      "title": {
                        "standoff": 15
                      },
                      "zerolinecolor": "white",
                      "zerolinewidth": 2
                    }
                  }
                },
                "title": {
                  "text": "Evolution of the ratings attributed to movies by the years"
                },
                "xaxis": {
                  "anchor": "y",
                  "domain": [
                    0,
                    1
                  ],
                  "title": {
                    "text": "Year"
                  }
                },
                "yaxis": {
                  "anchor": "x",
                  "domain": [
                    0,
                    1
                  ],
                  "title": {
                    "text": "Average Rating"
                  }
                }
              }
            }
          },
          "metadata": {},
          "output_type": "display_data"
        }
      ],
      "source": [
        "# We extract the year from \"Release Date\" and we add a new column \"Release Year\" in df \n",
        "df[\"Release Year\"] = df[\"Release Date\"].dt.year\n",
        "\n",
        "# We group by year and compute the mean of rating\n",
        "rating_per_year = df.groupby(\"Release Year\")[\"Rating\"].mean().reset_index()\n",
        "\n",
        "\n",
        "# We plot the graph representing the evolution of the ratings attributed to movies by the years\n",
        "fig = px.line(\n",
        "    rating_per_year,\n",
        "    x=\"Release Year\",\n",
        "    y=\"Rating\",\n",
        "    title=\"Evolution of the ratings attributed to movies by the years\",\n",
        "    markers=True,\n",
        "    height=600)\n",
        "\n",
        "fig.update_layout(\n",
        "    xaxis_title = \"Year\",\n",
        "    yaxis_title = \"Average Rating\")\n",
        "\n",
        "fig.show()"
      ]
    },
    {
      "cell_type": "markdown",
      "metadata": {},
      "source": [
        "We have observed a downward trend in film ratings since 1970. Let's see what that looks like by looking at decades."
      ]
    },
    {
      "cell_type": "code",
      "execution_count": 27,
      "metadata": {
        "trusted": true
      },
      "outputs": [
        {
          "name": "stderr",
          "output_type": "stream",
          "text": [
            "C:\\Users\\thiba\\AppData\\Local\\Temp\\ipykernel_22024\\84068133.py:9: FutureWarning:\n",
            "\n",
            "The default of observed=False is deprecated and will be changed to True in a future version of pandas. Pass observed=False to retain current behavior or observed=True to adopt the future default and silence this warning.\n",
            "\n"
          ]
        },
        {
          "data": {
            "application/vnd.plotly.v1+json": {
              "config": {
                "plotlyServerURL": "https://plot.ly"
              },
              "data": [
                {
                  "hovertemplate": "Decade=%{x}<br>Rating=%{y}<extra></extra>",
                  "legendgroup": "",
                  "line": {
                    "color": "#636efa",
                    "dash": "solid"
                  },
                  "marker": {
                    "symbol": "circle"
                  },
                  "mode": "lines+markers",
                  "name": "",
                  "orientation": "v",
                  "showlegend": false,
                  "type": "scatter",
                  "x": [
                    "1970-1979",
                    "1980-1989",
                    "1990-1999",
                    "2000-2009",
                    "2010-2019",
                    "2020-2029"
                  ],
                  "xaxis": "x",
                  "y": [
                    7.079022988505747,
                    7.065710560625814,
                    6.969770992366412,
                    6.6660615384615385,
                    6.523833437957732,
                    6.249282296650717
                  ],
                  "yaxis": "y"
                }
              ],
              "layout": {
                "height": 600,
                "legend": {
                  "tracegroupgap": 0
                },
                "template": {
                  "data": {
                    "bar": [
                      {
                        "error_x": {
                          "color": "#2a3f5f"
                        },
                        "error_y": {
                          "color": "#2a3f5f"
                        },
                        "marker": {
                          "line": {
                            "color": "#E5ECF6",
                            "width": 0.5
                          },
                          "pattern": {
                            "fillmode": "overlay",
                            "size": 10,
                            "solidity": 0.2
                          }
                        },
                        "type": "bar"
                      }
                    ],
                    "barpolar": [
                      {
                        "marker": {
                          "line": {
                            "color": "#E5ECF6",
                            "width": 0.5
                          },
                          "pattern": {
                            "fillmode": "overlay",
                            "size": 10,
                            "solidity": 0.2
                          }
                        },
                        "type": "barpolar"
                      }
                    ],
                    "carpet": [
                      {
                        "aaxis": {
                          "endlinecolor": "#2a3f5f",
                          "gridcolor": "white",
                          "linecolor": "white",
                          "minorgridcolor": "white",
                          "startlinecolor": "#2a3f5f"
                        },
                        "baxis": {
                          "endlinecolor": "#2a3f5f",
                          "gridcolor": "white",
                          "linecolor": "white",
                          "minorgridcolor": "white",
                          "startlinecolor": "#2a3f5f"
                        },
                        "type": "carpet"
                      }
                    ],
                    "choropleth": [
                      {
                        "colorbar": {
                          "outlinewidth": 0,
                          "ticks": ""
                        },
                        "type": "choropleth"
                      }
                    ],
                    "contour": [
                      {
                        "colorbar": {
                          "outlinewidth": 0,
                          "ticks": ""
                        },
                        "colorscale": [
                          [
                            0,
                            "#0d0887"
                          ],
                          [
                            0.1111111111111111,
                            "#46039f"
                          ],
                          [
                            0.2222222222222222,
                            "#7201a8"
                          ],
                          [
                            0.3333333333333333,
                            "#9c179e"
                          ],
                          [
                            0.4444444444444444,
                            "#bd3786"
                          ],
                          [
                            0.5555555555555556,
                            "#d8576b"
                          ],
                          [
                            0.6666666666666666,
                            "#ed7953"
                          ],
                          [
                            0.7777777777777778,
                            "#fb9f3a"
                          ],
                          [
                            0.8888888888888888,
                            "#fdca26"
                          ],
                          [
                            1,
                            "#f0f921"
                          ]
                        ],
                        "type": "contour"
                      }
                    ],
                    "contourcarpet": [
                      {
                        "colorbar": {
                          "outlinewidth": 0,
                          "ticks": ""
                        },
                        "type": "contourcarpet"
                      }
                    ],
                    "heatmap": [
                      {
                        "colorbar": {
                          "outlinewidth": 0,
                          "ticks": ""
                        },
                        "colorscale": [
                          [
                            0,
                            "#0d0887"
                          ],
                          [
                            0.1111111111111111,
                            "#46039f"
                          ],
                          [
                            0.2222222222222222,
                            "#7201a8"
                          ],
                          [
                            0.3333333333333333,
                            "#9c179e"
                          ],
                          [
                            0.4444444444444444,
                            "#bd3786"
                          ],
                          [
                            0.5555555555555556,
                            "#d8576b"
                          ],
                          [
                            0.6666666666666666,
                            "#ed7953"
                          ],
                          [
                            0.7777777777777778,
                            "#fb9f3a"
                          ],
                          [
                            0.8888888888888888,
                            "#fdca26"
                          ],
                          [
                            1,
                            "#f0f921"
                          ]
                        ],
                        "type": "heatmap"
                      }
                    ],
                    "heatmapgl": [
                      {
                        "colorbar": {
                          "outlinewidth": 0,
                          "ticks": ""
                        },
                        "colorscale": [
                          [
                            0,
                            "#0d0887"
                          ],
                          [
                            0.1111111111111111,
                            "#46039f"
                          ],
                          [
                            0.2222222222222222,
                            "#7201a8"
                          ],
                          [
                            0.3333333333333333,
                            "#9c179e"
                          ],
                          [
                            0.4444444444444444,
                            "#bd3786"
                          ],
                          [
                            0.5555555555555556,
                            "#d8576b"
                          ],
                          [
                            0.6666666666666666,
                            "#ed7953"
                          ],
                          [
                            0.7777777777777778,
                            "#fb9f3a"
                          ],
                          [
                            0.8888888888888888,
                            "#fdca26"
                          ],
                          [
                            1,
                            "#f0f921"
                          ]
                        ],
                        "type": "heatmapgl"
                      }
                    ],
                    "histogram": [
                      {
                        "marker": {
                          "pattern": {
                            "fillmode": "overlay",
                            "size": 10,
                            "solidity": 0.2
                          }
                        },
                        "type": "histogram"
                      }
                    ],
                    "histogram2d": [
                      {
                        "colorbar": {
                          "outlinewidth": 0,
                          "ticks": ""
                        },
                        "colorscale": [
                          [
                            0,
                            "#0d0887"
                          ],
                          [
                            0.1111111111111111,
                            "#46039f"
                          ],
                          [
                            0.2222222222222222,
                            "#7201a8"
                          ],
                          [
                            0.3333333333333333,
                            "#9c179e"
                          ],
                          [
                            0.4444444444444444,
                            "#bd3786"
                          ],
                          [
                            0.5555555555555556,
                            "#d8576b"
                          ],
                          [
                            0.6666666666666666,
                            "#ed7953"
                          ],
                          [
                            0.7777777777777778,
                            "#fb9f3a"
                          ],
                          [
                            0.8888888888888888,
                            "#fdca26"
                          ],
                          [
                            1,
                            "#f0f921"
                          ]
                        ],
                        "type": "histogram2d"
                      }
                    ],
                    "histogram2dcontour": [
                      {
                        "colorbar": {
                          "outlinewidth": 0,
                          "ticks": ""
                        },
                        "colorscale": [
                          [
                            0,
                            "#0d0887"
                          ],
                          [
                            0.1111111111111111,
                            "#46039f"
                          ],
                          [
                            0.2222222222222222,
                            "#7201a8"
                          ],
                          [
                            0.3333333333333333,
                            "#9c179e"
                          ],
                          [
                            0.4444444444444444,
                            "#bd3786"
                          ],
                          [
                            0.5555555555555556,
                            "#d8576b"
                          ],
                          [
                            0.6666666666666666,
                            "#ed7953"
                          ],
                          [
                            0.7777777777777778,
                            "#fb9f3a"
                          ],
                          [
                            0.8888888888888888,
                            "#fdca26"
                          ],
                          [
                            1,
                            "#f0f921"
                          ]
                        ],
                        "type": "histogram2dcontour"
                      }
                    ],
                    "mesh3d": [
                      {
                        "colorbar": {
                          "outlinewidth": 0,
                          "ticks": ""
                        },
                        "type": "mesh3d"
                      }
                    ],
                    "parcoords": [
                      {
                        "line": {
                          "colorbar": {
                            "outlinewidth": 0,
                            "ticks": ""
                          }
                        },
                        "type": "parcoords"
                      }
                    ],
                    "pie": [
                      {
                        "automargin": true,
                        "type": "pie"
                      }
                    ],
                    "scatter": [
                      {
                        "fillpattern": {
                          "fillmode": "overlay",
                          "size": 10,
                          "solidity": 0.2
                        },
                        "type": "scatter"
                      }
                    ],
                    "scatter3d": [
                      {
                        "line": {
                          "colorbar": {
                            "outlinewidth": 0,
                            "ticks": ""
                          }
                        },
                        "marker": {
                          "colorbar": {
                            "outlinewidth": 0,
                            "ticks": ""
                          }
                        },
                        "type": "scatter3d"
                      }
                    ],
                    "scattercarpet": [
                      {
                        "marker": {
                          "colorbar": {
                            "outlinewidth": 0,
                            "ticks": ""
                          }
                        },
                        "type": "scattercarpet"
                      }
                    ],
                    "scattergeo": [
                      {
                        "marker": {
                          "colorbar": {
                            "outlinewidth": 0,
                            "ticks": ""
                          }
                        },
                        "type": "scattergeo"
                      }
                    ],
                    "scattergl": [
                      {
                        "marker": {
                          "colorbar": {
                            "outlinewidth": 0,
                            "ticks": ""
                          }
                        },
                        "type": "scattergl"
                      }
                    ],
                    "scattermapbox": [
                      {
                        "marker": {
                          "colorbar": {
                            "outlinewidth": 0,
                            "ticks": ""
                          }
                        },
                        "type": "scattermapbox"
                      }
                    ],
                    "scatterpolar": [
                      {
                        "marker": {
                          "colorbar": {
                            "outlinewidth": 0,
                            "ticks": ""
                          }
                        },
                        "type": "scatterpolar"
                      }
                    ],
                    "scatterpolargl": [
                      {
                        "marker": {
                          "colorbar": {
                            "outlinewidth": 0,
                            "ticks": ""
                          }
                        },
                        "type": "scatterpolargl"
                      }
                    ],
                    "scatterternary": [
                      {
                        "marker": {
                          "colorbar": {
                            "outlinewidth": 0,
                            "ticks": ""
                          }
                        },
                        "type": "scatterternary"
                      }
                    ],
                    "surface": [
                      {
                        "colorbar": {
                          "outlinewidth": 0,
                          "ticks": ""
                        },
                        "colorscale": [
                          [
                            0,
                            "#0d0887"
                          ],
                          [
                            0.1111111111111111,
                            "#46039f"
                          ],
                          [
                            0.2222222222222222,
                            "#7201a8"
                          ],
                          [
                            0.3333333333333333,
                            "#9c179e"
                          ],
                          [
                            0.4444444444444444,
                            "#bd3786"
                          ],
                          [
                            0.5555555555555556,
                            "#d8576b"
                          ],
                          [
                            0.6666666666666666,
                            "#ed7953"
                          ],
                          [
                            0.7777777777777778,
                            "#fb9f3a"
                          ],
                          [
                            0.8888888888888888,
                            "#fdca26"
                          ],
                          [
                            1,
                            "#f0f921"
                          ]
                        ],
                        "type": "surface"
                      }
                    ],
                    "table": [
                      {
                        "cells": {
                          "fill": {
                            "color": "#EBF0F8"
                          },
                          "line": {
                            "color": "white"
                          }
                        },
                        "header": {
                          "fill": {
                            "color": "#C8D4E3"
                          },
                          "line": {
                            "color": "white"
                          }
                        },
                        "type": "table"
                      }
                    ]
                  },
                  "layout": {
                    "annotationdefaults": {
                      "arrowcolor": "#2a3f5f",
                      "arrowhead": 0,
                      "arrowwidth": 1
                    },
                    "autotypenumbers": "strict",
                    "coloraxis": {
                      "colorbar": {
                        "outlinewidth": 0,
                        "ticks": ""
                      }
                    },
                    "colorscale": {
                      "diverging": [
                        [
                          0,
                          "#8e0152"
                        ],
                        [
                          0.1,
                          "#c51b7d"
                        ],
                        [
                          0.2,
                          "#de77ae"
                        ],
                        [
                          0.3,
                          "#f1b6da"
                        ],
                        [
                          0.4,
                          "#fde0ef"
                        ],
                        [
                          0.5,
                          "#f7f7f7"
                        ],
                        [
                          0.6,
                          "#e6f5d0"
                        ],
                        [
                          0.7,
                          "#b8e186"
                        ],
                        [
                          0.8,
                          "#7fbc41"
                        ],
                        [
                          0.9,
                          "#4d9221"
                        ],
                        [
                          1,
                          "#276419"
                        ]
                      ],
                      "sequential": [
                        [
                          0,
                          "#0d0887"
                        ],
                        [
                          0.1111111111111111,
                          "#46039f"
                        ],
                        [
                          0.2222222222222222,
                          "#7201a8"
                        ],
                        [
                          0.3333333333333333,
                          "#9c179e"
                        ],
                        [
                          0.4444444444444444,
                          "#bd3786"
                        ],
                        [
                          0.5555555555555556,
                          "#d8576b"
                        ],
                        [
                          0.6666666666666666,
                          "#ed7953"
                        ],
                        [
                          0.7777777777777778,
                          "#fb9f3a"
                        ],
                        [
                          0.8888888888888888,
                          "#fdca26"
                        ],
                        [
                          1,
                          "#f0f921"
                        ]
                      ],
                      "sequentialminus": [
                        [
                          0,
                          "#0d0887"
                        ],
                        [
                          0.1111111111111111,
                          "#46039f"
                        ],
                        [
                          0.2222222222222222,
                          "#7201a8"
                        ],
                        [
                          0.3333333333333333,
                          "#9c179e"
                        ],
                        [
                          0.4444444444444444,
                          "#bd3786"
                        ],
                        [
                          0.5555555555555556,
                          "#d8576b"
                        ],
                        [
                          0.6666666666666666,
                          "#ed7953"
                        ],
                        [
                          0.7777777777777778,
                          "#fb9f3a"
                        ],
                        [
                          0.8888888888888888,
                          "#fdca26"
                        ],
                        [
                          1,
                          "#f0f921"
                        ]
                      ]
                    },
                    "colorway": [
                      "#636efa",
                      "#EF553B",
                      "#00cc96",
                      "#ab63fa",
                      "#FFA15A",
                      "#19d3f3",
                      "#FF6692",
                      "#B6E880",
                      "#FF97FF",
                      "#FECB52"
                    ],
                    "font": {
                      "color": "#2a3f5f"
                    },
                    "geo": {
                      "bgcolor": "white",
                      "lakecolor": "white",
                      "landcolor": "#E5ECF6",
                      "showlakes": true,
                      "showland": true,
                      "subunitcolor": "white"
                    },
                    "hoverlabel": {
                      "align": "left"
                    },
                    "hovermode": "closest",
                    "mapbox": {
                      "style": "light"
                    },
                    "paper_bgcolor": "white",
                    "plot_bgcolor": "#E5ECF6",
                    "polar": {
                      "angularaxis": {
                        "gridcolor": "white",
                        "linecolor": "white",
                        "ticks": ""
                      },
                      "bgcolor": "#E5ECF6",
                      "radialaxis": {
                        "gridcolor": "white",
                        "linecolor": "white",
                        "ticks": ""
                      }
                    },
                    "scene": {
                      "xaxis": {
                        "backgroundcolor": "#E5ECF6",
                        "gridcolor": "white",
                        "gridwidth": 2,
                        "linecolor": "white",
                        "showbackground": true,
                        "ticks": "",
                        "zerolinecolor": "white"
                      },
                      "yaxis": {
                        "backgroundcolor": "#E5ECF6",
                        "gridcolor": "white",
                        "gridwidth": 2,
                        "linecolor": "white",
                        "showbackground": true,
                        "ticks": "",
                        "zerolinecolor": "white"
                      },
                      "zaxis": {
                        "backgroundcolor": "#E5ECF6",
                        "gridcolor": "white",
                        "gridwidth": 2,
                        "linecolor": "white",
                        "showbackground": true,
                        "ticks": "",
                        "zerolinecolor": "white"
                      }
                    },
                    "shapedefaults": {
                      "line": {
                        "color": "#2a3f5f"
                      }
                    },
                    "ternary": {
                      "aaxis": {
                        "gridcolor": "white",
                        "linecolor": "white",
                        "ticks": ""
                      },
                      "baxis": {
                        "gridcolor": "white",
                        "linecolor": "white",
                        "ticks": ""
                      },
                      "bgcolor": "#E5ECF6",
                      "caxis": {
                        "gridcolor": "white",
                        "linecolor": "white",
                        "ticks": ""
                      }
                    },
                    "title": {
                      "x": 0.05
                    },
                    "xaxis": {
                      "automargin": true,
                      "gridcolor": "white",
                      "linecolor": "white",
                      "ticks": "",
                      "title": {
                        "standoff": 15
                      },
                      "zerolinecolor": "white",
                      "zerolinewidth": 2
                    },
                    "yaxis": {
                      "automargin": true,
                      "gridcolor": "white",
                      "linecolor": "white",
                      "ticks": "",
                      "title": {
                        "standoff": 15
                      },
                      "zerolinecolor": "white",
                      "zerolinewidth": 2
                    }
                  }
                },
                "title": {
                  "text": "Evolution of the ratings attributed to movies by the decades"
                },
                "xaxis": {
                  "anchor": "y",
                  "domain": [
                    0,
                    1
                  ],
                  "title": {
                    "text": "Decade"
                  }
                },
                "yaxis": {
                  "anchor": "x",
                  "domain": [
                    0,
                    1
                  ],
                  "title": {
                    "text": "Average Rating"
                  }
                }
              }
            }
          },
          "metadata": {},
          "output_type": "display_data"
        }
      ],
      "source": [
        "# We define the limits of the decades\n",
        "bins = [1969, 1979, 1989, 1999, 2009, 2019, 2029]\n",
        "labels = [\"1970-1979\", \"1980-1989\", \"1990-1999\", \"2000-2009\", \"2010-2019\", \"2020-2029\"]\n",
        "\n",
        "# We use pd.cut to create a \"Decade\" column\n",
        "df['Decade'] = pd.cut(df['Release Year'], bins=bins, labels=labels, right=True)\n",
        "\n",
        "# We group by decade and compute the average rating\n",
        "rating_per_decade = df.groupby(\"Decade\")[\"Rating\"].mean().reset_index()\n",
        "\n",
        "# We plot the graph representing the evolution of the ratings attributed to movies by the decades\n",
        "fig = px.line(\n",
        "    rating_per_decade,\n",
        "    x=\"Decade\", y=\"Rating\",\n",
        "    title=\"Evolution of the ratings attributed to movies by the decades\",\n",
        "    markers=True,\n",
        "    height=600)\n",
        "\n",
        "fig.update_layout(\n",
        "    xaxis_title = \"Decade\",\n",
        "    yaxis_title = \"Average Rating\")\n",
        "\n",
        "fig.show()"
      ]
    },
    {
      "cell_type": "markdown",
      "metadata": {},
      "source": [
        "## 5.4 - Genre popularity and evolution across decades"
      ]
    },
    {
      "cell_type": "markdown",
      "metadata": {},
      "source": [
        "### 5.4.1 Genre popularity across decades"
      ]
    },
    {
      "cell_type": "code",
      "execution_count": 28,
      "metadata": {
        "trusted": true
      },
      "outputs": [
        {
          "name": "stderr",
          "output_type": "stream",
          "text": [
            "C:\\Users\\thiba\\AppData\\Local\\Temp\\ipykernel_22024\\3569869137.py:2: FutureWarning:\n",
            "\n",
            "The default of observed=False is deprecated and will be changed to True in a future version of pandas. Pass observed=False to retain current behavior or observed=True to adopt the future default and silence this warning.\n",
            "\n"
          ]
        },
        {
          "data": {
            "application/vnd.plotly.v1+json": {
              "config": {
                "plotlyServerURL": "https://plot.ly"
              },
              "data": [
                {
                  "marker": {
                    "color": [
                      "orange",
                      "orange",
                      "orange",
                      "blue",
                      "blue",
                      "blue",
                      "blue",
                      "blue",
                      "blue",
                      "blue",
                      "blue",
                      "blue",
                      "blue",
                      "blue",
                      "blue",
                      "blue",
                      "blue",
                      "blue",
                      "blue",
                      "blue"
                    ]
                  },
                  "name": "1970-1979",
                  "type": "bar",
                  "visible": true,
                  "x": [
                    "Biography",
                    "Fantasy",
                    "Thriller",
                    "Documentary",
                    "Mystery",
                    "Drama",
                    "Crime",
                    "Adventure",
                    "Comedy",
                    "Action",
                    "Animation",
                    "Sci-Fi",
                    "Horror",
                    "Family",
                    "History",
                    "Music",
                    "Musical",
                    "Romance",
                    "Unknown",
                    "War"
                  ],
                  "y": [
                    7.971428571428571,
                    7.85,
                    7.6,
                    7.566666666666666,
                    7.56,
                    7.396000000000001,
                    7.234615384615385,
                    7.157692307692307,
                    7.11875,
                    6.937037037037037,
                    6.74,
                    6.65,
                    6.188571428571429,
                    null,
                    null,
                    null,
                    null,
                    null,
                    null,
                    null
                  ]
                },
                {
                  "marker": {
                    "color": [
                      "orange",
                      "orange",
                      "orange",
                      "blue",
                      "blue",
                      "blue",
                      "blue",
                      "blue",
                      "blue",
                      "blue",
                      "blue",
                      "blue",
                      "blue",
                      "blue",
                      "blue",
                      "blue",
                      "blue",
                      "blue",
                      "blue",
                      "blue"
                    ]
                  },
                  "name": "1980-1989",
                  "type": "bar",
                  "visible": false,
                  "x": [
                    "Romance",
                    "Thriller",
                    "Sci-Fi",
                    "Animation",
                    "Biography",
                    "Documentary",
                    "Fantasy",
                    "Drama",
                    "Comedy",
                    "Crime",
                    "Action",
                    "Adventure",
                    "Horror",
                    "Mystery",
                    "Family",
                    "History",
                    "Music",
                    "Musical",
                    "Unknown",
                    "War"
                  ],
                  "y": [
                    8.2,
                    8,
                    7.6,
                    7.571428571428571,
                    7.472222222222222,
                    7.271428571428572,
                    7.211111111111112,
                    7.181481481481482,
                    7.107053941908713,
                    7.090566037735849,
                    6.980813953488372,
                    6.943103448275862,
                    6.505454545454546,
                    5.3,
                    null,
                    null,
                    null,
                    null,
                    null,
                    null
                  ]
                },
                {
                  "marker": {
                    "color": [
                      "orange",
                      "orange",
                      "orange",
                      "blue",
                      "blue",
                      "blue",
                      "blue",
                      "blue",
                      "blue",
                      "blue",
                      "blue",
                      "blue",
                      "blue",
                      "blue",
                      "blue",
                      "blue",
                      "blue",
                      "blue",
                      "blue",
                      "blue"
                    ]
                  },
                  "name": "1990-1999",
                  "type": "bar",
                  "visible": false,
                  "x": [
                    "Thriller",
                    "Animation",
                    "Biography",
                    "Crime",
                    "Horror",
                    "Drama",
                    "Adventure",
                    "Documentary",
                    "Comedy",
                    "Action",
                    "Mystery",
                    "Sci-Fi",
                    "Fantasy",
                    "Family",
                    "Romance",
                    "History",
                    "Music",
                    "Musical",
                    "Unknown",
                    "War"
                  ],
                  "y": [
                    7.9,
                    7.510256410256409,
                    7.190410958904109,
                    7.14,
                    7.078378378378377,
                    7.045679012345679,
                    7.006666666666666,
                    6.966666666666666,
                    6.966509433962265,
                    6.766312056737588,
                    6.3,
                    6,
                    5.623076923076923,
                    5.3,
                    4.5,
                    null,
                    null,
                    null,
                    null,
                    null
                  ]
                },
                {
                  "marker": {
                    "color": [
                      "orange",
                      "orange",
                      "orange",
                      "blue",
                      "blue",
                      "blue",
                      "blue",
                      "blue",
                      "blue",
                      "blue",
                      "blue",
                      "blue",
                      "blue",
                      "blue",
                      "blue",
                      "blue",
                      "blue",
                      "blue",
                      "blue",
                      "blue"
                    ]
                  },
                  "name": "2000-2009",
                  "type": "bar",
                  "visible": false,
                  "x": [
                    "Thriller",
                    "Fantasy",
                    "Sci-Fi",
                    "Animation",
                    "Biography",
                    "Crime",
                    "Mystery",
                    "Action",
                    "Drama",
                    "Adventure",
                    "Comedy",
                    "Documentary",
                    "Horror",
                    "Romance",
                    "Family",
                    "War",
                    "Musical",
                    "History",
                    "Music",
                    "Unknown"
                  ],
                  "y": [
                    8.233333333333333,
                    7.614285714285714,
                    7.3,
                    6.977099236641221,
                    6.919875776397515,
                    6.853405017921147,
                    6.85,
                    6.779007633587786,
                    6.751322751322752,
                    6.66390977443609,
                    6.533187772925764,
                    6.251111111111111,
                    6.174814814814815,
                    6,
                    5.8,
                    4.4,
                    4.15,
                    null,
                    null,
                    null
                  ]
                },
                {
                  "marker": {
                    "color": [
                      "orange",
                      "orange",
                      "orange",
                      "blue",
                      "blue",
                      "blue",
                      "blue",
                      "blue",
                      "blue",
                      "blue",
                      "blue",
                      "blue",
                      "blue",
                      "blue",
                      "blue",
                      "blue",
                      "blue",
                      "blue",
                      "blue",
                      "blue"
                    ]
                  },
                  "name": "2010-2019",
                  "type": "bar",
                  "visible": false,
                  "x": [
                    "Music",
                    "Animation",
                    "Biography",
                    "Documentary",
                    "Crime",
                    "Mystery",
                    "Drama",
                    "Adventure",
                    "Sci-Fi",
                    "Comedy",
                    "Action",
                    "Fantasy",
                    "Horror",
                    "Thriller",
                    "Romance",
                    "Family",
                    "History",
                    "Musical",
                    "Unknown",
                    "War"
                  ],
                  "y": [
                    8.1,
                    6.75752688172043,
                    6.749397590361446,
                    6.710617283950618,
                    6.699065420560748,
                    6.681818181818182,
                    6.643526608419381,
                    6.518232044198895,
                    6.4,
                    6.384538152610442,
                    6.364108618654073,
                    6.139130434782608,
                    5.98423645320197,
                    5.827272727272727,
                    5,
                    null,
                    null,
                    null,
                    null,
                    null
                  ]
                },
                {
                  "marker": {
                    "color": [
                      "orange",
                      "orange",
                      "orange",
                      "blue",
                      "blue",
                      "blue",
                      "blue",
                      "blue",
                      "blue",
                      "blue",
                      "blue",
                      "blue",
                      "blue",
                      "blue",
                      "blue",
                      "blue",
                      "blue",
                      "blue",
                      "blue",
                      "blue"
                    ]
                  },
                  "name": "2020-2029",
                  "type": "bar",
                  "visible": false,
                  "x": [
                    "Family",
                    "Unknown",
                    "Romance",
                    "History",
                    "Documentary",
                    "Animation",
                    "Biography",
                    "Musical",
                    "Drama",
                    "Adventure",
                    "Crime",
                    "Fantasy",
                    "Comedy",
                    "Action",
                    "Horror",
                    "Thriller",
                    "Sci-Fi",
                    "Mystery",
                    "Music",
                    "War"
                  ],
                  "y": [
                    8.9,
                    7.15,
                    7,
                    6.8,
                    6.711111111111111,
                    6.63936170212766,
                    6.578070175438596,
                    6.4,
                    6.363636363636363,
                    6.303076923076923,
                    6.275862068965517,
                    6.118181818181818,
                    6.0509803921568635,
                    6.000346020761246,
                    5.901754385964912,
                    5.838461538461539,
                    5.6,
                    5.42,
                    null,
                    null
                  ]
                }
              ],
              "layout": {
                "height": 600,
                "template": {
                  "data": {
                    "bar": [
                      {
                        "error_x": {
                          "color": "#2a3f5f"
                        },
                        "error_y": {
                          "color": "#2a3f5f"
                        },
                        "marker": {
                          "line": {
                            "color": "#E5ECF6",
                            "width": 0.5
                          },
                          "pattern": {
                            "fillmode": "overlay",
                            "size": 10,
                            "solidity": 0.2
                          }
                        },
                        "type": "bar"
                      }
                    ],
                    "barpolar": [
                      {
                        "marker": {
                          "line": {
                            "color": "#E5ECF6",
                            "width": 0.5
                          },
                          "pattern": {
                            "fillmode": "overlay",
                            "size": 10,
                            "solidity": 0.2
                          }
                        },
                        "type": "barpolar"
                      }
                    ],
                    "carpet": [
                      {
                        "aaxis": {
                          "endlinecolor": "#2a3f5f",
                          "gridcolor": "white",
                          "linecolor": "white",
                          "minorgridcolor": "white",
                          "startlinecolor": "#2a3f5f"
                        },
                        "baxis": {
                          "endlinecolor": "#2a3f5f",
                          "gridcolor": "white",
                          "linecolor": "white",
                          "minorgridcolor": "white",
                          "startlinecolor": "#2a3f5f"
                        },
                        "type": "carpet"
                      }
                    ],
                    "choropleth": [
                      {
                        "colorbar": {
                          "outlinewidth": 0,
                          "ticks": ""
                        },
                        "type": "choropleth"
                      }
                    ],
                    "contour": [
                      {
                        "colorbar": {
                          "outlinewidth": 0,
                          "ticks": ""
                        },
                        "colorscale": [
                          [
                            0,
                            "#0d0887"
                          ],
                          [
                            0.1111111111111111,
                            "#46039f"
                          ],
                          [
                            0.2222222222222222,
                            "#7201a8"
                          ],
                          [
                            0.3333333333333333,
                            "#9c179e"
                          ],
                          [
                            0.4444444444444444,
                            "#bd3786"
                          ],
                          [
                            0.5555555555555556,
                            "#d8576b"
                          ],
                          [
                            0.6666666666666666,
                            "#ed7953"
                          ],
                          [
                            0.7777777777777778,
                            "#fb9f3a"
                          ],
                          [
                            0.8888888888888888,
                            "#fdca26"
                          ],
                          [
                            1,
                            "#f0f921"
                          ]
                        ],
                        "type": "contour"
                      }
                    ],
                    "contourcarpet": [
                      {
                        "colorbar": {
                          "outlinewidth": 0,
                          "ticks": ""
                        },
                        "type": "contourcarpet"
                      }
                    ],
                    "heatmap": [
                      {
                        "colorbar": {
                          "outlinewidth": 0,
                          "ticks": ""
                        },
                        "colorscale": [
                          [
                            0,
                            "#0d0887"
                          ],
                          [
                            0.1111111111111111,
                            "#46039f"
                          ],
                          [
                            0.2222222222222222,
                            "#7201a8"
                          ],
                          [
                            0.3333333333333333,
                            "#9c179e"
                          ],
                          [
                            0.4444444444444444,
                            "#bd3786"
                          ],
                          [
                            0.5555555555555556,
                            "#d8576b"
                          ],
                          [
                            0.6666666666666666,
                            "#ed7953"
                          ],
                          [
                            0.7777777777777778,
                            "#fb9f3a"
                          ],
                          [
                            0.8888888888888888,
                            "#fdca26"
                          ],
                          [
                            1,
                            "#f0f921"
                          ]
                        ],
                        "type": "heatmap"
                      }
                    ],
                    "heatmapgl": [
                      {
                        "colorbar": {
                          "outlinewidth": 0,
                          "ticks": ""
                        },
                        "colorscale": [
                          [
                            0,
                            "#0d0887"
                          ],
                          [
                            0.1111111111111111,
                            "#46039f"
                          ],
                          [
                            0.2222222222222222,
                            "#7201a8"
                          ],
                          [
                            0.3333333333333333,
                            "#9c179e"
                          ],
                          [
                            0.4444444444444444,
                            "#bd3786"
                          ],
                          [
                            0.5555555555555556,
                            "#d8576b"
                          ],
                          [
                            0.6666666666666666,
                            "#ed7953"
                          ],
                          [
                            0.7777777777777778,
                            "#fb9f3a"
                          ],
                          [
                            0.8888888888888888,
                            "#fdca26"
                          ],
                          [
                            1,
                            "#f0f921"
                          ]
                        ],
                        "type": "heatmapgl"
                      }
                    ],
                    "histogram": [
                      {
                        "marker": {
                          "pattern": {
                            "fillmode": "overlay",
                            "size": 10,
                            "solidity": 0.2
                          }
                        },
                        "type": "histogram"
                      }
                    ],
                    "histogram2d": [
                      {
                        "colorbar": {
                          "outlinewidth": 0,
                          "ticks": ""
                        },
                        "colorscale": [
                          [
                            0,
                            "#0d0887"
                          ],
                          [
                            0.1111111111111111,
                            "#46039f"
                          ],
                          [
                            0.2222222222222222,
                            "#7201a8"
                          ],
                          [
                            0.3333333333333333,
                            "#9c179e"
                          ],
                          [
                            0.4444444444444444,
                            "#bd3786"
                          ],
                          [
                            0.5555555555555556,
                            "#d8576b"
                          ],
                          [
                            0.6666666666666666,
                            "#ed7953"
                          ],
                          [
                            0.7777777777777778,
                            "#fb9f3a"
                          ],
                          [
                            0.8888888888888888,
                            "#fdca26"
                          ],
                          [
                            1,
                            "#f0f921"
                          ]
                        ],
                        "type": "histogram2d"
                      }
                    ],
                    "histogram2dcontour": [
                      {
                        "colorbar": {
                          "outlinewidth": 0,
                          "ticks": ""
                        },
                        "colorscale": [
                          [
                            0,
                            "#0d0887"
                          ],
                          [
                            0.1111111111111111,
                            "#46039f"
                          ],
                          [
                            0.2222222222222222,
                            "#7201a8"
                          ],
                          [
                            0.3333333333333333,
                            "#9c179e"
                          ],
                          [
                            0.4444444444444444,
                            "#bd3786"
                          ],
                          [
                            0.5555555555555556,
                            "#d8576b"
                          ],
                          [
                            0.6666666666666666,
                            "#ed7953"
                          ],
                          [
                            0.7777777777777778,
                            "#fb9f3a"
                          ],
                          [
                            0.8888888888888888,
                            "#fdca26"
                          ],
                          [
                            1,
                            "#f0f921"
                          ]
                        ],
                        "type": "histogram2dcontour"
                      }
                    ],
                    "mesh3d": [
                      {
                        "colorbar": {
                          "outlinewidth": 0,
                          "ticks": ""
                        },
                        "type": "mesh3d"
                      }
                    ],
                    "parcoords": [
                      {
                        "line": {
                          "colorbar": {
                            "outlinewidth": 0,
                            "ticks": ""
                          }
                        },
                        "type": "parcoords"
                      }
                    ],
                    "pie": [
                      {
                        "automargin": true,
                        "type": "pie"
                      }
                    ],
                    "scatter": [
                      {
                        "fillpattern": {
                          "fillmode": "overlay",
                          "size": 10,
                          "solidity": 0.2
                        },
                        "type": "scatter"
                      }
                    ],
                    "scatter3d": [
                      {
                        "line": {
                          "colorbar": {
                            "outlinewidth": 0,
                            "ticks": ""
                          }
                        },
                        "marker": {
                          "colorbar": {
                            "outlinewidth": 0,
                            "ticks": ""
                          }
                        },
                        "type": "scatter3d"
                      }
                    ],
                    "scattercarpet": [
                      {
                        "marker": {
                          "colorbar": {
                            "outlinewidth": 0,
                            "ticks": ""
                          }
                        },
                        "type": "scattercarpet"
                      }
                    ],
                    "scattergeo": [
                      {
                        "marker": {
                          "colorbar": {
                            "outlinewidth": 0,
                            "ticks": ""
                          }
                        },
                        "type": "scattergeo"
                      }
                    ],
                    "scattergl": [
                      {
                        "marker": {
                          "colorbar": {
                            "outlinewidth": 0,
                            "ticks": ""
                          }
                        },
                        "type": "scattergl"
                      }
                    ],
                    "scattermapbox": [
                      {
                        "marker": {
                          "colorbar": {
                            "outlinewidth": 0,
                            "ticks": ""
                          }
                        },
                        "type": "scattermapbox"
                      }
                    ],
                    "scatterpolar": [
                      {
                        "marker": {
                          "colorbar": {
                            "outlinewidth": 0,
                            "ticks": ""
                          }
                        },
                        "type": "scatterpolar"
                      }
                    ],
                    "scatterpolargl": [
                      {
                        "marker": {
                          "colorbar": {
                            "outlinewidth": 0,
                            "ticks": ""
                          }
                        },
                        "type": "scatterpolargl"
                      }
                    ],
                    "scatterternary": [
                      {
                        "marker": {
                          "colorbar": {
                            "outlinewidth": 0,
                            "ticks": ""
                          }
                        },
                        "type": "scatterternary"
                      }
                    ],
                    "surface": [
                      {
                        "colorbar": {
                          "outlinewidth": 0,
                          "ticks": ""
                        },
                        "colorscale": [
                          [
                            0,
                            "#0d0887"
                          ],
                          [
                            0.1111111111111111,
                            "#46039f"
                          ],
                          [
                            0.2222222222222222,
                            "#7201a8"
                          ],
                          [
                            0.3333333333333333,
                            "#9c179e"
                          ],
                          [
                            0.4444444444444444,
                            "#bd3786"
                          ],
                          [
                            0.5555555555555556,
                            "#d8576b"
                          ],
                          [
                            0.6666666666666666,
                            "#ed7953"
                          ],
                          [
                            0.7777777777777778,
                            "#fb9f3a"
                          ],
                          [
                            0.8888888888888888,
                            "#fdca26"
                          ],
                          [
                            1,
                            "#f0f921"
                          ]
                        ],
                        "type": "surface"
                      }
                    ],
                    "table": [
                      {
                        "cells": {
                          "fill": {
                            "color": "#EBF0F8"
                          },
                          "line": {
                            "color": "white"
                          }
                        },
                        "header": {
                          "fill": {
                            "color": "#C8D4E3"
                          },
                          "line": {
                            "color": "white"
                          }
                        },
                        "type": "table"
                      }
                    ]
                  },
                  "layout": {
                    "annotationdefaults": {
                      "arrowcolor": "#2a3f5f",
                      "arrowhead": 0,
                      "arrowwidth": 1
                    },
                    "autotypenumbers": "strict",
                    "coloraxis": {
                      "colorbar": {
                        "outlinewidth": 0,
                        "ticks": ""
                      }
                    },
                    "colorscale": {
                      "diverging": [
                        [
                          0,
                          "#8e0152"
                        ],
                        [
                          0.1,
                          "#c51b7d"
                        ],
                        [
                          0.2,
                          "#de77ae"
                        ],
                        [
                          0.3,
                          "#f1b6da"
                        ],
                        [
                          0.4,
                          "#fde0ef"
                        ],
                        [
                          0.5,
                          "#f7f7f7"
                        ],
                        [
                          0.6,
                          "#e6f5d0"
                        ],
                        [
                          0.7,
                          "#b8e186"
                        ],
                        [
                          0.8,
                          "#7fbc41"
                        ],
                        [
                          0.9,
                          "#4d9221"
                        ],
                        [
                          1,
                          "#276419"
                        ]
                      ],
                      "sequential": [
                        [
                          0,
                          "#0d0887"
                        ],
                        [
                          0.1111111111111111,
                          "#46039f"
                        ],
                        [
                          0.2222222222222222,
                          "#7201a8"
                        ],
                        [
                          0.3333333333333333,
                          "#9c179e"
                        ],
                        [
                          0.4444444444444444,
                          "#bd3786"
                        ],
                        [
                          0.5555555555555556,
                          "#d8576b"
                        ],
                        [
                          0.6666666666666666,
                          "#ed7953"
                        ],
                        [
                          0.7777777777777778,
                          "#fb9f3a"
                        ],
                        [
                          0.8888888888888888,
                          "#fdca26"
                        ],
                        [
                          1,
                          "#f0f921"
                        ]
                      ],
                      "sequentialminus": [
                        [
                          0,
                          "#0d0887"
                        ],
                        [
                          0.1111111111111111,
                          "#46039f"
                        ],
                        [
                          0.2222222222222222,
                          "#7201a8"
                        ],
                        [
                          0.3333333333333333,
                          "#9c179e"
                        ],
                        [
                          0.4444444444444444,
                          "#bd3786"
                        ],
                        [
                          0.5555555555555556,
                          "#d8576b"
                        ],
                        [
                          0.6666666666666666,
                          "#ed7953"
                        ],
                        [
                          0.7777777777777778,
                          "#fb9f3a"
                        ],
                        [
                          0.8888888888888888,
                          "#fdca26"
                        ],
                        [
                          1,
                          "#f0f921"
                        ]
                      ]
                    },
                    "colorway": [
                      "#636efa",
                      "#EF553B",
                      "#00cc96",
                      "#ab63fa",
                      "#FFA15A",
                      "#19d3f3",
                      "#FF6692",
                      "#B6E880",
                      "#FF97FF",
                      "#FECB52"
                    ],
                    "font": {
                      "color": "#2a3f5f"
                    },
                    "geo": {
                      "bgcolor": "white",
                      "lakecolor": "white",
                      "landcolor": "#E5ECF6",
                      "showlakes": true,
                      "showland": true,
                      "subunitcolor": "white"
                    },
                    "hoverlabel": {
                      "align": "left"
                    },
                    "hovermode": "closest",
                    "mapbox": {
                      "style": "light"
                    },
                    "paper_bgcolor": "white",
                    "plot_bgcolor": "#E5ECF6",
                    "polar": {
                      "angularaxis": {
                        "gridcolor": "white",
                        "linecolor": "white",
                        "ticks": ""
                      },
                      "bgcolor": "#E5ECF6",
                      "radialaxis": {
                        "gridcolor": "white",
                        "linecolor": "white",
                        "ticks": ""
                      }
                    },
                    "scene": {
                      "xaxis": {
                        "backgroundcolor": "#E5ECF6",
                        "gridcolor": "white",
                        "gridwidth": 2,
                        "linecolor": "white",
                        "showbackground": true,
                        "ticks": "",
                        "zerolinecolor": "white"
                      },
                      "yaxis": {
                        "backgroundcolor": "#E5ECF6",
                        "gridcolor": "white",
                        "gridwidth": 2,
                        "linecolor": "white",
                        "showbackground": true,
                        "ticks": "",
                        "zerolinecolor": "white"
                      },
                      "zaxis": {
                        "backgroundcolor": "#E5ECF6",
                        "gridcolor": "white",
                        "gridwidth": 2,
                        "linecolor": "white",
                        "showbackground": true,
                        "ticks": "",
                        "zerolinecolor": "white"
                      }
                    },
                    "shapedefaults": {
                      "line": {
                        "color": "#2a3f5f"
                      }
                    },
                    "ternary": {
                      "aaxis": {
                        "gridcolor": "white",
                        "linecolor": "white",
                        "ticks": ""
                      },
                      "baxis": {
                        "gridcolor": "white",
                        "linecolor": "white",
                        "ticks": ""
                      },
                      "bgcolor": "#E5ECF6",
                      "caxis": {
                        "gridcolor": "white",
                        "linecolor": "white",
                        "ticks": ""
                      }
                    },
                    "title": {
                      "x": 0.05
                    },
                    "xaxis": {
                      "automargin": true,
                      "gridcolor": "white",
                      "linecolor": "white",
                      "ticks": "",
                      "title": {
                        "standoff": 15
                      },
                      "zerolinecolor": "white",
                      "zerolinewidth": 2
                    },
                    "yaxis": {
                      "automargin": true,
                      "gridcolor": "white",
                      "linecolor": "white",
                      "ticks": "",
                      "title": {
                        "standoff": 15
                      },
                      "zerolinecolor": "white",
                      "zerolinewidth": 2
                    }
                  }
                },
                "title": {
                  "text": "Evolution of the ratings attributed to movies by genres across decades"
                },
                "updatemenus": [
                  {
                    "buttons": [
                      {
                        "args": [
                          {
                            "visible": [
                              true,
                              false,
                              false,
                              false,
                              false,
                              false
                            ]
                          },
                          {
                            "yaxis": {
                              "range": [
                                0,
                                7.971428571428571
                              ]
                            }
                          }
                        ],
                        "label": "1970-1979",
                        "method": "update"
                      },
                      {
                        "args": [
                          {
                            "visible": [
                              false,
                              true,
                              false,
                              false,
                              false,
                              false
                            ]
                          },
                          {
                            "yaxis": {
                              "range": [
                                0,
                                8.2
                              ]
                            }
                          }
                        ],
                        "label": "1980-1989",
                        "method": "update"
                      },
                      {
                        "args": [
                          {
                            "visible": [
                              false,
                              false,
                              true,
                              false,
                              false,
                              false
                            ]
                          },
                          {
                            "yaxis": {
                              "range": [
                                0,
                                7.9
                              ]
                            }
                          }
                        ],
                        "label": "1990-1999",
                        "method": "update"
                      },
                      {
                        "args": [
                          {
                            "visible": [
                              false,
                              false,
                              false,
                              true,
                              false,
                              false
                            ]
                          },
                          {
                            "yaxis": {
                              "range": [
                                0,
                                8.233333333333333
                              ]
                            }
                          }
                        ],
                        "label": "2000-2009",
                        "method": "update"
                      },
                      {
                        "args": [
                          {
                            "visible": [
                              false,
                              false,
                              false,
                              false,
                              true,
                              false
                            ]
                          },
                          {
                            "yaxis": {
                              "range": [
                                0,
                                8.1
                              ]
                            }
                          }
                        ],
                        "label": "2010-2019",
                        "method": "update"
                      },
                      {
                        "args": [
                          {
                            "visible": [
                              false,
                              false,
                              false,
                              false,
                              false,
                              true
                            ]
                          },
                          {
                            "yaxis": {
                              "range": [
                                0,
                                8.9
                              ]
                            }
                          }
                        ],
                        "label": "2020-2029",
                        "method": "update"
                      }
                    ],
                    "direction": "down",
                    "showactive": true
                  }
                ],
                "xaxis": {
                  "title": {
                    "text": "Genre"
                  }
                },
                "yaxis": {
                  "title": {
                    "text": "Average Rating"
                  }
                }
              }
            }
          },
          "metadata": {},
          "output_type": "display_data"
        }
      ],
      "source": [
        "# We group by decade and genre and compute the average rating\n",
        "rating_per_decade_genre = df.groupby([\"Decade\", \"Genres\"])[\"Rating\"].mean().reset_index()\n",
        "\n",
        "# We plot the graph representing the evolution of the ratings attributed to movies by the decades\n",
        "# Create a figure\n",
        "fig = go.Figure()\n",
        "\n",
        "# Add bars for each decade\n",
        "for decade in rating_per_decade_genre[\"Decade\"].unique():\n",
        "    # Filter by decade and sort by Rating \n",
        "    df_decade = rating_per_decade_genre[rating_per_decade_genre[\"Decade\"] == decade]\n",
        "    df_decade = df_decade.sort_values(by=\"Rating\", ascending=False)\n",
        "\n",
        "    # Color the 3 genres with the most releases in orange\n",
        "    colors = [\"orange\" if i < 3 else \"blue\" for i in range(len(df_decade))]\n",
        "\n",
        "    fig.add_trace(go.Bar(\n",
        "        x=df_decade[\"Genres\"],\n",
        "        y=df_decade[\"Rating\"],\n",
        "        name=decade,\n",
        "        visible=False,\n",
        "        marker_color=colors,\n",
        "    ))\n",
        "\n",
        "# Make the first decade visible by default\n",
        "fig.data[0].visible = True\n",
        "\n",
        "# Configuring animations\n",
        "fig.update_layout(\n",
        "    updatemenus=[{\n",
        "        \"buttons\": [\n",
        "            {\n",
        "                \"label\": decade,\n",
        "                \"method\": \"update\",\n",
        "                \"args\": [\n",
        "                    {\"visible\": [decade == d for d in rating_per_decade_genre[\"Decade\"].unique()]},\n",
        "                    {\"yaxis\": {\"range\": [0, rating_per_decade_genre[rating_per_decade_genre[\"Decade\"] == decade][\"Rating\"].max()]}}\n",
        "                ]\n",
        "            } for decade in rating_per_decade_genre[\"Decade\"].unique()\n",
        "        ],\n",
        "        \"direction\": \"down\",\n",
        "        \"showactive\": True\n",
        "    }],\n",
        "    title=\"Evolution of the ratings attributed to movies by genres across decades\",\n",
        "    height=600\n",
        ")\n",
        "\n",
        "# Edit axis titles\n",
        "fig.update_layout(\n",
        "    xaxis_title=\"Genre\",\n",
        "    yaxis_title=\"Average Rating\"\n",
        ")\n",
        "\n",
        "# Show chart\n",
        "fig.show()"
      ]
    },
    {
      "cell_type": "markdown",
      "metadata": {},
      "source": [
        "### 5.4.2 Genre evolution across decades"
      ]
    },
    {
      "cell_type": "code",
      "execution_count": 28,
      "metadata": {
        "trusted": true
      },
      "outputs": [
        {
          "name": "stderr",
          "output_type": "stream",
          "text": [
            "C:\\Users\\thiba\\AppData\\Local\\Temp\\ipykernel_20404\\2589365537.py:2: FutureWarning:\n",
            "\n",
            "The default of observed=False is deprecated and will be changed to True in a future version of pandas. Pass observed=False to retain current behavior or observed=True to adopt the future default and silence this warning.\n",
            "\n"
          ]
        },
        {
          "data": {
            "application/vnd.plotly.v1+json": {
              "config": {
                "plotlyServerURL": "https://plot.ly"
              },
              "data": [
                {
                  "marker": {
                    "color": [
                      "blue",
                      "blue",
                      "blue",
                      "blue",
                      "blue",
                      "blue",
                      "blue",
                      "blue",
                      "blue",
                      "blue",
                      "blue",
                      "blue",
                      "blue",
                      "blue",
                      "blue",
                      "blue",
                      "blue",
                      "orange",
                      "orange",
                      "orange"
                    ]
                  },
                  "name": "1970-1979",
                  "orientation": "h",
                  "type": "bar",
                  "visible": true,
                  "x": [
                    0,
                    0,
                    0,
                    0,
                    0,
                    0,
                    0,
                    1,
                    2,
                    2,
                    2,
                    3,
                    5,
                    7,
                    25,
                    25,
                    25,
                    64,
                    68,
                    71
                  ],
                  "y": [
                    "Music",
                    "Musical",
                    "History",
                    "Romance",
                    "Family",
                    "War",
                    "Unknown",
                    "Thriller",
                    "Sci-Fi",
                    "Fantasy",
                    "Mystery",
                    "Documentary",
                    "Animation",
                    "Biography",
                    "Adventure",
                    "Crime",
                    "Horror",
                    "Action",
                    "Drama",
                    "Comedy"
                  ]
                },
                {
                  "marker": {
                    "color": [
                      "blue",
                      "blue",
                      "blue",
                      "blue",
                      "blue",
                      "blue",
                      "blue",
                      "blue",
                      "blue",
                      "blue",
                      "blue",
                      "blue",
                      "blue",
                      "blue",
                      "blue",
                      "blue",
                      "blue",
                      "orange",
                      "orange",
                      "orange"
                    ]
                  },
                  "name": "1980-1989",
                  "orientation": "h",
                  "type": "bar",
                  "visible": false,
                  "x": [
                    0,
                    0,
                    0,
                    0,
                    0,
                    0,
                    1,
                    1,
                    2,
                    2,
                    5,
                    8,
                    20,
                    33,
                    48,
                    49,
                    57,
                    100,
                    157,
                    219
                  ],
                  "y": [
                    "Music",
                    "Musical",
                    "History",
                    "Family",
                    "Unknown",
                    "War",
                    "Mystery",
                    "Thriller",
                    "Sci-Fi",
                    "Romance",
                    "Documentary",
                    "Fantasy",
                    "Animation",
                    "Biography",
                    "Horror",
                    "Crime",
                    "Adventure",
                    "Drama",
                    "Action",
                    "Comedy"
                  ]
                },
                {
                  "marker": {
                    "color": [
                      "blue",
                      "blue",
                      "blue",
                      "blue",
                      "blue",
                      "blue",
                      "blue",
                      "blue",
                      "blue",
                      "blue",
                      "blue",
                      "blue",
                      "blue",
                      "blue",
                      "blue",
                      "blue",
                      "blue",
                      "orange",
                      "orange",
                      "orange"
                    ]
                  },
                  "name": "1990-1999",
                  "orientation": "h",
                  "type": "bar",
                  "visible": false,
                  "x": [
                    0,
                    0,
                    0,
                    0,
                    0,
                    1,
                    1,
                    1,
                    1,
                    4,
                    5,
                    10,
                    34,
                    35,
                    59,
                    68,
                    117,
                    228,
                    259,
                    399
                  ],
                  "y": [
                    "Music",
                    "Musical",
                    "History",
                    "War",
                    "Unknown",
                    "Thriller",
                    "Romance",
                    "Family",
                    "Sci-Fi",
                    "Mystery",
                    "Documentary",
                    "Fantasy",
                    "Animation",
                    "Horror",
                    "Adventure",
                    "Biography",
                    "Crime",
                    "Drama",
                    "Action",
                    "Comedy"
                  ]
                },
                {
                  "marker": {
                    "color": [
                      "blue",
                      "blue",
                      "blue",
                      "blue",
                      "blue",
                      "blue",
                      "blue",
                      "blue",
                      "blue",
                      "blue",
                      "blue",
                      "blue",
                      "blue",
                      "blue",
                      "blue",
                      "blue",
                      "blue",
                      "orange",
                      "orange",
                      "orange"
                    ]
                  },
                  "name": "2000-2009",
                  "orientation": "h",
                  "type": "bar",
                  "visible": false,
                  "x": [
                    0,
                    0,
                    0,
                    1,
                    1,
                    2,
                    3,
                    4,
                    5,
                    7,
                    8,
                    103,
                    127,
                    131,
                    151,
                    169,
                    257,
                    485,
                    704,
                    870
                  ],
                  "y": [
                    "Music",
                    "History",
                    "Unknown",
                    "Family",
                    "War",
                    "Musical",
                    "Thriller",
                    "Sci-Fi",
                    "Romance",
                    "Fantasy",
                    "Mystery",
                    "Horror",
                    "Animation",
                    "Adventure",
                    "Biography",
                    "Documentary",
                    "Crime",
                    "Action",
                    "Drama",
                    "Comedy"
                  ]
                },
                {
                  "marker": {
                    "color": [
                      "blue",
                      "blue",
                      "blue",
                      "blue",
                      "blue",
                      "blue",
                      "blue",
                      "blue",
                      "blue",
                      "blue",
                      "blue",
                      "blue",
                      "blue",
                      "blue",
                      "blue",
                      "blue",
                      "blue",
                      "orange",
                      "orange",
                      "orange"
                    ]
                  },
                  "name": "2010-2019",
                  "orientation": "h",
                  "type": "bar",
                  "visible": false,
                  "x": [
                    0,
                    0,
                    0,
                    0,
                    0,
                    1,
                    1,
                    2,
                    10,
                    11,
                    20,
                    174,
                    178,
                    182,
                    283,
                    324,
                    385,
                    782,
                    940,
                    1162
                  ],
                  "y": [
                    "History",
                    "Musical",
                    "Family",
                    "War",
                    "Unknown",
                    "Sci-Fi",
                    "Music",
                    "Romance",
                    "Mystery",
                    "Thriller",
                    "Fantasy",
                    "Adventure",
                    "Horror",
                    "Animation",
                    "Crime",
                    "Biography",
                    "Documentary",
                    "Action",
                    "Comedy",
                    "Drama"
                  ]
                },
                {
                  "marker": {
                    "color": [
                      "blue",
                      "blue",
                      "blue",
                      "blue",
                      "blue",
                      "blue",
                      "blue",
                      "blue",
                      "blue",
                      "blue",
                      "blue",
                      "blue",
                      "blue",
                      "blue",
                      "blue",
                      "blue",
                      "blue",
                      "orange",
                      "orange",
                      "orange"
                    ]
                  },
                  "name": "2020-2029",
                  "orientation": "h",
                  "type": "bar",
                  "visible": false,
                  "x": [
                    0,
                    0,
                    1,
                    1,
                    1,
                    2,
                    2,
                    2,
                    5,
                    11,
                    13,
                    59,
                    91,
                    98,
                    100,
                    104,
                    121,
                    273,
                    372,
                    484
                  ],
                  "y": [
                    "Music",
                    "War",
                    "Family",
                    "History",
                    "Musical",
                    "Romance",
                    "Sci-Fi",
                    "Unknown",
                    "Mystery",
                    "Fantasy",
                    "Thriller",
                    "Adventure",
                    "Animation",
                    "Biography",
                    "Crime",
                    "Horror",
                    "Documentary",
                    "Action",
                    "Comedy",
                    "Drama"
                  ]
                }
              ],
              "layout": {
                "height": 600,
                "template": {
                  "data": {
                    "bar": [
                      {
                        "error_x": {
                          "color": "#2a3f5f"
                        },
                        "error_y": {
                          "color": "#2a3f5f"
                        },
                        "marker": {
                          "line": {
                            "color": "#E5ECF6",
                            "width": 0.5
                          },
                          "pattern": {
                            "fillmode": "overlay",
                            "size": 10,
                            "solidity": 0.2
                          }
                        },
                        "type": "bar"
                      }
                    ],
                    "barpolar": [
                      {
                        "marker": {
                          "line": {
                            "color": "#E5ECF6",
                            "width": 0.5
                          },
                          "pattern": {
                            "fillmode": "overlay",
                            "size": 10,
                            "solidity": 0.2
                          }
                        },
                        "type": "barpolar"
                      }
                    ],
                    "carpet": [
                      {
                        "aaxis": {
                          "endlinecolor": "#2a3f5f",
                          "gridcolor": "white",
                          "linecolor": "white",
                          "minorgridcolor": "white",
                          "startlinecolor": "#2a3f5f"
                        },
                        "baxis": {
                          "endlinecolor": "#2a3f5f",
                          "gridcolor": "white",
                          "linecolor": "white",
                          "minorgridcolor": "white",
                          "startlinecolor": "#2a3f5f"
                        },
                        "type": "carpet"
                      }
                    ],
                    "choropleth": [
                      {
                        "colorbar": {
                          "outlinewidth": 0,
                          "ticks": ""
                        },
                        "type": "choropleth"
                      }
                    ],
                    "contour": [
                      {
                        "colorbar": {
                          "outlinewidth": 0,
                          "ticks": ""
                        },
                        "colorscale": [
                          [
                            0,
                            "#0d0887"
                          ],
                          [
                            0.1111111111111111,
                            "#46039f"
                          ],
                          [
                            0.2222222222222222,
                            "#7201a8"
                          ],
                          [
                            0.3333333333333333,
                            "#9c179e"
                          ],
                          [
                            0.4444444444444444,
                            "#bd3786"
                          ],
                          [
                            0.5555555555555556,
                            "#d8576b"
                          ],
                          [
                            0.6666666666666666,
                            "#ed7953"
                          ],
                          [
                            0.7777777777777778,
                            "#fb9f3a"
                          ],
                          [
                            0.8888888888888888,
                            "#fdca26"
                          ],
                          [
                            1,
                            "#f0f921"
                          ]
                        ],
                        "type": "contour"
                      }
                    ],
                    "contourcarpet": [
                      {
                        "colorbar": {
                          "outlinewidth": 0,
                          "ticks": ""
                        },
                        "type": "contourcarpet"
                      }
                    ],
                    "heatmap": [
                      {
                        "colorbar": {
                          "outlinewidth": 0,
                          "ticks": ""
                        },
                        "colorscale": [
                          [
                            0,
                            "#0d0887"
                          ],
                          [
                            0.1111111111111111,
                            "#46039f"
                          ],
                          [
                            0.2222222222222222,
                            "#7201a8"
                          ],
                          [
                            0.3333333333333333,
                            "#9c179e"
                          ],
                          [
                            0.4444444444444444,
                            "#bd3786"
                          ],
                          [
                            0.5555555555555556,
                            "#d8576b"
                          ],
                          [
                            0.6666666666666666,
                            "#ed7953"
                          ],
                          [
                            0.7777777777777778,
                            "#fb9f3a"
                          ],
                          [
                            0.8888888888888888,
                            "#fdca26"
                          ],
                          [
                            1,
                            "#f0f921"
                          ]
                        ],
                        "type": "heatmap"
                      }
                    ],
                    "heatmapgl": [
                      {
                        "colorbar": {
                          "outlinewidth": 0,
                          "ticks": ""
                        },
                        "colorscale": [
                          [
                            0,
                            "#0d0887"
                          ],
                          [
                            0.1111111111111111,
                            "#46039f"
                          ],
                          [
                            0.2222222222222222,
                            "#7201a8"
                          ],
                          [
                            0.3333333333333333,
                            "#9c179e"
                          ],
                          [
                            0.4444444444444444,
                            "#bd3786"
                          ],
                          [
                            0.5555555555555556,
                            "#d8576b"
                          ],
                          [
                            0.6666666666666666,
                            "#ed7953"
                          ],
                          [
                            0.7777777777777778,
                            "#fb9f3a"
                          ],
                          [
                            0.8888888888888888,
                            "#fdca26"
                          ],
                          [
                            1,
                            "#f0f921"
                          ]
                        ],
                        "type": "heatmapgl"
                      }
                    ],
                    "histogram": [
                      {
                        "marker": {
                          "pattern": {
                            "fillmode": "overlay",
                            "size": 10,
                            "solidity": 0.2
                          }
                        },
                        "type": "histogram"
                      }
                    ],
                    "histogram2d": [
                      {
                        "colorbar": {
                          "outlinewidth": 0,
                          "ticks": ""
                        },
                        "colorscale": [
                          [
                            0,
                            "#0d0887"
                          ],
                          [
                            0.1111111111111111,
                            "#46039f"
                          ],
                          [
                            0.2222222222222222,
                            "#7201a8"
                          ],
                          [
                            0.3333333333333333,
                            "#9c179e"
                          ],
                          [
                            0.4444444444444444,
                            "#bd3786"
                          ],
                          [
                            0.5555555555555556,
                            "#d8576b"
                          ],
                          [
                            0.6666666666666666,
                            "#ed7953"
                          ],
                          [
                            0.7777777777777778,
                            "#fb9f3a"
                          ],
                          [
                            0.8888888888888888,
                            "#fdca26"
                          ],
                          [
                            1,
                            "#f0f921"
                          ]
                        ],
                        "type": "histogram2d"
                      }
                    ],
                    "histogram2dcontour": [
                      {
                        "colorbar": {
                          "outlinewidth": 0,
                          "ticks": ""
                        },
                        "colorscale": [
                          [
                            0,
                            "#0d0887"
                          ],
                          [
                            0.1111111111111111,
                            "#46039f"
                          ],
                          [
                            0.2222222222222222,
                            "#7201a8"
                          ],
                          [
                            0.3333333333333333,
                            "#9c179e"
                          ],
                          [
                            0.4444444444444444,
                            "#bd3786"
                          ],
                          [
                            0.5555555555555556,
                            "#d8576b"
                          ],
                          [
                            0.6666666666666666,
                            "#ed7953"
                          ],
                          [
                            0.7777777777777778,
                            "#fb9f3a"
                          ],
                          [
                            0.8888888888888888,
                            "#fdca26"
                          ],
                          [
                            1,
                            "#f0f921"
                          ]
                        ],
                        "type": "histogram2dcontour"
                      }
                    ],
                    "mesh3d": [
                      {
                        "colorbar": {
                          "outlinewidth": 0,
                          "ticks": ""
                        },
                        "type": "mesh3d"
                      }
                    ],
                    "parcoords": [
                      {
                        "line": {
                          "colorbar": {
                            "outlinewidth": 0,
                            "ticks": ""
                          }
                        },
                        "type": "parcoords"
                      }
                    ],
                    "pie": [
                      {
                        "automargin": true,
                        "type": "pie"
                      }
                    ],
                    "scatter": [
                      {
                        "fillpattern": {
                          "fillmode": "overlay",
                          "size": 10,
                          "solidity": 0.2
                        },
                        "type": "scatter"
                      }
                    ],
                    "scatter3d": [
                      {
                        "line": {
                          "colorbar": {
                            "outlinewidth": 0,
                            "ticks": ""
                          }
                        },
                        "marker": {
                          "colorbar": {
                            "outlinewidth": 0,
                            "ticks": ""
                          }
                        },
                        "type": "scatter3d"
                      }
                    ],
                    "scattercarpet": [
                      {
                        "marker": {
                          "colorbar": {
                            "outlinewidth": 0,
                            "ticks": ""
                          }
                        },
                        "type": "scattercarpet"
                      }
                    ],
                    "scattergeo": [
                      {
                        "marker": {
                          "colorbar": {
                            "outlinewidth": 0,
                            "ticks": ""
                          }
                        },
                        "type": "scattergeo"
                      }
                    ],
                    "scattergl": [
                      {
                        "marker": {
                          "colorbar": {
                            "outlinewidth": 0,
                            "ticks": ""
                          }
                        },
                        "type": "scattergl"
                      }
                    ],
                    "scattermapbox": [
                      {
                        "marker": {
                          "colorbar": {
                            "outlinewidth": 0,
                            "ticks": ""
                          }
                        },
                        "type": "scattermapbox"
                      }
                    ],
                    "scatterpolar": [
                      {
                        "marker": {
                          "colorbar": {
                            "outlinewidth": 0,
                            "ticks": ""
                          }
                        },
                        "type": "scatterpolar"
                      }
                    ],
                    "scatterpolargl": [
                      {
                        "marker": {
                          "colorbar": {
                            "outlinewidth": 0,
                            "ticks": ""
                          }
                        },
                        "type": "scatterpolargl"
                      }
                    ],
                    "scatterternary": [
                      {
                        "marker": {
                          "colorbar": {
                            "outlinewidth": 0,
                            "ticks": ""
                          }
                        },
                        "type": "scatterternary"
                      }
                    ],
                    "surface": [
                      {
                        "colorbar": {
                          "outlinewidth": 0,
                          "ticks": ""
                        },
                        "colorscale": [
                          [
                            0,
                            "#0d0887"
                          ],
                          [
                            0.1111111111111111,
                            "#46039f"
                          ],
                          [
                            0.2222222222222222,
                            "#7201a8"
                          ],
                          [
                            0.3333333333333333,
                            "#9c179e"
                          ],
                          [
                            0.4444444444444444,
                            "#bd3786"
                          ],
                          [
                            0.5555555555555556,
                            "#d8576b"
                          ],
                          [
                            0.6666666666666666,
                            "#ed7953"
                          ],
                          [
                            0.7777777777777778,
                            "#fb9f3a"
                          ],
                          [
                            0.8888888888888888,
                            "#fdca26"
                          ],
                          [
                            1,
                            "#f0f921"
                          ]
                        ],
                        "type": "surface"
                      }
                    ],
                    "table": [
                      {
                        "cells": {
                          "fill": {
                            "color": "#EBF0F8"
                          },
                          "line": {
                            "color": "white"
                          }
                        },
                        "header": {
                          "fill": {
                            "color": "#C8D4E3"
                          },
                          "line": {
                            "color": "white"
                          }
                        },
                        "type": "table"
                      }
                    ]
                  },
                  "layout": {
                    "annotationdefaults": {
                      "arrowcolor": "#2a3f5f",
                      "arrowhead": 0,
                      "arrowwidth": 1
                    },
                    "autotypenumbers": "strict",
                    "coloraxis": {
                      "colorbar": {
                        "outlinewidth": 0,
                        "ticks": ""
                      }
                    },
                    "colorscale": {
                      "diverging": [
                        [
                          0,
                          "#8e0152"
                        ],
                        [
                          0.1,
                          "#c51b7d"
                        ],
                        [
                          0.2,
                          "#de77ae"
                        ],
                        [
                          0.3,
                          "#f1b6da"
                        ],
                        [
                          0.4,
                          "#fde0ef"
                        ],
                        [
                          0.5,
                          "#f7f7f7"
                        ],
                        [
                          0.6,
                          "#e6f5d0"
                        ],
                        [
                          0.7,
                          "#b8e186"
                        ],
                        [
                          0.8,
                          "#7fbc41"
                        ],
                        [
                          0.9,
                          "#4d9221"
                        ],
                        [
                          1,
                          "#276419"
                        ]
                      ],
                      "sequential": [
                        [
                          0,
                          "#0d0887"
                        ],
                        [
                          0.1111111111111111,
                          "#46039f"
                        ],
                        [
                          0.2222222222222222,
                          "#7201a8"
                        ],
                        [
                          0.3333333333333333,
                          "#9c179e"
                        ],
                        [
                          0.4444444444444444,
                          "#bd3786"
                        ],
                        [
                          0.5555555555555556,
                          "#d8576b"
                        ],
                        [
                          0.6666666666666666,
                          "#ed7953"
                        ],
                        [
                          0.7777777777777778,
                          "#fb9f3a"
                        ],
                        [
                          0.8888888888888888,
                          "#fdca26"
                        ],
                        [
                          1,
                          "#f0f921"
                        ]
                      ],
                      "sequentialminus": [
                        [
                          0,
                          "#0d0887"
                        ],
                        [
                          0.1111111111111111,
                          "#46039f"
                        ],
                        [
                          0.2222222222222222,
                          "#7201a8"
                        ],
                        [
                          0.3333333333333333,
                          "#9c179e"
                        ],
                        [
                          0.4444444444444444,
                          "#bd3786"
                        ],
                        [
                          0.5555555555555556,
                          "#d8576b"
                        ],
                        [
                          0.6666666666666666,
                          "#ed7953"
                        ],
                        [
                          0.7777777777777778,
                          "#fb9f3a"
                        ],
                        [
                          0.8888888888888888,
                          "#fdca26"
                        ],
                        [
                          1,
                          "#f0f921"
                        ]
                      ]
                    },
                    "colorway": [
                      "#636efa",
                      "#EF553B",
                      "#00cc96",
                      "#ab63fa",
                      "#FFA15A",
                      "#19d3f3",
                      "#FF6692",
                      "#B6E880",
                      "#FF97FF",
                      "#FECB52"
                    ],
                    "font": {
                      "color": "#2a3f5f"
                    },
                    "geo": {
                      "bgcolor": "white",
                      "lakecolor": "white",
                      "landcolor": "#E5ECF6",
                      "showlakes": true,
                      "showland": true,
                      "subunitcolor": "white"
                    },
                    "hoverlabel": {
                      "align": "left"
                    },
                    "hovermode": "closest",
                    "mapbox": {
                      "style": "light"
                    },
                    "paper_bgcolor": "white",
                    "plot_bgcolor": "#E5ECF6",
                    "polar": {
                      "angularaxis": {
                        "gridcolor": "white",
                        "linecolor": "white",
                        "ticks": ""
                      },
                      "bgcolor": "#E5ECF6",
                      "radialaxis": {
                        "gridcolor": "white",
                        "linecolor": "white",
                        "ticks": ""
                      }
                    },
                    "scene": {
                      "xaxis": {
                        "backgroundcolor": "#E5ECF6",
                        "gridcolor": "white",
                        "gridwidth": 2,
                        "linecolor": "white",
                        "showbackground": true,
                        "ticks": "",
                        "zerolinecolor": "white"
                      },
                      "yaxis": {
                        "backgroundcolor": "#E5ECF6",
                        "gridcolor": "white",
                        "gridwidth": 2,
                        "linecolor": "white",
                        "showbackground": true,
                        "ticks": "",
                        "zerolinecolor": "white"
                      },
                      "zaxis": {
                        "backgroundcolor": "#E5ECF6",
                        "gridcolor": "white",
                        "gridwidth": 2,
                        "linecolor": "white",
                        "showbackground": true,
                        "ticks": "",
                        "zerolinecolor": "white"
                      }
                    },
                    "shapedefaults": {
                      "line": {
                        "color": "#2a3f5f"
                      }
                    },
                    "ternary": {
                      "aaxis": {
                        "gridcolor": "white",
                        "linecolor": "white",
                        "ticks": ""
                      },
                      "baxis": {
                        "gridcolor": "white",
                        "linecolor": "white",
                        "ticks": ""
                      },
                      "bgcolor": "#E5ECF6",
                      "caxis": {
                        "gridcolor": "white",
                        "linecolor": "white",
                        "ticks": ""
                      }
                    },
                    "title": {
                      "x": 0.05
                    },
                    "xaxis": {
                      "automargin": true,
                      "gridcolor": "white",
                      "linecolor": "white",
                      "ticks": "",
                      "title": {
                        "standoff": 15
                      },
                      "zerolinecolor": "white",
                      "zerolinewidth": 2
                    },
                    "yaxis": {
                      "automargin": true,
                      "gridcolor": "white",
                      "linecolor": "white",
                      "ticks": "",
                      "title": {
                        "standoff": 15
                      },
                      "zerolinecolor": "white",
                      "zerolinewidth": 2
                    }
                  }
                },
                "title": {
                  "text": "Evolution of the number of movies by genres across decades"
                },
                "updatemenus": [
                  {
                    "buttons": [
                      {
                        "args": [
                          {
                            "visible": [
                              true,
                              false,
                              false,
                              false,
                              false,
                              false
                            ]
                          },
                          {
                            "xaxis": {
                              "range": [
                                0,
                                71
                              ]
                            }
                          }
                        ],
                        "label": "1970-1979",
                        "method": "update"
                      },
                      {
                        "args": [
                          {
                            "visible": [
                              false,
                              true,
                              false,
                              false,
                              false,
                              false
                            ]
                          },
                          {
                            "xaxis": {
                              "range": [
                                0,
                                219
                              ]
                            }
                          }
                        ],
                        "label": "1980-1989",
                        "method": "update"
                      },
                      {
                        "args": [
                          {
                            "visible": [
                              false,
                              false,
                              true,
                              false,
                              false,
                              false
                            ]
                          },
                          {
                            "xaxis": {
                              "range": [
                                0,
                                399
                              ]
                            }
                          }
                        ],
                        "label": "1990-1999",
                        "method": "update"
                      },
                      {
                        "args": [
                          {
                            "visible": [
                              false,
                              false,
                              false,
                              true,
                              false,
                              false
                            ]
                          },
                          {
                            "xaxis": {
                              "range": [
                                0,
                                870
                              ]
                            }
                          }
                        ],
                        "label": "2000-2009",
                        "method": "update"
                      },
                      {
                        "args": [
                          {
                            "visible": [
                              false,
                              false,
                              false,
                              false,
                              true,
                              false
                            ]
                          },
                          {
                            "xaxis": {
                              "range": [
                                0,
                                1162
                              ]
                            }
                          }
                        ],
                        "label": "2010-2019",
                        "method": "update"
                      },
                      {
                        "args": [
                          {
                            "visible": [
                              false,
                              false,
                              false,
                              false,
                              false,
                              true
                            ]
                          },
                          {
                            "xaxis": {
                              "range": [
                                0,
                                484
                              ]
                            }
                          }
                        ],
                        "label": "2020-2029",
                        "method": "update"
                      }
                    ],
                    "direction": "down",
                    "showactive": true,
                    "x": 0.045,
                    "y": 1.1
                  }
                ],
                "xaxis": {
                  "title": {
                    "text": "Number of movies released"
                  }
                },
                "yaxis": {
                  "title": {
                    "text": "Genre"
                  }
                }
              }
            }
          },
          "metadata": {},
          "output_type": "display_data"
        }
      ],
      "source": [
        "# We group by decade and genre and compute the average rating\n",
        "evolution_per_decade_genre = df.groupby([\"Decade\", \"Genres\"])[\"Title\"].count().reset_index()\n",
        "evolution_per_decade_genre.rename(columns={\"Title\" : \"Nb_movies\"}, inplace=True)\n",
        "\n",
        "# Convert \"Nb_movies\" column in numeric\n",
        "evolution_per_decade_genre[\"Nb_movies\"] = pd.to_numeric(evolution_per_decade_genre[\"Nb_movies\"], errors=\"coerce\")\n",
        "\n",
        "# We plot the graph representing the evolution of the ratings attributed to movies by the decades\n",
        "# Create a figure\n",
        "fig = go.Figure()\n",
        "\n",
        "# Add bars for each decade\n",
        "for decade in evolution_per_decade_genre[\"Decade\"].unique():\n",
        "    # Filter by decade and sort by Nb_movies\n",
        "    df_decade = evolution_per_decade_genre[evolution_per_decade_genre[\"Decade\"] == decade]\n",
        "    df_decade = df_decade.sort_values(by=\"Nb_movies\")\n",
        "\n",
        "    # Color the 3 genres with the most releases in orange\n",
        "    colors = [\"orange\" if (len(df_decade)-3 <= i <= len(df_decade)) else \"blue\" for i in range(len(df_decade))]\n",
        "\n",
        "\n",
        "    fig.add_trace(go.Bar(\n",
        "        x=df_decade[\"Nb_movies\"],\n",
        "        y=df_decade[\"Genres\"],\n",
        "        name=decade,\n",
        "        visible=False,\n",
        "        marker_color=colors,\n",
        "        orientation=\"h\"\n",
        "    ))\n",
        "\n",
        "# Make the first decade visible by default\n",
        "fig.data[0].visible = True\n",
        "\n",
        "# Configuring animations\n",
        "fig.update_layout(\n",
        "    updatemenus=[{\n",
        "        \"buttons\": [\n",
        "            {\n",
        "                \"label\": decade,\n",
        "                \"method\": \"update\",\n",
        "                \"args\": [\n",
        "                    {\"visible\": [decade == d for d in evolution_per_decade_genre[\"Decade\"].unique()]},\n",
        "                    {\"xaxis\": {\"range\": [0, evolution_per_decade_genre[evolution_per_decade_genre[\"Decade\"] == decade][\"Nb_movies\"].max()]}}\n",
        "                ]\n",
        "            } for decade in evolution_per_decade_genre[\"Decade\"].unique()\n",
        "        ],\n",
        "        \"direction\": \"down\",\n",
        "        \"showactive\": True,\n",
        "        \"x\": 0.045,  # Adjust horizontal position (more to the left)\n",
        "        \"y\": 1.10   # Adjust vertical position (above the graph)\n",
        "    }],\n",
        "    title=\"Evolution of the number of movies by genres across decades\",\n",
        "    height=600\n",
        ")\n",
        "\n",
        "# Edit axis titles\n",
        "fig.update_layout(\n",
        "    xaxis_title=\"Number of movies released\",\n",
        "    yaxis_title=\"Genre\"\n",
        ")\n",
        "\n",
        "# Show chart\n",
        "fig.show()\n"
      ]
    },
    {
      "cell_type": "markdown",
      "metadata": {},
      "source": [
        "First of all, we notice that the number of movies released increases over the decades.\n",
        "\\\n",
        "All decades combined, film releases are mainly dramas, comedies and actions."
      ]
    },
    {
      "cell_type": "markdown",
      "metadata": {},
      "source": [
        "## 5.5 - Analysis by directors/writers"
      ]
    },
    {
      "cell_type": "code",
      "execution_count": 29,
      "metadata": {},
      "outputs": [
        {
          "data": {
            "text/html": [
              "<div>\n",
              "<style scoped>\n",
              "    .dataframe tbody tr th:only-of-type {\n",
              "        vertical-align: middle;\n",
              "    }\n",
              "\n",
              "    .dataframe tbody tr th {\n",
              "        vertical-align: top;\n",
              "    }\n",
              "\n",
              "    .dataframe thead th {\n",
              "        text-align: right;\n",
              "    }\n",
              "</style>\n",
              "<table border=\"1\" class=\"dataframe\">\n",
              "  <thead>\n",
              "    <tr style=\"text-align: right;\">\n",
              "      <th></th>\n",
              "      <th>Title</th>\n",
              "      <th>Release Date</th>\n",
              "      <th>Description</th>\n",
              "      <th>Rating</th>\n",
              "      <th>No of Persons Voted</th>\n",
              "      <th>Directed by</th>\n",
              "      <th>Written by</th>\n",
              "      <th>Genres</th>\n",
              "      <th>Duration in Minutes</th>\n",
              "      <th>Year</th>\n",
              "      <th>Release Year</th>\n",
              "      <th>Decade</th>\n",
              "    </tr>\n",
              "  </thead>\n",
              "  <tbody>\n",
              "    <tr>\n",
              "      <th>0</th>\n",
              "      <td>Dekalog (1988)</td>\n",
              "      <td>1996-03-22</td>\n",
              "      <td>This masterwork by Krzysztof Kieślowski is one...</td>\n",
              "      <td>7.4</td>\n",
              "      <td>118</td>\n",
              "      <td>Krzysztof Kieslowski</td>\n",
              "      <td>Krzysztof Kieslowski, Krzysztof Piesiewicz</td>\n",
              "      <td>Drama</td>\n",
              "      <td>572</td>\n",
              "      <td>1996</td>\n",
              "      <td>1996</td>\n",
              "      <td>1990-1999</td>\n",
              "    </tr>\n",
              "    <tr>\n",
              "      <th>1</th>\n",
              "      <td>Three Colors: Red</td>\n",
              "      <td>1994-11-23</td>\n",
              "      <td>Krzysztof Kieslowski closes his Three Colors t...</td>\n",
              "      <td>8.3</td>\n",
              "      <td>241</td>\n",
              "      <td>Krzysztof Kieslowski</td>\n",
              "      <td>Krzysztof Kieslowski, Krzysztof Piesiewicz, Ag...</td>\n",
              "      <td>Drama</td>\n",
              "      <td>99</td>\n",
              "      <td>1994</td>\n",
              "      <td>1994</td>\n",
              "      <td>1990-1999</td>\n",
              "    </tr>\n",
              "    <tr>\n",
              "      <th>2</th>\n",
              "      <td>The Conformist</td>\n",
              "      <td>1970-10-22</td>\n",
              "      <td>Set in Rome in the 1930s, this re-release of B...</td>\n",
              "      <td>7.3</td>\n",
              "      <td>106</td>\n",
              "      <td>Bernardo Bertolucci</td>\n",
              "      <td>Alberto Moravia, Bernardo Bertolucci</td>\n",
              "      <td>Drama</td>\n",
              "      <td>107</td>\n",
              "      <td>1970</td>\n",
              "      <td>1970</td>\n",
              "      <td>1970-1979</td>\n",
              "    </tr>\n",
              "  </tbody>\n",
              "</table>\n",
              "</div>"
            ],
            "text/plain": [
              "               Title Release Date  \\\n",
              "0     Dekalog (1988)   1996-03-22   \n",
              "1  Three Colors: Red   1994-11-23   \n",
              "2     The Conformist   1970-10-22   \n",
              "\n",
              "                                         Description  Rating  \\\n",
              "0  This masterwork by Krzysztof Kieślowski is one...     7.4   \n",
              "1  Krzysztof Kieslowski closes his Three Colors t...     8.3   \n",
              "2  Set in Rome in the 1930s, this re-release of B...     7.3   \n",
              "\n",
              "   No of Persons Voted           Directed by  \\\n",
              "0                  118  Krzysztof Kieslowski   \n",
              "1                  241  Krzysztof Kieslowski   \n",
              "2                  106   Bernardo Bertolucci   \n",
              "\n",
              "                                          Written by Genres  \\\n",
              "0         Krzysztof Kieslowski, Krzysztof Piesiewicz  Drama   \n",
              "1  Krzysztof Kieslowski, Krzysztof Piesiewicz, Ag...  Drama   \n",
              "2               Alberto Moravia, Bernardo Bertolucci  Drama   \n",
              "\n",
              "   Duration in Minutes  Year  Release Year     Decade  \n",
              "0                  572  1996          1996  1990-1999  \n",
              "1                   99  1994          1994  1990-1999  \n",
              "2                  107  1970          1970  1970-1979  "
            ]
          },
          "execution_count": 29,
          "metadata": {},
          "output_type": "execute_result"
        }
      ],
      "source": [
        "df.head(3)"
      ]
    },
    {
      "cell_type": "markdown",
      "metadata": {},
      "source": [
        "The \"Directed by\" and \"Written by\" columns can contain multiple names separated by commas. We will separate these values ​​for each film and create a simplified DataFrame with one director or screenwriter per line, in order to analyze their influence."
      ]
    },
    {
      "cell_type": "code",
      "execution_count": 30,
      "metadata": {},
      "outputs": [],
      "source": [
        "# Separate directors and writers into several lines\n",
        "df_directors = df.assign(Director=df[\"Directed by\"].str.split(\", \")).explode(\"Director\")\n",
        "df_writers = df.assign(Writer=df[\"Written by\"].str.split(\", \")).explode(\"Writer\")"
      ]
    },
    {
      "cell_type": "markdown",
      "metadata": {},
      "source": [
        "### 5.5.1 - Calculate the average rating by director and writer as well as the number of films"
      ]
    },
    {
      "cell_type": "code",
      "execution_count": 38,
      "metadata": {
        "trusted": true
      },
      "outputs": [
        {
          "data": {
            "text/html": [
              "<div>\n",
              "<style scoped>\n",
              "    .dataframe tbody tr th:only-of-type {\n",
              "        vertical-align: middle;\n",
              "    }\n",
              "\n",
              "    .dataframe tbody tr th {\n",
              "        vertical-align: top;\n",
              "    }\n",
              "\n",
              "    .dataframe thead th {\n",
              "        text-align: right;\n",
              "    }\n",
              "</style>\n",
              "<table border=\"1\" class=\"dataframe\">\n",
              "  <thead>\n",
              "    <tr style=\"text-align: right;\">\n",
              "      <th></th>\n",
              "      <th>Director</th>\n",
              "      <th>Rating</th>\n",
              "      <th>Film_Count</th>\n",
              "    </tr>\n",
              "  </thead>\n",
              "  <tbody>\n",
              "    <tr>\n",
              "      <th>0</th>\n",
              "      <td>Pieter Gaspersz</td>\n",
              "      <td>9.9</td>\n",
              "      <td>4</td>\n",
              "    </tr>\n",
              "    <tr>\n",
              "      <th>1</th>\n",
              "      <td>Hannah Pearl Utt</td>\n",
              "      <td>9.9</td>\n",
              "      <td>1</td>\n",
              "    </tr>\n",
              "    <tr>\n",
              "      <th>2</th>\n",
              "      <td>Alice Englert</td>\n",
              "      <td>9.9</td>\n",
              "      <td>1</td>\n",
              "    </tr>\n",
              "    <tr>\n",
              "      <th>3</th>\n",
              "      <td>\\n    \\n      Tony Pagano</td>\n",
              "      <td>9.8</td>\n",
              "      <td>1</td>\n",
              "    </tr>\n",
              "    <tr>\n",
              "      <th>4</th>\n",
              "      <td>Jason Freeland</td>\n",
              "      <td>9.8</td>\n",
              "      <td>1</td>\n",
              "    </tr>\n",
              "  </tbody>\n",
              "</table>\n",
              "</div>"
            ],
            "text/plain": [
              "                    Director  Rating  Film_Count\n",
              "0            Pieter Gaspersz     9.9           4\n",
              "1           Hannah Pearl Utt     9.9           1\n",
              "2              Alice Englert     9.9           1\n",
              "3  \\n    \\n      Tony Pagano     9.8           1\n",
              "4             Jason Freeland     9.8           1"
            ]
          },
          "execution_count": 38,
          "metadata": {},
          "output_type": "execute_result"
        }
      ],
      "source": [
        "########## DIRECTOR ##########\n",
        "# Average rating per director\n",
        "director_rating = df_directors.groupby(\"Director\")[\"Rating\"].mean().reset_index().sort_values(by=\"Rating\", ascending=False)\n",
        "\n",
        "# Calcul the number of movies per director\n",
        "director_counts = df_directors[\"Director\"].value_counts().reset_index()\n",
        "director_counts.columns = [\"Director\", \"Film_Count\"]\n",
        "\n",
        "# Merge the number of films with the director_rating DataFrame\n",
        "director_rating = pd.merge(director_rating, director_counts, on=\"Director\")\n",
        "\n",
        "director_rating.head()"
      ]
    },
    {
      "cell_type": "code",
      "execution_count": 32,
      "metadata": {},
      "outputs": [
        {
          "data": {
            "text/html": [
              "<div>\n",
              "<style scoped>\n",
              "    .dataframe tbody tr th:only-of-type {\n",
              "        vertical-align: middle;\n",
              "    }\n",
              "\n",
              "    .dataframe tbody tr th {\n",
              "        vertical-align: top;\n",
              "    }\n",
              "\n",
              "    .dataframe thead th {\n",
              "        text-align: right;\n",
              "    }\n",
              "</style>\n",
              "<table border=\"1\" class=\"dataframe\">\n",
              "  <thead>\n",
              "    <tr style=\"text-align: right;\">\n",
              "      <th></th>\n",
              "      <th>Writer</th>\n",
              "      <th>Rating</th>\n",
              "      <th>Film_Count</th>\n",
              "    </tr>\n",
              "  </thead>\n",
              "  <tbody>\n",
              "    <tr>\n",
              "      <th>0</th>\n",
              "      <td>James Gregory Kingston</td>\n",
              "      <td>10.0</td>\n",
              "      <td>1</td>\n",
              "    </tr>\n",
              "    <tr>\n",
              "      <th>1</th>\n",
              "      <td>Joanne Storkan</td>\n",
              "      <td>10.0</td>\n",
              "      <td>1</td>\n",
              "    </tr>\n",
              "    <tr>\n",
              "      <th>2</th>\n",
              "      <td>John Hamill</td>\n",
              "      <td>10.0</td>\n",
              "      <td>1</td>\n",
              "    </tr>\n",
              "    <tr>\n",
              "      <th>3</th>\n",
              "      <td>Sabrina Gennarino</td>\n",
              "      <td>9.9</td>\n",
              "      <td>4</td>\n",
              "    </tr>\n",
              "    <tr>\n",
              "      <th>4</th>\n",
              "      <td>Rhianon Jones</td>\n",
              "      <td>9.9</td>\n",
              "      <td>1</td>\n",
              "    </tr>\n",
              "  </tbody>\n",
              "</table>\n",
              "</div>"
            ],
            "text/plain": [
              "                   Writer  Rating  Film_Count\n",
              "0  James Gregory Kingston    10.0           1\n",
              "1          Joanne Storkan    10.0           1\n",
              "2             John Hamill    10.0           1\n",
              "3       Sabrina Gennarino     9.9           4\n",
              "4           Rhianon Jones     9.9           1"
            ]
          },
          "execution_count": 32,
          "metadata": {},
          "output_type": "execute_result"
        }
      ],
      "source": [
        "########## WRITER ##########\n",
        "# Average rating per writer\n",
        "writer_rating = df_writers.groupby(\"Writer\")[\"Rating\"].mean().reset_index().sort_values(by=\"Rating\", ascending=False)\n",
        "\n",
        "# Calcul the number of movies per writer\n",
        "writer_counts = df_writers[\"Writer\"].value_counts().reset_index()\n",
        "writer_counts.columns = [\"Writer\", \"Film_Count\"]\n",
        "\n",
        "# Merge the number of films with the writer_rating DataFrame\n",
        "writer_rating = pd.merge(writer_rating, writer_counts, on=\"Writer\")\n",
        "\n",
        "writer_rating.head()"
      ]
    },
    {
      "cell_type": "markdown",
      "metadata": {},
      "source": [
        "We see that the directors and writers with the best ratings are those who have only one or two films released with a very good rating. Their ratings are therefore not significant.\n"
      ]
    },
    {
      "cell_type": "markdown",
      "metadata": {},
      "source": [
        "Let's look at the average ratings of directors and writers by sorting them in descending order of the number of movies released, then for the same number of movies released, in descending order of average rating."
      ]
    },
    {
      "cell_type": "code",
      "execution_count": 47,
      "metadata": {
        "trusted": true
      },
      "outputs": [
        {
          "data": {
            "text/html": [
              "<div>\n",
              "<style scoped>\n",
              "    .dataframe tbody tr th:only-of-type {\n",
              "        vertical-align: middle;\n",
              "    }\n",
              "\n",
              "    .dataframe tbody tr th {\n",
              "        vertical-align: top;\n",
              "    }\n",
              "\n",
              "    .dataframe thead th {\n",
              "        text-align: right;\n",
              "    }\n",
              "</style>\n",
              "<table border=\"1\" class=\"dataframe\">\n",
              "  <thead>\n",
              "    <tr style=\"text-align: right;\">\n",
              "      <th></th>\n",
              "      <th>Director</th>\n",
              "      <th>Rating</th>\n",
              "      <th>Film_Count</th>\n",
              "    </tr>\n",
              "  </thead>\n",
              "  <tbody>\n",
              "    <tr>\n",
              "      <th>0</th>\n",
              "      <td>Woody Allen</td>\n",
              "      <td>6.828000</td>\n",
              "      <td>50</td>\n",
              "    </tr>\n",
              "    <tr>\n",
              "      <th>1</th>\n",
              "      <td>Steven Spielberg</td>\n",
              "      <td>7.680000</td>\n",
              "      <td>35</td>\n",
              "    </tr>\n",
              "    <tr>\n",
              "      <th>2</th>\n",
              "      <td>Ridley Scott</td>\n",
              "      <td>7.094286</td>\n",
              "      <td>35</td>\n",
              "    </tr>\n",
              "    <tr>\n",
              "      <th>3</th>\n",
              "      <td>Clint Eastwood</td>\n",
              "      <td>7.028571</td>\n",
              "      <td>35</td>\n",
              "    </tr>\n",
              "    <tr>\n",
              "      <th>4</th>\n",
              "      <td>Ron Howard</td>\n",
              "      <td>7.084848</td>\n",
              "      <td>33</td>\n",
              "    </tr>\n",
              "    <tr>\n",
              "      <th>5</th>\n",
              "      <td>Steven Soderbergh</td>\n",
              "      <td>6.813793</td>\n",
              "      <td>29</td>\n",
              "    </tr>\n",
              "    <tr>\n",
              "      <th>6</th>\n",
              "      <td>Martin Scorsese</td>\n",
              "      <td>7.552000</td>\n",
              "      <td>25</td>\n",
              "    </tr>\n",
              "    <tr>\n",
              "      <th>7</th>\n",
              "      <td>Barry Levinson</td>\n",
              "      <td>7.264000</td>\n",
              "      <td>25</td>\n",
              "    </tr>\n",
              "    <tr>\n",
              "      <th>8</th>\n",
              "      <td>Richard Linklater</td>\n",
              "      <td>7.500000</td>\n",
              "      <td>24</td>\n",
              "    </tr>\n",
              "    <tr>\n",
              "      <th>9</th>\n",
              "      <td>Joel Schumacher</td>\n",
              "      <td>7.245833</td>\n",
              "      <td>24</td>\n",
              "    </tr>\n",
              "  </tbody>\n",
              "</table>\n",
              "</div>"
            ],
            "text/plain": [
              "            Director    Rating  Film_Count\n",
              "0        Woody Allen  6.828000          50\n",
              "1   Steven Spielberg  7.680000          35\n",
              "2       Ridley Scott  7.094286          35\n",
              "3     Clint Eastwood  7.028571          35\n",
              "4         Ron Howard  7.084848          33\n",
              "5  Steven Soderbergh  6.813793          29\n",
              "6    Martin Scorsese  7.552000          25\n",
              "7     Barry Levinson  7.264000          25\n",
              "8  Richard Linklater  7.500000          24\n",
              "9    Joel Schumacher  7.245833          24"
            ]
          },
          "execution_count": 47,
          "metadata": {},
          "output_type": "execute_result"
        }
      ],
      "source": [
        "########## TOP DIRECTORS ##########\n",
        "top_director_rating = df_directors.groupby(\"Director\").agg(\n",
        "    Rating=(\"Rating\", \"mean\"),\n",
        "    Film_Count=(\"Director\", \"size\")\n",
        ").sort_values(by=[\"Film_Count\",\"Rating\"], ascending=False).reset_index()\n",
        "\n",
        "top_director_rating.head(10)"
      ]
    },
    {
      "cell_type": "code",
      "execution_count": 48,
      "metadata": {},
      "outputs": [
        {
          "data": {
            "text/html": [
              "<div>\n",
              "<style scoped>\n",
              "    .dataframe tbody tr th:only-of-type {\n",
              "        vertical-align: middle;\n",
              "    }\n",
              "\n",
              "    .dataframe tbody tr th {\n",
              "        vertical-align: top;\n",
              "    }\n",
              "\n",
              "    .dataframe thead th {\n",
              "        text-align: right;\n",
              "    }\n",
              "</style>\n",
              "<table border=\"1\" class=\"dataframe\">\n",
              "  <thead>\n",
              "    <tr style=\"text-align: right;\">\n",
              "      <th></th>\n",
              "      <th>Writer</th>\n",
              "      <th>Rating</th>\n",
              "      <th>Film_Count</th>\n",
              "    </tr>\n",
              "  </thead>\n",
              "  <tbody>\n",
              "    <tr>\n",
              "      <th>0</th>\n",
              "      <td>Stephen King</td>\n",
              "      <td>6.546667</td>\n",
              "      <td>60</td>\n",
              "    </tr>\n",
              "    <tr>\n",
              "      <th>1</th>\n",
              "      <td>Woody Allen</td>\n",
              "      <td>6.798039</td>\n",
              "      <td>51</td>\n",
              "    </tr>\n",
              "    <tr>\n",
              "      <th>2</th>\n",
              "      <td>William Shakespeare</td>\n",
              "      <td>6.548485</td>\n",
              "      <td>33</td>\n",
              "    </tr>\n",
              "    <tr>\n",
              "      <th>3</th>\n",
              "      <td>Brian Helgeland</td>\n",
              "      <td>7.056250</td>\n",
              "      <td>32</td>\n",
              "    </tr>\n",
              "    <tr>\n",
              "      <th>4</th>\n",
              "      <td>Stan Lee</td>\n",
              "      <td>6.803226</td>\n",
              "      <td>31</td>\n",
              "    </tr>\n",
              "    <tr>\n",
              "      <th>5</th>\n",
              "      <td>Luc Besson</td>\n",
              "      <td>6.535484</td>\n",
              "      <td>31</td>\n",
              "    </tr>\n",
              "    <tr>\n",
              "      <th>6</th>\n",
              "      <td>Michael Crichton</td>\n",
              "      <td>6.996552</td>\n",
              "      <td>29</td>\n",
              "    </tr>\n",
              "    <tr>\n",
              "      <th>7</th>\n",
              "      <td>John Carpenter</td>\n",
              "      <td>5.996552</td>\n",
              "      <td>29</td>\n",
              "    </tr>\n",
              "    <tr>\n",
              "      <th>8</th>\n",
              "      <td>Sylvester Stallone</td>\n",
              "      <td>7.240741</td>\n",
              "      <td>27</td>\n",
              "    </tr>\n",
              "    <tr>\n",
              "      <th>9</th>\n",
              "      <td>David Mamet</td>\n",
              "      <td>7.342308</td>\n",
              "      <td>26</td>\n",
              "    </tr>\n",
              "  </tbody>\n",
              "</table>\n",
              "</div>"
            ],
            "text/plain": [
              "                Writer    Rating  Film_Count\n",
              "0         Stephen King  6.546667          60\n",
              "1          Woody Allen  6.798039          51\n",
              "2  William Shakespeare  6.548485          33\n",
              "3      Brian Helgeland  7.056250          32\n",
              "4             Stan Lee  6.803226          31\n",
              "5           Luc Besson  6.535484          31\n",
              "6     Michael Crichton  6.996552          29\n",
              "7       John Carpenter  5.996552          29\n",
              "8   Sylvester Stallone  7.240741          27\n",
              "9          David Mamet  7.342308          26"
            ]
          },
          "execution_count": 48,
          "metadata": {},
          "output_type": "execute_result"
        }
      ],
      "source": [
        "########## TOP WRITERS ##########\n",
        "top_writer_rating = df_writers.groupby(\"Writer\").agg(\n",
        "    Rating=(\"Rating\", \"mean\"),\n",
        "    Film_Count=(\"Writer\", \"size\")\n",
        ").sort_values(by=[\"Film_Count\",\"Rating\"], ascending=False).reset_index()\n",
        "\n",
        "top_writer_rating.head(10)"
      ]
    },
    {
      "cell_type": "markdown",
      "metadata": {},
      "source": [
        "### 5.5.2 - Analysis of rating distribution"
      ]
    },
    {
      "cell_type": "markdown",
      "metadata": {},
      "source": [
        "To better understand the distribution of ratings by director and writer, we can visualize the distribution of ratings in the form of boxplots."
      ]
    },
    {
      "cell_type": "markdown",
      "metadata": {},
      "source": [
        "Let's look at the 10 directors and writers with the most films released and best ratings."
      ]
    },
    {
      "cell_type": "code",
      "execution_count": 46,
      "metadata": {
        "trusted": true
      },
      "outputs": [
        {
          "data": {
            "image/png": "[encoded data removed]",
            "text/plain": [
              "<Figure size 1200x800 with 1 Axes>"
            ]
          },
          "metadata": {},
          "output_type": "display_data"
        },
        {
          "data": {
            "image/png": "[encoded data removed]",
            "text/plain": [
              "<Figure size 1200x800 with 1 Axes>"
            ]
          },
          "metadata": {},
          "output_type": "display_data"
        }
      ],
      "source": [
        "# Boxplot of ratings by director\n",
        "plt.figure(figsize=(12, 8))\n",
        "sns.boxplot(data=df_directors[df_directors[\"Director\"].isin(top_director_rating[\"Director\"].head(10))], x=\"Director\", y=\"Rating\")\n",
        "plt.xticks(rotation=90)\n",
        "plt.title(\"Distribution of ratings by director\")\n",
        "plt.show()\n",
        "\n",
        "# Boxplot of ratings by writer\n",
        "plt.figure(figsize=(12, 8))\n",
        "sns.boxplot(data=df_writers[df_writers[\"Writer\"].isin(top_writer_rating[\"Writer\"].head(10))], x=\"Writer\", y=\"Rating\")\n",
        "plt.xticks(rotation=90)\n",
        "plt.title(\"Distribution of ratings by writer\")\n",
        "plt.show()\n"
      ]
    },
    {
      "cell_type": "markdown",
      "metadata": {},
      "source": [
        "# 6 - Correlation Analysis"
      ]
    },
    {
      "cell_type": "markdown",
      "metadata": {},
      "source": [
        "## 6.1 - Correlation Matrix"
      ]
    },
    {
      "cell_type": "code",
      "execution_count": 49,
      "metadata": {},
      "outputs": [
        {
          "data": {
            "text/html": [
              "<div>\n",
              "<style scoped>\n",
              "    .dataframe tbody tr th:only-of-type {\n",
              "        vertical-align: middle;\n",
              "    }\n",
              "\n",
              "    .dataframe tbody tr th {\n",
              "        vertical-align: top;\n",
              "    }\n",
              "\n",
              "    .dataframe thead th {\n",
              "        text-align: right;\n",
              "    }\n",
              "</style>\n",
              "<table border=\"1\" class=\"dataframe\">\n",
              "  <thead>\n",
              "    <tr style=\"text-align: right;\">\n",
              "      <th></th>\n",
              "      <th>Rating</th>\n",
              "      <th>No of Persons Voted</th>\n",
              "      <th>Duration in Minutes</th>\n",
              "      <th>Year</th>\n",
              "      <th>Release Year</th>\n",
              "    </tr>\n",
              "  </thead>\n",
              "  <tbody>\n",
              "    <tr>\n",
              "      <th>Rating</th>\n",
              "      <td>1.000000</td>\n",
              "      <td>0.163281</td>\n",
              "      <td>0.147934</td>\n",
              "      <td>-0.161926</td>\n",
              "      <td>-0.161926</td>\n",
              "    </tr>\n",
              "    <tr>\n",
              "      <th>No of Persons Voted</th>\n",
              "      <td>0.163281</td>\n",
              "      <td>1.000000</td>\n",
              "      <td>0.226057</td>\n",
              "      <td>0.032113</td>\n",
              "      <td>0.032113</td>\n",
              "    </tr>\n",
              "    <tr>\n",
              "      <th>Duration in Minutes</th>\n",
              "      <td>0.147934</td>\n",
              "      <td>0.226057</td>\n",
              "      <td>1.000000</td>\n",
              "      <td>-0.056945</td>\n",
              "      <td>-0.056945</td>\n",
              "    </tr>\n",
              "    <tr>\n",
              "      <th>Year</th>\n",
              "      <td>-0.161926</td>\n",
              "      <td>0.032113</td>\n",
              "      <td>-0.056945</td>\n",
              "      <td>1.000000</td>\n",
              "      <td>1.000000</td>\n",
              "    </tr>\n",
              "    <tr>\n",
              "      <th>Release Year</th>\n",
              "      <td>-0.161926</td>\n",
              "      <td>0.032113</td>\n",
              "      <td>-0.056945</td>\n",
              "      <td>1.000000</td>\n",
              "      <td>1.000000</td>\n",
              "    </tr>\n",
              "  </tbody>\n",
              "</table>\n",
              "</div>"
            ],
            "text/plain": [
              "                       Rating  No of Persons Voted  Duration in Minutes  \\\n",
              "Rating               1.000000             0.163281             0.147934   \n",
              "No of Persons Voted  0.163281             1.000000             0.226057   \n",
              "Duration in Minutes  0.147934             0.226057             1.000000   \n",
              "Year                -0.161926             0.032113            -0.056945   \n",
              "Release Year        -0.161926             0.032113            -0.056945   \n",
              "\n",
              "                         Year  Release Year  \n",
              "Rating              -0.161926     -0.161926  \n",
              "No of Persons Voted  0.032113      0.032113  \n",
              "Duration in Minutes -0.056945     -0.056945  \n",
              "Year                 1.000000      1.000000  \n",
              "Release Year         1.000000      1.000000  "
            ]
          },
          "execution_count": 49,
          "metadata": {},
          "output_type": "execute_result"
        }
      ],
      "source": [
        "# Select only the numeric columns of the DataFrame\n",
        "df_numeric = df.select_dtypes(include=['float64', 'int64', 'int32'])\n",
        "\n",
        "# Calculate correlation matrix on numeric columns\n",
        "correlation_matrix = df_numeric.corr()\n",
        "\n",
        "# Show correlation matrix\n",
        "correlation_matrix\n"
      ]
    },
    {
      "cell_type": "markdown",
      "metadata": {},
      "source": [
        "There appears to be no correlation between the numerical variables. We will therefore not develop a model here."
      ]
    }
  ],
  "metadata": {
    "kernelspec": {
      "display_name": "Python 3",
      "language": "python",
      "name": "python3"
    },
    "language_info": {
      "codemirror_mode": {
        "name": "ipython",
        "version": 3
      },
      "file_extension": ".py",
      "mimetype": "text/x-python",
      "name": "python",
      "nbconvert_exporter": "python",
      "pygments_lexer": "ipython3",
      "version": "3.12.6"
    }
  },
  "nbformat": 4,
  "nbformat_minor": 4
}
